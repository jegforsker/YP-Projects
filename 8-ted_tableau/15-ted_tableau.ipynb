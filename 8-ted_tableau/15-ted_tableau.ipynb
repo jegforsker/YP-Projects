{
 "cells": [
  {
   "cell_type": "markdown",
   "id": "27a88e35",
   "metadata": {},
   "source": [
    "# Проектирование дашбордов в Tableau на основе данных о конференциях TED"
   ]
  },
  {
   "cell_type": "markdown",
   "id": "8caf9d2a",
   "metadata": {},
   "source": [
    "## Данные"
   ]
  },
  {
   "cell_type": "markdown",
   "id": "a921b6b9",
   "metadata": {},
   "source": [
    "TED (от англ. technology, education, design — «технологии, образование, дизайн») — некоммерческий фонд, который проводит популярные конференции. На них выступают специалисты из разных областей и читают лекции на актуальные социальные, культурные и научные темы. \n",
    "\n",
    "Файлы tableau_project_data_1.csv, tableau_project_data_2.csv, tableau_project_data_3.csv хранят данные выступлений. У них одинаковая структура:  \n",
    "- talk_id — идентификатор выступления;\n",
    "- url — ссылка на запись выступления;\n",
    "- title — название выступления;\n",
    "- description — краткое описание;\n",
    "- film_date — дата записи выступления;\n",
    "- duration — длительность в секундах;\n",
    "- views — количество просмотров;\n",
    "- main_tag — основная категория, к которой относится выступление;\n",
    "- speaker_id — уникальный идентификатор автора выступления;\n",
    "- laughter_count — количество раз, когда аудитория смеялась в ходе выступления;\n",
    "- applause_count — количество раз, когда аудитория аплодировала в ходе выступления;\n",
    "- language — язык, на котором велось выступление;\n",
    "- event_id — уникальный идентификатор конференции.  \n",
    "\n",
    "Файл tableau_project_event_dict.csv — справочник конференций. Описание таблицы:\n",
    "- conf_id — уникальный идентификатор конференции;\n",
    "- event — название конференции;\n",
    "- country — страна проведения конференции.  \n",
    "\n",
    "Файл tableau_project_speakers_dict.csv — справочник авторов выступления. Описание таблицы:\n",
    "- author_id — уникальный идентификатор автора выступления;\n",
    "= speaker_name — имя автора;\n",
    "- speaker_occupation — профессиональная область автора;\n",
    "- speaker_description — описание профессиональной деятельности автора."
   ]
  },
  {
   "cell_type": "markdown",
   "id": "10d119b9",
   "metadata": {},
   "source": [
    "## Задача"
   ]
  },
  {
   "cell_type": "markdown",
   "id": "c2c0fb80",
   "metadata": {},
   "source": [
    "Визуализировать информацию в рзаличных разрезах: история выступлений по годам, тематикам, странам; тематики выступлений по странам, популярность тех или иных тематик и выступлений; детализация информации об авторах выступлений, их областях деятельности, о самых популярных выступлениях, тематиках, конференциях.  \n",
    "На основе целевых дашбордов подготовить презентацию."
   ]
  },
  {
   "cell_type": "markdown",
   "id": "042f646a",
   "metadata": {},
   "source": [
    "[Дашборд+презентация](https://public.tableau.com/app/profile/sergey.nizhiven/viz/project_17157224237690/sheet17?publish=yes)"
   ]
  }
 ],
 "metadata": {
  "kernelspec": {
   "display_name": "Python 3 (ipykernel)",
   "language": "python",
   "name": "python3"
  },
  "language_info": {
   "codemirror_mode": {
    "name": "ipython",
    "version": 3
   },
   "file_extension": ".py",
   "mimetype": "text/x-python",
   "name": "python",
   "nbconvert_exporter": "python",
   "pygments_lexer": "ipython3",
   "version": "3.11.7"
  },
  "toc": {
   "base_numbering": 1,
   "nav_menu": {},
   "number_sections": true,
   "sideBar": true,
   "skip_h1_title": true,
   "title_cell": "Table of Contents",
   "title_sidebar": "Contents",
   "toc_cell": false,
   "toc_position": {},
   "toc_section_display": true,
   "toc_window_display": false
  }
 },
 "nbformat": 4,
 "nbformat_minor": 5
}
