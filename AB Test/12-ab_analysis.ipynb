{
 "cells": [
  {
   "cell_type": "markdown",
   "id": "1faa6662",
   "metadata": {},
   "source": [
    "# Принятие решений в бизнесе на основе данных"
   ]
  },
  {
   "cell_type": "markdown",
   "id": "15c35fbb",
   "metadata": {},
   "source": [
    "В крупном интернет-магазине совместно с отделом маркетинга необходимо проверить сформулированные гипотезы, запустить A/B-тест и проанализировать результаты"
   ]
  },
  {
   "cell_type": "markdown",
   "id": "2939d0da",
   "metadata": {},
   "source": [
    "# Описание данных\n",
    "Файл /datasets/hypothesis.csv\n",
    "- Hypothesis — краткое описание гипотезы;\n",
    "- Reach — охват пользователей по 10-балльной шкале;\n",
    "- Impact — влияние на пользователей по 10-балльной шкале;\n",
    "- Confidence — уверенность в гипотезе по 10-балльной шкале;\n",
    "- Efforts — затраты ресурсов на проверку гипотезы по 10-балльной шкале. Чем больше значение Efforts, тем дороже проверка гипотезы.\\\n",
    "\n",
    "Файл /datasets/orders.csv\n",
    "- transactionId — идентификатор заказа;\n",
    "- visitorId — идентификатор пользователя, совершившего заказ;\n",
    "- date — дата, когда был совершён заказ;\n",
    "- revenue — выручка заказа;\n",
    "- group — группа A/B-теста, в которую попал заказ.\\\n",
    "\n",
    "Файл /datasets/visitors.csv.\n",
    "- date — дата;\n",
    "- group — группа A/B-теста;\n",
    "- visitors — количество пользователей в указанную дату в указанной группе A/B-теста"
   ]
  },
  {
   "cell_type": "markdown",
   "id": "3f5f34bd",
   "metadata": {},
   "source": [
    "# Цель исследования - выявить наиболее потенциально эффективные гипотезы и принять решение по результатам А/В-теста."
   ]
  },
  {
   "cell_type": "markdown",
   "id": "18a15b13",
   "metadata": {},
   "source": [
    "# Задачи "
   ]
  },
  {
   "cell_type": "markdown",
   "id": "5e66290d",
   "metadata": {},
   "source": [
    "1) Применить фреймворк ICE и RICE для приоритизации гипотез и сравнить результат.  \n",
    "2) Построить/посчитать:  \n",
    "    - график кумулятивной выручки по группам;  \n",
    "    - график кумулятивного среднего чека по группам;  \n",
    "    - график относительного изменения кумулятивного среднего чека группы B к группе A;  \n",
    "    - график кумулятивного среднего количества заказов на посетителя по группам;  \n",
    "    - график относительного изменения кумулятивного среднего количества заказов на посетителя группы B к группе A;  \n",
    "    - точечный график количества заказов по пользователям;  \n",
    "    - 95-й и 99-й перцентили количества заказов на пользователя и выбрать границу для определения аномальных заказов;  \n",
    "    - точечный график стоимостей заказов;  \n",
    "    - 95-й и 99-й перцентили стоимости заказов и выбрать границу для определения аномальных заказов;  \n",
    "    - статистическую значимость различий в среднем количестве заказов на посетителя между группами по «сырым» данным;  \n",
    "    - статистическую значимость различий в среднем чеке заказа между группами по «сырым» данным;  \n",
    "    - статистическую значимость различий в среднем количестве заказов на посетителя между группами по «очищенным» данным;  \n",
    "    - статистическую значимость различий в среднем чеке заказа между группами по «очищенным» данным;  \n",
    "3) Принять решение по результатам теста и объяснить его. Варианты решений:  \n",
    "    1. Остановить тест, зафиксировать победу одной из групп.  \n",
    "    2. Остановить тест, зафиксировать отсутствие различий между группами.  \n",
    "    3. Продолжить тест.  "
   ]
  },
  {
   "cell_type": "markdown",
   "id": "204d0eb2",
   "metadata": {},
   "source": [
    "<div class=\"alert alert-info\"> <b>Комментарий студента:</b> ✔</div>"
   ]
  },
  {
   "cell_type": "markdown",
   "id": "bcb16c72",
   "metadata": {},
   "source": [
    "## Изучение данных"
   ]
  },
  {
   "cell_type": "code",
   "execution_count": 1,
   "id": "8ce5b0ba",
   "metadata": {},
   "outputs": [],
   "source": [
    "import pandas as pd\n",
    "import scipy.stats as stats\n",
    "import datetime as dt\n",
    "import numpy as np\n",
    "import seaborn as sns\n",
    "import matplotlib.pyplot as plt\n",
    "import os\n",
    "\n",
    "pd.set_option('display.max_colwidth', 500)\n",
    "pd.set_option('display.float_format', '{:.2f}'.format)\n",
    "\n",
    "from pandas.plotting import register_matplotlib_converters\n",
    "import warnings\n",
    "# конвертеры, которые позволяют использовать типы pandas в matplotlib  \n",
    "register_matplotlib_converters()"
   ]
  },
  {
   "cell_type": "code",
   "execution_count": 2,
   "id": "ff07e38c",
   "metadata": {},
   "outputs": [],
   "source": [
    "h_pth1 = 'C://Users/drweb/Downloads/hypothesis.csv'\n",
    "h_pth2 = '/datasets/hypothesis.csv'\n",
    "\n",
    "if os.path.exists(h_pth1):\n",
    "    hypothesis = pd.read_csv(h_pth1)\n",
    "elif os.path.exists(h_pth2):\n",
    "    hypothesis = pd.read_csv(h_pth2)\n",
    "else:\n",
    "    print('Something is wrong')"
   ]
  },
  {
   "cell_type": "code",
   "execution_count": 3,
   "id": "1a64c9a9",
   "metadata": {},
   "outputs": [],
   "source": [
    "o_pth1 = 'C://Users/drweb/Downloads/orders.csv'\n",
    "o_pth2 = '/datasets/orders.csv'\n",
    "\n",
    "if os.path.exists(o_pth1):\n",
    "    orders = pd.read_csv(o_pth1)\n",
    "elif os.path.exists(o_pth2):\n",
    "    orders = pd.read_csv(o_pth2)\n",
    "else:\n",
    "    print('Something is wrong')"
   ]
  },
  {
   "cell_type": "code",
   "execution_count": 4,
   "id": "93bb9095",
   "metadata": {},
   "outputs": [],
   "source": [
    "v_pth1 = 'C://Users/drweb/Downloads/visitors.csv'\n",
    "v_pth2 = '/datasets/visitors.csv'\n",
    "\n",
    "if os.path.exists(v_pth1):\n",
    "    visitors = pd.read_csv(v_pth1)\n",
    "elif os.path.exists(v_pth2):\n",
    "    visitors = pd.read_csv(v_pth2)\n",
    "else:\n",
    "    print('Something is wrong')"
   ]
  },
  {
   "cell_type": "code",
   "execution_count": 5,
   "id": "ea6806a7",
   "metadata": {},
   "outputs": [],
   "source": [
    "def func(x):\n",
    "    display(x.head())\n",
    "    print('*'*50)\n",
    "    x.info()\n",
    "    print('*'*50)\n",
    "    print(f\" Количество дубликатов в датафрейме: {x.duplicated().sum()}\")"
   ]
  },
  {
   "cell_type": "code",
   "execution_count": 6,
   "id": "64d964a0",
   "metadata": {},
   "outputs": [
    {
     "data": {
      "text/html": [
       "<div>\n",
       "<style scoped>\n",
       "    .dataframe tbody tr th:only-of-type {\n",
       "        vertical-align: middle;\n",
       "    }\n",
       "\n",
       "    .dataframe tbody tr th {\n",
       "        vertical-align: top;\n",
       "    }\n",
       "\n",
       "    .dataframe thead th {\n",
       "        text-align: right;\n",
       "    }\n",
       "</style>\n",
       "<table border=\"1\" class=\"dataframe\">\n",
       "  <thead>\n",
       "    <tr style=\"text-align: right;\">\n",
       "      <th></th>\n",
       "      <th>Hypothesis</th>\n",
       "      <th>Reach</th>\n",
       "      <th>Impact</th>\n",
       "      <th>Confidence</th>\n",
       "      <th>Efforts</th>\n",
       "    </tr>\n",
       "  </thead>\n",
       "  <tbody>\n",
       "    <tr>\n",
       "      <th>0</th>\n",
       "      <td>Добавить два новых канала привлечения трафика, что позволит привлекать на 30% больше пользователей</td>\n",
       "      <td>3</td>\n",
       "      <td>10</td>\n",
       "      <td>8</td>\n",
       "      <td>6</td>\n",
       "    </tr>\n",
       "    <tr>\n",
       "      <th>1</th>\n",
       "      <td>Запустить собственную службу доставки, что сократит срок доставки заказов</td>\n",
       "      <td>2</td>\n",
       "      <td>5</td>\n",
       "      <td>4</td>\n",
       "      <td>10</td>\n",
       "    </tr>\n",
       "    <tr>\n",
       "      <th>2</th>\n",
       "      <td>Добавить блоки рекомендаций товаров на сайт интернет магазина, чтобы повысить конверсию и средний чек заказа</td>\n",
       "      <td>8</td>\n",
       "      <td>3</td>\n",
       "      <td>7</td>\n",
       "      <td>3</td>\n",
       "    </tr>\n",
       "    <tr>\n",
       "      <th>3</th>\n",
       "      <td>Изменить структура категорий, что увеличит конверсию, т.к. пользователи быстрее найдут нужный товар</td>\n",
       "      <td>8</td>\n",
       "      <td>3</td>\n",
       "      <td>3</td>\n",
       "      <td>8</td>\n",
       "    </tr>\n",
       "    <tr>\n",
       "      <th>4</th>\n",
       "      <td>Изменить цвет фона главной страницы, чтобы увеличить вовлеченность пользователей</td>\n",
       "      <td>3</td>\n",
       "      <td>1</td>\n",
       "      <td>1</td>\n",
       "      <td>1</td>\n",
       "    </tr>\n",
       "  </tbody>\n",
       "</table>\n",
       "</div>"
      ],
      "text/plain": [
       "                                                                                                     Hypothesis  \\\n",
       "0            Добавить два новых канала привлечения трафика, что позволит привлекать на 30% больше пользователей   \n",
       "1                                     Запустить собственную службу доставки, что сократит срок доставки заказов   \n",
       "2  Добавить блоки рекомендаций товаров на сайт интернет магазина, чтобы повысить конверсию и средний чек заказа   \n",
       "3           Изменить структура категорий, что увеличит конверсию, т.к. пользователи быстрее найдут нужный товар   \n",
       "4                              Изменить цвет фона главной страницы, чтобы увеличить вовлеченность пользователей   \n",
       "\n",
       "   Reach  Impact  Confidence  Efforts  \n",
       "0      3      10           8        6  \n",
       "1      2       5           4       10  \n",
       "2      8       3           7        3  \n",
       "3      8       3           3        8  \n",
       "4      3       1           1        1  "
      ]
     },
     "metadata": {},
     "output_type": "display_data"
    },
    {
     "name": "stdout",
     "output_type": "stream",
     "text": [
      "**************************************************\n",
      "<class 'pandas.core.frame.DataFrame'>\n",
      "RangeIndex: 9 entries, 0 to 8\n",
      "Data columns (total 5 columns):\n",
      " #   Column      Non-Null Count  Dtype \n",
      "---  ------      --------------  ----- \n",
      " 0   Hypothesis  9 non-null      object\n",
      " 1   Reach       9 non-null      int64 \n",
      " 2   Impact      9 non-null      int64 \n",
      " 3   Confidence  9 non-null      int64 \n",
      " 4   Efforts     9 non-null      int64 \n",
      "dtypes: int64(4), object(1)\n",
      "memory usage: 492.0+ bytes\n",
      "**************************************************\n",
      " Количество дубликатов в датафрейме: 0\n"
     ]
    }
   ],
   "source": [
    "func(hypothesis)"
   ]
  },
  {
   "cell_type": "markdown",
   "id": "74f1842e",
   "metadata": {},
   "source": [
    "Приведём названия столбцов к змеиному стилю"
   ]
  },
  {
   "cell_type": "code",
   "execution_count": 7,
   "id": "5c388012",
   "metadata": {},
   "outputs": [],
   "source": [
    "hypothesis.columns = [x.lower() for x in hypothesis.columns]"
   ]
  },
  {
   "cell_type": "code",
   "execution_count": 8,
   "id": "cbf8670a",
   "metadata": {},
   "outputs": [
    {
     "data": {
      "text/html": [
       "<div>\n",
       "<style scoped>\n",
       "    .dataframe tbody tr th:only-of-type {\n",
       "        vertical-align: middle;\n",
       "    }\n",
       "\n",
       "    .dataframe tbody tr th {\n",
       "        vertical-align: top;\n",
       "    }\n",
       "\n",
       "    .dataframe thead th {\n",
       "        text-align: right;\n",
       "    }\n",
       "</style>\n",
       "<table border=\"1\" class=\"dataframe\">\n",
       "  <thead>\n",
       "    <tr style=\"text-align: right;\">\n",
       "      <th></th>\n",
       "      <th>transactionId</th>\n",
       "      <th>visitorId</th>\n",
       "      <th>date</th>\n",
       "      <th>revenue</th>\n",
       "      <th>group</th>\n",
       "    </tr>\n",
       "  </thead>\n",
       "  <tbody>\n",
       "    <tr>\n",
       "      <th>0</th>\n",
       "      <td>3667963787</td>\n",
       "      <td>3312258926</td>\n",
       "      <td>2019-08-15</td>\n",
       "      <td>1650</td>\n",
       "      <td>B</td>\n",
       "    </tr>\n",
       "    <tr>\n",
       "      <th>1</th>\n",
       "      <td>2804400009</td>\n",
       "      <td>3642806036</td>\n",
       "      <td>2019-08-15</td>\n",
       "      <td>730</td>\n",
       "      <td>B</td>\n",
       "    </tr>\n",
       "    <tr>\n",
       "      <th>2</th>\n",
       "      <td>2961555356</td>\n",
       "      <td>4069496402</td>\n",
       "      <td>2019-08-15</td>\n",
       "      <td>400</td>\n",
       "      <td>A</td>\n",
       "    </tr>\n",
       "    <tr>\n",
       "      <th>3</th>\n",
       "      <td>3797467345</td>\n",
       "      <td>1196621759</td>\n",
       "      <td>2019-08-15</td>\n",
       "      <td>9759</td>\n",
       "      <td>B</td>\n",
       "    </tr>\n",
       "    <tr>\n",
       "      <th>4</th>\n",
       "      <td>2282983706</td>\n",
       "      <td>2322279887</td>\n",
       "      <td>2019-08-15</td>\n",
       "      <td>2308</td>\n",
       "      <td>B</td>\n",
       "    </tr>\n",
       "  </tbody>\n",
       "</table>\n",
       "</div>"
      ],
      "text/plain": [
       "   transactionId   visitorId        date  revenue group\n",
       "0     3667963787  3312258926  2019-08-15     1650     B\n",
       "1     2804400009  3642806036  2019-08-15      730     B\n",
       "2     2961555356  4069496402  2019-08-15      400     A\n",
       "3     3797467345  1196621759  2019-08-15     9759     B\n",
       "4     2282983706  2322279887  2019-08-15     2308     B"
      ]
     },
     "metadata": {},
     "output_type": "display_data"
    },
    {
     "name": "stdout",
     "output_type": "stream",
     "text": [
      "**************************************************\n",
      "<class 'pandas.core.frame.DataFrame'>\n",
      "RangeIndex: 1197 entries, 0 to 1196\n",
      "Data columns (total 5 columns):\n",
      " #   Column         Non-Null Count  Dtype \n",
      "---  ------         --------------  ----- \n",
      " 0   transactionId  1197 non-null   int64 \n",
      " 1   visitorId      1197 non-null   int64 \n",
      " 2   date           1197 non-null   object\n",
      " 3   revenue        1197 non-null   int64 \n",
      " 4   group          1197 non-null   object\n",
      "dtypes: int64(3), object(2)\n",
      "memory usage: 46.9+ KB\n",
      "**************************************************\n",
      " Количество дубликатов в датафрейме: 0\n"
     ]
    }
   ],
   "source": [
    "func(orders)"
   ]
  },
  {
   "cell_type": "code",
   "execution_count": 9,
   "id": "25bee706",
   "metadata": {},
   "outputs": [],
   "source": [
    "orders.columns = [x.lower() for x in orders.columns]\n",
    "orders.rename(columns={'transactionid':'transaction_id', 'visitorid':'visitor_id'}, inplace=True)"
   ]
  },
  {
   "cell_type": "markdown",
   "id": "9d1969a1",
   "metadata": {},
   "source": [
    "Приведём дату к необходимому типу данных"
   ]
  },
  {
   "cell_type": "code",
   "execution_count": 10,
   "id": "2dc2158c",
   "metadata": {},
   "outputs": [],
   "source": [
    "orders['date'] = orders['date'].map(lambda x: dt.datetime.strptime(x, '%Y-%m-%d'))"
   ]
  },
  {
   "cell_type": "markdown",
   "id": "3b821a2b-9df8-4035-924e-2552e18b9973",
   "metadata": {},
   "source": [
    "Узнаем анализируемый период"
   ]
  },
  {
   "cell_type": "code",
   "execution_count": 11,
   "id": "c1bdfb0f-3b8f-4c06-98bd-d0f1db92bae6",
   "metadata": {},
   "outputs": [
    {
     "data": {
      "text/plain": [
       "Timestamp('2019-08-01 00:00:00')"
      ]
     },
     "execution_count": 11,
     "metadata": {},
     "output_type": "execute_result"
    }
   ],
   "source": [
    "orders['date'].min()"
   ]
  },
  {
   "cell_type": "code",
   "execution_count": 12,
   "id": "3c6d5e4c-b76b-4179-b9be-7dfe87267c8e",
   "metadata": {
    "scrolled": true
   },
   "outputs": [
    {
     "data": {
      "text/plain": [
       "Timestamp('2019-08-31 00:00:00')"
      ]
     },
     "execution_count": 12,
     "metadata": {},
     "output_type": "execute_result"
    }
   ],
   "source": [
    "orders['date'].max()"
   ]
  },
  {
   "cell_type": "markdown",
   "id": "1565847c-68c9-4efa-9d9a-91ea8d979999",
   "metadata": {},
   "source": [
    "Таким образом, рассматриваемый период составляет 1 месяц: 01.08.2019 - 31.08.2019"
   ]
  },
  {
   "cell_type": "markdown",
   "id": "5a0a70b2",
   "metadata": {},
   "source": [
    "Посмотрим, сколько всего пользователей и заказов по группам"
   ]
  },
  {
   "cell_type": "code",
   "execution_count": 13,
   "id": "6e393987",
   "metadata": {},
   "outputs": [
    {
     "data": {
      "text/html": [
       "<div>\n",
       "<style scoped>\n",
       "    .dataframe tbody tr th:only-of-type {\n",
       "        vertical-align: middle;\n",
       "    }\n",
       "\n",
       "    .dataframe tbody tr th {\n",
       "        vertical-align: top;\n",
       "    }\n",
       "\n",
       "    .dataframe thead th {\n",
       "        text-align: right;\n",
       "    }\n",
       "</style>\n",
       "<table border=\"1\" class=\"dataframe\">\n",
       "  <thead>\n",
       "    <tr style=\"text-align: right;\">\n",
       "      <th></th>\n",
       "      <th>orders</th>\n",
       "      <th>visitors</th>\n",
       "    </tr>\n",
       "    <tr>\n",
       "      <th>group</th>\n",
       "      <th></th>\n",
       "      <th></th>\n",
       "    </tr>\n",
       "  </thead>\n",
       "  <tbody>\n",
       "    <tr>\n",
       "      <th>A</th>\n",
       "      <td>557</td>\n",
       "      <td>503</td>\n",
       "    </tr>\n",
       "    <tr>\n",
       "      <th>B</th>\n",
       "      <td>640</td>\n",
       "      <td>586</td>\n",
       "    </tr>\n",
       "  </tbody>\n",
       "</table>\n",
       "</div>"
      ],
      "text/plain": [
       "       orders  visitors\n",
       "group                  \n",
       "A         557       503\n",
       "B         640       586"
      ]
     },
     "execution_count": 13,
     "metadata": {},
     "output_type": "execute_result"
    }
   ],
   "source": [
    "orders_grouped = orders.groupby('group').agg({'transaction_id':'nunique', 'visitor_id':'nunique'})\n",
    "orders_grouped.columns = ['orders', 'visitors']\n",
    "orders_grouped"
   ]
  },
  {
   "cell_type": "markdown",
   "id": "df0e7db6",
   "metadata": {},
   "source": [
    "Всего 2 группы, кол-во пользователей и заказов в группах примерно одинаково"
   ]
  },
  {
   "cell_type": "markdown",
   "id": "00043d01",
   "metadata": {},
   "source": [
    "Посмотрим, есть ли пользователи, которые попадают в обе группы"
   ]
  },
  {
   "cell_type": "code",
   "execution_count": 14,
   "id": "cd71218d",
   "metadata": {},
   "outputs": [
    {
     "data": {
      "text/plain": [
       "array([   8300375,  199603092,  232979603,  237748145,  276558944,\n",
       "        351125977,  393266494,  457167155,  471551937,  477780734,\n",
       "        818047933,  963407295, 1230306981, 1294878855, 1316129916,\n",
       "       1333886533, 1404934699, 1602967004, 1614305549, 1648269707,\n",
       "       1668030113, 1738359350, 1801183820, 1959144690, 2038680547,\n",
       "       2044997962, 2378935119, 2458001652, 2579882178, 2587333274,\n",
       "       2600415354, 2654030115, 2686716486, 2712142231, 2716752286,\n",
       "       2780786433, 2927087541, 2949041841, 2954449915, 3062433592,\n",
       "       3202540741, 3234906277, 3656415546, 3717692402, 3766097110,\n",
       "       3803269165, 3891541246, 3941795274, 3951559397, 3957174400,\n",
       "       3963646447, 3972127743, 3984495233, 4069496402, 4120364173,\n",
       "       4186807279, 4256040402, 4266935830], dtype=int64)"
      ]
     },
     "execution_count": 14,
     "metadata": {},
     "output_type": "execute_result"
    }
   ],
   "source": [
    "double_users = orders.groupby('visitor_id').agg({'group' : 'nunique'})\\\n",
    ".reset_index().query('group > 1')['visitor_id'].unique()\n",
    "double_users"
   ]
  },
  {
   "cell_type": "markdown",
   "id": "552dfb89",
   "metadata": {},
   "source": [
    "Удалим их из датафрейма"
   ]
  },
  {
   "cell_type": "code",
   "execution_count": 15,
   "id": "076b597c",
   "metadata": {},
   "outputs": [],
   "source": [
    "orders = orders.query('visitor_id not in @double_users')"
   ]
  },
  {
   "cell_type": "code",
   "execution_count": 16,
   "id": "5e006263",
   "metadata": {},
   "outputs": [
    {
     "data": {
      "text/html": [
       "<div>\n",
       "<style scoped>\n",
       "    .dataframe tbody tr th:only-of-type {\n",
       "        vertical-align: middle;\n",
       "    }\n",
       "\n",
       "    .dataframe tbody tr th {\n",
       "        vertical-align: top;\n",
       "    }\n",
       "\n",
       "    .dataframe thead th {\n",
       "        text-align: right;\n",
       "    }\n",
       "</style>\n",
       "<table border=\"1\" class=\"dataframe\">\n",
       "  <thead>\n",
       "    <tr style=\"text-align: right;\">\n",
       "      <th></th>\n",
       "      <th>date</th>\n",
       "      <th>group</th>\n",
       "      <th>visitors</th>\n",
       "    </tr>\n",
       "  </thead>\n",
       "  <tbody>\n",
       "    <tr>\n",
       "      <th>0</th>\n",
       "      <td>2019-08-01</td>\n",
       "      <td>A</td>\n",
       "      <td>719</td>\n",
       "    </tr>\n",
       "    <tr>\n",
       "      <th>1</th>\n",
       "      <td>2019-08-02</td>\n",
       "      <td>A</td>\n",
       "      <td>619</td>\n",
       "    </tr>\n",
       "    <tr>\n",
       "      <th>2</th>\n",
       "      <td>2019-08-03</td>\n",
       "      <td>A</td>\n",
       "      <td>507</td>\n",
       "    </tr>\n",
       "    <tr>\n",
       "      <th>3</th>\n",
       "      <td>2019-08-04</td>\n",
       "      <td>A</td>\n",
       "      <td>717</td>\n",
       "    </tr>\n",
       "    <tr>\n",
       "      <th>4</th>\n",
       "      <td>2019-08-05</td>\n",
       "      <td>A</td>\n",
       "      <td>756</td>\n",
       "    </tr>\n",
       "  </tbody>\n",
       "</table>\n",
       "</div>"
      ],
      "text/plain": [
       "         date group  visitors\n",
       "0  2019-08-01     A       719\n",
       "1  2019-08-02     A       619\n",
       "2  2019-08-03     A       507\n",
       "3  2019-08-04     A       717\n",
       "4  2019-08-05     A       756"
      ]
     },
     "metadata": {},
     "output_type": "display_data"
    },
    {
     "name": "stdout",
     "output_type": "stream",
     "text": [
      "**************************************************\n",
      "<class 'pandas.core.frame.DataFrame'>\n",
      "RangeIndex: 62 entries, 0 to 61\n",
      "Data columns (total 3 columns):\n",
      " #   Column    Non-Null Count  Dtype \n",
      "---  ------    --------------  ----- \n",
      " 0   date      62 non-null     object\n",
      " 1   group     62 non-null     object\n",
      " 2   visitors  62 non-null     int64 \n",
      "dtypes: int64(1), object(2)\n",
      "memory usage: 1.6+ KB\n",
      "**************************************************\n",
      " Количество дубликатов в датафрейме: 0\n"
     ]
    }
   ],
   "source": [
    "func(visitors)"
   ]
  },
  {
   "cell_type": "markdown",
   "id": "b07fad33",
   "metadata": {},
   "source": [
    "Приведём дату к необходимому типу данных"
   ]
  },
  {
   "cell_type": "code",
   "execution_count": 17,
   "id": "9e5553c0",
   "metadata": {},
   "outputs": [],
   "source": [
    "visitors['date'] = visitors['date'].map(lambda x: dt.datetime.strptime(x, '%Y-%m-%d'))"
   ]
  },
  {
   "cell_type": "markdown",
   "id": "c86d9cc4-ca8a-4c6c-b6a4-44f9a8b0c7da",
   "metadata": {},
   "source": [
    "Проверим не отличается ли период от датафрейма с заказами orders"
   ]
  },
  {
   "cell_type": "code",
   "execution_count": 18,
   "id": "009d9dbc-9f4e-4ca7-a22e-ed49adc566f6",
   "metadata": {},
   "outputs": [
    {
     "data": {
      "text/plain": [
       "Timestamp('2019-08-01 00:00:00')"
      ]
     },
     "execution_count": 18,
     "metadata": {},
     "output_type": "execute_result"
    }
   ],
   "source": [
    "visitors['date'].min()"
   ]
  },
  {
   "cell_type": "code",
   "execution_count": 19,
   "id": "d640d0db-1131-4b78-8073-bb83215d5fbf",
   "metadata": {},
   "outputs": [
    {
     "data": {
      "text/plain": [
       "Timestamp('2019-08-31 00:00:00')"
      ]
     },
     "execution_count": 19,
     "metadata": {},
     "output_type": "execute_result"
    }
   ],
   "source": [
    "visitors['date'].max()"
   ]
  },
  {
   "cell_type": "markdown",
   "id": "c118209f",
   "metadata": {},
   "source": [
    "Посмотрим на динамику посетителей по дням по группам"
   ]
  },
  {
   "cell_type": "code",
   "execution_count": 20,
   "id": "c20fb4cd",
   "metadata": {},
   "outputs": [
    {
     "data": {
      "image/png": "[encoded data removed]",
      "text/plain": [
       "<Figure size 1200x600 with 1 Axes>"
      ]
     },
     "metadata": {},
     "output_type": "display_data"
    }
   ],
   "source": [
    "visitors_a = visitors.query('group == \"A\"')\n",
    "visitors_b = visitors.query('group == \"B\"')\n",
    "\n",
    "plt.figure(figsize=(12,6))\n",
    "plt.plot(visitors_a['date'], visitors_a['visitors'], label = 'A')\n",
    "plt.plot(visitors_b['date'], visitors_b['visitors'], label = 'B')\n",
    "plt.title('Динамика изменения пользователей группы А и B')\n",
    "plt.xlabel('Дата')\n",
    "plt.ylabel('Кол-во пользователей, чел.')\n",
    "plt.legend()\n",
    "plt.show()"
   ]
  },
  {
   "cell_type": "markdown",
   "id": "18c312ba",
   "metadata": {},
   "source": [
    "**Вывод: пропуски и дубликаты отсутствуют, названия столбцов представлены в необходимом стиле, столбцы приведены к необходимым типам данных. Пользователи, попавшие в обе группы, ликвидированы. Динамика изменений пользователей у обеих групп похожа.\\\n",
    "Данные готовы к анализу.**"
   ]
  },
  {
   "cell_type": "markdown",
   "id": "dffe780d",
   "metadata": {},
   "source": [
    "## Приоритизация гипотез"
   ]
  },
  {
   "cell_type": "code",
   "execution_count": 21,
   "id": "e145383a",
   "metadata": {},
   "outputs": [
    {
     "data": {
      "text/html": [
       "<div>\n",
       "<style scoped>\n",
       "    .dataframe tbody tr th:only-of-type {\n",
       "        vertical-align: middle;\n",
       "    }\n",
       "\n",
       "    .dataframe tbody tr th {\n",
       "        vertical-align: top;\n",
       "    }\n",
       "\n",
       "    .dataframe thead th {\n",
       "        text-align: right;\n",
       "    }\n",
       "</style>\n",
       "<table border=\"1\" class=\"dataframe\">\n",
       "  <thead>\n",
       "    <tr style=\"text-align: right;\">\n",
       "      <th></th>\n",
       "      <th>hypothesis</th>\n",
       "      <th>reach</th>\n",
       "      <th>impact</th>\n",
       "      <th>confidence</th>\n",
       "      <th>efforts</th>\n",
       "    </tr>\n",
       "  </thead>\n",
       "  <tbody>\n",
       "    <tr>\n",
       "      <th>0</th>\n",
       "      <td>Добавить два новых канала привлечения трафика, что позволит привлекать на 30% больше пользователей</td>\n",
       "      <td>3</td>\n",
       "      <td>10</td>\n",
       "      <td>8</td>\n",
       "      <td>6</td>\n",
       "    </tr>\n",
       "    <tr>\n",
       "      <th>1</th>\n",
       "      <td>Запустить собственную службу доставки, что сократит срок доставки заказов</td>\n",
       "      <td>2</td>\n",
       "      <td>5</td>\n",
       "      <td>4</td>\n",
       "      <td>10</td>\n",
       "    </tr>\n",
       "    <tr>\n",
       "      <th>2</th>\n",
       "      <td>Добавить блоки рекомендаций товаров на сайт интернет магазина, чтобы повысить конверсию и средний чек заказа</td>\n",
       "      <td>8</td>\n",
       "      <td>3</td>\n",
       "      <td>7</td>\n",
       "      <td>3</td>\n",
       "    </tr>\n",
       "    <tr>\n",
       "      <th>3</th>\n",
       "      <td>Изменить структура категорий, что увеличит конверсию, т.к. пользователи быстрее найдут нужный товар</td>\n",
       "      <td>8</td>\n",
       "      <td>3</td>\n",
       "      <td>3</td>\n",
       "      <td>8</td>\n",
       "    </tr>\n",
       "    <tr>\n",
       "      <th>4</th>\n",
       "      <td>Изменить цвет фона главной страницы, чтобы увеличить вовлеченность пользователей</td>\n",
       "      <td>3</td>\n",
       "      <td>1</td>\n",
       "      <td>1</td>\n",
       "      <td>1</td>\n",
       "    </tr>\n",
       "    <tr>\n",
       "      <th>5</th>\n",
       "      <td>Добавить страницу отзывов клиентов о магазине, что позволит увеличить количество заказов</td>\n",
       "      <td>3</td>\n",
       "      <td>2</td>\n",
       "      <td>2</td>\n",
       "      <td>3</td>\n",
       "    </tr>\n",
       "    <tr>\n",
       "      <th>6</th>\n",
       "      <td>Показать на главной странице баннеры с актуальными акциями и распродажами, чтобы увеличить конверсию</td>\n",
       "      <td>5</td>\n",
       "      <td>3</td>\n",
       "      <td>8</td>\n",
       "      <td>3</td>\n",
       "    </tr>\n",
       "    <tr>\n",
       "      <th>7</th>\n",
       "      <td>Добавить форму подписки на все основные страницы, чтобы собрать базу клиентов для email-рассылок</td>\n",
       "      <td>10</td>\n",
       "      <td>7</td>\n",
       "      <td>8</td>\n",
       "      <td>5</td>\n",
       "    </tr>\n",
       "    <tr>\n",
       "      <th>8</th>\n",
       "      <td>Запустить акцию, дающую скидку на товар в день рождения</td>\n",
       "      <td>1</td>\n",
       "      <td>9</td>\n",
       "      <td>9</td>\n",
       "      <td>5</td>\n",
       "    </tr>\n",
       "  </tbody>\n",
       "</table>\n",
       "</div>"
      ],
      "text/plain": [
       "                                                                                                     hypothesis  \\\n",
       "0            Добавить два новых канала привлечения трафика, что позволит привлекать на 30% больше пользователей   \n",
       "1                                     Запустить собственную службу доставки, что сократит срок доставки заказов   \n",
       "2  Добавить блоки рекомендаций товаров на сайт интернет магазина, чтобы повысить конверсию и средний чек заказа   \n",
       "3           Изменить структура категорий, что увеличит конверсию, т.к. пользователи быстрее найдут нужный товар   \n",
       "4                              Изменить цвет фона главной страницы, чтобы увеличить вовлеченность пользователей   \n",
       "5                      Добавить страницу отзывов клиентов о магазине, что позволит увеличить количество заказов   \n",
       "6          Показать на главной странице баннеры с актуальными акциями и распродажами, чтобы увеличить конверсию   \n",
       "7              Добавить форму подписки на все основные страницы, чтобы собрать базу клиентов для email-рассылок   \n",
       "8                                                       Запустить акцию, дающую скидку на товар в день рождения   \n",
       "\n",
       "   reach  impact  confidence  efforts  \n",
       "0      3      10           8        6  \n",
       "1      2       5           4       10  \n",
       "2      8       3           7        3  \n",
       "3      8       3           3        8  \n",
       "4      3       1           1        1  \n",
       "5      3       2           2        3  \n",
       "6      5       3           8        3  \n",
       "7     10       7           8        5  \n",
       "8      1       9           9        5  "
      ]
     },
     "execution_count": 21,
     "metadata": {},
     "output_type": "execute_result"
    }
   ],
   "source": [
    "hypothesis"
   ]
  },
  {
   "cell_type": "markdown",
   "id": "57ee8b69",
   "metadata": {},
   "source": [
    "### Применим фреймворк ICE для приоритизации гипотез"
   ]
  },
  {
   "cell_type": "code",
   "execution_count": 22,
   "id": "0f15633f",
   "metadata": {},
   "outputs": [
    {
     "data": {
      "text/html": [
       "<div>\n",
       "<style scoped>\n",
       "    .dataframe tbody tr th:only-of-type {\n",
       "        vertical-align: middle;\n",
       "    }\n",
       "\n",
       "    .dataframe tbody tr th {\n",
       "        vertical-align: top;\n",
       "    }\n",
       "\n",
       "    .dataframe thead th {\n",
       "        text-align: right;\n",
       "    }\n",
       "</style>\n",
       "<table border=\"1\" class=\"dataframe\">\n",
       "  <thead>\n",
       "    <tr style=\"text-align: right;\">\n",
       "      <th></th>\n",
       "      <th>hypothesis</th>\n",
       "      <th>ICE</th>\n",
       "    </tr>\n",
       "  </thead>\n",
       "  <tbody>\n",
       "    <tr>\n",
       "      <th>8</th>\n",
       "      <td>Запустить акцию, дающую скидку на товар в день рождения</td>\n",
       "      <td>16.20</td>\n",
       "    </tr>\n",
       "    <tr>\n",
       "      <th>0</th>\n",
       "      <td>Добавить два новых канала привлечения трафика, что позволит привлекать на 30% больше пользователей</td>\n",
       "      <td>13.33</td>\n",
       "    </tr>\n",
       "    <tr>\n",
       "      <th>7</th>\n",
       "      <td>Добавить форму подписки на все основные страницы, чтобы собрать базу клиентов для email-рассылок</td>\n",
       "      <td>11.20</td>\n",
       "    </tr>\n",
       "    <tr>\n",
       "      <th>6</th>\n",
       "      <td>Показать на главной странице баннеры с актуальными акциями и распродажами, чтобы увеличить конверсию</td>\n",
       "      <td>8.00</td>\n",
       "    </tr>\n",
       "    <tr>\n",
       "      <th>2</th>\n",
       "      <td>Добавить блоки рекомендаций товаров на сайт интернет магазина, чтобы повысить конверсию и средний чек заказа</td>\n",
       "      <td>7.00</td>\n",
       "    </tr>\n",
       "    <tr>\n",
       "      <th>1</th>\n",
       "      <td>Запустить собственную службу доставки, что сократит срок доставки заказов</td>\n",
       "      <td>2.00</td>\n",
       "    </tr>\n",
       "    <tr>\n",
       "      <th>5</th>\n",
       "      <td>Добавить страницу отзывов клиентов о магазине, что позволит увеличить количество заказов</td>\n",
       "      <td>1.33</td>\n",
       "    </tr>\n",
       "    <tr>\n",
       "      <th>3</th>\n",
       "      <td>Изменить структура категорий, что увеличит конверсию, т.к. пользователи быстрее найдут нужный товар</td>\n",
       "      <td>1.12</td>\n",
       "    </tr>\n",
       "    <tr>\n",
       "      <th>4</th>\n",
       "      <td>Изменить цвет фона главной страницы, чтобы увеличить вовлеченность пользователей</td>\n",
       "      <td>1.00</td>\n",
       "    </tr>\n",
       "  </tbody>\n",
       "</table>\n",
       "</div>"
      ],
      "text/plain": [
       "                                                                                                     hypothesis  \\\n",
       "8                                                       Запустить акцию, дающую скидку на товар в день рождения   \n",
       "0            Добавить два новых канала привлечения трафика, что позволит привлекать на 30% больше пользователей   \n",
       "7              Добавить форму подписки на все основные страницы, чтобы собрать базу клиентов для email-рассылок   \n",
       "6          Показать на главной странице баннеры с актуальными акциями и распродажами, чтобы увеличить конверсию   \n",
       "2  Добавить блоки рекомендаций товаров на сайт интернет магазина, чтобы повысить конверсию и средний чек заказа   \n",
       "1                                     Запустить собственную службу доставки, что сократит срок доставки заказов   \n",
       "5                      Добавить страницу отзывов клиентов о магазине, что позволит увеличить количество заказов   \n",
       "3           Изменить структура категорий, что увеличит конверсию, т.к. пользователи быстрее найдут нужный товар   \n",
       "4                              Изменить цвет фона главной страницы, чтобы увеличить вовлеченность пользователей   \n",
       "\n",
       "    ICE  \n",
       "8 16.20  \n",
       "0 13.33  \n",
       "7 11.20  \n",
       "6  8.00  \n",
       "2  7.00  \n",
       "1  2.00  \n",
       "5  1.33  \n",
       "3  1.12  \n",
       "4  1.00  "
      ]
     },
     "execution_count": 22,
     "metadata": {},
     "output_type": "execute_result"
    }
   ],
   "source": [
    "hypothesis['ICE'] = hypothesis.impact * hypothesis.confidence / hypothesis.efforts\n",
    "hypothesis[['hypothesis', 'ICE']].sort_values(by='ICE', ascending=False)\n"
   ]
  },
  {
   "cell_type": "markdown",
   "id": "c36f26d1",
   "metadata": {},
   "source": [
    "### Применим фреймворк RICE для приоритизации гипотез"
   ]
  },
  {
   "cell_type": "code",
   "execution_count": 23,
   "id": "9210b1b5",
   "metadata": {},
   "outputs": [
    {
     "data": {
      "text/html": [
       "<div>\n",
       "<style scoped>\n",
       "    .dataframe tbody tr th:only-of-type {\n",
       "        vertical-align: middle;\n",
       "    }\n",
       "\n",
       "    .dataframe tbody tr th {\n",
       "        vertical-align: top;\n",
       "    }\n",
       "\n",
       "    .dataframe thead th {\n",
       "        text-align: right;\n",
       "    }\n",
       "</style>\n",
       "<table border=\"1\" class=\"dataframe\">\n",
       "  <thead>\n",
       "    <tr style=\"text-align: right;\">\n",
       "      <th></th>\n",
       "      <th>hypothesis</th>\n",
       "      <th>RICE</th>\n",
       "    </tr>\n",
       "  </thead>\n",
       "  <tbody>\n",
       "    <tr>\n",
       "      <th>7</th>\n",
       "      <td>Добавить форму подписки на все основные страницы, чтобы собрать базу клиентов для email-рассылок</td>\n",
       "      <td>112.00</td>\n",
       "    </tr>\n",
       "    <tr>\n",
       "      <th>2</th>\n",
       "      <td>Добавить блоки рекомендаций товаров на сайт интернет магазина, чтобы повысить конверсию и средний чек заказа</td>\n",
       "      <td>56.00</td>\n",
       "    </tr>\n",
       "    <tr>\n",
       "      <th>0</th>\n",
       "      <td>Добавить два новых канала привлечения трафика, что позволит привлекать на 30% больше пользователей</td>\n",
       "      <td>40.00</td>\n",
       "    </tr>\n",
       "    <tr>\n",
       "      <th>6</th>\n",
       "      <td>Показать на главной странице баннеры с актуальными акциями и распродажами, чтобы увеличить конверсию</td>\n",
       "      <td>40.00</td>\n",
       "    </tr>\n",
       "    <tr>\n",
       "      <th>8</th>\n",
       "      <td>Запустить акцию, дающую скидку на товар в день рождения</td>\n",
       "      <td>16.20</td>\n",
       "    </tr>\n",
       "    <tr>\n",
       "      <th>3</th>\n",
       "      <td>Изменить структура категорий, что увеличит конверсию, т.к. пользователи быстрее найдут нужный товар</td>\n",
       "      <td>9.00</td>\n",
       "    </tr>\n",
       "    <tr>\n",
       "      <th>1</th>\n",
       "      <td>Запустить собственную службу доставки, что сократит срок доставки заказов</td>\n",
       "      <td>4.00</td>\n",
       "    </tr>\n",
       "    <tr>\n",
       "      <th>5</th>\n",
       "      <td>Добавить страницу отзывов клиентов о магазине, что позволит увеличить количество заказов</td>\n",
       "      <td>4.00</td>\n",
       "    </tr>\n",
       "    <tr>\n",
       "      <th>4</th>\n",
       "      <td>Изменить цвет фона главной страницы, чтобы увеличить вовлеченность пользователей</td>\n",
       "      <td>3.00</td>\n",
       "    </tr>\n",
       "  </tbody>\n",
       "</table>\n",
       "</div>"
      ],
      "text/plain": [
       "                                                                                                     hypothesis  \\\n",
       "7              Добавить форму подписки на все основные страницы, чтобы собрать базу клиентов для email-рассылок   \n",
       "2  Добавить блоки рекомендаций товаров на сайт интернет магазина, чтобы повысить конверсию и средний чек заказа   \n",
       "0            Добавить два новых канала привлечения трафика, что позволит привлекать на 30% больше пользователей   \n",
       "6          Показать на главной странице баннеры с актуальными акциями и распродажами, чтобы увеличить конверсию   \n",
       "8                                                       Запустить акцию, дающую скидку на товар в день рождения   \n",
       "3           Изменить структура категорий, что увеличит конверсию, т.к. пользователи быстрее найдут нужный товар   \n",
       "1                                     Запустить собственную службу доставки, что сократит срок доставки заказов   \n",
       "5                      Добавить страницу отзывов клиентов о магазине, что позволит увеличить количество заказов   \n",
       "4                              Изменить цвет фона главной страницы, чтобы увеличить вовлеченность пользователей   \n",
       "\n",
       "    RICE  \n",
       "7 112.00  \n",
       "2  56.00  \n",
       "0  40.00  \n",
       "6  40.00  \n",
       "8  16.20  \n",
       "3   9.00  \n",
       "1   4.00  \n",
       "5   4.00  \n",
       "4   3.00  "
      ]
     },
     "execution_count": 23,
     "metadata": {},
     "output_type": "execute_result"
    }
   ],
   "source": [
    "hypothesis['RICE'] = hypothesis.reach * hypothesis.impact * hypothesis.confidence / hypothesis.efforts\n",
    "hypothesis[['hypothesis', 'RICE']].sort_values(by='RICE', ascending=False)"
   ]
  },
  {
   "cell_type": "markdown",
   "id": "5c026c92",
   "metadata": {},
   "source": [
    "### Сравнение приоритизации гипотез в разрезе показателей ICE и RICE"
   ]
  },
  {
   "cell_type": "code",
   "execution_count": 24,
   "id": "f4b79482",
   "metadata": {},
   "outputs": [
    {
     "data": {
      "text/html": [
       "<style type=\"text/css\">\n",
       "#T_d1b29_row0_col1, #T_d1b29_row0_col6, #T_d1b29_row2_col2, #T_d1b29_row4_col3, #T_d1b29_row4_col5, #T_d1b29_row6_col4 {\n",
       "  background-color: #006837;\n",
       "  color: #f1f1f1;\n",
       "}\n",
       "#T_d1b29_row0_col2 {\n",
       "  background-color: #b7e075;\n",
       "  color: #000000;\n",
       "}\n",
       "#T_d1b29_row0_col3, #T_d1b29_row2_col3, #T_d1b29_row3_col3 {\n",
       "  background-color: #2aa054;\n",
       "  color: #f1f1f1;\n",
       "}\n",
       "#T_d1b29_row0_col4, #T_d1b29_row3_col1, #T_d1b29_row4_col4, #T_d1b29_row6_col2 {\n",
       "  background-color: #feeda1;\n",
       "  color: #000000;\n",
       "}\n",
       "#T_d1b29_row0_col5 {\n",
       "  background-color: #b5df74;\n",
       "  color: #000000;\n",
       "}\n",
       "#T_d1b29_row1_col1, #T_d1b29_row5_col1, #T_d1b29_row5_col4 {\n",
       "  background-color: #73c264;\n",
       "  color: #000000;\n",
       "}\n",
       "#T_d1b29_row1_col2, #T_d1b29_row1_col4, #T_d1b29_row2_col1, #T_d1b29_row3_col2, #T_d1b29_row3_col4, #T_d1b29_row5_col2, #T_d1b29_row7_col1, #T_d1b29_row7_col4, #T_d1b29_row8_col1 {\n",
       "  background-color: #f67a49;\n",
       "  color: #f1f1f1;\n",
       "}\n",
       "#T_d1b29_row1_col3 {\n",
       "  background-color: #84ca66;\n",
       "  color: #000000;\n",
       "}\n",
       "#T_d1b29_row1_col5 {\n",
       "  background-color: #fede89;\n",
       "  color: #000000;\n",
       "}\n",
       "#T_d1b29_row1_col6 {\n",
       "  background-color: #fffbb8;\n",
       "  color: #000000;\n",
       "}\n",
       "#T_d1b29_row2_col4 {\n",
       "  background-color: #e9f6a1;\n",
       "  color: #000000;\n",
       "}\n",
       "#T_d1b29_row2_col5 {\n",
       "  background-color: #5db961;\n",
       "  color: #f1f1f1;\n",
       "}\n",
       "#T_d1b29_row2_col6, #T_d1b29_row3_col6 {\n",
       "  background-color: #fdc171;\n",
       "  color: #000000;\n",
       "}\n",
       "#T_d1b29_row3_col5 {\n",
       "  background-color: #fff2aa;\n",
       "  color: #000000;\n",
       "}\n",
       "#T_d1b29_row4_col1, #T_d1b29_row8_col2, #T_d1b29_row8_col3, #T_d1b29_row8_col4, #T_d1b29_row8_col5, #T_d1b29_row8_col6 {\n",
       "  background-color: #a50026;\n",
       "  color: #f1f1f1;\n",
       "}\n",
       "#T_d1b29_row4_col2 {\n",
       "  background-color: #219c52;\n",
       "  color: #f1f1f1;\n",
       "}\n",
       "#T_d1b29_row4_col6 {\n",
       "  background-color: #dd3d2d;\n",
       "  color: #f1f1f1;\n",
       "}\n",
       "#T_d1b29_row5_col3 {\n",
       "  background-color: #f98e52;\n",
       "  color: #f1f1f1;\n",
       "}\n",
       "#T_d1b29_row5_col5, #T_d1b29_row6_col6, #T_d1b29_row7_col6 {\n",
       "  background-color: #a90426;\n",
       "  color: #f1f1f1;\n",
       "}\n",
       "#T_d1b29_row5_col6 {\n",
       "  background-color: #c01a27;\n",
       "  color: #f1f1f1;\n",
       "}\n",
       "#T_d1b29_row6_col1, #T_d1b29_row7_col2 {\n",
       "  background-color: #da362a;\n",
       "  color: #f1f1f1;\n",
       "}\n",
       "#T_d1b29_row6_col3 {\n",
       "  background-color: #fed481;\n",
       "  color: #000000;\n",
       "}\n",
       "#T_d1b29_row6_col5 {\n",
       "  background-color: #c41e27;\n",
       "  color: #f1f1f1;\n",
       "}\n",
       "#T_d1b29_row7_col3 {\n",
       "  background-color: #de402e;\n",
       "  color: #f1f1f1;\n",
       "}\n",
       "#T_d1b29_row7_col5 {\n",
       "  background-color: #af0926;\n",
       "  color: #f1f1f1;\n",
       "}\n",
       "</style>\n",
       "<table id=\"T_d1b29\">\n",
       "  <thead>\n",
       "    <tr>\n",
       "      <th class=\"blank level0\" >&nbsp;</th>\n",
       "      <th id=\"T_d1b29_level0_col0\" class=\"col_heading level0 col0\" >hypothesis</th>\n",
       "      <th id=\"T_d1b29_level0_col1\" class=\"col_heading level0 col1\" >reach</th>\n",
       "      <th id=\"T_d1b29_level0_col2\" class=\"col_heading level0 col2\" >impact</th>\n",
       "      <th id=\"T_d1b29_level0_col3\" class=\"col_heading level0 col3\" >confidence</th>\n",
       "      <th id=\"T_d1b29_level0_col4\" class=\"col_heading level0 col4\" >efforts</th>\n",
       "      <th id=\"T_d1b29_level0_col5\" class=\"col_heading level0 col5\" >ICE</th>\n",
       "      <th id=\"T_d1b29_level0_col6\" class=\"col_heading level0 col6\" >RICE</th>\n",
       "    </tr>\n",
       "  </thead>\n",
       "  <tbody>\n",
       "    <tr>\n",
       "      <th id=\"T_d1b29_level0_row0\" class=\"row_heading level0 row0\" >7</th>\n",
       "      <td id=\"T_d1b29_row0_col0\" class=\"data row0 col0\" >Добавить форму подписки на все основные страницы, чтобы собрать базу клиентов для email-рассылок</td>\n",
       "      <td id=\"T_d1b29_row0_col1\" class=\"data row0 col1\" >10</td>\n",
       "      <td id=\"T_d1b29_row0_col2\" class=\"data row0 col2\" >7</td>\n",
       "      <td id=\"T_d1b29_row0_col3\" class=\"data row0 col3\" >8</td>\n",
       "      <td id=\"T_d1b29_row0_col4\" class=\"data row0 col4\" >5</td>\n",
       "      <td id=\"T_d1b29_row0_col5\" class=\"data row0 col5\" >11.200000</td>\n",
       "      <td id=\"T_d1b29_row0_col6\" class=\"data row0 col6\" >112.000000</td>\n",
       "    </tr>\n",
       "    <tr>\n",
       "      <th id=\"T_d1b29_level0_row1\" class=\"row_heading level0 row1\" >2</th>\n",
       "      <td id=\"T_d1b29_row1_col0\" class=\"data row1 col0\" >Добавить блоки рекомендаций товаров на сайт интернет магазина, чтобы повысить конверсию и средний чек заказа</td>\n",
       "      <td id=\"T_d1b29_row1_col1\" class=\"data row1 col1\" >8</td>\n",
       "      <td id=\"T_d1b29_row1_col2\" class=\"data row1 col2\" >3</td>\n",
       "      <td id=\"T_d1b29_row1_col3\" class=\"data row1 col3\" >7</td>\n",
       "      <td id=\"T_d1b29_row1_col4\" class=\"data row1 col4\" >3</td>\n",
       "      <td id=\"T_d1b29_row1_col5\" class=\"data row1 col5\" >7.000000</td>\n",
       "      <td id=\"T_d1b29_row1_col6\" class=\"data row1 col6\" >56.000000</td>\n",
       "    </tr>\n",
       "    <tr>\n",
       "      <th id=\"T_d1b29_level0_row2\" class=\"row_heading level0 row2\" >0</th>\n",
       "      <td id=\"T_d1b29_row2_col0\" class=\"data row2 col0\" >Добавить два новых канала привлечения трафика, что позволит привлекать на 30% больше пользователей</td>\n",
       "      <td id=\"T_d1b29_row2_col1\" class=\"data row2 col1\" >3</td>\n",
       "      <td id=\"T_d1b29_row2_col2\" class=\"data row2 col2\" >10</td>\n",
       "      <td id=\"T_d1b29_row2_col3\" class=\"data row2 col3\" >8</td>\n",
       "      <td id=\"T_d1b29_row2_col4\" class=\"data row2 col4\" >6</td>\n",
       "      <td id=\"T_d1b29_row2_col5\" class=\"data row2 col5\" >13.333333</td>\n",
       "      <td id=\"T_d1b29_row2_col6\" class=\"data row2 col6\" >40.000000</td>\n",
       "    </tr>\n",
       "    <tr>\n",
       "      <th id=\"T_d1b29_level0_row3\" class=\"row_heading level0 row3\" >6</th>\n",
       "      <td id=\"T_d1b29_row3_col0\" class=\"data row3 col0\" >Показать на главной странице баннеры с актуальными акциями и распродажами, чтобы увеличить конверсию</td>\n",
       "      <td id=\"T_d1b29_row3_col1\" class=\"data row3 col1\" >5</td>\n",
       "      <td id=\"T_d1b29_row3_col2\" class=\"data row3 col2\" >3</td>\n",
       "      <td id=\"T_d1b29_row3_col3\" class=\"data row3 col3\" >8</td>\n",
       "      <td id=\"T_d1b29_row3_col4\" class=\"data row3 col4\" >3</td>\n",
       "      <td id=\"T_d1b29_row3_col5\" class=\"data row3 col5\" >8.000000</td>\n",
       "      <td id=\"T_d1b29_row3_col6\" class=\"data row3 col6\" >40.000000</td>\n",
       "    </tr>\n",
       "    <tr>\n",
       "      <th id=\"T_d1b29_level0_row4\" class=\"row_heading level0 row4\" >8</th>\n",
       "      <td id=\"T_d1b29_row4_col0\" class=\"data row4 col0\" >Запустить акцию, дающую скидку на товар в день рождения</td>\n",
       "      <td id=\"T_d1b29_row4_col1\" class=\"data row4 col1\" >1</td>\n",
       "      <td id=\"T_d1b29_row4_col2\" class=\"data row4 col2\" >9</td>\n",
       "      <td id=\"T_d1b29_row4_col3\" class=\"data row4 col3\" >9</td>\n",
       "      <td id=\"T_d1b29_row4_col4\" class=\"data row4 col4\" >5</td>\n",
       "      <td id=\"T_d1b29_row4_col5\" class=\"data row4 col5\" >16.200000</td>\n",
       "      <td id=\"T_d1b29_row4_col6\" class=\"data row4 col6\" >16.200000</td>\n",
       "    </tr>\n",
       "    <tr>\n",
       "      <th id=\"T_d1b29_level0_row5\" class=\"row_heading level0 row5\" >3</th>\n",
       "      <td id=\"T_d1b29_row5_col0\" class=\"data row5 col0\" >Изменить структура категорий, что увеличит конверсию, т.к. пользователи быстрее найдут нужный товар</td>\n",
       "      <td id=\"T_d1b29_row5_col1\" class=\"data row5 col1\" >8</td>\n",
       "      <td id=\"T_d1b29_row5_col2\" class=\"data row5 col2\" >3</td>\n",
       "      <td id=\"T_d1b29_row5_col3\" class=\"data row5 col3\" >3</td>\n",
       "      <td id=\"T_d1b29_row5_col4\" class=\"data row5 col4\" >8</td>\n",
       "      <td id=\"T_d1b29_row5_col5\" class=\"data row5 col5\" >1.125000</td>\n",
       "      <td id=\"T_d1b29_row5_col6\" class=\"data row5 col6\" >9.000000</td>\n",
       "    </tr>\n",
       "    <tr>\n",
       "      <th id=\"T_d1b29_level0_row6\" class=\"row_heading level0 row6\" >1</th>\n",
       "      <td id=\"T_d1b29_row6_col0\" class=\"data row6 col0\" >Запустить собственную службу доставки, что сократит срок доставки заказов</td>\n",
       "      <td id=\"T_d1b29_row6_col1\" class=\"data row6 col1\" >2</td>\n",
       "      <td id=\"T_d1b29_row6_col2\" class=\"data row6 col2\" >5</td>\n",
       "      <td id=\"T_d1b29_row6_col3\" class=\"data row6 col3\" >4</td>\n",
       "      <td id=\"T_d1b29_row6_col4\" class=\"data row6 col4\" >10</td>\n",
       "      <td id=\"T_d1b29_row6_col5\" class=\"data row6 col5\" >2.000000</td>\n",
       "      <td id=\"T_d1b29_row6_col6\" class=\"data row6 col6\" >4.000000</td>\n",
       "    </tr>\n",
       "    <tr>\n",
       "      <th id=\"T_d1b29_level0_row7\" class=\"row_heading level0 row7\" >5</th>\n",
       "      <td id=\"T_d1b29_row7_col0\" class=\"data row7 col0\" >Добавить страницу отзывов клиентов о магазине, что позволит увеличить количество заказов</td>\n",
       "      <td id=\"T_d1b29_row7_col1\" class=\"data row7 col1\" >3</td>\n",
       "      <td id=\"T_d1b29_row7_col2\" class=\"data row7 col2\" >2</td>\n",
       "      <td id=\"T_d1b29_row7_col3\" class=\"data row7 col3\" >2</td>\n",
       "      <td id=\"T_d1b29_row7_col4\" class=\"data row7 col4\" >3</td>\n",
       "      <td id=\"T_d1b29_row7_col5\" class=\"data row7 col5\" >1.333333</td>\n",
       "      <td id=\"T_d1b29_row7_col6\" class=\"data row7 col6\" >4.000000</td>\n",
       "    </tr>\n",
       "    <tr>\n",
       "      <th id=\"T_d1b29_level0_row8\" class=\"row_heading level0 row8\" >4</th>\n",
       "      <td id=\"T_d1b29_row8_col0\" class=\"data row8 col0\" >Изменить цвет фона главной страницы, чтобы увеличить вовлеченность пользователей</td>\n",
       "      <td id=\"T_d1b29_row8_col1\" class=\"data row8 col1\" >3</td>\n",
       "      <td id=\"T_d1b29_row8_col2\" class=\"data row8 col2\" >1</td>\n",
       "      <td id=\"T_d1b29_row8_col3\" class=\"data row8 col3\" >1</td>\n",
       "      <td id=\"T_d1b29_row8_col4\" class=\"data row8 col4\" >1</td>\n",
       "      <td id=\"T_d1b29_row8_col5\" class=\"data row8 col5\" >1.000000</td>\n",
       "      <td id=\"T_d1b29_row8_col6\" class=\"data row8 col6\" >3.000000</td>\n",
       "    </tr>\n",
       "  </tbody>\n",
       "</table>\n"
      ],
      "text/plain": [
       "<pandas.io.formats.style.Styler at 0x1778008da50>"
      ]
     },
     "execution_count": 24,
     "metadata": {},
     "output_type": "execute_result"
    }
   ],
   "source": [
    "# определим числовые столбцы для визуализации\n",
    "numeric_columns = ['reach', 'impact', 'confidence', 'efforts', 'ICE', 'RICE']\n",
    "hypothesis.sort_values(by='RICE', ascending=False)\\\n",
    ".style.background_gradient(cmap='RdYlGn')"
   ]
  },
  {
   "cell_type": "markdown",
   "id": "e62543e7",
   "metadata": {},
   "source": [
    "**Вывод:\n",
    "Приоритизация гипотез в зависимости от показателя (ICE или RICE) меняется.\\\n",
    "Так, главенстующей гипотезой по методу ICE является ***запуск акции, дающую скидку на товар в день рождения***.\\\n",
    "По методу RICE главенствует ***добавление формы подписки на все основные страницы, чтобы собрать базу клиентов для email-рассылок***.\\\n",
    "Параметр ICE является более субъективным и абстрактным, тогда как RICE дополнительно показывает предполагаемый охват от акции, что делает показатель более объективным.\n",
    "Рекомендуется больше внимания уделить гипотезам, главенствующим по параметру RICE, однако не стоит пренебрегать и распределение гипотез по параметру ICE. Так, вполне жизнеспособной может, к примеру, оказаться гипотеза о ***запуске акции на скидку на день рождения***, несмотря на то, что охват у неё невысок, к тому же трудозатраты у этого действия будут не так велики, как, к примеру, ***запуск собственной службы доставки***.\n",
    "Совершенно точно не стоит тестировать гипотезы, у которых низкие показатели как ICE, так и RICE.**"
   ]
  },
  {
   "cell_type": "markdown",
   "id": "4179ea3b",
   "metadata": {},
   "source": [
    "## Анализ A/B-теста"
   ]
  },
  {
   "cell_type": "markdown",
   "id": "9c0e95d1-104c-486c-b014-368aa27594cc",
   "metadata": {},
   "source": [
    "### График кумулятивной выручки по группам "
   ]
  },
  {
   "cell_type": "markdown",
   "id": "5bbceaf3-a3a7-41d9-80b0-d233ce3a35fd",
   "metadata": {},
   "source": [
    "Массив уникальных пар значений дат и групп теста"
   ]
  },
  {
   "cell_type": "code",
   "execution_count": 25,
   "id": "517e8692-8d5d-4a18-8efc-1ac05cbe9b00",
   "metadata": {},
   "outputs": [],
   "source": [
    "dates_groups = orders[['date', 'group']].drop_duplicates()"
   ]
  },
  {
   "cell_type": "markdown",
   "id": "e0f1cbdd-4fb7-4715-b330-b6ec351e175b",
   "metadata": {},
   "source": [
    "Агрегированные кумулятивные по дням данные о заказах"
   ]
  },
  {
   "cell_type": "code",
   "execution_count": 26,
   "id": "f4596995-6206-4454-b581-ce0d52bdcb9d",
   "metadata": {},
   "outputs": [],
   "source": [
    "orders_aggregated = dates_groups.apply(lambda x: orders[np.logical_and(orders['date'] <= x['date'],\\\n",
    "                                                                      orders['group'] == x['group'])]\\\n",
    ".agg({'date':'max', 'group':'max', 'visitor_id':'nunique', 'transaction_id':'nunique', 'revenue':'sum'}), axis = 1)\\\n",
    ".sort_values(by=['date', 'group'])"
   ]
  },
  {
   "cell_type": "markdown",
   "id": "95d3ef51-6454-4ade-afa3-f64f221fc529",
   "metadata": {},
   "source": [
    "Агрегированные кумулятивные по дням данные о посетителях"
   ]
  },
  {
   "cell_type": "code",
   "execution_count": 27,
   "id": "0da3d7f8-8976-43d1-a41f-fff02efdbafa",
   "metadata": {},
   "outputs": [],
   "source": [
    "visitors_aggregated = dates_groups.apply(lambda x: visitors[np.logical_and(visitors['date'] <= x['date'],\\\n",
    "                                                                      visitors['group'] == x['group'])]\\\n",
    ".agg({'date':'max', 'group':'max', 'visitors':'sum'}), axis = 1)\\\n",
    ".sort_values(by=['date', 'group'])"
   ]
  },
  {
   "cell_type": "markdown",
   "id": "5a7f8137-6b05-4f50-a842-ea58db6a68d1",
   "metadata": {},
   "source": [
    "Создадим датафрейм с кумулятивной выручкой"
   ]
  },
  {
   "cell_type": "code",
   "execution_count": 28,
   "id": "160be315-1f35-40b6-8f7d-7b371b523bbe",
   "metadata": {},
   "outputs": [],
   "source": [
    "cumulative_data = orders_aggregated.merge(visitors_aggregated, left_on = ['date','group'], right_on = ['date','group'])\n",
    "cumulative_data.columns = ['date', 'group', 'buyers', 'orders', 'revenue', 'visitors']"
   ]
  },
  {
   "cell_type": "code",
   "execution_count": 29,
   "id": "53e19e47-5bee-4c2e-b80a-ed9aca0393e8",
   "metadata": {},
   "outputs": [
    {
     "data": {
      "text/html": [
       "<div>\n",
       "<style scoped>\n",
       "    .dataframe tbody tr th:only-of-type {\n",
       "        vertical-align: middle;\n",
       "    }\n",
       "\n",
       "    .dataframe tbody tr th {\n",
       "        vertical-align: top;\n",
       "    }\n",
       "\n",
       "    .dataframe thead th {\n",
       "        text-align: right;\n",
       "    }\n",
       "</style>\n",
       "<table border=\"1\" class=\"dataframe\">\n",
       "  <thead>\n",
       "    <tr style=\"text-align: right;\">\n",
       "      <th></th>\n",
       "      <th>date</th>\n",
       "      <th>group</th>\n",
       "      <th>buyers</th>\n",
       "      <th>orders</th>\n",
       "      <th>revenue</th>\n",
       "      <th>visitors</th>\n",
       "    </tr>\n",
       "  </thead>\n",
       "  <tbody>\n",
       "    <tr>\n",
       "      <th>0</th>\n",
       "      <td>2019-08-01</td>\n",
       "      <td>A</td>\n",
       "      <td>19</td>\n",
       "      <td>23</td>\n",
       "      <td>142779</td>\n",
       "      <td>719</td>\n",
       "    </tr>\n",
       "    <tr>\n",
       "      <th>1</th>\n",
       "      <td>2019-08-01</td>\n",
       "      <td>B</td>\n",
       "      <td>17</td>\n",
       "      <td>17</td>\n",
       "      <td>59758</td>\n",
       "      <td>713</td>\n",
       "    </tr>\n",
       "    <tr>\n",
       "      <th>2</th>\n",
       "      <td>2019-08-02</td>\n",
       "      <td>A</td>\n",
       "      <td>36</td>\n",
       "      <td>42</td>\n",
       "      <td>234381</td>\n",
       "      <td>1338</td>\n",
       "    </tr>\n",
       "    <tr>\n",
       "      <th>3</th>\n",
       "      <td>2019-08-02</td>\n",
       "      <td>B</td>\n",
       "      <td>39</td>\n",
       "      <td>40</td>\n",
       "      <td>221801</td>\n",
       "      <td>1294</td>\n",
       "    </tr>\n",
       "    <tr>\n",
       "      <th>4</th>\n",
       "      <td>2019-08-03</td>\n",
       "      <td>A</td>\n",
       "      <td>60</td>\n",
       "      <td>66</td>\n",
       "      <td>346854</td>\n",
       "      <td>1845</td>\n",
       "    </tr>\n",
       "    <tr>\n",
       "      <th>...</th>\n",
       "      <td>...</td>\n",
       "      <td>...</td>\n",
       "      <td>...</td>\n",
       "      <td>...</td>\n",
       "      <td>...</td>\n",
       "      <td>...</td>\n",
       "    </tr>\n",
       "    <tr>\n",
       "      <th>57</th>\n",
       "      <td>2019-08-29</td>\n",
       "      <td>B</td>\n",
       "      <td>490</td>\n",
       "      <td>510</td>\n",
       "      <td>4746610</td>\n",
       "      <td>17708</td>\n",
       "    </tr>\n",
       "    <tr>\n",
       "      <th>58</th>\n",
       "      <td>2019-08-30</td>\n",
       "      <td>A</td>\n",
       "      <td>437</td>\n",
       "      <td>460</td>\n",
       "      <td>3311413</td>\n",
       "      <td>18037</td>\n",
       "    </tr>\n",
       "    <tr>\n",
       "      <th>59</th>\n",
       "      <td>2019-08-30</td>\n",
       "      <td>B</td>\n",
       "      <td>511</td>\n",
       "      <td>531</td>\n",
       "      <td>4955833</td>\n",
       "      <td>18198</td>\n",
       "    </tr>\n",
       "    <tr>\n",
       "      <th>60</th>\n",
       "      <td>2019-08-31</td>\n",
       "      <td>A</td>\n",
       "      <td>445</td>\n",
       "      <td>468</td>\n",
       "      <td>3364656</td>\n",
       "      <td>18736</td>\n",
       "    </tr>\n",
       "    <tr>\n",
       "      <th>61</th>\n",
       "      <td>2019-08-31</td>\n",
       "      <td>B</td>\n",
       "      <td>528</td>\n",
       "      <td>548</td>\n",
       "      <td>5068972</td>\n",
       "      <td>18916</td>\n",
       "    </tr>\n",
       "  </tbody>\n",
       "</table>\n",
       "<p>62 rows × 6 columns</p>\n",
       "</div>"
      ],
      "text/plain": [
       "         date group  buyers  orders  revenue  visitors\n",
       "0  2019-08-01     A      19      23   142779       719\n",
       "1  2019-08-01     B      17      17    59758       713\n",
       "2  2019-08-02     A      36      42   234381      1338\n",
       "3  2019-08-02     B      39      40   221801      1294\n",
       "4  2019-08-03     A      60      66   346854      1845\n",
       "..        ...   ...     ...     ...      ...       ...\n",
       "57 2019-08-29     B     490     510  4746610     17708\n",
       "58 2019-08-30     A     437     460  3311413     18037\n",
       "59 2019-08-30     B     511     531  4955833     18198\n",
       "60 2019-08-31     A     445     468  3364656     18736\n",
       "61 2019-08-31     B     528     548  5068972     18916\n",
       "\n",
       "[62 rows x 6 columns]"
      ]
     },
     "execution_count": 29,
     "metadata": {},
     "output_type": "execute_result"
    }
   ],
   "source": [
    "cumulative_data"
   ]
  },
  {
   "cell_type": "markdown",
   "id": "1863346f",
   "metadata": {},
   "source": [
    "Проверим, совпадают ли мин. и макс. значения дат в этом датафрейме"
   ]
  },
  {
   "cell_type": "code",
   "execution_count": 30,
   "id": "843197aa",
   "metadata": {},
   "outputs": [
    {
     "data": {
      "text/plain": [
       "Timestamp('2019-08-01 00:00:00')"
      ]
     },
     "execution_count": 30,
     "metadata": {},
     "output_type": "execute_result"
    }
   ],
   "source": [
    "cumulative_data['date'].min()"
   ]
  },
  {
   "cell_type": "code",
   "execution_count": 31,
   "id": "e323f522",
   "metadata": {},
   "outputs": [
    {
     "data": {
      "text/plain": [
       "Timestamp('2019-08-31 00:00:00')"
      ]
     },
     "execution_count": 31,
     "metadata": {},
     "output_type": "execute_result"
    }
   ],
   "source": [
    "cumulative_data['date'].max()"
   ]
  },
  {
   "cell_type": "markdown",
   "id": "ac60071c-eebd-4d9f-8a6b-1a97fb099958",
   "metadata": {},
   "source": [
    "Создадим датафрейм с выручкой по группе А"
   ]
  },
  {
   "cell_type": "code",
   "execution_count": 32,
   "id": "372bc272-8c3b-4a0a-aaf4-0a78402a1b10",
   "metadata": {},
   "outputs": [],
   "source": [
    "cumulative_revenue_a = cumulative_data[cumulative_data['group'] == 'A'][['date', 'revenue', 'orders']]"
   ]
  },
  {
   "cell_type": "markdown",
   "id": "8f80a062-d629-4832-b87a-f8c02883fad4",
   "metadata": {},
   "source": [
    "Создадим датафрейм с выручкой по группе B"
   ]
  },
  {
   "cell_type": "code",
   "execution_count": 33,
   "id": "b60fea23-bc62-4844-9ffa-8b7d25b19b1a",
   "metadata": {},
   "outputs": [],
   "source": [
    "cumulative_revenue_b = cumulative_data[cumulative_data['group'] == 'B'][['date', 'revenue', 'orders']]"
   ]
  },
  {
   "cell_type": "markdown",
   "id": "4d3600ad-6f75-4356-a217-433ddc8a5982",
   "metadata": {},
   "source": [
    "Построим графики кумулятивной выручки по группам"
   ]
  },
  {
   "cell_type": "code",
   "execution_count": 34,
   "id": "c972ba05-5284-4f18-a42e-bcbe525e5c30",
   "metadata": {},
   "outputs": [
    {
     "data": {
      "image/png": "[encoded data removed]",
      "text/plain": [
       "<Figure size 1200x600 with 1 Axes>"
      ]
     },
     "metadata": {},
     "output_type": "display_data"
    }
   ],
   "source": [
    "plt.figure(figsize=(12,6))\n",
    "plt.plot(cumulative_revenue_a['date'], cumulative_revenue_a['revenue'], label = 'A',)\n",
    "plt.plot(cumulative_revenue_b['date'], cumulative_revenue_b['revenue'], label = 'B')\n",
    "plt.title('График изменения кумулятивной выручки по группам')\n",
    "plt.xlabel('Дата')\n",
    "plt.ylabel('Выручка')\n",
    "plt.legend()\n",
    "plt.show()"
   ]
  },
  {
   "cell_type": "markdown",
   "id": "bd558201-b211-4f7e-b015-1906b5ecd785",
   "metadata": {},
   "source": [
    "**Вывод: выручка равномерно увеличивается до определенного периода. Так, после 2019.08.17 у группы B произошёл резкий рост выручки.\\\n",
    "Это может сигнализировать об увеличении кол-ва заказов, либо о появлении дорогих заказов.**"
   ]
  },
  {
   "cell_type": "markdown",
   "id": "ffe46dc8-5dd0-42a1-a481-740fdb9cce1c",
   "metadata": {},
   "source": [
    "### График кумулятивного среднего чека по группам"
   ]
  },
  {
   "cell_type": "code",
   "execution_count": 35,
   "id": "054cb866-2e02-48d9-978b-4f0386a6e0e3",
   "metadata": {},
   "outputs": [
    {
     "data": {
      "image/png": "[encoded data removed]",
      "text/plain": [
       "<Figure size 1200x600 with 1 Axes>"
      ]
     },
     "metadata": {},
     "output_type": "display_data"
    }
   ],
   "source": [
    "plt.figure(figsize=(12,6))\n",
    "plt.plot(cumulative_revenue_a['date'], cumulative_revenue_a['revenue'] / cumulative_revenue_a['orders'], label = 'A')\n",
    "plt.plot(cumulative_revenue_b['date'], cumulative_revenue_b['revenue'] / cumulative_revenue_b['orders'], label = 'B')\n",
    "plt.title('График изменения кумулятивного среднего чека по группам')\n",
    "plt.xlabel('Дата')\n",
    "plt.ylabel('Средний чек')\n",
    "plt.legend()\n",
    "plt.show()"
   ]
  },
  {
   "cell_type": "markdown",
   "id": "f60e8fb9-88cd-47ea-bd94-985387db7c1b",
   "metadata": {},
   "source": [
    "**Вывод: В определенный момент для группы B резко вырос показатель среднего чека, при этом к концу периода он сохранился примерно на одинаковом уровне, показав лишь небольщшое снижение. Это может сигнализировать о поднятии цен на определённые категории товаров. Непонятно, сравняются ли в итоге показатели средней выручки. Возможно, необходимо дальнейшее наблюдение.\\\n",
    "    Стоит отметить динамику среднего чека для группы А: с начала периода до примерно 6 августа показатель падает, затем, вплоть до 14 августа растёт, где достигает своего пика, после чего стабилизируется.\\\n",
    "    Также стоит отметить схожесть снижений среднего чека для групп А и В 6 и 5 августа соответственно. Вероятно, 5 августа на группе В была опробована неудачная акция, которая привела к резкому снижению среднего чека, а на следюущий день, 6 августа, такая же акция была проведена с группой А.**"
   ]
  },
  {
   "cell_type": "markdown",
   "id": "a936cf2b-68bd-4ee0-8695-3865f1661371",
   "metadata": {},
   "source": [
    "### График относительного изменения кумулятивного среднего чека группы B к группе A"
   ]
  },
  {
   "cell_type": "markdown",
   "id": "7b702f64-b6f8-42d6-b664-10069373bfe5",
   "metadata": {},
   "source": [
    "Создадим датафрейм с кумулятивной выручкой по обоим группам"
   ]
  },
  {
   "cell_type": "code",
   "execution_count": 36,
   "id": "3179cebb-493d-4e05-bb56-1f2595416ed2",
   "metadata": {},
   "outputs": [],
   "source": [
    "merged_cumulative_revenue = cumulative_revenue_a.merge(cumulative_revenue_b, left_on='date', right_on='date', how='left', suffixes=['A', 'B'])"
   ]
  },
  {
   "cell_type": "markdown",
   "id": "92b7d3d0-84f3-429e-98ce-75955fd3a1f6",
   "metadata": {},
   "source": [
    "Построим график "
   ]
  },
  {
   "cell_type": "code",
   "execution_count": 37,
   "id": "614b7c14-e95d-4897-bf78-33e2f356edde",
   "metadata": {},
   "outputs": [
    {
     "data": {
      "text/plain": [
       "<matplotlib.lines.Line2D at 0x1778041bc10>"
      ]
     },
     "execution_count": 37,
     "metadata": {},
     "output_type": "execute_result"
    },
    {
     "data": {
      "image/png": "[encoded data removed]",
      "text/plain": [
       "<Figure size 1200x600 with 1 Axes>"
      ]
     },
     "metadata": {},
     "output_type": "display_data"
    }
   ],
   "source": [
    "plt.figure(figsize=(12,6))\n",
    "plt.plot(merged_cumulative_revenue['date'], (merged_cumulative_revenue['revenueB']/merged_cumulative_revenue['ordersB'])\\\n",
    "/(merged_cumulative_revenue['revenueA']/merged_cumulative_revenue['ordersA'])-1)\n",
    "plt.title('График относительного изменения кумулятивного среднего чека группы B к группе A')\n",
    "plt.xlabel('Дата')\n",
    "plt.axhline(y=0, color='black', linestyle='--')"
   ]
  },
  {
   "cell_type": "markdown",
   "id": "e2a69bbf-c86d-469f-a7e1-a27b0e48fcd0",
   "metadata": {},
   "source": [
    "**Вывод: в некоторых места график сильно \"скачет\", что может сигнализировать о крупных заказах, выбросах.**"
   ]
  },
  {
   "cell_type": "markdown",
   "id": "a0b8c0c1-7706-4c30-8933-d67ddd6d8094",
   "metadata": {},
   "source": [
    "### График кумулятивного среднего количества заказов на посетителя по группам"
   ]
  },
  {
   "cell_type": "markdown",
   "id": "9d67aba4-2dfe-4448-ba97-e776c0427488",
   "metadata": {},
   "source": [
    "Найдем среднее кол-во заказов на посетителя и разделим датафрейм по группам"
   ]
  },
  {
   "cell_type": "code",
   "execution_count": 38,
   "id": "07e46098-11c5-4bf2-89f4-cae641ae50d4",
   "metadata": {},
   "outputs": [],
   "source": [
    "cumulative_data['conversion'] = cumulative_data['orders']/cumulative_data['visitors']"
   ]
  },
  {
   "cell_type": "code",
   "execution_count": 39,
   "id": "b2239024-28b4-4acb-90ca-294a54a90d6b",
   "metadata": {},
   "outputs": [],
   "source": [
    "cumulative_data_a = cumulative_data.query('group == \"A\"')\n",
    "cumulative_data_b = cumulative_data.query('group == \"B\"')"
   ]
  },
  {
   "cell_type": "markdown",
   "id": "09e4a1b8-ce54-47f7-a8f3-52100b553379",
   "metadata": {},
   "source": [
    "Построим графики"
   ]
  },
  {
   "cell_type": "code",
   "execution_count": 40,
   "id": "ca1f011a-0c04-4fb0-9fd0-e54c993575ef",
   "metadata": {},
   "outputs": [
    {
     "data": {
      "image/png": "[encoded data removed]",
      "text/plain": [
       "<Figure size 1200x600 with 1 Axes>"
      ]
     },
     "metadata": {},
     "output_type": "display_data"
    }
   ],
   "source": [
    "plt.figure(figsize=(12,6))\n",
    "plt.plot(cumulative_data_a['date'], cumulative_data_a['conversion'], label = 'A')\n",
    "plt.plot(cumulative_data_b['date'], cumulative_data_b['conversion'], label = 'B')\n",
    "plt.title('График кумулятивного среднего количества заказов на посетителя по группам')\n",
    "plt.xlabel('Дата')\n",
    "plt.ylabel('Конверсия')\n",
    "plt.legend()\n",
    "plt.axis([dt.datetime(2019, 8, 1), dt.datetime(2019, 9, 1), 0, 0.05])\n",
    "plt.show()"
   ]
  },
  {
   "cell_type": "markdown",
   "id": "77aa4656-1e09-4ee2-bac4-5147b5604e14",
   "metadata": {},
   "source": [
    "**Вывод: по данному графику после 5 августа группа В вырвалась вперёд и зафиксировалось, группа А \"просела\", а затем зафиксировалась.**"
   ]
  },
  {
   "cell_type": "markdown",
   "id": "f5bb1635-4473-49bf-b022-d2ebee10aa62",
   "metadata": {},
   "source": [
    "### График относительного изменения кумулятивного среднего количества заказов на посетителя группы B к группе A"
   ]
  },
  {
   "cell_type": "code",
   "execution_count": 41,
   "id": "a1fcb9d1-5b57-4261-9c0a-14a2b8a72b3b",
   "metadata": {},
   "outputs": [],
   "source": [
    "merged_cumulative_conversion = (cumulative_data_a[['date', 'conversion']]\n",
    "                                .merge(cumulative_data_b[['date', 'conversion']]\n",
    "                                       , left_on='date', right_on='date', how='left', suffixes=['A', 'B'])\n",
    "                               )"
   ]
  },
  {
   "cell_type": "markdown",
   "id": "e0e3bd57-3a42-4462-b0e5-f591dc46206d",
   "metadata": {},
   "source": [
    "Построим график"
   ]
  },
  {
   "cell_type": "code",
   "execution_count": 42,
   "id": "8e889313-b82b-4f20-8ab2-4a5c825071eb",
   "metadata": {},
   "outputs": [
    {
     "data": {
      "image/png": "[encoded data removed]",
      "text/plain": [
       "<Figure size 1200x600 with 1 Axes>"
      ]
     },
     "metadata": {},
     "output_type": "display_data"
    }
   ],
   "source": [
    "plt.figure(figsize=(12,6))\n",
    "plt.plot(merged_cumulative_conversion['date'], merged_cumulative_conversion['conversionB']/merged_cumulative_conversion['conversionA']-1,\\\n",
    "        label = 'Относительный прирост кумулятивного среднего количества заказов на посетителя группы B относительно группы A')\n",
    "plt.legend()\n",
    "\n",
    "plt.axhline(y=0, color='black', linestyle='--')\n",
    "plt.axhline(y=0.16, color='grey', linestyle='--')\n",
    "plt.axis([dt.datetime(2019, 8, 1), dt.datetime(2019, 9, 1), -0.3, 0.3])\n",
    "plt.show()"
   ]
  },
  {
   "cell_type": "markdown",
   "id": "1473f516-3d31-452d-8385-de31dc66a56e",
   "metadata": {},
   "source": [
    "**Вывод: изначально группа В проигрывала группе А, однако после 5 августа она стремительно вырвалась вперёд, в последующем происходило постепенное снижение показателя, а затем снова наметился медленный рост.**"
   ]
  },
  {
   "cell_type": "markdown",
   "id": "4e6b23e4-d0c1-489b-9831-6437cbf89833",
   "metadata": {},
   "source": [
    "### Точечный график количества заказов по пользователям"
   ]
  },
  {
   "cell_type": "markdown",
   "id": "fc4b9ae0-6243-4406-b594-8a5375438e0f",
   "metadata": {},
   "source": [
    "Соединим датафреймы orders и visitors"
   ]
  },
  {
   "cell_type": "code",
   "execution_count": 43,
   "id": "d1602ab9-8b33-4115-a34c-4ac7e37695ed",
   "metadata": {},
   "outputs": [],
   "source": [
    "df = orders.merge(visitors, left_on=['date', 'group'], right_on=['date', 'group'], how='right')"
   ]
  },
  {
   "cell_type": "code",
   "execution_count": 44,
   "id": "a09a5b54-ebd9-4ec1-9bba-fb325d72f55a",
   "metadata": {},
   "outputs": [
    {
     "data": {
      "text/html": [
       "<div>\n",
       "<style scoped>\n",
       "    .dataframe tbody tr th:only-of-type {\n",
       "        vertical-align: middle;\n",
       "    }\n",
       "\n",
       "    .dataframe tbody tr th {\n",
       "        vertical-align: top;\n",
       "    }\n",
       "\n",
       "    .dataframe thead th {\n",
       "        text-align: right;\n",
       "    }\n",
       "</style>\n",
       "<table border=\"1\" class=\"dataframe\">\n",
       "  <thead>\n",
       "    <tr style=\"text-align: right;\">\n",
       "      <th></th>\n",
       "      <th>transaction_id</th>\n",
       "      <th>visitor_id</th>\n",
       "      <th>date</th>\n",
       "      <th>revenue</th>\n",
       "      <th>group</th>\n",
       "      <th>visitors</th>\n",
       "    </tr>\n",
       "  </thead>\n",
       "  <tbody>\n",
       "    <tr>\n",
       "      <th>0</th>\n",
       "      <td>1144701458</td>\n",
       "      <td>1143609305</td>\n",
       "      <td>2019-08-01</td>\n",
       "      <td>2750</td>\n",
       "      <td>A</td>\n",
       "      <td>719</td>\n",
       "    </tr>\n",
       "    <tr>\n",
       "      <th>1</th>\n",
       "      <td>477940151</td>\n",
       "      <td>1422773200</td>\n",
       "      <td>2019-08-01</td>\n",
       "      <td>700</td>\n",
       "      <td>A</td>\n",
       "      <td>719</td>\n",
       "    </tr>\n",
       "    <tr>\n",
       "      <th>2</th>\n",
       "      <td>1295850747</td>\n",
       "      <td>2947100995</td>\n",
       "      <td>2019-08-01</td>\n",
       "      <td>29499</td>\n",
       "      <td>A</td>\n",
       "      <td>719</td>\n",
       "    </tr>\n",
       "    <tr>\n",
       "      <th>3</th>\n",
       "      <td>1170105516</td>\n",
       "      <td>2706377257</td>\n",
       "      <td>2019-08-01</td>\n",
       "      <td>9024</td>\n",
       "      <td>A</td>\n",
       "      <td>719</td>\n",
       "    </tr>\n",
       "    <tr>\n",
       "      <th>4</th>\n",
       "      <td>1962247337</td>\n",
       "      <td>2706377257</td>\n",
       "      <td>2019-08-01</td>\n",
       "      <td>7129</td>\n",
       "      <td>A</td>\n",
       "      <td>719</td>\n",
       "    </tr>\n",
       "    <tr>\n",
       "      <th>...</th>\n",
       "      <td>...</td>\n",
       "      <td>...</td>\n",
       "      <td>...</td>\n",
       "      <td>...</td>\n",
       "      <td>...</td>\n",
       "      <td>...</td>\n",
       "    </tr>\n",
       "    <tr>\n",
       "      <th>1011</th>\n",
       "      <td>2886170101</td>\n",
       "      <td>930758570</td>\n",
       "      <td>2019-08-31</td>\n",
       "      <td>6674</td>\n",
       "      <td>B</td>\n",
       "      <td>718</td>\n",
       "    </tr>\n",
       "    <tr>\n",
       "      <th>1012</th>\n",
       "      <td>3845118557</td>\n",
       "      <td>1964413493</td>\n",
       "      <td>2019-08-31</td>\n",
       "      <td>160</td>\n",
       "      <td>B</td>\n",
       "      <td>718</td>\n",
       "    </tr>\n",
       "    <tr>\n",
       "      <th>1013</th>\n",
       "      <td>853409662</td>\n",
       "      <td>1390677121</td>\n",
       "      <td>2019-08-31</td>\n",
       "      <td>18557</td>\n",
       "      <td>B</td>\n",
       "      <td>718</td>\n",
       "    </tr>\n",
       "    <tr>\n",
       "      <th>1014</th>\n",
       "      <td>4149581711</td>\n",
       "      <td>1555048873</td>\n",
       "      <td>2019-08-31</td>\n",
       "      <td>1830</td>\n",
       "      <td>B</td>\n",
       "      <td>718</td>\n",
       "    </tr>\n",
       "    <tr>\n",
       "      <th>1015</th>\n",
       "      <td>2983450240</td>\n",
       "      <td>1605520752</td>\n",
       "      <td>2019-08-31</td>\n",
       "      <td>27985</td>\n",
       "      <td>B</td>\n",
       "      <td>718</td>\n",
       "    </tr>\n",
       "  </tbody>\n",
       "</table>\n",
       "<p>1016 rows × 6 columns</p>\n",
       "</div>"
      ],
      "text/plain": [
       "      transaction_id  visitor_id       date  revenue group  visitors\n",
       "0         1144701458  1143609305 2019-08-01     2750     A       719\n",
       "1          477940151  1422773200 2019-08-01      700     A       719\n",
       "2         1295850747  2947100995 2019-08-01    29499     A       719\n",
       "3         1170105516  2706377257 2019-08-01     9024     A       719\n",
       "4         1962247337  2706377257 2019-08-01     7129     A       719\n",
       "...              ...         ...        ...      ...   ...       ...\n",
       "1011      2886170101   930758570 2019-08-31     6674     B       718\n",
       "1012      3845118557  1964413493 2019-08-31      160     B       718\n",
       "1013       853409662  1390677121 2019-08-31    18557     B       718\n",
       "1014      4149581711  1555048873 2019-08-31     1830     B       718\n",
       "1015      2983450240  1605520752 2019-08-31    27985     B       718\n",
       "\n",
       "[1016 rows x 6 columns]"
      ]
     },
     "execution_count": 44,
     "metadata": {},
     "output_type": "execute_result"
    }
   ],
   "source": [
    "df"
   ]
  },
  {
   "cell_type": "code",
   "execution_count": 45,
   "id": "fbd8ae6d-9d80-4a41-853f-0802e95b0915",
   "metadata": {},
   "outputs": [
    {
     "data": {
      "text/html": [
       "<div>\n",
       "<style scoped>\n",
       "    .dataframe tbody tr th:only-of-type {\n",
       "        vertical-align: middle;\n",
       "    }\n",
       "\n",
       "    .dataframe tbody tr th {\n",
       "        vertical-align: top;\n",
       "    }\n",
       "\n",
       "    .dataframe thead th {\n",
       "        text-align: right;\n",
       "    }\n",
       "</style>\n",
       "<table border=\"1\" class=\"dataframe\">\n",
       "  <thead>\n",
       "    <tr style=\"text-align: right;\">\n",
       "      <th></th>\n",
       "      <th>visitor_id</th>\n",
       "      <th>orders</th>\n",
       "    </tr>\n",
       "  </thead>\n",
       "  <tbody>\n",
       "    <tr>\n",
       "      <th>0</th>\n",
       "      <td>5114589</td>\n",
       "      <td>1</td>\n",
       "    </tr>\n",
       "    <tr>\n",
       "      <th>1</th>\n",
       "      <td>6958315</td>\n",
       "      <td>1</td>\n",
       "    </tr>\n",
       "    <tr>\n",
       "      <th>2</th>\n",
       "      <td>11685486</td>\n",
       "      <td>1</td>\n",
       "    </tr>\n",
       "    <tr>\n",
       "      <th>3</th>\n",
       "      <td>39475350</td>\n",
       "      <td>1</td>\n",
       "    </tr>\n",
       "    <tr>\n",
       "      <th>4</th>\n",
       "      <td>47206413</td>\n",
       "      <td>1</td>\n",
       "    </tr>\n",
       "    <tr>\n",
       "      <th>...</th>\n",
       "      <td>...</td>\n",
       "      <td>...</td>\n",
       "    </tr>\n",
       "    <tr>\n",
       "      <th>968</th>\n",
       "      <td>4259830713</td>\n",
       "      <td>1</td>\n",
       "    </tr>\n",
       "    <tr>\n",
       "      <th>969</th>\n",
       "      <td>4278982564</td>\n",
       "      <td>1</td>\n",
       "    </tr>\n",
       "    <tr>\n",
       "      <th>970</th>\n",
       "      <td>4279090005</td>\n",
       "      <td>1</td>\n",
       "    </tr>\n",
       "    <tr>\n",
       "      <th>971</th>\n",
       "      <td>4281247801</td>\n",
       "      <td>1</td>\n",
       "    </tr>\n",
       "    <tr>\n",
       "      <th>972</th>\n",
       "      <td>4283872382</td>\n",
       "      <td>1</td>\n",
       "    </tr>\n",
       "  </tbody>\n",
       "</table>\n",
       "<p>973 rows × 2 columns</p>\n",
       "</div>"
      ],
      "text/plain": [
       "     visitor_id  orders\n",
       "0       5114589       1\n",
       "1       6958315       1\n",
       "2      11685486       1\n",
       "3      39475350       1\n",
       "4      47206413       1\n",
       "..          ...     ...\n",
       "968  4259830713       1\n",
       "969  4278982564       1\n",
       "970  4279090005       1\n",
       "971  4281247801       1\n",
       "972  4283872382       1\n",
       "\n",
       "[973 rows x 2 columns]"
      ]
     },
     "execution_count": 45,
     "metadata": {},
     "output_type": "execute_result"
    }
   ],
   "source": [
    "orders_by_users = df.groupby('visitor_id',  as_index=False).agg({'transaction_id':'nunique'})\n",
    "orders_by_users.columns = ['visitor_id', 'orders']\n",
    "orders_by_users"
   ]
  },
  {
   "cell_type": "markdown",
   "id": "c7826cc8-88f7-4c73-add9-7be5a33a5a7e",
   "metadata": {},
   "source": [
    "Построим точечный график"
   ]
  },
  {
   "cell_type": "code",
   "execution_count": 46,
   "id": "9bba4d84-d6ac-487c-b476-d1aa3d13de3f",
   "metadata": {},
   "outputs": [
    {
     "data": {
      "image/png": "[encoded data removed]",
      "text/plain": [
       "<Figure size 1200x600 with 1 Axes>"
      ]
     },
     "metadata": {},
     "output_type": "display_data"
    }
   ],
   "source": [
    "x_values = pd.Series(range(0, len(orders_by_users)))\n",
    "\n",
    "plt.figure(figsize=(12,6))\n",
    "sns.scatterplot(data = orders_by_users, x = x_values, y = orders_by_users['orders'])\n",
    "plt.title('Распределение пользователей по кол-ву заказов')\n",
    "plt.xlabel('Количество пользователей, чел.')\n",
    "plt.ylabel('Кол-во заказов, ед.')\n",
    "plt.show()"
   ]
  },
  {
   "cell_type": "markdown",
   "id": "3a442d31-b9a2-4e2a-94b8-76629616a1df",
   "metadata": {},
   "source": [
    "**Вывод:**\n",
    "- больше 3-х заказов никто не заказывал;\n",
    "- подавляющее большинство посетителей заказало 1 заказ."
   ]
  },
  {
   "cell_type": "markdown",
   "id": "581318b7-af58-445a-8b21-ba53664b3eed",
   "metadata": {},
   "source": [
    "### 95-й и 99-й перцентили количества заказов на пользователя. Граница для определения аномальных заказов."
   ]
  },
  {
   "cell_type": "code",
   "execution_count": 47,
   "id": "05034e6b-a622-4c95-ab1d-d39c168aa005",
   "metadata": {},
   "outputs": [
    {
     "data": {
      "text/plain": [
       "array([1., 2.])"
      ]
     },
     "metadata": {},
     "output_type": "display_data"
    }
   ],
   "source": [
    "display(np.percentile(orders_by_users['orders'], [95, 99]))"
   ]
  },
  {
   "cell_type": "markdown",
   "id": "3c9977c5-97a4-4eeb-aafc-29e59bce85fa",
   "metadata": {},
   "source": [
    "**Вывод: таким образом, 95% пользователей заказывали не более 1 заказа, 99% - не более 2.\\\n",
    "Отметим границу аномальных значений - 2 заказа (99 %)**"
   ]
  },
  {
   "cell_type": "markdown",
   "id": "a8f51429-9762-4f14-a3a4-9083fb7d2607",
   "metadata": {},
   "source": [
    "### Точечный график стоимостей заказов"
   ]
  },
  {
   "cell_type": "markdown",
   "id": "b854db4e-266e-4ad0-afc2-fb621b0d627c",
   "metadata": {},
   "source": [
    "Определим значения х для графика"
   ]
  },
  {
   "cell_type": "code",
   "execution_count": 48,
   "id": "caa88bc4-2045-4a9b-b6e3-b6747488ac4b",
   "metadata": {},
   "outputs": [
    {
     "data": {
      "text/plain": [
       "Text(0.5, 0, 'Кол-во пользователей, чел.')"
      ]
     },
     "execution_count": 48,
     "metadata": {},
     "output_type": "execute_result"
    },
    {
     "data": {
      "image/png": "[encoded data removed]",
      "text/plain": [
       "<Figure size 1200x900 with 1 Axes>"
      ]
     },
     "metadata": {},
     "output_type": "display_data"
    }
   ],
   "source": [
    "x_values = pd.Series(range(0,len(df['revenue'])))\n",
    "\n",
    "plt.figure(figsize=(12,9))\n",
    "plt.ticklabel_format(style='plain')\n",
    "sns.scatterplot(x = x_values, y = df['revenue'])\n",
    "plt.title('Распределение пользователей по стоимости заказов')\n",
    "plt.ylabel('Стоимость заказа, у.е.')\n",
    "plt.xlabel('Кол-во пользователей, чел.')"
   ]
  },
  {
   "cell_type": "markdown",
   "id": "86a97124",
   "metadata": {},
   "source": [
    "Построим отдельный график для расмотрения основног распределения"
   ]
  },
  {
   "cell_type": "code",
   "execution_count": 49,
   "id": "5b7c1204",
   "metadata": {},
   "outputs": [
    {
     "data": {
      "text/plain": [
       "Text(0, 0.5, 'Кол-во пользователей, чел.')"
      ]
     },
     "execution_count": 49,
     "metadata": {},
     "output_type": "execute_result"
    },
    {
     "data": {
      "image/png": "[encoded data removed]",
      "text/plain": [
       "<Figure size 1200x900 with 1 Axes>"
      ]
     },
     "metadata": {},
     "output_type": "display_data"
    }
   ],
   "source": [
    "plt.figure(figsize=(12,9))\n",
    "sns.scatterplot(x = x_values, y = df['revenue'])\n",
    "plt.title('Распределение 99% пользователей по стоимости заказов')\n",
    "plt.ylim(0, 53904)\n",
    "plt.xlabel('Стоимость заказа, у.е.')\n",
    "plt.ylabel('Кол-во пользователей, чел.')"
   ]
  },
  {
   "cell_type": "markdown",
   "id": "15b622b6-1bad-425b-b6af-9a5f33e0b77d",
   "metadata": {},
   "source": [
    "**Вывод: аномально дорогие заказы почти отсутствуют, отображено лишь 2 выброса, выбивающихся из общей картины. Основная масса заказов представлено суммой до 10 000 у.е., присутствует также значительное кол-во заказов до 20 000 у.е., выше этой отметки заказов мало.**"
   ]
  },
  {
   "cell_type": "markdown",
   "id": "c72636ce-2eea-413a-b01f-fc9c674c5c94",
   "metadata": {},
   "source": [
    "### 95-й и 99-й перцентили стоимости заказов. Граница для определения аномальных заказов."
   ]
  },
  {
   "cell_type": "code",
   "execution_count": 50,
   "id": "74ca01df-8402-41b7-9599-8621927e9de3",
   "metadata": {},
   "outputs": [
    {
     "data": {
      "text/plain": [
       "array([26785., 53904.])"
      ]
     },
     "execution_count": 50,
     "metadata": {},
     "output_type": "execute_result"
    }
   ],
   "source": [
    "np.percentile(df['revenue'], [95,99])"
   ]
  },
  {
   "cell_type": "markdown",
   "id": "efa1cd10-909a-4e0b-b298-26e11e0e66e2",
   "metadata": {},
   "source": [
    "**Вывод: определим верхнюю границу аномальных значений в 99%, а именно стоимостью в 53 904 у.е.**"
   ]
  },
  {
   "cell_type": "markdown",
   "id": "69109de8-aed2-4aa7-9aee-2c55dcae1e3e",
   "metadata": {},
   "source": [
    "### Cтатистическая значимость различий в среднем количестве заказов на посетителя между группами по «сырым» данным"
   ]
  },
  {
   "cell_type": "markdown",
   "id": "db72efcd-721a-4da4-aa93-4e0c39062ae6",
   "metadata": {},
   "source": [
    "Подготовим данные к анализу"
   ]
  },
  {
   "cell_type": "code",
   "execution_count": 51,
   "id": "7c392427-f719-4f8a-934e-ead39612f657",
   "metadata": {},
   "outputs": [
    {
     "data": {
      "text/html": [
       "<div>\n",
       "<style scoped>\n",
       "    .dataframe tbody tr th:only-of-type {\n",
       "        vertical-align: middle;\n",
       "    }\n",
       "\n",
       "    .dataframe tbody tr th {\n",
       "        vertical-align: top;\n",
       "    }\n",
       "\n",
       "    .dataframe thead th {\n",
       "        text-align: right;\n",
       "    }\n",
       "</style>\n",
       "<table border=\"1\" class=\"dataframe\">\n",
       "  <thead>\n",
       "    <tr style=\"text-align: right;\">\n",
       "      <th></th>\n",
       "      <th>date</th>\n",
       "      <th>visitorsPerDateA</th>\n",
       "      <th>visitorsPerDateB</th>\n",
       "    </tr>\n",
       "  </thead>\n",
       "  <tbody>\n",
       "    <tr>\n",
       "      <th>0</th>\n",
       "      <td>2019-08-01</td>\n",
       "      <td>719</td>\n",
       "      <td>713</td>\n",
       "    </tr>\n",
       "    <tr>\n",
       "      <th>1</th>\n",
       "      <td>2019-08-02</td>\n",
       "      <td>619</td>\n",
       "      <td>581</td>\n",
       "    </tr>\n",
       "    <tr>\n",
       "      <th>2</th>\n",
       "      <td>2019-08-03</td>\n",
       "      <td>507</td>\n",
       "      <td>509</td>\n",
       "    </tr>\n",
       "    <tr>\n",
       "      <th>3</th>\n",
       "      <td>2019-08-04</td>\n",
       "      <td>717</td>\n",
       "      <td>770</td>\n",
       "    </tr>\n",
       "    <tr>\n",
       "      <th>4</th>\n",
       "      <td>2019-08-05</td>\n",
       "      <td>756</td>\n",
       "      <td>707</td>\n",
       "    </tr>\n",
       "  </tbody>\n",
       "</table>\n",
       "</div>"
      ],
      "text/plain": [
       "        date  visitorsPerDateA  visitorsPerDateB\n",
       "0 2019-08-01               719               713\n",
       "1 2019-08-02               619               581\n",
       "2 2019-08-03               507               509\n",
       "3 2019-08-04               717               770\n",
       "4 2019-08-05               756               707"
      ]
     },
     "metadata": {},
     "output_type": "display_data"
    }
   ],
   "source": [
    "visitorsADaily = visitors[visitors['group'] == 'A'][['date', 'visitors']]\n",
    "visitorsADaily.columns = ['date', 'visitorsPerDateA']\n",
    "\n",
    "visitorsBDaily = visitors[visitors['group'] == 'B'][['date', 'visitors']]\n",
    "visitorsBDaily.columns = ['date', 'visitorsPerDateB']\n",
    "\n",
    "data = (\n",
    "    visitorsADaily.merge(\n",
    "        visitorsBDaily, left_on='date', right_on='date', how='left') \n",
    "       )\n",
    "\n",
    "display(data.head(5))"
   ]
  },
  {
   "cell_type": "markdown",
   "id": "d519a97d-613d-4e62-8e27-e0b2102c04bd",
   "metadata": {},
   "source": [
    "Создадим переменные с кол-вом заказов на пользователя по группам"
   ]
  },
  {
   "cell_type": "code",
   "execution_count": 52,
   "id": "50c9b708-8f73-4dde-bc95-d198c7236976",
   "metadata": {},
   "outputs": [],
   "source": [
    "orders_by_users_a = (\n",
    "    orders[orders['group'] == 'A']\n",
    "    .groupby('visitor_id', as_index=False)\n",
    "    .agg({'transaction_id': pd.Series.nunique})\n",
    ")\n",
    "orders_by_users_a.columns = ['visitor_id', 'orders']\n",
    "\n",
    "orders_by_users_b = (\n",
    "    orders[orders['group'] == 'B']\n",
    "    .groupby('visitor_id', as_index=False)\n",
    "    .agg({'transaction_id': pd.Series.nunique})\n",
    ")\n",
    "orders_by_users_b.columns = ['visitor_id', 'orders']"
   ]
  },
  {
   "cell_type": "markdown",
   "id": "de53684d-8723-4d97-9e1a-0d07c6f2649c",
   "metadata": {},
   "source": [
    "Объявим переменные sample_a и sample_b, в которых пользователям из разных групп будет соответствовать количество заказов"
   ]
  },
  {
   "cell_type": "code",
   "execution_count": 53,
   "id": "db2e3c3e-f943-4e98-b3cc-dd48a98ff6a4",
   "metadata": {},
   "outputs": [],
   "source": [
    "sample_a = pd.concat(\n",
    "    [\n",
    "        orders_by_users_a['orders'],\n",
    "        pd.Series(\n",
    "            0,\n",
    "            index=np.arange(\n",
    "                data['visitorsPerDateA'].sum() - len(orders_by_users_a['orders'])\n",
    "            ),\n",
    "            name='orders',\n",
    "        ),\n",
    "    ],\n",
    "    axis=0,\n",
    ")"
   ]
  },
  {
   "cell_type": "code",
   "execution_count": 54,
   "id": "04d589ad-13ce-4ec5-bb48-329861248ce0",
   "metadata": {},
   "outputs": [],
   "source": [
    "sample_b = pd.concat(\n",
    "    [\n",
    "        orders_by_users_b['orders'],\n",
    "        pd.Series(\n",
    "            0,\n",
    "            index=np.arange(\n",
    "                data['visitorsPerDateB'].sum() - len(orders_by_users_b['orders'])\n",
    "            ),\n",
    "            name='orders',\n",
    "        ),\n",
    "    ],\n",
    "    axis=0,\n",
    ")"
   ]
  },
  {
   "cell_type": "markdown",
   "id": "f6ede381-2640-4dc0-968e-d4d1604775f7",
   "metadata": {},
   "source": [
    "**Выдвинем гипотезы:\\\n",
    "Н0: статистически значимых различий в среднем числе заказов между группами нет\\\n",
    "Н1: статистически значимые различия в среднем числе заказов между группами присутствуют**"
   ]
  },
  {
   "cell_type": "markdown",
   "id": "397f0acd-2d7f-4f39-bf86-d1d52a574c5c",
   "metadata": {},
   "source": [
    "Поделим сумму заказов на число пользователей — найдём среднее в выборке sample_a методом mean(). Аналогично найдём среднее группы B: sample_b.mean(). Посчитаем статистическую значимость при помощи теста Манна-Уитни."
   ]
  },
  {
   "cell_type": "code",
   "execution_count": 55,
   "id": "8d166059",
   "metadata": {},
   "outputs": [
    {
     "name": "stdout",
     "output_type": "stream",
     "text": [
      "P-value составляет 0.01\n",
      "***********************************************************************************\n",
      "Относительный прирост среднего числа заказов группы В к группе А составляет 0.16\n"
     ]
    }
   ],
   "source": [
    "print(f'P-value составляет {\"{0:.2f}\".format(stats.mannwhitneyu(sample_a, sample_b)[1])}')\n",
    "print('*'*83)\n",
    "print(f'Относительный прирост среднего числа заказов группы В к группе А составляет \\\n",
    "{\"{0:.2f}\".format(sample_b.mean() / sample_a.mean() - 1)}')"
   ]
  },
  {
   "cell_type": "markdown",
   "id": "cb7568da-dd58-4d8a-b568-ef4f4ac38606",
   "metadata": {},
   "source": [
    "**Вывод: P-значение меньше уровня статистической значимости 0.05 - отвергаем нлевую гипотезу, а значит существуют статистически значимые различия в среднем числе заказов между группами. Относительный прирост среднего числа заказов группы В к группе А составил 16%.**"
   ]
  },
  {
   "cell_type": "markdown",
   "id": "39fc99aa-4c5c-4bf4-847b-94a52a23dd0e",
   "metadata": {},
   "source": [
    "### Статистическая значимость различий в среднем чеке заказа между группами по «сырым» данным"
   ]
  },
  {
   "cell_type": "markdown",
   "id": "87008fbf-0e0a-478a-83b0-8e0e596901d5",
   "metadata": {},
   "source": [
    "Применим тест Манна-Уитни.\\\n",
    "**Нулевая гипотеза: различий в среднем чеке между группами нет.\\\n",
    "Альтернативная гипотеза: различия в среднем чеке между группами есть.**"
   ]
  },
  {
   "cell_type": "code",
   "execution_count": 56,
   "id": "60ace4d1",
   "metadata": {},
   "outputs": [
    {
     "name": "stdout",
     "output_type": "stream",
     "text": [
      "P-value составляет 0.83\n",
      "************************************************************************\n",
      "Относительный прирост среднего чека группы В к группе А составляет 0.287\n"
     ]
    }
   ],
   "source": [
    "print(f\"P-value составляет {'{0:.2f}'.format(stats.mannwhitneyu(orders[orders['group']=='A']['revenue'], orders[orders['group']=='B']['revenue'])[1])}\")\n",
    "print('*'*72)\n",
    "print(f\"Относительный прирост среднего чека группы В к группе А составляет {'{0:.3f}'.format(orders[orders['group']=='B']['revenue'].mean()/orders[orders['group']=='A']['revenue'].mean()-1)}\")"
   ]
  },
  {
   "cell_type": "markdown",
   "id": "9650a529-e727-4d34-84c5-59b85f09fb0c",
   "metadata": {},
   "source": [
    "**Вывод: P-value значительно больше 0.05. Значит, причин отвергать нулевую гипотезу и считать, что в среднем чеке есть различия, нет. Впрочем, средний чек группы B значительно выше среднего чека группы A - почти на 29%. При этом, поскольку различие между сегментами не является статистически значимым, значит оно было получено случайно.  \n",
    "Далее очистим данные и посмотрим на результат.**"
   ]
  },
  {
   "cell_type": "markdown",
   "id": "029d7560-403a-414a-b6cc-271633ed596a",
   "metadata": {},
   "source": [
    "### Статистическая значимость различий в среднем количестве заказов на посетителя между группами по «очищенным» данным"
   ]
  },
  {
   "cell_type": "markdown",
   "id": "01e5b6b7-deca-459a-951e-1efd2907fa8b",
   "metadata": {},
   "source": [
    "Создадим переменные с аномальными значениями."
   ]
  },
  {
   "cell_type": "code",
   "execution_count": 57,
   "id": "33218088-0c38-4a71-bdf6-321db99cd181",
   "metadata": {},
   "outputs": [
    {
     "name": "stdout",
     "output_type": "stream",
     "text": [
      "1099    148427295\n",
      "33      249864742\n",
      "58      611059232\n",
      "949     887908475\n",
      "744     888512513\n",
      "Name: visitor_id, dtype: int64\n",
      "16\n"
     ]
    }
   ],
   "source": [
    "users_with_many_orders = pd.concat(\n",
    "    [\n",
    "        orders_by_users_a[orders_by_users_a['orders'] > np.percentile(orders_by_users['orders'], 99)]['visitor_id'],\n",
    "        orders_by_users_b[orders_by_users_b['orders'] > np.percentile(orders_by_users['orders'], 99)]['visitor_id'],\n",
    "    ],\n",
    "    axis=0,\n",
    ")\n",
    "users_with_expensive_orders = orders[orders['revenue'] > np.percentile(df['revenue'], 99)]['visitor_id']\n",
    "abnormal_users = (\n",
    "    pd.concat([users_with_many_orders, users_with_expensive_orders], axis=0)\n",
    "    .drop_duplicates()\n",
    "    .sort_values()\n",
    ")\n",
    "print(abnormal_users.head(5))\n",
    "print(abnormal_users.shape[0])"
   ]
  },
  {
   "cell_type": "markdown",
   "id": "63e73692-daa0-470b-a00f-19a85f430e57",
   "metadata": {},
   "source": [
    "Всего 16 аномальных пользователей"
   ]
  },
  {
   "cell_type": "markdown",
   "id": "aff09444-f56f-4d05-a790-c847ee30c25f",
   "metadata": {},
   "source": [
    "Создадим переменные с очищенными данными и посчитаем статистическую значимость различий в среднем количестве заказов между группами теста по очищенным данным"
   ]
  },
  {
   "cell_type": "code",
   "execution_count": 58,
   "id": "8f8ee8f9-c8cb-4122-b860-8981d9f20eba",
   "metadata": {},
   "outputs": [],
   "source": [
    "sample_a_filtered = pd.concat(\n",
    "    [\n",
    "        orders_by_users_a[\n",
    "            np.logical_not(orders_by_users_a['visitor_id'].isin(abnormal_users))\n",
    "        ]['orders'],\n",
    "        pd.Series(\n",
    "            0,\n",
    "            index=np.arange(\n",
    "                data['visitorsPerDateA'].sum() - len(orders_by_users_a['orders'])\n",
    "            ),\n",
    "            name='orders',\n",
    "        ),\n",
    "    ],\n",
    "    axis=0,\n",
    ")\n",
    "\n",
    "sample_b_filtered = pd.concat(\n",
    "    [\n",
    "        orders_by_users_b[\n",
    "            np.logical_not(orders_by_users_b['visitor_id'].isin(abnormal_users))\n",
    "        ]['orders'],\n",
    "        pd.Series(\n",
    "            0,\n",
    "            index=np.arange(\n",
    "                data['visitorsPerDateB'].sum() - len(orders_by_users_b['orders'])\n",
    "            ),\n",
    "            name='orders',\n",
    "        ),\n",
    "    ],\n",
    "    axis=0,\n",
    ")"
   ]
  },
  {
   "cell_type": "markdown",
   "id": "78e52f53-25f4-4c24-abf5-07a34197b38f",
   "metadata": {},
   "source": [
    "Применим критерий Манна-Уитни"
   ]
  },
  {
   "cell_type": "code",
   "execution_count": 59,
   "id": "02c213ef",
   "metadata": {},
   "outputs": [
    {
     "name": "stdout",
     "output_type": "stream",
     "text": [
      "P-value составляет 0.007\n",
      "***********************************************************************************\n",
      "Относительный прирост среднего числа заказов группы В к группе А составляет 0.189\n"
     ]
    }
   ],
   "source": [
    "print(f'P-value составляет {\"{0:.3f}\".format(stats.mannwhitneyu(sample_a_filtered, sample_b_filtered)[1])}')\n",
    "print('*'*83)\n",
    "print(f'Относительный прирост среднего числа заказов группы В к группе А составляет \\\n",
    "{\"{0:.3f}\".format(sample_b_filtered.mean() / sample_a_filtered.mean() - 1)}')"
   ]
  },
  {
   "cell_type": "markdown",
   "id": "e5a11595-b4c7-40e2-9585-d8d8388c5e90",
   "metadata": {},
   "source": [
    "**Вывод: по сравнению с неочищенными данными результат практически не изменился. Существуют статистически значимые различия в среднем числе заказов между группами. Относительный прирост среднего числа заказов группы В к группе А составил  почти 19%.**"
   ]
  },
  {
   "cell_type": "markdown",
   "id": "f02d1e5f-8b5f-40ed-8be7-94133a3050d7",
   "metadata": {},
   "source": [
    "### Статистическая значимость различий в среднем чеке заказа между группами по «очищенным» данным"
   ]
  },
  {
   "cell_type": "code",
   "execution_count": 60,
   "id": "d2f39d42-5a36-4c71-9121-8de8b570b169",
   "metadata": {},
   "outputs": [
    {
     "name": "stdout",
     "output_type": "stream",
     "text": [
      "P-value составляет 0.788\n",
      "**********************************************************************************\n",
      "Относительный прирост среднего числа заказов группы В к группе А составляет -0.032\n"
     ]
    }
   ],
   "source": [
    "print('P-value составляет',\n",
    "    '{0:.3f}'.format(\n",
    "        stats.mannwhitneyu(\n",
    "            orders[\n",
    "                np.logical_and(\n",
    "                    orders['group'] == 'A',\n",
    "                    np.logical_not(orders['visitor_id'].isin(abnormal_users)),\n",
    "                )\n",
    "            ]['revenue'],\n",
    "            orders[\n",
    "                np.logical_and(\n",
    "                    orders['group'] == 'B',\n",
    "                    np.logical_not(orders['visitor_id'].isin(abnormal_users)),\n",
    "                )\n",
    "            ]['revenue'],\n",
    "        )[1]\n",
    "    )\n",
    ")\n",
    "\n",
    "print('*'*82)\n",
    "\n",
    "print('Относительный прирост среднего числа заказов группы В к группе А составляет',\n",
    "    \"{0:.3f}\".format(\n",
    "        orders[\n",
    "            np.logical_and(\n",
    "                orders['group'] == 'B',\n",
    "                np.logical_not(orders['visitor_id'].isin(abnormal_users)),\n",
    "            )\n",
    "        ]['revenue'].mean()\n",
    "        / orders[\n",
    "            np.logical_and(\n",
    "                orders['group'] == 'A',\n",
    "                np.logical_not(orders['visitor_id'].isin(abnormal_users)),\n",
    "            )\n",
    "        ]['revenue'].mean()\n",
    "        - 1\n",
    "    )\n",
    ")"
   ]
  },
  {
   "cell_type": "markdown",
   "id": "c719a37b-9c72-49e7-96e6-03a5e5065370",
   "metadata": {},
   "source": [
    "**Вывод: p-value осталось примерно на прежнем уровне, при этом разница между сегментами значительно изменилась - теперь средний чек групп практически равен друг друга, разница составляет лишь 3%.**"
   ]
  },
  {
   "cell_type": "markdown",
   "id": "74e3e400-3870-423c-883c-ce7f8cdcf3a4",
   "metadata": {},
   "source": [
    "## Решение по результатам теста "
   ]
  },
  {
   "cell_type": "markdown",
   "id": "59d4cd99-7ad0-4f15-8914-0c510d4a682a",
   "metadata": {},
   "source": [
    "**Посмотрим на имеющиеся факты и подытожим выводы**"
   ]
  },
  {
   "cell_type": "markdown",
   "id": "f44bd3f3-c6f1-4c9f-9af6-0889326a061d",
   "metadata": {},
   "source": [
    "1) Существуют статистически значимые различия по среднему количеству заказов между группами и по «сырым», и по данным после фильтрации аномалий. Относительный прирост группы В к группе А составил 16% и 19% соответственно.  \n",
    "2) Нет статистически значимого различия по среднему чеку между группами ни по «сырым», ни по данным после фильтрации аномалий; При этом по неочищенным данным прирост группы В к группе А составил почти 29%, по очищенным данным разница между группами практически отсутствует. Это говорит о том, что в неочищенных данных результат изменился из-за выбросов.  \n",
    "3) График различия среднего количества заказов между группами сообщает, что результаты группы B лучше группы A и нет значительной тенденции к выравниванию показателягруппы В к группе А.  \n",
    "4) График различия среднего чека говорит о том, что результаты группы B на конец периода лучше результатов группы А примерно на 29%, однако мы выяснили, что это происходит из-за аномальных значений."
   ]
  },
  {
   "cell_type": "markdown",
   "id": "affc00b3-2870-4e7f-9252-c8a5826ea2d3",
   "metadata": {},
   "source": [
    "**Исходя из представленных выше выводов, очевидно, что показатели группы В лучше показателей группы А.  \n",
    "Достоверно известно, что среднее кол-во заказов в группе В выше, чем в группе А, при этом средние чеки по очищенным данным примерно равны и статистически значимых результатов по разнице в них мы не получили. Поскольку результаты группы В зафиксировались, продолжение А/В-теста вряд ли имеет смысл.**  \n",
    "  \n",
    "<div class=\"alert alert-block alert-success\">\n",
    "    <h2>Поэтому, стоит остановить тест и признать победу группы В<a class=\"tocSkip\"> </h2>\n",
    "</div>"
   ]
  }
 ],
 "metadata": {
  "ExecuteTimeLog": [
   {
    "duration": 1369,
    "start_time": "2024-03-31T19:04:19.800Z"
   },
   {
    "duration": 114,
    "start_time": "2024-03-31T19:04:21.171Z"
   },
   {
    "duration": 0,
    "start_time": "2024-03-31T19:04:21.288Z"
   },
   {
    "duration": 0,
    "start_time": "2024-03-31T19:04:21.289Z"
   },
   {
    "duration": 0,
    "start_time": "2024-03-31T19:04:21.291Z"
   },
   {
    "duration": 0,
    "start_time": "2024-03-31T19:04:21.292Z"
   },
   {
    "duration": 0,
    "start_time": "2024-03-31T19:04:21.293Z"
   },
   {
    "duration": 0,
    "start_time": "2024-03-31T19:04:21.294Z"
   },
   {
    "duration": 0,
    "start_time": "2024-03-31T19:04:21.295Z"
   },
   {
    "duration": 0,
    "start_time": "2024-03-31T19:04:21.295Z"
   },
   {
    "duration": 0,
    "start_time": "2024-03-31T19:04:21.297Z"
   },
   {
    "duration": 0,
    "start_time": "2024-03-31T19:04:21.298Z"
   },
   {
    "duration": 0,
    "start_time": "2024-03-31T19:04:21.299Z"
   },
   {
    "duration": 0,
    "start_time": "2024-03-31T19:04:21.301Z"
   },
   {
    "duration": 0,
    "start_time": "2024-03-31T19:04:21.302Z"
   },
   {
    "duration": 0,
    "start_time": "2024-03-31T19:04:21.304Z"
   },
   {
    "duration": 0,
    "start_time": "2024-03-31T19:04:21.305Z"
   },
   {
    "duration": 0,
    "start_time": "2024-03-31T19:04:21.306Z"
   },
   {
    "duration": 0,
    "start_time": "2024-03-31T19:04:21.307Z"
   },
   {
    "duration": 0,
    "start_time": "2024-03-31T19:04:21.308Z"
   },
   {
    "duration": 0,
    "start_time": "2024-03-31T19:04:21.310Z"
   },
   {
    "duration": 0,
    "start_time": "2024-03-31T19:04:21.311Z"
   },
   {
    "duration": 0,
    "start_time": "2024-03-31T19:04:21.312Z"
   },
   {
    "duration": 0,
    "start_time": "2024-03-31T19:04:21.313Z"
   },
   {
    "duration": 1,
    "start_time": "2024-03-31T19:04:21.314Z"
   },
   {
    "duration": 0,
    "start_time": "2024-03-31T19:04:21.316Z"
   },
   {
    "duration": 0,
    "start_time": "2024-03-31T19:04:21.317Z"
   },
   {
    "duration": 0,
    "start_time": "2024-03-31T19:04:21.318Z"
   },
   {
    "duration": 0,
    "start_time": "2024-03-31T19:04:21.319Z"
   },
   {
    "duration": 0,
    "start_time": "2024-03-31T19:04:21.319Z"
   },
   {
    "duration": 0,
    "start_time": "2024-03-31T19:04:21.320Z"
   },
   {
    "duration": 0,
    "start_time": "2024-03-31T19:04:21.322Z"
   },
   {
    "duration": 0,
    "start_time": "2024-03-31T19:04:21.381Z"
   },
   {
    "duration": 0,
    "start_time": "2024-03-31T19:04:21.382Z"
   },
   {
    "duration": 0,
    "start_time": "2024-03-31T19:04:21.383Z"
   },
   {
    "duration": 0,
    "start_time": "2024-03-31T19:04:21.384Z"
   },
   {
    "duration": 0,
    "start_time": "2024-03-31T19:04:21.385Z"
   },
   {
    "duration": 0,
    "start_time": "2024-03-31T19:04:21.386Z"
   },
   {
    "duration": 0,
    "start_time": "2024-03-31T19:04:21.387Z"
   },
   {
    "duration": 0,
    "start_time": "2024-03-31T19:04:21.388Z"
   },
   {
    "duration": 0,
    "start_time": "2024-03-31T19:04:21.389Z"
   },
   {
    "duration": 0,
    "start_time": "2024-03-31T19:04:21.390Z"
   },
   {
    "duration": 0,
    "start_time": "2024-03-31T19:04:21.391Z"
   },
   {
    "duration": 0,
    "start_time": "2024-03-31T19:04:21.392Z"
   },
   {
    "duration": 0,
    "start_time": "2024-03-31T19:04:21.393Z"
   },
   {
    "duration": 0,
    "start_time": "2024-03-31T19:04:21.394Z"
   },
   {
    "duration": 0,
    "start_time": "2024-03-31T19:04:21.395Z"
   },
   {
    "duration": 0,
    "start_time": "2024-03-31T19:04:21.396Z"
   },
   {
    "duration": 0,
    "start_time": "2024-03-31T19:04:21.397Z"
   },
   {
    "duration": 0,
    "start_time": "2024-03-31T19:04:21.398Z"
   },
   {
    "duration": 0,
    "start_time": "2024-03-31T19:04:21.399Z"
   },
   {
    "duration": 1468,
    "start_time": "2024-04-01T06:40:53.254Z"
   },
   {
    "duration": 130,
    "start_time": "2024-04-01T06:50:53.337Z"
   },
   {
    "duration": 67,
    "start_time": "2024-04-01T06:51:51.190Z"
   },
   {
    "duration": 161,
    "start_time": "2024-04-01T06:52:49.981Z"
   },
   {
    "duration": 119,
    "start_time": "2024-04-01T06:53:26.472Z"
   },
   {
    "duration": 5,
    "start_time": "2024-04-01T06:53:41.953Z"
   },
   {
    "duration": 82,
    "start_time": "2024-04-01T06:53:41.961Z"
   },
   {
    "duration": 76,
    "start_time": "2024-04-01T06:53:42.044Z"
   },
   {
    "duration": 64,
    "start_time": "2024-04-01T06:53:42.122Z"
   },
   {
    "duration": 3,
    "start_time": "2024-04-01T06:53:42.188Z"
   },
   {
    "duration": 30,
    "start_time": "2024-04-01T06:53:42.193Z"
   },
   {
    "duration": 3,
    "start_time": "2024-04-01T06:53:42.225Z"
   },
   {
    "duration": 22,
    "start_time": "2024-04-01T06:53:42.229Z"
   },
   {
    "duration": 3,
    "start_time": "2024-04-01T06:53:42.254Z"
   },
   {
    "duration": 22,
    "start_time": "2024-04-01T06:53:42.259Z"
   },
   {
    "duration": 16,
    "start_time": "2024-04-01T06:53:42.283Z"
   },
   {
    "duration": 119,
    "start_time": "2024-04-01T06:53:42.302Z"
   },
   {
    "duration": 0,
    "start_time": "2024-04-01T06:53:42.423Z"
   },
   {
    "duration": 0,
    "start_time": "2024-04-01T06:53:42.424Z"
   },
   {
    "duration": 0,
    "start_time": "2024-04-01T06:53:42.425Z"
   },
   {
    "duration": 0,
    "start_time": "2024-04-01T06:53:42.426Z"
   },
   {
    "duration": 0,
    "start_time": "2024-04-01T06:53:42.427Z"
   },
   {
    "duration": 0,
    "start_time": "2024-04-01T06:53:42.428Z"
   },
   {
    "duration": 0,
    "start_time": "2024-04-01T06:53:42.429Z"
   },
   {
    "duration": 0,
    "start_time": "2024-04-01T06:53:42.430Z"
   },
   {
    "duration": 0,
    "start_time": "2024-04-01T06:53:42.431Z"
   },
   {
    "duration": 0,
    "start_time": "2024-04-01T06:53:42.432Z"
   },
   {
    "duration": 0,
    "start_time": "2024-04-01T06:53:42.433Z"
   },
   {
    "duration": 0,
    "start_time": "2024-04-01T06:53:42.434Z"
   },
   {
    "duration": 0,
    "start_time": "2024-04-01T06:53:42.435Z"
   },
   {
    "duration": 0,
    "start_time": "2024-04-01T06:53:42.436Z"
   },
   {
    "duration": 0,
    "start_time": "2024-04-01T06:53:42.437Z"
   },
   {
    "duration": 0,
    "start_time": "2024-04-01T06:53:42.438Z"
   },
   {
    "duration": 0,
    "start_time": "2024-04-01T06:53:42.439Z"
   },
   {
    "duration": 0,
    "start_time": "2024-04-01T06:53:42.440Z"
   },
   {
    "duration": 0,
    "start_time": "2024-04-01T06:53:42.441Z"
   },
   {
    "duration": 0,
    "start_time": "2024-04-01T06:53:42.442Z"
   },
   {
    "duration": 0,
    "start_time": "2024-04-01T06:53:42.443Z"
   },
   {
    "duration": 0,
    "start_time": "2024-04-01T06:53:42.443Z"
   },
   {
    "duration": 0,
    "start_time": "2024-04-01T06:53:42.445Z"
   },
   {
    "duration": 0,
    "start_time": "2024-04-01T06:53:42.480Z"
   },
   {
    "duration": 0,
    "start_time": "2024-04-01T06:53:42.481Z"
   },
   {
    "duration": 0,
    "start_time": "2024-04-01T06:53:42.483Z"
   },
   {
    "duration": 0,
    "start_time": "2024-04-01T06:53:42.484Z"
   },
   {
    "duration": 1,
    "start_time": "2024-04-01T06:53:42.485Z"
   },
   {
    "duration": 0,
    "start_time": "2024-04-01T06:53:42.486Z"
   },
   {
    "duration": 0,
    "start_time": "2024-04-01T06:53:42.487Z"
   },
   {
    "duration": 0,
    "start_time": "2024-04-01T06:53:42.488Z"
   },
   {
    "duration": 0,
    "start_time": "2024-04-01T06:53:42.489Z"
   },
   {
    "duration": 0,
    "start_time": "2024-04-01T06:53:42.490Z"
   },
   {
    "duration": 0,
    "start_time": "2024-04-01T06:53:42.492Z"
   },
   {
    "duration": 0,
    "start_time": "2024-04-01T06:53:42.493Z"
   },
   {
    "duration": 0,
    "start_time": "2024-04-01T06:53:42.494Z"
   },
   {
    "duration": 0,
    "start_time": "2024-04-01T06:53:42.495Z"
   },
   {
    "duration": 0,
    "start_time": "2024-04-01T06:53:42.496Z"
   },
   {
    "duration": 0,
    "start_time": "2024-04-01T06:53:42.497Z"
   },
   {
    "duration": 0,
    "start_time": "2024-04-01T06:53:42.500Z"
   },
   {
    "duration": 0,
    "start_time": "2024-04-01T06:53:42.501Z"
   },
   {
    "duration": 75,
    "start_time": "2024-04-01T06:55:19.783Z"
   },
   {
    "duration": 1204,
    "start_time": "2024-04-01T06:55:28.836Z"
   },
   {
    "duration": 140,
    "start_time": "2024-04-01T06:55:30.042Z"
   },
   {
    "duration": 0,
    "start_time": "2024-04-01T06:55:30.185Z"
   },
   {
    "duration": 0,
    "start_time": "2024-04-01T06:55:30.187Z"
   },
   {
    "duration": 0,
    "start_time": "2024-04-01T06:55:30.188Z"
   },
   {
    "duration": 0,
    "start_time": "2024-04-01T06:55:30.189Z"
   },
   {
    "duration": 0,
    "start_time": "2024-04-01T06:55:30.190Z"
   },
   {
    "duration": 0,
    "start_time": "2024-04-01T06:55:30.191Z"
   },
   {
    "duration": 0,
    "start_time": "2024-04-01T06:55:30.192Z"
   },
   {
    "duration": 0,
    "start_time": "2024-04-01T06:55:30.194Z"
   },
   {
    "duration": 0,
    "start_time": "2024-04-01T06:55:30.195Z"
   },
   {
    "duration": 0,
    "start_time": "2024-04-01T06:55:30.196Z"
   },
   {
    "duration": 0,
    "start_time": "2024-04-01T06:55:30.196Z"
   },
   {
    "duration": 0,
    "start_time": "2024-04-01T06:55:30.198Z"
   },
   {
    "duration": 0,
    "start_time": "2024-04-01T06:55:30.199Z"
   },
   {
    "duration": 0,
    "start_time": "2024-04-01T06:55:30.200Z"
   },
   {
    "duration": 0,
    "start_time": "2024-04-01T06:55:30.201Z"
   },
   {
    "duration": 0,
    "start_time": "2024-04-01T06:55:30.202Z"
   },
   {
    "duration": 0,
    "start_time": "2024-04-01T06:55:30.203Z"
   },
   {
    "duration": 0,
    "start_time": "2024-04-01T06:55:30.205Z"
   },
   {
    "duration": 0,
    "start_time": "2024-04-01T06:55:30.206Z"
   },
   {
    "duration": 0,
    "start_time": "2024-04-01T06:55:30.207Z"
   },
   {
    "duration": 0,
    "start_time": "2024-04-01T06:55:30.208Z"
   },
   {
    "duration": 0,
    "start_time": "2024-04-01T06:55:30.209Z"
   },
   {
    "duration": 0,
    "start_time": "2024-04-01T06:55:30.210Z"
   },
   {
    "duration": 0,
    "start_time": "2024-04-01T06:55:30.211Z"
   },
   {
    "duration": 0,
    "start_time": "2024-04-01T06:55:30.213Z"
   },
   {
    "duration": 0,
    "start_time": "2024-04-01T06:55:30.214Z"
   },
   {
    "duration": 0,
    "start_time": "2024-04-01T06:55:30.215Z"
   },
   {
    "duration": 0,
    "start_time": "2024-04-01T06:55:30.217Z"
   },
   {
    "duration": 0,
    "start_time": "2024-04-01T06:55:30.218Z"
   },
   {
    "duration": 0,
    "start_time": "2024-04-01T06:55:30.219Z"
   },
   {
    "duration": 0,
    "start_time": "2024-04-01T06:55:30.221Z"
   },
   {
    "duration": 0,
    "start_time": "2024-04-01T06:55:30.279Z"
   },
   {
    "duration": 0,
    "start_time": "2024-04-01T06:55:30.281Z"
   },
   {
    "duration": 0,
    "start_time": "2024-04-01T06:55:30.282Z"
   },
   {
    "duration": 0,
    "start_time": "2024-04-01T06:55:30.283Z"
   },
   {
    "duration": 0,
    "start_time": "2024-04-01T06:55:30.284Z"
   },
   {
    "duration": 0,
    "start_time": "2024-04-01T06:55:30.285Z"
   },
   {
    "duration": 0,
    "start_time": "2024-04-01T06:55:30.286Z"
   },
   {
    "duration": 0,
    "start_time": "2024-04-01T06:55:30.287Z"
   },
   {
    "duration": 0,
    "start_time": "2024-04-01T06:55:30.288Z"
   },
   {
    "duration": 0,
    "start_time": "2024-04-01T06:55:30.290Z"
   },
   {
    "duration": 0,
    "start_time": "2024-04-01T06:55:30.291Z"
   },
   {
    "duration": 0,
    "start_time": "2024-04-01T06:55:30.292Z"
   },
   {
    "duration": 0,
    "start_time": "2024-04-01T06:55:30.293Z"
   },
   {
    "duration": 0,
    "start_time": "2024-04-01T06:55:30.294Z"
   },
   {
    "duration": 0,
    "start_time": "2024-04-01T06:55:30.295Z"
   },
   {
    "duration": 0,
    "start_time": "2024-04-01T06:55:30.297Z"
   },
   {
    "duration": 0,
    "start_time": "2024-04-01T06:55:30.298Z"
   },
   {
    "duration": 0,
    "start_time": "2024-04-01T06:55:30.300Z"
   },
   {
    "duration": 0,
    "start_time": "2024-04-01T06:55:30.301Z"
   },
   {
    "duration": 0,
    "start_time": "2024-04-01T06:55:30.301Z"
   },
   {
    "duration": 1274,
    "start_time": "2024-04-01T06:56:41.648Z"
   },
   {
    "duration": 68,
    "start_time": "2024-04-01T06:56:42.924Z"
   },
   {
    "duration": 76,
    "start_time": "2024-04-01T06:56:42.993Z"
   },
   {
    "duration": 54,
    "start_time": "2024-04-01T06:56:43.071Z"
   },
   {
    "duration": 4,
    "start_time": "2024-04-01T06:56:43.127Z"
   },
   {
    "duration": 27,
    "start_time": "2024-04-01T06:56:43.132Z"
   },
   {
    "duration": 2,
    "start_time": "2024-04-01T06:56:43.161Z"
   },
   {
    "duration": 34,
    "start_time": "2024-04-01T06:56:43.165Z"
   },
   {
    "duration": 4,
    "start_time": "2024-04-01T06:56:43.200Z"
   },
   {
    "duration": 14,
    "start_time": "2024-04-01T06:56:43.206Z"
   },
   {
    "duration": 6,
    "start_time": "2024-04-01T06:56:43.221Z"
   },
   {
    "duration": 25,
    "start_time": "2024-04-01T06:56:43.229Z"
   },
   {
    "duration": 4,
    "start_time": "2024-04-01T06:56:43.256Z"
   },
   {
    "duration": 20,
    "start_time": "2024-04-01T06:56:43.261Z"
   },
   {
    "duration": 10,
    "start_time": "2024-04-01T06:56:43.283Z"
   },
   {
    "duration": 24,
    "start_time": "2024-04-01T06:56:43.294Z"
   },
   {
    "duration": 10,
    "start_time": "2024-04-01T06:56:43.320Z"
   },
   {
    "duration": 70,
    "start_time": "2024-04-01T06:56:43.332Z"
   },
   {
    "duration": 13,
    "start_time": "2024-04-01T06:56:43.404Z"
   },
   {
    "duration": 6,
    "start_time": "2024-04-01T06:56:43.419Z"
   },
   {
    "duration": 31,
    "start_time": "2024-04-01T06:56:43.426Z"
   },
   {
    "duration": 190,
    "start_time": "2024-04-01T06:56:43.458Z"
   },
   {
    "duration": 137,
    "start_time": "2024-04-01T06:56:43.650Z"
   },
   {
    "duration": 7,
    "start_time": "2024-04-01T06:56:43.789Z"
   },
   {
    "duration": 34,
    "start_time": "2024-04-01T06:56:43.798Z"
   },
   {
    "duration": 17,
    "start_time": "2024-04-01T06:56:43.835Z"
   },
   {
    "duration": 7,
    "start_time": "2024-04-01T06:56:43.854Z"
   },
   {
    "duration": 333,
    "start_time": "2024-04-01T06:56:43.865Z"
   },
   {
    "duration": 275,
    "start_time": "2024-04-01T06:56:44.201Z"
   },
   {
    "duration": 6,
    "start_time": "2024-04-01T06:56:44.478Z"
   },
   {
    "duration": 325,
    "start_time": "2024-04-01T06:56:44.486Z"
   },
   {
    "duration": 4,
    "start_time": "2024-04-01T06:56:44.813Z"
   },
   {
    "duration": 12,
    "start_time": "2024-04-01T06:56:44.819Z"
   },
   {
    "duration": 233,
    "start_time": "2024-04-01T06:56:44.833Z"
   },
   {
    "duration": 17,
    "start_time": "2024-04-01T06:56:45.068Z"
   },
   {
    "duration": 337,
    "start_time": "2024-04-01T06:56:45.086Z"
   },
   {
    "duration": 8,
    "start_time": "2024-04-01T06:56:45.426Z"
   },
   {
    "duration": 27,
    "start_time": "2024-04-01T06:56:45.435Z"
   },
   {
    "duration": 26,
    "start_time": "2024-04-01T06:56:45.463Z"
   },
   {
    "duration": 220,
    "start_time": "2024-04-01T06:56:45.490Z"
   },
   {
    "duration": 5,
    "start_time": "2024-04-01T06:56:45.712Z"
   },
   {
    "duration": 191,
    "start_time": "2024-04-01T06:56:45.718Z"
   },
   {
    "duration": 5,
    "start_time": "2024-04-01T06:56:45.911Z"
   },
   {
    "duration": 335,
    "start_time": "2024-04-01T06:56:45.917Z"
   },
   {
    "duration": 147,
    "start_time": "2024-04-01T06:56:46.253Z"
   },
   {
    "duration": 4,
    "start_time": "2024-04-01T06:56:46.402Z"
   },
   {
    "duration": 67,
    "start_time": "2024-04-01T06:56:46.408Z"
   },
   {
    "duration": 32,
    "start_time": "2024-04-01T06:56:46.477Z"
   },
   {
    "duration": 11,
    "start_time": "2024-04-01T06:56:46.511Z"
   },
   {
    "duration": 11,
    "start_time": "2024-04-01T06:56:46.523Z"
   },
   {
    "duration": 14,
    "start_time": "2024-04-01T06:56:46.536Z"
   },
   {
    "duration": 53,
    "start_time": "2024-04-01T06:56:46.552Z"
   },
   {
    "duration": 15,
    "start_time": "2024-04-01T06:56:46.608Z"
   },
   {
    "duration": 101,
    "start_time": "2024-04-01T06:58:29.105Z"
   },
   {
    "duration": 2,
    "start_time": "2024-04-01T06:58:43.772Z"
   },
   {
    "duration": 1279,
    "start_time": "2024-04-01T06:58:52.704Z"
   },
   {
    "duration": 73,
    "start_time": "2024-04-01T06:58:53.985Z"
   },
   {
    "duration": 82,
    "start_time": "2024-04-01T06:58:54.060Z"
   },
   {
    "duration": 58,
    "start_time": "2024-04-01T06:58:54.145Z"
   },
   {
    "duration": 3,
    "start_time": "2024-04-01T06:58:54.205Z"
   },
   {
    "duration": 17,
    "start_time": "2024-04-01T06:58:54.210Z"
   },
   {
    "duration": 48,
    "start_time": "2024-04-01T06:58:54.229Z"
   },
   {
    "duration": 3,
    "start_time": "2024-04-01T06:58:54.280Z"
   },
   {
    "duration": 26,
    "start_time": "2024-04-01T06:58:54.285Z"
   },
   {
    "duration": 5,
    "start_time": "2024-04-01T06:58:54.315Z"
   },
   {
    "duration": 28,
    "start_time": "2024-04-01T06:58:54.322Z"
   },
   {
    "duration": 27,
    "start_time": "2024-04-01T06:58:54.352Z"
   },
   {
    "duration": 20,
    "start_time": "2024-04-01T06:58:54.381Z"
   },
   {
    "duration": 8,
    "start_time": "2024-04-01T06:58:54.403Z"
   },
   {
    "duration": 12,
    "start_time": "2024-04-01T06:58:54.412Z"
   },
   {
    "duration": 39,
    "start_time": "2024-04-01T06:58:54.426Z"
   },
   {
    "duration": 13,
    "start_time": "2024-04-01T06:58:54.467Z"
   },
   {
    "duration": 16,
    "start_time": "2024-04-01T06:58:54.482Z"
   },
   {
    "duration": 103,
    "start_time": "2024-04-01T06:58:54.500Z"
   },
   {
    "duration": 18,
    "start_time": "2024-04-01T06:58:54.605Z"
   },
   {
    "duration": 10,
    "start_time": "2024-04-01T06:58:54.624Z"
   },
   {
    "duration": 8,
    "start_time": "2024-04-01T06:58:54.636Z"
   },
   {
    "duration": 201,
    "start_time": "2024-04-01T06:58:54.645Z"
   },
   {
    "duration": 136,
    "start_time": "2024-04-01T06:58:54.849Z"
   },
   {
    "duration": 8,
    "start_time": "2024-04-01T06:58:54.986Z"
   },
   {
    "duration": 19,
    "start_time": "2024-04-01T06:58:54.995Z"
   },
   {
    "duration": 5,
    "start_time": "2024-04-01T06:58:55.015Z"
   },
   {
    "duration": 31,
    "start_time": "2024-04-01T06:58:55.024Z"
   },
   {
    "duration": 339,
    "start_time": "2024-04-01T06:58:55.057Z"
   },
   {
    "duration": 238,
    "start_time": "2024-04-01T06:58:55.398Z"
   },
   {
    "duration": 8,
    "start_time": "2024-04-01T06:58:55.638Z"
   },
   {
    "duration": 393,
    "start_time": "2024-04-01T06:58:55.648Z"
   },
   {
    "duration": 4,
    "start_time": "2024-04-01T06:58:56.043Z"
   },
   {
    "duration": 36,
    "start_time": "2024-04-01T06:58:56.049Z"
   },
   {
    "duration": 239,
    "start_time": "2024-04-01T06:58:56.087Z"
   },
   {
    "duration": 8,
    "start_time": "2024-04-01T06:58:56.328Z"
   },
   {
    "duration": 359,
    "start_time": "2024-04-01T06:58:56.337Z"
   },
   {
    "duration": 7,
    "start_time": "2024-04-01T06:58:56.697Z"
   },
   {
    "duration": 41,
    "start_time": "2024-04-01T06:58:56.707Z"
   },
   {
    "duration": 15,
    "start_time": "2024-04-01T06:58:56.750Z"
   },
   {
    "duration": 130,
    "start_time": "2024-04-01T06:58:56.767Z"
   },
   {
    "duration": 5,
    "start_time": "2024-04-01T06:58:56.899Z"
   },
   {
    "duration": 161,
    "start_time": "2024-04-01T06:58:56.906Z"
   },
   {
    "duration": 15,
    "start_time": "2024-04-01T06:58:57.068Z"
   },
   {
    "duration": 338,
    "start_time": "2024-04-01T06:58:57.085Z"
   },
   {
    "duration": 177,
    "start_time": "2024-04-01T06:58:57.425Z"
   },
   {
    "duration": 6,
    "start_time": "2024-04-01T06:58:57.604Z"
   },
   {
    "duration": 10,
    "start_time": "2024-04-01T06:58:57.612Z"
   },
   {
    "duration": 33,
    "start_time": "2024-04-01T06:58:57.624Z"
   },
   {
    "duration": 28,
    "start_time": "2024-04-01T06:58:57.659Z"
   },
   {
    "duration": 23,
    "start_time": "2024-04-01T06:58:57.689Z"
   },
   {
    "duration": 30,
    "start_time": "2024-04-01T06:58:57.714Z"
   },
   {
    "duration": 31,
    "start_time": "2024-04-01T06:58:57.746Z"
   },
   {
    "duration": 18,
    "start_time": "2024-04-01T06:58:57.780Z"
   },
   {
    "duration": 1340,
    "start_time": "2024-04-01T11:43:03.601Z"
   },
   {
    "duration": 123,
    "start_time": "2024-04-01T11:43:04.943Z"
   },
   {
    "duration": 125,
    "start_time": "2024-04-01T11:43:05.068Z"
   },
   {
    "duration": 111,
    "start_time": "2024-04-01T11:43:05.197Z"
   },
   {
    "duration": 2,
    "start_time": "2024-04-01T11:43:05.310Z"
   },
   {
    "duration": 6,
    "start_time": "2024-04-01T11:43:05.313Z"
   },
   {
    "duration": 18,
    "start_time": "2024-04-01T11:43:05.320Z"
   },
   {
    "duration": 3,
    "start_time": "2024-04-01T11:43:05.339Z"
   },
   {
    "duration": 26,
    "start_time": "2024-04-01T11:43:05.343Z"
   },
   {
    "duration": 6,
    "start_time": "2024-04-01T11:43:05.371Z"
   },
   {
    "duration": 6,
    "start_time": "2024-04-01T11:43:05.378Z"
   },
   {
    "duration": 7,
    "start_time": "2024-04-01T11:43:05.385Z"
   },
   {
    "duration": 22,
    "start_time": "2024-04-01T11:43:05.393Z"
   },
   {
    "duration": 10,
    "start_time": "2024-04-01T11:43:05.416Z"
   },
   {
    "duration": 6,
    "start_time": "2024-04-01T11:43:05.427Z"
   },
   {
    "duration": 12,
    "start_time": "2024-04-01T11:43:05.434Z"
   },
   {
    "duration": 18,
    "start_time": "2024-04-01T11:43:05.447Z"
   },
   {
    "duration": 10,
    "start_time": "2024-04-01T11:43:05.466Z"
   },
   {
    "duration": 60,
    "start_time": "2024-04-01T11:43:05.485Z"
   },
   {
    "duration": 11,
    "start_time": "2024-04-01T11:43:05.546Z"
   },
   {
    "duration": 35,
    "start_time": "2024-04-01T11:43:05.558Z"
   },
   {
    "duration": 12,
    "start_time": "2024-04-01T11:43:05.594Z"
   },
   {
    "duration": 145,
    "start_time": "2024-04-01T11:43:05.608Z"
   },
   {
    "duration": 100,
    "start_time": "2024-04-01T11:43:05.754Z"
   },
   {
    "duration": 5,
    "start_time": "2024-04-01T11:43:05.856Z"
   },
   {
    "duration": 28,
    "start_time": "2024-04-01T11:43:05.862Z"
   },
   {
    "duration": 5,
    "start_time": "2024-04-01T11:43:05.892Z"
   },
   {
    "duration": 5,
    "start_time": "2024-04-01T11:43:05.901Z"
   },
   {
    "duration": 284,
    "start_time": "2024-04-01T11:43:05.907Z"
   },
   {
    "duration": 209,
    "start_time": "2024-04-01T11:43:06.193Z"
   },
   {
    "duration": 7,
    "start_time": "2024-04-01T11:43:06.403Z"
   },
   {
    "duration": 278,
    "start_time": "2024-04-01T11:43:06.412Z"
   },
   {
    "duration": 5,
    "start_time": "2024-04-01T11:43:06.692Z"
   },
   {
    "duration": 16,
    "start_time": "2024-04-01T11:43:06.699Z"
   },
   {
    "duration": 197,
    "start_time": "2024-04-01T11:43:06.717Z"
   },
   {
    "duration": 8,
    "start_time": "2024-04-01T11:43:06.915Z"
   },
   {
    "duration": 291,
    "start_time": "2024-04-01T11:43:06.924Z"
   },
   {
    "duration": 6,
    "start_time": "2024-04-01T11:43:07.217Z"
   },
   {
    "duration": 16,
    "start_time": "2024-04-01T11:43:07.225Z"
   },
   {
    "duration": 10,
    "start_time": "2024-04-01T11:43:07.243Z"
   },
   {
    "duration": 116,
    "start_time": "2024-04-01T11:43:07.255Z"
   },
   {
    "duration": 15,
    "start_time": "2024-04-01T11:43:07.372Z"
   },
   {
    "duration": 123,
    "start_time": "2024-04-01T11:43:07.388Z"
   },
   {
    "duration": 4,
    "start_time": "2024-04-01T11:43:07.513Z"
   },
   {
    "duration": 255,
    "start_time": "2024-04-01T11:43:07.518Z"
   },
   {
    "duration": 128,
    "start_time": "2024-04-01T11:43:07.775Z"
   },
   {
    "duration": 5,
    "start_time": "2024-04-01T11:43:07.905Z"
   },
   {
    "duration": 14,
    "start_time": "2024-04-01T11:43:07.911Z"
   },
   {
    "duration": 21,
    "start_time": "2024-04-01T11:43:07.926Z"
   },
   {
    "duration": 10,
    "start_time": "2024-04-01T11:43:07.948Z"
   },
   {
    "duration": 7,
    "start_time": "2024-04-01T11:43:07.960Z"
   },
   {
    "duration": 14,
    "start_time": "2024-04-01T11:43:07.984Z"
   },
   {
    "duration": 42,
    "start_time": "2024-04-01T11:43:08.000Z"
   },
   {
    "duration": 12,
    "start_time": "2024-04-01T11:43:08.043Z"
   },
   {
    "duration": 95,
    "start_time": "2024-04-01T11:44:45.299Z"
   },
   {
    "duration": 51,
    "start_time": "2024-04-02T06:59:01.545Z"
   },
   {
    "duration": 1359,
    "start_time": "2024-04-02T06:59:14.652Z"
   },
   {
    "duration": 117,
    "start_time": "2024-04-02T06:59:16.013Z"
   },
   {
    "duration": 118,
    "start_time": "2024-04-02T06:59:16.132Z"
   },
   {
    "duration": 94,
    "start_time": "2024-04-02T06:59:16.252Z"
   },
   {
    "duration": 3,
    "start_time": "2024-04-02T06:59:16.347Z"
   },
   {
    "duration": 16,
    "start_time": "2024-04-02T06:59:16.351Z"
   },
   {
    "duration": 32,
    "start_time": "2024-04-02T06:59:16.368Z"
   },
   {
    "duration": 3,
    "start_time": "2024-04-02T06:59:16.402Z"
   },
   {
    "duration": 28,
    "start_time": "2024-04-02T06:59:16.406Z"
   },
   {
    "duration": 18,
    "start_time": "2024-04-02T06:59:16.436Z"
   },
   {
    "duration": 32,
    "start_time": "2024-04-02T06:59:16.456Z"
   },
   {
    "duration": 37,
    "start_time": "2024-04-02T06:59:16.489Z"
   },
   {
    "duration": 9,
    "start_time": "2024-04-02T06:59:19.311Z"
   },
   {
    "duration": 6,
    "start_time": "2024-04-02T07:01:14.137Z"
   },
   {
    "duration": 10,
    "start_time": "2024-04-02T07:01:41.562Z"
   },
   {
    "duration": 10,
    "start_time": "2024-04-02T07:09:02.247Z"
   },
   {
    "duration": 7,
    "start_time": "2024-04-02T07:10:54.974Z"
   },
   {
    "duration": 7,
    "start_time": "2024-04-02T07:11:59.899Z"
   },
   {
    "duration": 195,
    "start_time": "2024-04-02T07:12:13.118Z"
   },
   {
    "duration": 11,
    "start_time": "2024-04-02T07:12:17.852Z"
   },
   {
    "duration": 10,
    "start_time": "2024-04-02T07:12:27.750Z"
   },
   {
    "duration": 10,
    "start_time": "2024-04-02T07:12:42.468Z"
   },
   {
    "duration": 14,
    "start_time": "2024-04-02T07:15:51.663Z"
   },
   {
    "duration": 11,
    "start_time": "2024-04-02T07:16:15.797Z"
   },
   {
    "duration": 11,
    "start_time": "2024-04-02T07:16:29.202Z"
   },
   {
    "duration": 122,
    "start_time": "2024-04-02T07:18:39.551Z"
   },
   {
    "duration": 687,
    "start_time": "2024-04-02T07:19:37.592Z"
   },
   {
    "duration": 716,
    "start_time": "2024-04-02T07:20:06.547Z"
   },
   {
    "duration": 6,
    "start_time": "2024-04-02T07:20:23.461Z"
   },
   {
    "duration": 7,
    "start_time": "2024-04-02T07:20:42.856Z"
   },
   {
    "duration": 14,
    "start_time": "2024-04-02T07:21:05.139Z"
   },
   {
    "duration": 8,
    "start_time": "2024-04-02T07:21:18.842Z"
   },
   {
    "duration": 14,
    "start_time": "2024-04-02T07:21:24.775Z"
   },
   {
    "duration": 10,
    "start_time": "2024-04-02T07:27:44.547Z"
   },
   {
    "duration": 12,
    "start_time": "2024-04-02T07:28:06.962Z"
   },
   {
    "duration": 10,
    "start_time": "2024-04-02T07:29:12.599Z"
   },
   {
    "duration": 5,
    "start_time": "2024-04-02T07:30:14.448Z"
   },
   {
    "duration": 17,
    "start_time": "2024-04-02T07:30:30.122Z"
   },
   {
    "duration": 4,
    "start_time": "2024-04-02T07:30:34.749Z"
   },
   {
    "duration": 4,
    "start_time": "2024-04-02T07:30:35.301Z"
   },
   {
    "duration": 292,
    "start_time": "2024-04-02T07:34:47.899Z"
   },
   {
    "duration": 121,
    "start_time": "2024-04-02T07:35:17.511Z"
   },
   {
    "duration": 13,
    "start_time": "2024-04-02T07:37:53.066Z"
   },
   {
    "duration": 5,
    "start_time": "2024-04-02T07:38:29.485Z"
   },
   {
    "duration": 4,
    "start_time": "2024-04-02T07:38:30.636Z"
   },
   {
    "duration": 5,
    "start_time": "2024-04-02T07:39:12.004Z"
   },
   {
    "duration": 4,
    "start_time": "2024-04-02T07:39:14.106Z"
   },
   {
    "duration": 5,
    "start_time": "2024-04-02T07:39:14.619Z"
   },
   {
    "duration": 227,
    "start_time": "2024-04-02T07:42:46.235Z"
   },
   {
    "duration": 11,
    "start_time": "2024-04-02T07:43:11.814Z"
   },
   {
    "duration": 303,
    "start_time": "2024-04-02T07:43:42.545Z"
   },
   {
    "duration": 162,
    "start_time": "2024-04-02T07:44:22.985Z"
   },
   {
    "duration": 251,
    "start_time": "2024-04-02T07:44:47.700Z"
   },
   {
    "duration": 251,
    "start_time": "2024-04-02T07:45:03.932Z"
   },
   {
    "duration": 156,
    "start_time": "2024-04-02T07:45:13.780Z"
   },
   {
    "duration": 10,
    "start_time": "2024-04-02T07:45:55.630Z"
   },
   {
    "duration": 170,
    "start_time": "2024-04-02T07:46:08.895Z"
   },
   {
    "duration": 196,
    "start_time": "2024-04-02T07:46:25.591Z"
   },
   {
    "duration": 212,
    "start_time": "2024-04-02T07:46:44.465Z"
   },
   {
    "duration": 236,
    "start_time": "2024-04-02T07:48:20.538Z"
   },
   {
    "duration": 228,
    "start_time": "2024-04-02T07:48:39.684Z"
   },
   {
    "duration": 13,
    "start_time": "2024-04-02T07:48:50.461Z"
   },
   {
    "duration": 13,
    "start_time": "2024-04-02T07:48:58.126Z"
   },
   {
    "duration": 435,
    "start_time": "2024-04-02T07:49:57.299Z"
   },
   {
    "duration": 522,
    "start_time": "2024-04-02T07:50:18.876Z"
   },
   {
    "duration": 423,
    "start_time": "2024-04-02T07:50:35.222Z"
   },
   {
    "duration": 425,
    "start_time": "2024-04-02T07:51:17.913Z"
   },
   {
    "duration": 426,
    "start_time": "2024-04-02T07:51:47.687Z"
   },
   {
    "duration": 15,
    "start_time": "2024-04-02T07:52:03.520Z"
   },
   {
    "duration": 237,
    "start_time": "2024-04-02T07:52:11.192Z"
   },
   {
    "duration": 234,
    "start_time": "2024-04-02T07:52:48.581Z"
   },
   {
    "duration": 10,
    "start_time": "2024-04-02T07:56:16.808Z"
   },
   {
    "duration": 8,
    "start_time": "2024-04-02T07:56:24.327Z"
   },
   {
    "duration": 17,
    "start_time": "2024-04-02T07:56:24.337Z"
   },
   {
    "duration": 18,
    "start_time": "2024-04-02T07:56:24.357Z"
   },
   {
    "duration": 211,
    "start_time": "2024-04-02T07:56:24.377Z"
   },
   {
    "duration": 6,
    "start_time": "2024-04-02T07:56:24.590Z"
   },
   {
    "duration": 188,
    "start_time": "2024-04-02T07:56:24.597Z"
   },
   {
    "duration": 120,
    "start_time": "2024-04-02T07:56:24.787Z"
   },
   {
    "duration": 7,
    "start_time": "2024-04-02T07:56:24.909Z"
   },
   {
    "duration": 26,
    "start_time": "2024-04-02T07:56:24.917Z"
   },
   {
    "duration": 6,
    "start_time": "2024-04-02T07:56:24.944Z"
   },
   {
    "duration": 5,
    "start_time": "2024-04-02T07:56:24.952Z"
   },
   {
    "duration": 222,
    "start_time": "2024-04-02T07:56:24.959Z"
   },
   {
    "duration": 230,
    "start_time": "2024-04-02T07:56:25.194Z"
   },
   {
    "duration": 6,
    "start_time": "2024-04-02T07:56:25.426Z"
   },
   {
    "duration": 386,
    "start_time": "2024-04-02T07:56:25.434Z"
   },
   {
    "duration": 5,
    "start_time": "2024-04-02T07:56:25.822Z"
   },
   {
    "duration": 9,
    "start_time": "2024-04-02T07:56:25.829Z"
   },
   {
    "duration": 240,
    "start_time": "2024-04-02T07:56:25.839Z"
   },
   {
    "duration": 12,
    "start_time": "2024-04-02T07:56:26.080Z"
   },
   {
    "duration": 364,
    "start_time": "2024-04-02T07:56:26.094Z"
   },
   {
    "duration": 8,
    "start_time": "2024-04-02T07:56:26.460Z"
   },
   {
    "duration": 26,
    "start_time": "2024-04-02T07:56:26.469Z"
   },
   {
    "duration": 12,
    "start_time": "2024-04-02T07:56:26.497Z"
   },
   {
    "duration": 155,
    "start_time": "2024-04-02T07:56:26.511Z"
   },
   {
    "duration": 6,
    "start_time": "2024-04-02T07:56:26.668Z"
   },
   {
    "duration": 141,
    "start_time": "2024-04-02T07:56:26.675Z"
   },
   {
    "duration": 5,
    "start_time": "2024-04-02T07:56:26.818Z"
   },
   {
    "duration": 228,
    "start_time": "2024-04-02T07:56:26.825Z"
   },
   {
    "duration": 145,
    "start_time": "2024-04-02T07:56:27.056Z"
   },
   {
    "duration": 6,
    "start_time": "2024-04-02T07:56:27.203Z"
   },
   {
    "duration": 16,
    "start_time": "2024-04-02T07:56:27.211Z"
   },
   {
    "duration": 43,
    "start_time": "2024-04-02T07:56:27.229Z"
   },
   {
    "duration": 25,
    "start_time": "2024-04-02T07:56:27.274Z"
   },
   {
    "duration": 9,
    "start_time": "2024-04-02T07:56:27.301Z"
   },
   {
    "duration": 10,
    "start_time": "2024-04-02T07:56:27.311Z"
   },
   {
    "duration": 36,
    "start_time": "2024-04-02T07:56:27.323Z"
   },
   {
    "duration": 27,
    "start_time": "2024-04-02T07:56:27.360Z"
   },
   {
    "duration": 5,
    "start_time": "2024-04-02T08:00:28.797Z"
   },
   {
    "duration": 4,
    "start_time": "2024-04-02T08:00:41.317Z"
   },
   {
    "duration": 152,
    "start_time": "2024-04-02T08:02:25.643Z"
   },
   {
    "duration": 1284,
    "start_time": "2024-04-02T08:03:04.510Z"
   },
   {
    "duration": 66,
    "start_time": "2024-04-02T08:03:05.796Z"
   },
   {
    "duration": 76,
    "start_time": "2024-04-02T08:03:05.863Z"
   },
   {
    "duration": 55,
    "start_time": "2024-04-02T08:03:05.941Z"
   },
   {
    "duration": 2,
    "start_time": "2024-04-02T08:03:05.999Z"
   },
   {
    "duration": 19,
    "start_time": "2024-04-02T08:03:06.003Z"
   },
   {
    "duration": 44,
    "start_time": "2024-04-02T08:03:06.023Z"
   },
   {
    "duration": 13,
    "start_time": "2024-04-02T08:03:06.069Z"
   },
   {
    "duration": 33,
    "start_time": "2024-04-02T08:03:06.084Z"
   },
   {
    "duration": 5,
    "start_time": "2024-04-02T08:03:06.120Z"
   },
   {
    "duration": 18,
    "start_time": "2024-04-02T08:03:06.126Z"
   },
   {
    "duration": 26,
    "start_time": "2024-04-02T08:03:06.146Z"
   },
   {
    "duration": 16,
    "start_time": "2024-04-02T08:03:06.174Z"
   },
   {
    "duration": 28,
    "start_time": "2024-04-02T08:03:06.192Z"
   },
   {
    "duration": 17,
    "start_time": "2024-04-02T08:03:06.222Z"
   },
   {
    "duration": 6,
    "start_time": "2024-04-02T08:03:06.241Z"
   },
   {
    "duration": 27,
    "start_time": "2024-04-02T08:03:06.248Z"
   },
   {
    "duration": 5,
    "start_time": "2024-04-02T08:03:06.277Z"
   },
   {
    "duration": 13,
    "start_time": "2024-04-02T08:03:06.283Z"
   },
   {
    "duration": 38,
    "start_time": "2024-04-02T08:03:06.298Z"
   },
   {
    "duration": 343,
    "start_time": "2024-04-02T08:03:06.338Z"
   },
   {
    "duration": 244,
    "start_time": "2024-04-02T08:03:06.686Z"
   },
   {
    "duration": 11,
    "start_time": "2024-04-02T08:03:06.932Z"
   },
   {
    "duration": 32,
    "start_time": "2024-04-02T08:03:06.945Z"
   },
   {
    "duration": 20,
    "start_time": "2024-04-02T08:03:06.979Z"
   },
   {
    "duration": 98,
    "start_time": "2024-04-02T08:03:07.001Z"
   },
   {
    "duration": 7,
    "start_time": "2024-04-02T08:03:07.101Z"
   },
   {
    "duration": 217,
    "start_time": "2024-04-02T08:03:07.113Z"
   },
   {
    "duration": 136,
    "start_time": "2024-04-02T08:03:07.332Z"
   },
   {
    "duration": 18,
    "start_time": "2024-04-02T08:03:07.470Z"
   },
   {
    "duration": 35,
    "start_time": "2024-04-02T08:03:07.489Z"
   },
   {
    "duration": 16,
    "start_time": "2024-04-02T08:03:07.526Z"
   },
   {
    "duration": 16,
    "start_time": "2024-04-02T08:03:07.543Z"
   },
   {
    "duration": 23,
    "start_time": "2024-04-02T08:03:07.561Z"
   },
   {
    "duration": 19,
    "start_time": "2024-04-02T08:03:07.586Z"
   },
   {
    "duration": 230,
    "start_time": "2024-04-02T08:03:07.607Z"
   },
   {
    "duration": 252,
    "start_time": "2024-04-02T08:03:07.839Z"
   },
   {
    "duration": 7,
    "start_time": "2024-04-02T08:03:08.093Z"
   },
   {
    "duration": 381,
    "start_time": "2024-04-02T08:03:08.101Z"
   },
   {
    "duration": 4,
    "start_time": "2024-04-02T08:03:08.485Z"
   },
   {
    "duration": 41,
    "start_time": "2024-04-02T08:03:08.491Z"
   },
   {
    "duration": 235,
    "start_time": "2024-04-02T08:03:08.534Z"
   },
   {
    "duration": 8,
    "start_time": "2024-04-02T08:03:08.771Z"
   },
   {
    "duration": 348,
    "start_time": "2024-04-02T08:03:08.780Z"
   },
   {
    "duration": 8,
    "start_time": "2024-04-02T08:03:09.129Z"
   },
   {
    "duration": 22,
    "start_time": "2024-04-02T08:03:09.138Z"
   },
   {
    "duration": 31,
    "start_time": "2024-04-02T08:03:09.162Z"
   },
   {
    "duration": 242,
    "start_time": "2024-04-02T08:03:09.195Z"
   },
   {
    "duration": 4,
    "start_time": "2024-04-02T08:03:09.439Z"
   },
   {
    "duration": 133,
    "start_time": "2024-04-02T08:03:09.445Z"
   },
   {
    "duration": 5,
    "start_time": "2024-04-02T08:03:09.587Z"
   },
   {
    "duration": 262,
    "start_time": "2024-04-02T08:03:09.593Z"
   },
   {
    "duration": 140,
    "start_time": "2024-04-02T08:03:09.857Z"
   },
   {
    "duration": 5,
    "start_time": "2024-04-02T08:03:09.999Z"
   },
   {
    "duration": 49,
    "start_time": "2024-04-02T08:03:10.006Z"
   },
   {
    "duration": 91,
    "start_time": "2024-04-02T08:03:10.057Z"
   },
   {
    "duration": 18,
    "start_time": "2024-04-02T08:03:10.150Z"
   },
   {
    "duration": 42,
    "start_time": "2024-04-02T08:03:10.170Z"
   },
   {
    "duration": 41,
    "start_time": "2024-04-02T08:03:10.214Z"
   },
   {
    "duration": 44,
    "start_time": "2024-04-02T08:03:10.257Z"
   },
   {
    "duration": 28,
    "start_time": "2024-04-02T08:03:10.303Z"
   },
   {
    "duration": 195,
    "start_time": "2024-04-02T08:04:24.392Z"
   },
   {
    "duration": 178,
    "start_time": "2024-04-02T08:05:53.734Z"
   },
   {
    "duration": 182,
    "start_time": "2024-04-02T08:06:17.416Z"
   },
   {
    "duration": 276,
    "start_time": "2024-04-02T08:07:29.913Z"
   },
   {
    "duration": 250,
    "start_time": "2024-04-02T08:07:42.339Z"
   },
   {
    "duration": 325,
    "start_time": "2024-04-02T08:08:04.218Z"
   },
   {
    "duration": 323,
    "start_time": "2024-04-02T08:08:14.451Z"
   },
   {
    "duration": 359,
    "start_time": "2024-04-02T08:08:20.986Z"
   },
   {
    "duration": 339,
    "start_time": "2024-04-02T08:08:30.374Z"
   },
   {
    "duration": 9,
    "start_time": "2024-04-02T08:09:16.630Z"
   },
   {
    "duration": 12,
    "start_time": "2024-04-02T08:09:27.762Z"
   },
   {
    "duration": 142,
    "start_time": "2024-04-02T08:13:09.637Z"
   },
   {
    "duration": 13,
    "start_time": "2024-04-02T08:13:32.020Z"
   },
   {
    "duration": 250,
    "start_time": "2024-04-02T08:13:45.521Z"
   },
   {
    "duration": 180,
    "start_time": "2024-04-02T08:16:35.008Z"
   },
   {
    "duration": 171,
    "start_time": "2024-04-02T08:17:11.047Z"
   },
   {
    "duration": 240,
    "start_time": "2024-04-02T08:23:34.114Z"
   },
   {
    "duration": 177,
    "start_time": "2024-04-02T08:23:47.133Z"
   },
   {
    "duration": 186,
    "start_time": "2024-04-02T08:23:53.371Z"
   },
   {
    "duration": 199,
    "start_time": "2024-04-02T08:24:05.153Z"
   },
   {
    "duration": 199,
    "start_time": "2024-04-02T08:24:13.225Z"
   },
   {
    "duration": 218,
    "start_time": "2024-04-02T08:24:19.032Z"
   },
   {
    "duration": 191,
    "start_time": "2024-04-02T08:42:24.372Z"
   },
   {
    "duration": 188,
    "start_time": "2024-04-02T08:42:29.639Z"
   },
   {
    "duration": 179,
    "start_time": "2024-04-02T08:42:35.879Z"
   },
   {
    "duration": 177,
    "start_time": "2024-04-02T08:43:49.266Z"
   },
   {
    "duration": 195,
    "start_time": "2024-04-02T08:44:09.527Z"
   },
   {
    "duration": 261,
    "start_time": "2024-04-02T08:44:14.053Z"
   },
   {
    "duration": 172,
    "start_time": "2024-04-02T08:44:32.182Z"
   },
   {
    "duration": 179,
    "start_time": "2024-04-02T08:44:36.553Z"
   },
   {
    "duration": 187,
    "start_time": "2024-04-02T08:44:49.196Z"
   },
   {
    "duration": 201,
    "start_time": "2024-04-02T08:44:55.655Z"
   },
   {
    "duration": 5,
    "start_time": "2024-04-02T08:46:23.656Z"
   },
   {
    "duration": 190,
    "start_time": "2024-04-02T08:47:43.286Z"
   },
   {
    "duration": 206,
    "start_time": "2024-04-02T08:47:54.789Z"
   },
   {
    "duration": 203,
    "start_time": "2024-04-02T08:48:01.895Z"
   },
   {
    "duration": 188,
    "start_time": "2024-04-02T08:48:12.996Z"
   },
   {
    "duration": 206,
    "start_time": "2024-04-02T08:48:33.358Z"
   },
   {
    "duration": 230,
    "start_time": "2024-04-02T08:57:02.072Z"
   },
   {
    "duration": 37,
    "start_time": "2024-04-02T08:58:55.583Z"
   },
   {
    "duration": 14,
    "start_time": "2024-04-02T09:00:25.537Z"
   },
   {
    "duration": 12,
    "start_time": "2024-04-02T09:00:30.566Z"
   },
   {
    "duration": 12,
    "start_time": "2024-04-02T09:00:41.730Z"
   },
   {
    "duration": 166,
    "start_time": "2024-04-02T09:00:41.744Z"
   },
   {
    "duration": 5,
    "start_time": "2024-04-02T09:00:41.912Z"
   },
   {
    "duration": 10,
    "start_time": "2024-04-02T09:00:41.919Z"
   },
   {
    "duration": 46,
    "start_time": "2024-04-02T09:00:41.931Z"
   },
   {
    "duration": 11,
    "start_time": "2024-04-02T09:00:41.980Z"
   },
   {
    "duration": 20,
    "start_time": "2024-04-02T09:00:41.993Z"
   },
   {
    "duration": 10,
    "start_time": "2024-04-02T09:00:42.015Z"
   },
   {
    "duration": 36,
    "start_time": "2024-04-02T09:00:42.027Z"
   },
   {
    "duration": 14,
    "start_time": "2024-04-02T09:00:42.065Z"
   },
   {
    "duration": 14,
    "start_time": "2024-04-02T09:01:54.724Z"
   },
   {
    "duration": 102,
    "start_time": "2024-04-02T09:02:58.117Z"
   },
   {
    "duration": 36,
    "start_time": "2024-04-02T09:03:22.592Z"
   },
   {
    "duration": 33,
    "start_time": "2024-04-02T09:03:41.204Z"
   },
   {
    "duration": 25,
    "start_time": "2024-04-02T09:04:19.125Z"
   },
   {
    "duration": 36,
    "start_time": "2024-04-02T09:06:09.487Z"
   },
   {
    "duration": 26,
    "start_time": "2024-04-02T09:06:14.803Z"
   },
   {
    "duration": 26,
    "start_time": "2024-04-02T09:06:23.172Z"
   },
   {
    "duration": 26,
    "start_time": "2024-04-02T09:06:29.342Z"
   },
   {
    "duration": 32,
    "start_time": "2024-04-02T09:06:33.832Z"
   },
   {
    "duration": 27,
    "start_time": "2024-04-02T09:06:38.399Z"
   },
   {
    "duration": 27,
    "start_time": "2024-04-02T09:06:41.939Z"
   },
   {
    "duration": 27,
    "start_time": "2024-04-02T09:07:05.460Z"
   },
   {
    "duration": 27,
    "start_time": "2024-04-02T09:07:33.037Z"
   },
   {
    "duration": 27,
    "start_time": "2024-04-02T09:07:35.764Z"
   },
   {
    "duration": 25,
    "start_time": "2024-04-02T09:07:51.367Z"
   },
   {
    "duration": 26,
    "start_time": "2024-04-02T09:07:57.186Z"
   },
   {
    "duration": 107,
    "start_time": "2024-04-02T09:12:05.388Z"
   },
   {
    "duration": 103,
    "start_time": "2024-04-02T09:12:40.760Z"
   },
   {
    "duration": 130,
    "start_time": "2024-04-02T09:13:01.826Z"
   },
   {
    "duration": 97,
    "start_time": "2024-04-02T09:13:07.596Z"
   },
   {
    "duration": 108,
    "start_time": "2024-04-02T09:13:41.489Z"
   },
   {
    "duration": 9,
    "start_time": "2024-04-02T09:14:44.856Z"
   },
   {
    "duration": 8,
    "start_time": "2024-04-02T09:14:56.212Z"
   },
   {
    "duration": 10,
    "start_time": "2024-04-02T09:16:32.883Z"
   },
   {
    "duration": 96,
    "start_time": "2024-04-02T09:16:52.457Z"
   },
   {
    "duration": 102,
    "start_time": "2024-04-02T09:17:03.161Z"
   },
   {
    "duration": 10,
    "start_time": "2024-04-02T09:17:11.910Z"
   },
   {
    "duration": 10,
    "start_time": "2024-04-02T09:17:21.123Z"
   },
   {
    "duration": 10,
    "start_time": "2024-04-02T09:17:40.188Z"
   },
   {
    "duration": 11,
    "start_time": "2024-04-02T09:19:36.990Z"
   },
   {
    "duration": 12,
    "start_time": "2024-04-02T09:20:01.376Z"
   },
   {
    "duration": 10,
    "start_time": "2024-04-02T09:20:09.644Z"
   },
   {
    "duration": 1424,
    "start_time": "2024-04-02T09:20:46.503Z"
   },
   {
    "duration": 12,
    "start_time": "2024-04-02T09:21:37.894Z"
   },
   {
    "duration": 12,
    "start_time": "2024-04-02T09:22:42.839Z"
   },
   {
    "duration": 12,
    "start_time": "2024-04-02T09:22:48.434Z"
   },
   {
    "duration": 10,
    "start_time": "2024-04-02T09:22:50.750Z"
   },
   {
    "duration": 10,
    "start_time": "2024-04-02T09:22:59.523Z"
   },
   {
    "duration": 10,
    "start_time": "2024-04-02T09:23:03.094Z"
   },
   {
    "duration": 28,
    "start_time": "2024-04-02T09:24:31.005Z"
   },
   {
    "duration": 27,
    "start_time": "2024-04-02T09:24:39.839Z"
   },
   {
    "duration": 27,
    "start_time": "2024-04-02T09:24:50.239Z"
   },
   {
    "duration": 26,
    "start_time": "2024-04-02T09:24:55.525Z"
   },
   {
    "duration": 96,
    "start_time": "2024-04-02T09:27:19.553Z"
   },
   {
    "duration": 104,
    "start_time": "2024-04-02T09:29:03.340Z"
   },
   {
    "duration": 4,
    "start_time": "2024-04-02T09:29:25.995Z"
   },
   {
    "duration": 15,
    "start_time": "2024-04-02T09:30:36.640Z"
   },
   {
    "duration": 14,
    "start_time": "2024-04-02T09:30:54.778Z"
   },
   {
    "duration": 16,
    "start_time": "2024-04-02T09:32:08.225Z"
   },
   {
    "duration": 18,
    "start_time": "2024-04-02T09:33:04.387Z"
   },
   {
    "duration": 17,
    "start_time": "2024-04-02T09:33:09.860Z"
   },
   {
    "duration": 19,
    "start_time": "2024-04-02T09:33:13.629Z"
   },
   {
    "duration": 176,
    "start_time": "2024-04-02T10:05:42.201Z"
   },
   {
    "duration": 179,
    "start_time": "2024-04-02T10:06:02.860Z"
   },
   {
    "duration": 1230,
    "start_time": "2024-04-02T10:21:16.976Z"
   },
   {
    "duration": 67,
    "start_time": "2024-04-02T10:21:18.208Z"
   },
   {
    "duration": 77,
    "start_time": "2024-04-02T10:21:18.276Z"
   },
   {
    "duration": 52,
    "start_time": "2024-04-02T10:21:18.356Z"
   },
   {
    "duration": 2,
    "start_time": "2024-04-02T10:21:18.410Z"
   },
   {
    "duration": 8,
    "start_time": "2024-04-02T10:21:18.414Z"
   },
   {
    "duration": 32,
    "start_time": "2024-04-02T10:21:18.423Z"
   },
   {
    "duration": 17,
    "start_time": "2024-04-02T10:21:18.457Z"
   },
   {
    "duration": 37,
    "start_time": "2024-04-02T10:21:18.476Z"
   },
   {
    "duration": 25,
    "start_time": "2024-04-02T10:21:18.516Z"
   },
   {
    "duration": 38,
    "start_time": "2024-04-02T10:21:18.542Z"
   },
   {
    "duration": 17,
    "start_time": "2024-04-02T10:21:18.582Z"
   },
   {
    "duration": 20,
    "start_time": "2024-04-02T10:21:18.600Z"
   },
   {
    "duration": 34,
    "start_time": "2024-04-02T10:21:18.621Z"
   },
   {
    "duration": 15,
    "start_time": "2024-04-02T10:21:18.657Z"
   },
   {
    "duration": 13,
    "start_time": "2024-04-02T10:21:18.673Z"
   },
   {
    "duration": 36,
    "start_time": "2024-04-02T10:21:18.688Z"
   },
   {
    "duration": 15,
    "start_time": "2024-04-02T10:21:18.726Z"
   },
   {
    "duration": 15,
    "start_time": "2024-04-02T10:21:18.743Z"
   },
   {
    "duration": 41,
    "start_time": "2024-04-02T10:21:18.760Z"
   },
   {
    "duration": 318,
    "start_time": "2024-04-02T10:21:18.803Z"
   },
   {
    "duration": 249,
    "start_time": "2024-04-02T10:21:19.123Z"
   },
   {
    "duration": 14,
    "start_time": "2024-04-02T10:21:19.374Z"
   },
   {
    "duration": 14,
    "start_time": "2024-04-02T10:21:19.390Z"
   },
   {
    "duration": 20,
    "start_time": "2024-04-02T10:21:19.406Z"
   },
   {
    "duration": 63,
    "start_time": "2024-04-02T10:21:19.428Z"
   },
   {
    "duration": 5,
    "start_time": "2024-04-02T10:21:19.493Z"
   },
   {
    "duration": 196,
    "start_time": "2024-04-02T10:21:19.502Z"
   },
   {
    "duration": 131,
    "start_time": "2024-04-02T10:21:19.699Z"
   },
   {
    "duration": 7,
    "start_time": "2024-04-02T10:21:19.832Z"
   },
   {
    "duration": 31,
    "start_time": "2024-04-02T10:21:19.840Z"
   },
   {
    "duration": 10,
    "start_time": "2024-04-02T10:21:19.873Z"
   },
   {
    "duration": 20,
    "start_time": "2024-04-02T10:21:19.884Z"
   },
   {
    "duration": 11,
    "start_time": "2024-04-02T10:21:19.905Z"
   },
   {
    "duration": 13,
    "start_time": "2024-04-02T10:21:19.917Z"
   },
   {
    "duration": 233,
    "start_time": "2024-04-02T10:21:19.931Z"
   },
   {
    "duration": 225,
    "start_time": "2024-04-02T10:21:20.166Z"
   },
   {
    "duration": 6,
    "start_time": "2024-04-02T10:21:20.393Z"
   },
   {
    "duration": 368,
    "start_time": "2024-04-02T10:21:20.400Z"
   },
   {
    "duration": 4,
    "start_time": "2024-04-02T10:21:20.770Z"
   },
   {
    "duration": 100,
    "start_time": "2024-04-02T10:21:20.776Z"
   },
   {
    "duration": 227,
    "start_time": "2024-04-02T10:21:20.878Z"
   },
   {
    "duration": 8,
    "start_time": "2024-04-02T10:21:21.107Z"
   },
   {
    "duration": 311,
    "start_time": "2024-04-02T10:21:21.116Z"
   },
   {
    "duration": 7,
    "start_time": "2024-04-02T10:21:21.429Z"
   },
   {
    "duration": 15,
    "start_time": "2024-04-02T10:21:21.437Z"
   },
   {
    "duration": 21,
    "start_time": "2024-04-02T10:21:21.454Z"
   },
   {
    "duration": 259,
    "start_time": "2024-04-02T10:21:21.477Z"
   },
   {
    "duration": 5,
    "start_time": "2024-04-02T10:21:21.737Z"
   },
   {
    "duration": 203,
    "start_time": "2024-04-02T10:21:21.743Z"
   },
   {
    "duration": 207,
    "start_time": "2024-04-02T10:21:21.948Z"
   },
   {
    "duration": 5,
    "start_time": "2024-04-02T10:21:22.156Z"
   },
   {
    "duration": 25,
    "start_time": "2024-04-02T10:21:22.162Z"
   },
   {
    "duration": 133,
    "start_time": "2024-04-02T10:21:22.189Z"
   },
   {
    "duration": 4,
    "start_time": "2024-04-02T10:21:22.324Z"
   },
   {
    "duration": 4,
    "start_time": "2024-04-02T10:21:22.330Z"
   },
   {
    "duration": 29,
    "start_time": "2024-04-02T10:21:22.336Z"
   },
   {
    "duration": 28,
    "start_time": "2024-04-02T10:21:22.367Z"
   },
   {
    "duration": 18,
    "start_time": "2024-04-02T10:21:22.397Z"
   },
   {
    "duration": 8,
    "start_time": "2024-04-02T10:21:22.417Z"
   },
   {
    "duration": 31,
    "start_time": "2024-04-02T10:21:22.427Z"
   },
   {
    "duration": 34,
    "start_time": "2024-04-02T10:21:22.460Z"
   },
   {
    "duration": 1177,
    "start_time": "2024-04-02T10:44:56.520Z"
   },
   {
    "duration": 123,
    "start_time": "2024-04-02T10:44:57.698Z"
   },
   {
    "duration": 122,
    "start_time": "2024-04-02T10:44:57.822Z"
   },
   {
    "duration": 102,
    "start_time": "2024-04-02T10:44:57.946Z"
   },
   {
    "duration": 2,
    "start_time": "2024-04-02T10:44:58.050Z"
   },
   {
    "duration": 5,
    "start_time": "2024-04-02T10:44:58.054Z"
   },
   {
    "duration": 31,
    "start_time": "2024-04-02T10:44:58.061Z"
   },
   {
    "duration": 3,
    "start_time": "2024-04-02T10:44:58.093Z"
   },
   {
    "duration": 27,
    "start_time": "2024-04-02T10:44:58.098Z"
   },
   {
    "duration": 5,
    "start_time": "2024-04-02T10:44:58.127Z"
   },
   {
    "duration": 16,
    "start_time": "2024-04-02T10:44:58.133Z"
   },
   {
    "duration": 20,
    "start_time": "2024-04-02T10:44:58.151Z"
   },
   {
    "duration": 11,
    "start_time": "2024-04-02T10:44:58.172Z"
   },
   {
    "duration": 13,
    "start_time": "2024-04-02T10:44:58.188Z"
   },
   {
    "duration": 16,
    "start_time": "2024-04-02T10:44:58.203Z"
   },
   {
    "duration": 6,
    "start_time": "2024-04-02T10:44:58.221Z"
   },
   {
    "duration": 23,
    "start_time": "2024-04-02T10:44:58.229Z"
   },
   {
    "duration": 5,
    "start_time": "2024-04-02T10:44:58.253Z"
   },
   {
    "duration": 29,
    "start_time": "2024-04-02T10:44:58.259Z"
   },
   {
    "duration": 4,
    "start_time": "2024-04-02T10:44:58.290Z"
   },
   {
    "duration": 337,
    "start_time": "2024-04-02T10:44:58.295Z"
   },
   {
    "duration": 251,
    "start_time": "2024-04-02T10:44:58.634Z"
   },
   {
    "duration": 8,
    "start_time": "2024-04-02T10:44:58.887Z"
   },
   {
    "duration": 53,
    "start_time": "2024-04-02T10:44:58.896Z"
   },
   {
    "duration": 13,
    "start_time": "2024-04-02T10:44:58.951Z"
   },
   {
    "duration": 64,
    "start_time": "2024-04-02T10:44:58.965Z"
   },
   {
    "duration": 5,
    "start_time": "2024-04-02T10:44:59.030Z"
   },
   {
    "duration": 182,
    "start_time": "2024-04-02T10:44:59.039Z"
   },
   {
    "duration": 136,
    "start_time": "2024-04-02T10:44:59.223Z"
   },
   {
    "duration": 6,
    "start_time": "2024-04-02T10:44:59.360Z"
   },
   {
    "duration": 31,
    "start_time": "2024-04-02T10:44:59.368Z"
   },
   {
    "duration": 13,
    "start_time": "2024-04-02T10:44:59.401Z"
   },
   {
    "duration": 22,
    "start_time": "2024-04-02T10:44:59.415Z"
   },
   {
    "duration": 8,
    "start_time": "2024-04-02T10:44:59.438Z"
   },
   {
    "duration": 24,
    "start_time": "2024-04-02T10:44:59.447Z"
   },
   {
    "duration": 229,
    "start_time": "2024-04-02T10:44:59.472Z"
   },
   {
    "duration": 222,
    "start_time": "2024-04-02T10:44:59.703Z"
   },
   {
    "duration": 6,
    "start_time": "2024-04-02T10:44:59.927Z"
   },
   {
    "duration": 291,
    "start_time": "2024-04-02T10:44:59.934Z"
   },
   {
    "duration": 4,
    "start_time": "2024-04-02T10:45:00.226Z"
   },
   {
    "duration": 98,
    "start_time": "2024-04-02T10:45:00.232Z"
   },
   {
    "duration": 281,
    "start_time": "2024-04-02T10:45:00.332Z"
   },
   {
    "duration": 7,
    "start_time": "2024-04-02T10:45:00.615Z"
   },
   {
    "duration": 377,
    "start_time": "2024-04-02T10:45:00.623Z"
   },
   {
    "duration": 6,
    "start_time": "2024-04-02T10:45:01.002Z"
   },
   {
    "duration": 148,
    "start_time": "2024-04-02T10:45:01.009Z"
   },
   {
    "duration": 94,
    "start_time": "2024-04-02T10:45:01.159Z"
   },
   {
    "duration": 316,
    "start_time": "2024-04-02T10:45:01.254Z"
   },
   {
    "duration": 5,
    "start_time": "2024-04-02T10:45:01.572Z"
   },
   {
    "duration": 334,
    "start_time": "2024-04-02T10:45:01.579Z"
   },
   {
    "duration": 200,
    "start_time": "2024-04-02T10:45:01.915Z"
   },
   {
    "duration": 5,
    "start_time": "2024-04-02T10:45:02.117Z"
   },
   {
    "duration": 197,
    "start_time": "2024-04-02T10:45:02.124Z"
   },
   {
    "duration": 147,
    "start_time": "2024-04-02T10:45:02.323Z"
   },
   {
    "duration": 17,
    "start_time": "2024-04-02T10:45:02.471Z"
   },
   {
    "duration": 45,
    "start_time": "2024-04-02T10:45:02.489Z"
   },
   {
    "duration": 42,
    "start_time": "2024-04-02T10:45:02.536Z"
   },
   {
    "duration": 12,
    "start_time": "2024-04-02T10:45:02.579Z"
   },
   {
    "duration": 34,
    "start_time": "2024-04-02T10:45:02.593Z"
   },
   {
    "duration": 32,
    "start_time": "2024-04-02T10:45:02.628Z"
   },
   {
    "duration": 50,
    "start_time": "2024-04-02T10:45:02.662Z"
   },
   {
    "duration": 37,
    "start_time": "2024-04-02T10:45:02.714Z"
   }
  ],
  "kernelspec": {
   "display_name": "Python 3 (ipykernel)",
   "language": "python",
   "name": "python3"
  },
  "language_info": {
   "codemirror_mode": {
    "name": "ipython",
    "version": 3
   },
   "file_extension": ".py",
   "mimetype": "text/x-python",
   "name": "python",
   "nbconvert_exporter": "python",
   "pygments_lexer": "ipython3",
   "version": "3.11.7"
  },
  "toc": {
   "base_numbering": 1,
   "nav_menu": {
    "height": "423px",
    "width": "366px"
   },
   "number_sections": true,
   "sideBar": true,
   "skip_h1_title": true,
   "title_cell": "Table of Contents",
   "title_sidebar": "Contents",
   "toc_cell": false,
   "toc_position": {
    "height": "calc(100% - 180px)",
    "left": "10px",
    "top": "150px",
    "width": "307.2px"
   },
   "toc_section_display": true,
   "toc_window_display": true
  }
 },
 "nbformat": 4,
 "nbformat_minor": 5
}
