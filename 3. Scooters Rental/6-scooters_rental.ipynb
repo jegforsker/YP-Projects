{
 "cells": [
  {
   "cell_type": "markdown",
   "id": "9f61126f",
   "metadata": {},
   "source": [
    "# Исследование сервиса аренды самокатов GoFast"
   ]
  },
  {
   "cell_type": "markdown",
   "id": "f4a6bf2f",
   "metadata": {},
   "source": [
    "Для популярного сервиса аренды самокатов GoFast необходимо проанализировать данные о некоторых пользователях из нескольких городов и их поездках и проверить гипотезы, которые могут помочь бизнесу вырасти. \n",
    "Чтобы совершать поездки по городу, пользователи сервиса GoFast пользуются мобильным приложением.  \n",
    "Сервисом можно пользоваться:  \n",
    "\n",
    "без подписки  \n",
    "абонентская плата отсутствует;\n",
    "стоимость одной минуты поездки — 8 рублей;  \n",
    "стоимость старта (начала поездки) — 50 рублей;    \n",
    "\n",
    "с подпиской Ultra  \n",
    "абонентская плата — 199 рублей в месяц;  \n",
    "стоимость одной минуты поездки — 6 рублей;  \n",
    "стоимость старта — бесплатно."
   ]
  },
  {
   "cell_type": "markdown",
   "id": "bd5a7333",
   "metadata": {},
   "source": [
    "В ходе анализа проведём:\n",
    "- предобработку данных: проверим датафреймы на наличие пропусков и дубликатов, приведём столбцы к необходимым форматам,а также создадим новый столбец; \n",
    "- исследовательский анализ: приведём описание и визуализацию общей информации о пользователях и поездках, рассмотрим такие характеристики, как частота встречаемости городов, соотношение пользователей с подпиской и без подписки, возраст пользователей, расстояние, которое пользователь преодолел за одну поездку, продолжительность поездок;\n",
    "- объединение данных: объединим данные о пользователях, поездках и подписках в один датафрейм, на основе которого создадим ещё два дополнительных датафрейма (с данными о пользователях без подписки и с данными о пользователях с подпиской), а также визуализируем информацию о расстоянии и времени поездок для пользователей обеих категорий;\n",
    "- подсчёт выручки: создадим датафрейм с агрегированными данными о поездках на основе датафрейма с объединёнными данными из предыдущего шага и найдём суммарное расстояние, количество поездок и суммарное время для каждого пользователя за каждый месяц, в полученный датафрейм добавим столбец с помесячной выручкой, которую принёс каждый пользователь;\n",
    "- проверку гипотез: проверить какие акции приведут к увеличению количества пользователей с подпиской."
   ]
  },
  {
   "cell_type": "code",
   "execution_count": 1,
   "id": "72576667",
   "metadata": {},
   "outputs": [],
   "source": [
    "# импортируем необходимые библиотеки\n",
    "import pandas as pd\n",
    "\n",
    "import seaborn as sns\n",
    "\n",
    "from scipy import stats as st\n",
    "from scipy.stats import binom\n",
    "from scipy.stats import binomtest\n",
    "\n",
    "import numpy as np\n",
    "\n",
    "import matplotlib.pyplot as plt\n",
    "\n",
    "from math import factorial\n",
    "from math import sqrt\n",
    "\n",
    "# настроим среду\n",
    "sns.set(rc={'figure.figsize':(15,5)})\n",
    "pd.set_option('display.max_columns', None)"
   ]
  },
  {
   "cell_type": "markdown",
   "id": "c42cbe00",
   "metadata": {},
   "source": [
    "## Изучение данных"
   ]
  },
  {
   "cell_type": "code",
   "execution_count": 2,
   "id": "eff9f206",
   "metadata": {},
   "outputs": [],
   "source": [
    "users = pd.read_csv('C:/Users/drweb/datasets/users_go.csv')\n",
    "rides = pd.read_csv('C:/Users/drweb/datasets/rides_go.csv')\n",
    "subscriptions = pd.read_csv('C:/Users/drweb/datasets/subscriptions_go.csv')"
   ]
  },
  {
   "cell_type": "markdown",
   "id": "4b85060f",
   "metadata": {},
   "source": [
    "Выведем основную информацию и первые строки датафреймов."
   ]
  },
  {
   "cell_type": "code",
   "execution_count": 3,
   "id": "af6d202c",
   "metadata": {},
   "outputs": [
    {
     "name": "stdout",
     "output_type": "stream",
     "text": [
      "<class 'pandas.core.frame.DataFrame'>\n",
      "RangeIndex: 1565 entries, 0 to 1564\n",
      "Data columns (total 5 columns):\n",
      " #   Column             Non-Null Count  Dtype \n",
      "---  ------             --------------  ----- \n",
      " 0   user_id            1565 non-null   int64 \n",
      " 1   name               1565 non-null   object\n",
      " 2   age                1565 non-null   int64 \n",
      " 3   city               1565 non-null   object\n",
      " 4   subscription_type  1565 non-null   object\n",
      "dtypes: int64(2), object(3)\n",
      "memory usage: 61.3+ KB\n"
     ]
    },
    {
     "data": {
      "text/html": [
       "<div>\n",
       "<style scoped>\n",
       "    .dataframe tbody tr th:only-of-type {\n",
       "        vertical-align: middle;\n",
       "    }\n",
       "\n",
       "    .dataframe tbody tr th {\n",
       "        vertical-align: top;\n",
       "    }\n",
       "\n",
       "    .dataframe thead th {\n",
       "        text-align: right;\n",
       "    }\n",
       "</style>\n",
       "<table border=\"1\" class=\"dataframe\">\n",
       "  <thead>\n",
       "    <tr style=\"text-align: right;\">\n",
       "      <th></th>\n",
       "      <th>user_id</th>\n",
       "      <th>name</th>\n",
       "      <th>age</th>\n",
       "      <th>city</th>\n",
       "      <th>subscription_type</th>\n",
       "    </tr>\n",
       "  </thead>\n",
       "  <tbody>\n",
       "    <tr>\n",
       "      <th>0</th>\n",
       "      <td>1</td>\n",
       "      <td>Кира</td>\n",
       "      <td>22</td>\n",
       "      <td>Тюмень</td>\n",
       "      <td>ultra</td>\n",
       "    </tr>\n",
       "    <tr>\n",
       "      <th>1</th>\n",
       "      <td>2</td>\n",
       "      <td>Станислав</td>\n",
       "      <td>31</td>\n",
       "      <td>Омск</td>\n",
       "      <td>ultra</td>\n",
       "    </tr>\n",
       "    <tr>\n",
       "      <th>2</th>\n",
       "      <td>3</td>\n",
       "      <td>Алексей</td>\n",
       "      <td>20</td>\n",
       "      <td>Москва</td>\n",
       "      <td>ultra</td>\n",
       "    </tr>\n",
       "    <tr>\n",
       "      <th>3</th>\n",
       "      <td>4</td>\n",
       "      <td>Константин</td>\n",
       "      <td>26</td>\n",
       "      <td>Ростов-на-Дону</td>\n",
       "      <td>ultra</td>\n",
       "    </tr>\n",
       "    <tr>\n",
       "      <th>4</th>\n",
       "      <td>5</td>\n",
       "      <td>Адель</td>\n",
       "      <td>28</td>\n",
       "      <td>Омск</td>\n",
       "      <td>ultra</td>\n",
       "    </tr>\n",
       "    <tr>\n",
       "      <th>5</th>\n",
       "      <td>6</td>\n",
       "      <td>Регина</td>\n",
       "      <td>25</td>\n",
       "      <td>Краснодар</td>\n",
       "      <td>ultra</td>\n",
       "    </tr>\n",
       "    <tr>\n",
       "      <th>6</th>\n",
       "      <td>7</td>\n",
       "      <td>Игорь</td>\n",
       "      <td>23</td>\n",
       "      <td>Омск</td>\n",
       "      <td>ultra</td>\n",
       "    </tr>\n",
       "    <tr>\n",
       "      <th>7</th>\n",
       "      <td>8</td>\n",
       "      <td>Юрий</td>\n",
       "      <td>23</td>\n",
       "      <td>Краснодар</td>\n",
       "      <td>ultra</td>\n",
       "    </tr>\n",
       "    <tr>\n",
       "      <th>8</th>\n",
       "      <td>9</td>\n",
       "      <td>Ян</td>\n",
       "      <td>21</td>\n",
       "      <td>Пятигорск</td>\n",
       "      <td>ultra</td>\n",
       "    </tr>\n",
       "    <tr>\n",
       "      <th>9</th>\n",
       "      <td>10</td>\n",
       "      <td>Валерий</td>\n",
       "      <td>18</td>\n",
       "      <td>Екатеринбург</td>\n",
       "      <td>ultra</td>\n",
       "    </tr>\n",
       "  </tbody>\n",
       "</table>\n",
       "</div>"
      ],
      "text/plain": [
       "   user_id        name  age            city subscription_type\n",
       "0        1        Кира   22          Тюмень             ultra\n",
       "1        2   Станислав   31            Омск             ultra\n",
       "2        3     Алексей   20          Москва             ultra\n",
       "3        4  Константин   26  Ростов-на-Дону             ultra\n",
       "4        5       Адель   28            Омск             ultra\n",
       "5        6      Регина   25       Краснодар             ultra\n",
       "6        7       Игорь   23            Омск             ultra\n",
       "7        8        Юрий   23       Краснодар             ultra\n",
       "8        9          Ян   21       Пятигорск             ultra\n",
       "9       10     Валерий   18    Екатеринбург             ultra"
      ]
     },
     "execution_count": 3,
     "metadata": {},
     "output_type": "execute_result"
    }
   ],
   "source": [
    "users.info()\n",
    "users.head(10)"
   ]
  },
  {
   "cell_type": "code",
   "execution_count": 4,
   "id": "1a02696d",
   "metadata": {},
   "outputs": [
    {
     "name": "stdout",
     "output_type": "stream",
     "text": [
      "<class 'pandas.core.frame.DataFrame'>\n",
      "RangeIndex: 18068 entries, 0 to 18067\n",
      "Data columns (total 4 columns):\n",
      " #   Column    Non-Null Count  Dtype  \n",
      "---  ------    --------------  -----  \n",
      " 0   user_id   18068 non-null  int64  \n",
      " 1   distance  18068 non-null  float64\n",
      " 2   duration  18068 non-null  float64\n",
      " 3   date      18068 non-null  object \n",
      "dtypes: float64(2), int64(1), object(1)\n",
      "memory usage: 564.8+ KB\n"
     ]
    },
    {
     "data": {
      "text/html": [
       "<div>\n",
       "<style scoped>\n",
       "    .dataframe tbody tr th:only-of-type {\n",
       "        vertical-align: middle;\n",
       "    }\n",
       "\n",
       "    .dataframe tbody tr th {\n",
       "        vertical-align: top;\n",
       "    }\n",
       "\n",
       "    .dataframe thead th {\n",
       "        text-align: right;\n",
       "    }\n",
       "</style>\n",
       "<table border=\"1\" class=\"dataframe\">\n",
       "  <thead>\n",
       "    <tr style=\"text-align: right;\">\n",
       "      <th></th>\n",
       "      <th>user_id</th>\n",
       "      <th>distance</th>\n",
       "      <th>duration</th>\n",
       "      <th>date</th>\n",
       "    </tr>\n",
       "  </thead>\n",
       "  <tbody>\n",
       "    <tr>\n",
       "      <th>0</th>\n",
       "      <td>1</td>\n",
       "      <td>4409.919140</td>\n",
       "      <td>25.599769</td>\n",
       "      <td>2021-01-01</td>\n",
       "    </tr>\n",
       "    <tr>\n",
       "      <th>1</th>\n",
       "      <td>1</td>\n",
       "      <td>2617.592153</td>\n",
       "      <td>15.816871</td>\n",
       "      <td>2021-01-18</td>\n",
       "    </tr>\n",
       "    <tr>\n",
       "      <th>2</th>\n",
       "      <td>1</td>\n",
       "      <td>754.159807</td>\n",
       "      <td>6.232113</td>\n",
       "      <td>2021-04-20</td>\n",
       "    </tr>\n",
       "    <tr>\n",
       "      <th>3</th>\n",
       "      <td>1</td>\n",
       "      <td>2694.783254</td>\n",
       "      <td>18.511000</td>\n",
       "      <td>2021-08-11</td>\n",
       "    </tr>\n",
       "    <tr>\n",
       "      <th>4</th>\n",
       "      <td>1</td>\n",
       "      <td>4028.687306</td>\n",
       "      <td>26.265803</td>\n",
       "      <td>2021-08-28</td>\n",
       "    </tr>\n",
       "    <tr>\n",
       "      <th>5</th>\n",
       "      <td>1</td>\n",
       "      <td>2770.890808</td>\n",
       "      <td>16.650138</td>\n",
       "      <td>2021-10-09</td>\n",
       "    </tr>\n",
       "    <tr>\n",
       "      <th>6</th>\n",
       "      <td>1</td>\n",
       "      <td>3039.020292</td>\n",
       "      <td>14.927879</td>\n",
       "      <td>2021-10-19</td>\n",
       "    </tr>\n",
       "    <tr>\n",
       "      <th>7</th>\n",
       "      <td>1</td>\n",
       "      <td>2842.118050</td>\n",
       "      <td>23.117468</td>\n",
       "      <td>2021-11-06</td>\n",
       "    </tr>\n",
       "    <tr>\n",
       "      <th>8</th>\n",
       "      <td>1</td>\n",
       "      <td>3412.690668</td>\n",
       "      <td>15.238072</td>\n",
       "      <td>2021-11-14</td>\n",
       "    </tr>\n",
       "    <tr>\n",
       "      <th>9</th>\n",
       "      <td>1</td>\n",
       "      <td>748.690645</td>\n",
       "      <td>15.041884</td>\n",
       "      <td>2021-11-22</td>\n",
       "    </tr>\n",
       "  </tbody>\n",
       "</table>\n",
       "</div>"
      ],
      "text/plain": [
       "   user_id     distance   duration        date\n",
       "0        1  4409.919140  25.599769  2021-01-01\n",
       "1        1  2617.592153  15.816871  2021-01-18\n",
       "2        1   754.159807   6.232113  2021-04-20\n",
       "3        1  2694.783254  18.511000  2021-08-11\n",
       "4        1  4028.687306  26.265803  2021-08-28\n",
       "5        1  2770.890808  16.650138  2021-10-09\n",
       "6        1  3039.020292  14.927879  2021-10-19\n",
       "7        1  2842.118050  23.117468  2021-11-06\n",
       "8        1  3412.690668  15.238072  2021-11-14\n",
       "9        1   748.690645  15.041884  2021-11-22"
      ]
     },
     "execution_count": 4,
     "metadata": {},
     "output_type": "execute_result"
    }
   ],
   "source": [
    "rides.info()\n",
    "rides.head(10)"
   ]
  },
  {
   "cell_type": "code",
   "execution_count": 5,
   "id": "0eae4588",
   "metadata": {
    "scrolled": true
   },
   "outputs": [
    {
     "name": "stdout",
     "output_type": "stream",
     "text": [
      "<class 'pandas.core.frame.DataFrame'>\n",
      "RangeIndex: 2 entries, 0 to 1\n",
      "Data columns (total 4 columns):\n",
      " #   Column             Non-Null Count  Dtype \n",
      "---  ------             --------------  ----- \n",
      " 0   subscription_type  2 non-null      object\n",
      " 1   minute_price       2 non-null      int64 \n",
      " 2   start_ride_price   2 non-null      int64 \n",
      " 3   subscription_fee   2 non-null      int64 \n",
      "dtypes: int64(3), object(1)\n",
      "memory usage: 196.0+ bytes\n"
     ]
    },
    {
     "data": {
      "text/html": [
       "<div>\n",
       "<style scoped>\n",
       "    .dataframe tbody tr th:only-of-type {\n",
       "        vertical-align: middle;\n",
       "    }\n",
       "\n",
       "    .dataframe tbody tr th {\n",
       "        vertical-align: top;\n",
       "    }\n",
       "\n",
       "    .dataframe thead th {\n",
       "        text-align: right;\n",
       "    }\n",
       "</style>\n",
       "<table border=\"1\" class=\"dataframe\">\n",
       "  <thead>\n",
       "    <tr style=\"text-align: right;\">\n",
       "      <th></th>\n",
       "      <th>subscription_type</th>\n",
       "      <th>minute_price</th>\n",
       "      <th>start_ride_price</th>\n",
       "      <th>subscription_fee</th>\n",
       "    </tr>\n",
       "  </thead>\n",
       "  <tbody>\n",
       "    <tr>\n",
       "      <th>0</th>\n",
       "      <td>free</td>\n",
       "      <td>8</td>\n",
       "      <td>50</td>\n",
       "      <td>0</td>\n",
       "    </tr>\n",
       "    <tr>\n",
       "      <th>1</th>\n",
       "      <td>ultra</td>\n",
       "      <td>6</td>\n",
       "      <td>0</td>\n",
       "      <td>199</td>\n",
       "    </tr>\n",
       "  </tbody>\n",
       "</table>\n",
       "</div>"
      ],
      "text/plain": [
       "  subscription_type  minute_price  start_ride_price  subscription_fee\n",
       "0              free             8                50                 0\n",
       "1             ultra             6                 0               199"
      ]
     },
     "execution_count": 5,
     "metadata": {},
     "output_type": "execute_result"
    }
   ],
   "source": [
    "subscriptions.info()\n",
    "subscriptions.head(10)"
   ]
  },
  {
   "cell_type": "markdown",
   "id": "6e620a42",
   "metadata": {},
   "source": [
    "В датафрейме users представлено 1565 строк и 5 столбцов(user_id, age с целочисленным типом данных; name, city, subscription_type с типом данных object).\\\n",
    "В rides - 18068 строк и 4 столбца(user_id с целочисленным типом данных; distance и duration с вещественными числами; date с типом данных object).\\\n",
    "В subscriptions - 2 строки и 4 столбца(subscription_type с типом данных object; minute_price, start_ride_price, subscription_fee с целочисленным типом данных. "
   ]
  },
  {
   "cell_type": "markdown",
   "id": "e95ebca7",
   "metadata": {},
   "source": [
    "#### Шаг 2. Предобработка данных"
   ]
  },
  {
   "cell_type": "markdown",
   "id": "493b44b0",
   "metadata": {},
   "source": [
    "Сменим формат данных в столбце date датафрейма rides на дату; создадим новый столбец с указанием месяца поездок."
   ]
  },
  {
   "cell_type": "code",
   "execution_count": 6,
   "id": "e3a4274c",
   "metadata": {},
   "outputs": [],
   "source": [
    "rides['date'] = pd.to_datetime(rides['date'], format='%Y-%m-%d')\n",
    "rides['ride_month'] = rides['date'].dt.month"
   ]
  },
  {
   "cell_type": "markdown",
   "id": "4ac7b896-c497-4e36-9fc1-b4d830338885",
   "metadata": {},
   "source": [
    "В датафрейме users представлено 1565 строк и 5 столбцов(user_id, age с целочисленным типом данных; name, city, subscription_type с типом данных object).\\\r\n",
    "В rides - 18068 строк и 4 столбца(user_id с целочисленным типом данных; distance и duration с вещественными числами; date с типом данных object).\\\r\n",
    "В subscriptions - 2 строки и 4 столбца(subscription_type с типом данных object; minute_price, start_ride_price, subscription_fee с целочисленным типом данных. "
   ]
  },
  {
   "cell_type": "markdown",
   "id": "d7555dc2-8f96-4a04-bf37-d52335c89414",
   "metadata": {},
   "source": [
    "## Предобработка данных"
   ]
  },
  {
   "cell_type": "markdown",
   "id": "f0808887-efa1-4537-ada3-4a319368698b",
   "metadata": {},
   "source": [
    "Сменим формат данных в столбце date датафрейма rides на дату; создадим новый столбец с указанием месяца поездок."
   ]
  },
  {
   "cell_type": "code",
   "execution_count": 7,
   "id": "ef43ca94",
   "metadata": {
    "scrolled": true
   },
   "outputs": [
    {
     "name": "stdout",
     "output_type": "stream",
     "text": [
      "Минимальная дата : 2021-01-01 00:00:00\n",
      "Максимальная дата: 2021-12-30 00:00:00\n"
     ]
    }
   ],
   "source": [
    "print('Минимальная дата :', rides['date'].min())\n",
    "print('Максимальная дата:', rides['date'].max())"
   ]
  },
  {
   "cell_type": "markdown",
   "id": "66847a7c",
   "metadata": {},
   "source": [
    "Данные представлены за 1 год."
   ]
  },
  {
   "cell_type": "markdown",
   "id": "99148842-7b75-4720-bb13-3e8d5a51f9aa",
   "metadata": {},
   "source": [
    "### Обработка пропусков и дубликатов "
   ]
  },
  {
   "cell_type": "markdown",
   "id": "72d2c61e",
   "metadata": {},
   "source": [
    "Проверим наличие дубликатов и пропусков в датафреймах"
   ]
  },
  {
   "cell_type": "code",
   "execution_count": 8,
   "id": "61f31061",
   "metadata": {
    "scrolled": true
   },
   "outputs": [
    {
     "data": {
      "text/plain": [
       "user_id              0\n",
       "name                 0\n",
       "age                  0\n",
       "city                 0\n",
       "subscription_type    0\n",
       "dtype: int64"
      ]
     },
     "execution_count": 8,
     "metadata": {},
     "output_type": "execute_result"
    }
   ],
   "source": [
    "users.isna().sum()"
   ]
  },
  {
   "cell_type": "code",
   "execution_count": 9,
   "id": "d6587ecf",
   "metadata": {
    "scrolled": true
   },
   "outputs": [
    {
     "data": {
      "text/plain": [
       "user_id       0\n",
       "distance      0\n",
       "duration      0\n",
       "date          0\n",
       "ride_month    0\n",
       "dtype: int64"
      ]
     },
     "execution_count": 9,
     "metadata": {},
     "output_type": "execute_result"
    }
   ],
   "source": [
    "rides.isna().sum()"
   ]
  },
  {
   "cell_type": "code",
   "execution_count": 10,
   "id": "3200fe37",
   "metadata": {
    "scrolled": true
   },
   "outputs": [
    {
     "data": {
      "text/plain": [
       "subscription_type    0\n",
       "minute_price         0\n",
       "start_ride_price     0\n",
       "subscription_fee     0\n",
       "dtype: int64"
      ]
     },
     "execution_count": 10,
     "metadata": {},
     "output_type": "execute_result"
    }
   ],
   "source": [
    "subscriptions.isna().sum()"
   ]
  },
  {
   "cell_type": "markdown",
   "id": "58ee4872",
   "metadata": {},
   "source": [
    "Пропуски в данных отсутствуют"
   ]
  },
  {
   "cell_type": "code",
   "execution_count": 11,
   "id": "58652120",
   "metadata": {},
   "outputs": [
    {
     "data": {
      "text/html": [
       "<div>\n",
       "<style scoped>\n",
       "    .dataframe tbody tr th:only-of-type {\n",
       "        vertical-align: middle;\n",
       "    }\n",
       "\n",
       "    .dataframe tbody tr th {\n",
       "        vertical-align: top;\n",
       "    }\n",
       "\n",
       "    .dataframe thead th {\n",
       "        text-align: right;\n",
       "    }\n",
       "</style>\n",
       "<table border=\"1\" class=\"dataframe\">\n",
       "  <thead>\n",
       "    <tr style=\"text-align: right;\">\n",
       "      <th></th>\n",
       "      <th>user_id</th>\n",
       "      <th>name</th>\n",
       "      <th>age</th>\n",
       "      <th>city</th>\n",
       "      <th>subscription_type</th>\n",
       "    </tr>\n",
       "  </thead>\n",
       "  <tbody>\n",
       "    <tr>\n",
       "      <th>1534</th>\n",
       "      <td>293</td>\n",
       "      <td>Агата</td>\n",
       "      <td>26</td>\n",
       "      <td>Краснодар</td>\n",
       "      <td>ultra</td>\n",
       "    </tr>\n",
       "    <tr>\n",
       "      <th>1535</th>\n",
       "      <td>16</td>\n",
       "      <td>Амалия</td>\n",
       "      <td>27</td>\n",
       "      <td>Краснодар</td>\n",
       "      <td>ultra</td>\n",
       "    </tr>\n",
       "    <tr>\n",
       "      <th>1536</th>\n",
       "      <td>909</td>\n",
       "      <td>Константин</td>\n",
       "      <td>20</td>\n",
       "      <td>Екатеринбург</td>\n",
       "      <td>free</td>\n",
       "    </tr>\n",
       "    <tr>\n",
       "      <th>1537</th>\n",
       "      <td>403</td>\n",
       "      <td>Полина</td>\n",
       "      <td>19</td>\n",
       "      <td>Сочи</td>\n",
       "      <td>ultra</td>\n",
       "    </tr>\n",
       "    <tr>\n",
       "      <th>1538</th>\n",
       "      <td>908</td>\n",
       "      <td>Рустам</td>\n",
       "      <td>30</td>\n",
       "      <td>Тюмень</td>\n",
       "      <td>free</td>\n",
       "    </tr>\n",
       "    <tr>\n",
       "      <th>1539</th>\n",
       "      <td>43</td>\n",
       "      <td>Стефания</td>\n",
       "      <td>22</td>\n",
       "      <td>Омск</td>\n",
       "      <td>ultra</td>\n",
       "    </tr>\n",
       "    <tr>\n",
       "      <th>1540</th>\n",
       "      <td>127</td>\n",
       "      <td>Павел</td>\n",
       "      <td>25</td>\n",
       "      <td>Пятигорск</td>\n",
       "      <td>ultra</td>\n",
       "    </tr>\n",
       "    <tr>\n",
       "      <th>1541</th>\n",
       "      <td>659</td>\n",
       "      <td>Злата</td>\n",
       "      <td>27</td>\n",
       "      <td>Ростов-на-Дону</td>\n",
       "      <td>ultra</td>\n",
       "    </tr>\n",
       "    <tr>\n",
       "      <th>1542</th>\n",
       "      <td>204</td>\n",
       "      <td>Руслан</td>\n",
       "      <td>30</td>\n",
       "      <td>Пятигорск</td>\n",
       "      <td>ultra</td>\n",
       "    </tr>\n",
       "    <tr>\n",
       "      <th>1543</th>\n",
       "      <td>153</td>\n",
       "      <td>Герман</td>\n",
       "      <td>23</td>\n",
       "      <td>Москва</td>\n",
       "      <td>ultra</td>\n",
       "    </tr>\n",
       "    <tr>\n",
       "      <th>1544</th>\n",
       "      <td>1245</td>\n",
       "      <td>Регина</td>\n",
       "      <td>27</td>\n",
       "      <td>Пятигорск</td>\n",
       "      <td>free</td>\n",
       "    </tr>\n",
       "    <tr>\n",
       "      <th>1545</th>\n",
       "      <td>807</td>\n",
       "      <td>Александр</td>\n",
       "      <td>28</td>\n",
       "      <td>Екатеринбург</td>\n",
       "      <td>free</td>\n",
       "    </tr>\n",
       "    <tr>\n",
       "      <th>1546</th>\n",
       "      <td>924</td>\n",
       "      <td>Мария</td>\n",
       "      <td>23</td>\n",
       "      <td>Пятигорск</td>\n",
       "      <td>free</td>\n",
       "    </tr>\n",
       "    <tr>\n",
       "      <th>1547</th>\n",
       "      <td>635</td>\n",
       "      <td>Герман</td>\n",
       "      <td>21</td>\n",
       "      <td>Москва</td>\n",
       "      <td>ultra</td>\n",
       "    </tr>\n",
       "    <tr>\n",
       "      <th>1548</th>\n",
       "      <td>136</td>\n",
       "      <td>Марсель</td>\n",
       "      <td>25</td>\n",
       "      <td>Тюмень</td>\n",
       "      <td>ultra</td>\n",
       "    </tr>\n",
       "    <tr>\n",
       "      <th>1549</th>\n",
       "      <td>108</td>\n",
       "      <td>Влада</td>\n",
       "      <td>29</td>\n",
       "      <td>Тюмень</td>\n",
       "      <td>ultra</td>\n",
       "    </tr>\n",
       "    <tr>\n",
       "      <th>1550</th>\n",
       "      <td>737</td>\n",
       "      <td>Мелания</td>\n",
       "      <td>27</td>\n",
       "      <td>Ростов-на-Дону</td>\n",
       "      <td>free</td>\n",
       "    </tr>\n",
       "    <tr>\n",
       "      <th>1551</th>\n",
       "      <td>666</td>\n",
       "      <td>Зарина</td>\n",
       "      <td>29</td>\n",
       "      <td>Москва</td>\n",
       "      <td>ultra</td>\n",
       "    </tr>\n",
       "    <tr>\n",
       "      <th>1552</th>\n",
       "      <td>297</td>\n",
       "      <td>Егор</td>\n",
       "      <td>33</td>\n",
       "      <td>Пятигорск</td>\n",
       "      <td>ultra</td>\n",
       "    </tr>\n",
       "    <tr>\n",
       "      <th>1553</th>\n",
       "      <td>121</td>\n",
       "      <td>Алина</td>\n",
       "      <td>25</td>\n",
       "      <td>Пятигорск</td>\n",
       "      <td>ultra</td>\n",
       "    </tr>\n",
       "    <tr>\n",
       "      <th>1554</th>\n",
       "      <td>1198</td>\n",
       "      <td>Демид</td>\n",
       "      <td>29</td>\n",
       "      <td>Ростов-на-Дону</td>\n",
       "      <td>free</td>\n",
       "    </tr>\n",
       "    <tr>\n",
       "      <th>1555</th>\n",
       "      <td>72</td>\n",
       "      <td>Никита</td>\n",
       "      <td>25</td>\n",
       "      <td>Москва</td>\n",
       "      <td>ultra</td>\n",
       "    </tr>\n",
       "    <tr>\n",
       "      <th>1556</th>\n",
       "      <td>422</td>\n",
       "      <td>Кирилл</td>\n",
       "      <td>27</td>\n",
       "      <td>Сочи</td>\n",
       "      <td>ultra</td>\n",
       "    </tr>\n",
       "    <tr>\n",
       "      <th>1557</th>\n",
       "      <td>611</td>\n",
       "      <td>Владимир</td>\n",
       "      <td>28</td>\n",
       "      <td>Омск</td>\n",
       "      <td>ultra</td>\n",
       "    </tr>\n",
       "    <tr>\n",
       "      <th>1558</th>\n",
       "      <td>1237</td>\n",
       "      <td>Евгения</td>\n",
       "      <td>23</td>\n",
       "      <td>Тюмень</td>\n",
       "      <td>free</td>\n",
       "    </tr>\n",
       "    <tr>\n",
       "      <th>1559</th>\n",
       "      <td>209</td>\n",
       "      <td>Андрей</td>\n",
       "      <td>23</td>\n",
       "      <td>Омск</td>\n",
       "      <td>ultra</td>\n",
       "    </tr>\n",
       "    <tr>\n",
       "      <th>1560</th>\n",
       "      <td>829</td>\n",
       "      <td>Федор</td>\n",
       "      <td>29</td>\n",
       "      <td>Пятигорск</td>\n",
       "      <td>free</td>\n",
       "    </tr>\n",
       "    <tr>\n",
       "      <th>1561</th>\n",
       "      <td>809</td>\n",
       "      <td>Юрий</td>\n",
       "      <td>26</td>\n",
       "      <td>Сочи</td>\n",
       "      <td>free</td>\n",
       "    </tr>\n",
       "    <tr>\n",
       "      <th>1562</th>\n",
       "      <td>307</td>\n",
       "      <td>Ясмина</td>\n",
       "      <td>19</td>\n",
       "      <td>Краснодар</td>\n",
       "      <td>ultra</td>\n",
       "    </tr>\n",
       "    <tr>\n",
       "      <th>1563</th>\n",
       "      <td>47</td>\n",
       "      <td>Юрий</td>\n",
       "      <td>28</td>\n",
       "      <td>Тюмень</td>\n",
       "      <td>ultra</td>\n",
       "    </tr>\n",
       "    <tr>\n",
       "      <th>1564</th>\n",
       "      <td>1045</td>\n",
       "      <td>Артемий</td>\n",
       "      <td>28</td>\n",
       "      <td>Ростов-на-Дону</td>\n",
       "      <td>free</td>\n",
       "    </tr>\n",
       "  </tbody>\n",
       "</table>\n",
       "</div>"
      ],
      "text/plain": [
       "      user_id        name  age            city subscription_type\n",
       "1534      293       Агата   26       Краснодар             ultra\n",
       "1535       16      Амалия   27       Краснодар             ultra\n",
       "1536      909  Константин   20    Екатеринбург              free\n",
       "1537      403      Полина   19            Сочи             ultra\n",
       "1538      908      Рустам   30          Тюмень              free\n",
       "1539       43    Стефания   22            Омск             ultra\n",
       "1540      127       Павел   25       Пятигорск             ultra\n",
       "1541      659       Злата   27  Ростов-на-Дону             ultra\n",
       "1542      204      Руслан   30       Пятигорск             ultra\n",
       "1543      153      Герман   23          Москва             ultra\n",
       "1544     1245      Регина   27       Пятигорск              free\n",
       "1545      807   Александр   28    Екатеринбург              free\n",
       "1546      924       Мария   23       Пятигорск              free\n",
       "1547      635      Герман   21          Москва             ultra\n",
       "1548      136     Марсель   25          Тюмень             ultra\n",
       "1549      108       Влада   29          Тюмень             ultra\n",
       "1550      737     Мелания   27  Ростов-на-Дону              free\n",
       "1551      666      Зарина   29          Москва             ultra\n",
       "1552      297        Егор   33       Пятигорск             ultra\n",
       "1553      121       Алина   25       Пятигорск             ultra\n",
       "1554     1198       Демид   29  Ростов-на-Дону              free\n",
       "1555       72      Никита   25          Москва             ultra\n",
       "1556      422      Кирилл   27            Сочи             ultra\n",
       "1557      611    Владимир   28            Омск             ultra\n",
       "1558     1237     Евгения   23          Тюмень              free\n",
       "1559      209      Андрей   23            Омск             ultra\n",
       "1560      829       Федор   29       Пятигорск              free\n",
       "1561      809        Юрий   26            Сочи              free\n",
       "1562      307      Ясмина   19       Краснодар             ultra\n",
       "1563       47        Юрий   28          Тюмень             ultra\n",
       "1564     1045     Артемий   28  Ростов-на-Дону              free"
      ]
     },
     "execution_count": 11,
     "metadata": {},
     "output_type": "execute_result"
    }
   ],
   "source": [
    "users[users.duplicated()]"
   ]
  },
  {
   "cell_type": "code",
   "execution_count": 12,
   "id": "8e849713",
   "metadata": {},
   "outputs": [
    {
     "data": {
      "text/plain": [
       "31"
      ]
     },
     "execution_count": 12,
     "metadata": {},
     "output_type": "execute_result"
    }
   ],
   "source": [
    "users.duplicated().sum()"
   ]
  },
  {
   "cell_type": "markdown",
   "id": "b5af4979-6322-4a1b-8ee0-de8cf33279a2",
   "metadata": {},
   "source": [
    "Удалим дубликаты"
   ]
  },
  {
   "cell_type": "code",
   "execution_count": 13,
   "id": "a5b32ccd",
   "metadata": {},
   "outputs": [],
   "source": [
    "users.drop_duplicates().reset_index(drop=True, inplace=True)"
   ]
  },
  {
   "cell_type": "code",
   "execution_count": 14,
   "id": "0859a073",
   "metadata": {},
   "outputs": [
    {
     "data": {
      "text/plain": [
       "31"
      ]
     },
     "execution_count": 14,
     "metadata": {},
     "output_type": "execute_result"
    }
   ],
   "source": [
    "users.duplicated().sum()"
   ]
  },
  {
   "cell_type": "code",
   "execution_count": 15,
   "id": "45891ca1",
   "metadata": {},
   "outputs": [
    {
     "name": "stdout",
     "output_type": "stream",
     "text": [
      "<class 'pandas.core.frame.DataFrame'>\n",
      "RangeIndex: 1565 entries, 0 to 1564\n",
      "Data columns (total 5 columns):\n",
      " #   Column             Non-Null Count  Dtype \n",
      "---  ------             --------------  ----- \n",
      " 0   user_id            1565 non-null   int64 \n",
      " 1   name               1565 non-null   object\n",
      " 2   age                1565 non-null   int64 \n",
      " 3   city               1565 non-null   object\n",
      " 4   subscription_type  1565 non-null   object\n",
      "dtypes: int64(2), object(3)\n",
      "memory usage: 61.3+ KB\n"
     ]
    }
   ],
   "source": [
    "users.info()"
   ]
  },
  {
   "cell_type": "code",
   "execution_count": 16,
   "id": "e6c66fe0",
   "metadata": {},
   "outputs": [
    {
     "data": {
      "text/plain": [
       "0"
      ]
     },
     "execution_count": 16,
     "metadata": {},
     "output_type": "execute_result"
    }
   ],
   "source": [
    "rides.duplicated().sum()"
   ]
  },
  {
   "cell_type": "code",
   "execution_count": 17,
   "id": "5e3132d4",
   "metadata": {
    "scrolled": true
   },
   "outputs": [
    {
     "data": {
      "text/plain": [
       "0"
      ]
     },
     "execution_count": 17,
     "metadata": {},
     "output_type": "execute_result"
    }
   ],
   "source": [
    "subscriptions.duplicated().sum()"
   ]
  },
  {
   "cell_type": "markdown",
   "id": "d05126bb",
   "metadata": {},
   "source": [
    "**Вывод:**  \n",
    "<span style=\"color:green\"> В ходе предобработки данных мы удостоверились, что пропуски и дубликаты в данных отсутствуют.</span>"
   ]
  },
  {
   "cell_type": "markdown",
   "id": "212593c7",
   "metadata": {},
   "source": [
    "## Исследовательский анализ данных"
   ]
  },
  {
   "cell_type": "markdown",
   "id": "4ca64b76",
   "metadata": {},
   "source": [
    "Посмотрим на описание данных."
   ]
  },
  {
   "cell_type": "markdown",
   "id": "ec582550",
   "metadata": {},
   "source": [
    "### Датафрейм users"
   ]
  },
  {
   "cell_type": "code",
   "execution_count": 18,
   "id": "0241e84b",
   "metadata": {},
   "outputs": [
    {
     "data": {
      "text/html": [
       "<div>\n",
       "<style scoped>\n",
       "    .dataframe tbody tr th:only-of-type {\n",
       "        vertical-align: middle;\n",
       "    }\n",
       "\n",
       "    .dataframe tbody tr th {\n",
       "        vertical-align: top;\n",
       "    }\n",
       "\n",
       "    .dataframe thead th {\n",
       "        text-align: right;\n",
       "    }\n",
       "</style>\n",
       "<table border=\"1\" class=\"dataframe\">\n",
       "  <thead>\n",
       "    <tr style=\"text-align: right;\">\n",
       "      <th></th>\n",
       "      <th>user_id</th>\n",
       "      <th>name</th>\n",
       "      <th>age</th>\n",
       "      <th>city</th>\n",
       "      <th>subscription_type</th>\n",
       "    </tr>\n",
       "  </thead>\n",
       "  <tbody>\n",
       "    <tr>\n",
       "      <th>count</th>\n",
       "      <td>1565.000000</td>\n",
       "      <td>1565</td>\n",
       "      <td>1565.000000</td>\n",
       "      <td>1565</td>\n",
       "      <td>1565</td>\n",
       "    </tr>\n",
       "    <tr>\n",
       "      <th>unique</th>\n",
       "      <td>NaN</td>\n",
       "      <td>194</td>\n",
       "      <td>NaN</td>\n",
       "      <td>8</td>\n",
       "      <td>2</td>\n",
       "    </tr>\n",
       "    <tr>\n",
       "      <th>top</th>\n",
       "      <td>NaN</td>\n",
       "      <td>Мария</td>\n",
       "      <td>NaN</td>\n",
       "      <td>Пятигорск</td>\n",
       "      <td>free</td>\n",
       "    </tr>\n",
       "    <tr>\n",
       "      <th>freq</th>\n",
       "      <td>NaN</td>\n",
       "      <td>23</td>\n",
       "      <td>NaN</td>\n",
       "      <td>226</td>\n",
       "      <td>846</td>\n",
       "    </tr>\n",
       "    <tr>\n",
       "      <th>mean</th>\n",
       "      <td>762.633866</td>\n",
       "      <td>NaN</td>\n",
       "      <td>24.922045</td>\n",
       "      <td>NaN</td>\n",
       "      <td>NaN</td>\n",
       "    </tr>\n",
       "    <tr>\n",
       "      <th>std</th>\n",
       "      <td>443.260155</td>\n",
       "      <td>NaN</td>\n",
       "      <td>4.553496</td>\n",
       "      <td>NaN</td>\n",
       "      <td>NaN</td>\n",
       "    </tr>\n",
       "    <tr>\n",
       "      <th>min</th>\n",
       "      <td>1.000000</td>\n",
       "      <td>NaN</td>\n",
       "      <td>12.000000</td>\n",
       "      <td>NaN</td>\n",
       "      <td>NaN</td>\n",
       "    </tr>\n",
       "    <tr>\n",
       "      <th>1%</th>\n",
       "      <td>16.000000</td>\n",
       "      <td>NaN</td>\n",
       "      <td>14.000000</td>\n",
       "      <td>NaN</td>\n",
       "      <td>NaN</td>\n",
       "    </tr>\n",
       "    <tr>\n",
       "      <th>5%</th>\n",
       "      <td>75.200000</td>\n",
       "      <td>NaN</td>\n",
       "      <td>17.200000</td>\n",
       "      <td>NaN</td>\n",
       "      <td>NaN</td>\n",
       "    </tr>\n",
       "    <tr>\n",
       "      <th>25%</th>\n",
       "      <td>378.000000</td>\n",
       "      <td>NaN</td>\n",
       "      <td>22.000000</td>\n",
       "      <td>NaN</td>\n",
       "      <td>NaN</td>\n",
       "    </tr>\n",
       "    <tr>\n",
       "      <th>50%</th>\n",
       "      <td>762.000000</td>\n",
       "      <td>NaN</td>\n",
       "      <td>25.000000</td>\n",
       "      <td>NaN</td>\n",
       "      <td>NaN</td>\n",
       "    </tr>\n",
       "    <tr>\n",
       "      <th>75%</th>\n",
       "      <td>1146.000000</td>\n",
       "      <td>NaN</td>\n",
       "      <td>28.000000</td>\n",
       "      <td>NaN</td>\n",
       "      <td>NaN</td>\n",
       "    </tr>\n",
       "    <tr>\n",
       "      <th>95%</th>\n",
       "      <td>1455.800000</td>\n",
       "      <td>NaN</td>\n",
       "      <td>33.000000</td>\n",
       "      <td>NaN</td>\n",
       "      <td>NaN</td>\n",
       "    </tr>\n",
       "    <tr>\n",
       "      <th>99%</th>\n",
       "      <td>1518.360000</td>\n",
       "      <td>NaN</td>\n",
       "      <td>35.000000</td>\n",
       "      <td>NaN</td>\n",
       "      <td>NaN</td>\n",
       "    </tr>\n",
       "    <tr>\n",
       "      <th>max</th>\n",
       "      <td>1534.000000</td>\n",
       "      <td>NaN</td>\n",
       "      <td>43.000000</td>\n",
       "      <td>NaN</td>\n",
       "      <td>NaN</td>\n",
       "    </tr>\n",
       "  </tbody>\n",
       "</table>\n",
       "</div>"
      ],
      "text/plain": [
       "            user_id   name          age       city subscription_type\n",
       "count   1565.000000   1565  1565.000000       1565              1565\n",
       "unique          NaN    194          NaN          8                 2\n",
       "top             NaN  Мария          NaN  Пятигорск              free\n",
       "freq            NaN     23          NaN        226               846\n",
       "mean     762.633866    NaN    24.922045        NaN               NaN\n",
       "std      443.260155    NaN     4.553496        NaN               NaN\n",
       "min        1.000000    NaN    12.000000        NaN               NaN\n",
       "1%        16.000000    NaN    14.000000        NaN               NaN\n",
       "5%        75.200000    NaN    17.200000        NaN               NaN\n",
       "25%      378.000000    NaN    22.000000        NaN               NaN\n",
       "50%      762.000000    NaN    25.000000        NaN               NaN\n",
       "75%     1146.000000    NaN    28.000000        NaN               NaN\n",
       "95%     1455.800000    NaN    33.000000        NaN               NaN\n",
       "99%     1518.360000    NaN    35.000000        NaN               NaN\n",
       "max     1534.000000    NaN    43.000000        NaN               NaN"
      ]
     },
     "execution_count": 18,
     "metadata": {},
     "output_type": "execute_result"
    }
   ],
   "source": [
    "users.describe(include='all', percentiles=[0.01, 0.05,0.25,0.5,0.75, 0.95, 0.99])"
   ]
  },
  {
   "cell_type": "markdown",
   "id": "f637572b",
   "metadata": {},
   "source": [
    "На первый взгляд описание данных в порядке. На всякий случай проверим данные с помощью графика с усами."
   ]
  },
  {
   "cell_type": "code",
   "execution_count": 19,
   "id": "db8fa7ee",
   "metadata": {},
   "outputs": [
    {
     "data": {
      "image/png": "[encoded data removed]",
      "text/plain": [
       "<Figure size 1000x600 with 1 Axes>"
      ]
     },
     "metadata": {},
     "output_type": "display_data"
    }
   ],
   "source": [
    "def boxplot(df, x):\n",
    "    df.boxplot(column=x, grid=True, figsize=(10,6))\n",
    "    plt.ylabel('Количество пользователей')\n",
    "    plt.show()\n",
    "    \n",
    "boxplot(users, 'age')"
   ]
  },
  {
   "cell_type": "markdown",
   "id": "5ba97239",
   "metadata": {},
   "source": [
    "Данные в порядке, необъяснимые аномалии отсутствуют."
   ]
  },
  {
   "cell_type": "code",
   "execution_count": 20,
   "id": "a3a1ce38",
   "metadata": {},
   "outputs": [
    {
     "data": {
      "image/png": "[encoded data removed]",
      "text/plain": [
       "<Figure size 1500x500 with 1 Axes>"
      ]
     },
     "metadata": {},
     "output_type": "display_data"
    }
   ],
   "source": [
    "users_pivot = users.pivot_table(index='city', values='user_id', aggfunc='count').sort_values(by='user_id')\n",
    "users_pivot.plot(kind='barh', grid='True')\n",
    "plt.title('Распределение пользователей по городам')\n",
    "plt.ylabel('Город')\n",
    "plt.xlabel('Кол-во пользователей, чел.')\n",
    "plt.show()"
   ]
  },
  {
   "cell_type": "code",
   "execution_count": 21,
   "id": "ecac8ff5",
   "metadata": {
    "scrolled": true
   },
   "outputs": [
    {
     "data": {
      "text/html": [
       "<div>\n",
       "<style scoped>\n",
       "    .dataframe tbody tr th:only-of-type {\n",
       "        vertical-align: middle;\n",
       "    }\n",
       "\n",
       "    .dataframe tbody tr th {\n",
       "        vertical-align: top;\n",
       "    }\n",
       "\n",
       "    .dataframe thead th {\n",
       "        text-align: right;\n",
       "    }\n",
       "</style>\n",
       "<table border=\"1\" class=\"dataframe\">\n",
       "  <thead>\n",
       "    <tr style=\"text-align: right;\">\n",
       "      <th></th>\n",
       "      <th>user_id</th>\n",
       "    </tr>\n",
       "    <tr>\n",
       "      <th>city</th>\n",
       "      <th></th>\n",
       "    </tr>\n",
       "  </thead>\n",
       "  <tbody>\n",
       "    <tr>\n",
       "      <th>Москва</th>\n",
       "      <td>172</td>\n",
       "    </tr>\n",
       "    <tr>\n",
       "      <th>Тюмень</th>\n",
       "      <td>185</td>\n",
       "    </tr>\n",
       "    <tr>\n",
       "      <th>Омск</th>\n",
       "      <td>186</td>\n",
       "    </tr>\n",
       "    <tr>\n",
       "      <th>Сочи</th>\n",
       "      <td>192</td>\n",
       "    </tr>\n",
       "    <tr>\n",
       "      <th>Краснодар</th>\n",
       "      <td>196</td>\n",
       "    </tr>\n",
       "    <tr>\n",
       "      <th>Ростов-на-Дону</th>\n",
       "      <td>202</td>\n",
       "    </tr>\n",
       "    <tr>\n",
       "      <th>Екатеринбург</th>\n",
       "      <td>206</td>\n",
       "    </tr>\n",
       "    <tr>\n",
       "      <th>Пятигорск</th>\n",
       "      <td>226</td>\n",
       "    </tr>\n",
       "  </tbody>\n",
       "</table>\n",
       "</div>"
      ],
      "text/plain": [
       "                user_id\n",
       "city                   \n",
       "Москва              172\n",
       "Тюмень              185\n",
       "Омск                186\n",
       "Сочи                192\n",
       "Краснодар           196\n",
       "Ростов-на-Дону      202\n",
       "Екатеринбург        206\n",
       "Пятигорск           226"
      ]
     },
     "execution_count": 21,
     "metadata": {},
     "output_type": "execute_result"
    }
   ],
   "source": [
    "users_pivot"
   ]
  },
  {
   "cell_type": "markdown",
   "id": "6f953d02",
   "metadata": {},
   "source": [
    "Отметим, что сервис аренды самокатов представлен на юге европейской части России, в Западной Сибири и в столице. \n",
    "Наиболее популярен в Пятигорске, наименее - в Москве."
   ]
  },
  {
   "cell_type": "code",
   "execution_count": 22,
   "id": "f7ff0083",
   "metadata": {},
   "outputs": [
    {
     "data": {
      "image/png": "[encoded data removed]",
      "text/plain": [
       "<Figure size 1500x500 with 1 Axes>"
      ]
     },
     "metadata": {},
     "output_type": "display_data"
    }
   ],
   "source": [
    "users_subs_pivot = users.pivot_table(index='subscription_type', values='user_id', aggfunc='count').sort_values(by='user_id')\n",
    "\n",
    "fig, ax = plt.subplots()\n",
    "labels = 'ultra', 'free'\n",
    "ax.pie(users_subs_pivot['user_id'], labels = labels, autopct='%1.1f%%')\n",
    "plt.title('Распределение пользователей по типу подписки')\n",
    "plt.show()"
   ]
  },
  {
   "cell_type": "code",
   "execution_count": 23,
   "id": "b6821b05",
   "metadata": {
    "scrolled": true
   },
   "outputs": [
    {
     "data": {
      "text/html": [
       "<div>\n",
       "<style scoped>\n",
       "    .dataframe tbody tr th:only-of-type {\n",
       "        vertical-align: middle;\n",
       "    }\n",
       "\n",
       "    .dataframe tbody tr th {\n",
       "        vertical-align: top;\n",
       "    }\n",
       "\n",
       "    .dataframe thead th {\n",
       "        text-align: right;\n",
       "    }\n",
       "</style>\n",
       "<table border=\"1\" class=\"dataframe\">\n",
       "  <thead>\n",
       "    <tr style=\"text-align: right;\">\n",
       "      <th></th>\n",
       "      <th>user_id</th>\n",
       "      <th>ratio</th>\n",
       "    </tr>\n",
       "    <tr>\n",
       "      <th>subscription_type</th>\n",
       "      <th></th>\n",
       "      <th></th>\n",
       "    </tr>\n",
       "  </thead>\n",
       "  <tbody>\n",
       "    <tr>\n",
       "      <th>ultra</th>\n",
       "      <td>719</td>\n",
       "      <td>0.47</td>\n",
       "    </tr>\n",
       "    <tr>\n",
       "      <th>free</th>\n",
       "      <td>846</td>\n",
       "      <td>0.55</td>\n",
       "    </tr>\n",
       "  </tbody>\n",
       "</table>\n",
       "</div>"
      ],
      "text/plain": [
       "                   user_id  ratio\n",
       "subscription_type                \n",
       "ultra                  719   0.47\n",
       "free                   846   0.55"
      ]
     },
     "execution_count": 23,
     "metadata": {},
     "output_type": "execute_result"
    }
   ],
   "source": [
    "users_subs_pivot['ratio'] = (users_subs_pivot['user_id']/1534).round(2)\n",
    "users_subs_pivot"
   ]
  },
  {
   "cell_type": "markdown",
   "id": "4243ccec",
   "metadata": {},
   "source": [
    "Количество пользователей с разными видами подписки не сильно отличается, при этом превуалируют пользователи с бесплатной подпиской (около 54%)"
   ]
  },
  {
   "cell_type": "code",
   "execution_count": 24,
   "id": "55f2d545",
   "metadata": {},
   "outputs": [
    {
     "data": {
      "image/png": "[encoded data removed]",
      "text/plain": [
       "<Figure size 1500x500 with 1 Axes>"
      ]
     },
     "metadata": {},
     "output_type": "display_data"
    }
   ],
   "source": [
    "users_age_pivot = users.pivot_table(index='age', values='user_id', aggfunc='count').sort_values(by='age')\n",
    "users_age_pivot.plot(kind='bar', grid='True')\n",
    "plt.title('Распределение пользователей по возрасту')\n",
    "plt.xlabel('Возраст')\n",
    "plt.ylabel('Кол-во пользователей, чел.')\n",
    "plt.show()"
   ]
  },
  {
   "cell_type": "code",
   "execution_count": 25,
   "id": "cd0a6f81",
   "metadata": {},
   "outputs": [
    {
     "data": {
      "text/html": [
       "<div>\n",
       "<style scoped>\n",
       "    .dataframe tbody tr th:only-of-type {\n",
       "        vertical-align: middle;\n",
       "    }\n",
       "\n",
       "    .dataframe tbody tr th {\n",
       "        vertical-align: top;\n",
       "    }\n",
       "\n",
       "    .dataframe thead th {\n",
       "        text-align: right;\n",
       "    }\n",
       "</style>\n",
       "<table border=\"1\" class=\"dataframe\">\n",
       "  <thead>\n",
       "    <tr style=\"text-align: right;\">\n",
       "      <th></th>\n",
       "      <th>user_id</th>\n",
       "    </tr>\n",
       "    <tr>\n",
       "      <th>age</th>\n",
       "      <th></th>\n",
       "    </tr>\n",
       "  </thead>\n",
       "  <tbody>\n",
       "    <tr>\n",
       "      <th>12</th>\n",
       "      <td>4</td>\n",
       "    </tr>\n",
       "    <tr>\n",
       "      <th>13</th>\n",
       "      <td>8</td>\n",
       "    </tr>\n",
       "    <tr>\n",
       "      <th>14</th>\n",
       "      <td>9</td>\n",
       "    </tr>\n",
       "    <tr>\n",
       "      <th>15</th>\n",
       "      <td>13</td>\n",
       "    </tr>\n",
       "    <tr>\n",
       "      <th>16</th>\n",
       "      <td>19</td>\n",
       "    </tr>\n",
       "    <tr>\n",
       "      <th>17</th>\n",
       "      <td>26</td>\n",
       "    </tr>\n",
       "    <tr>\n",
       "      <th>18</th>\n",
       "      <td>46</td>\n",
       "    </tr>\n",
       "    <tr>\n",
       "      <th>19</th>\n",
       "      <td>49</td>\n",
       "    </tr>\n",
       "    <tr>\n",
       "      <th>20</th>\n",
       "      <td>72</td>\n",
       "    </tr>\n",
       "    <tr>\n",
       "      <th>21</th>\n",
       "      <td>94</td>\n",
       "    </tr>\n",
       "    <tr>\n",
       "      <th>22</th>\n",
       "      <td>120</td>\n",
       "    </tr>\n",
       "    <tr>\n",
       "      <th>23</th>\n",
       "      <td>133</td>\n",
       "    </tr>\n",
       "    <tr>\n",
       "      <th>24</th>\n",
       "      <td>132</td>\n",
       "    </tr>\n",
       "    <tr>\n",
       "      <th>25</th>\n",
       "      <td>149</td>\n",
       "    </tr>\n",
       "    <tr>\n",
       "      <th>26</th>\n",
       "      <td>133</td>\n",
       "    </tr>\n",
       "    <tr>\n",
       "      <th>27</th>\n",
       "      <td>124</td>\n",
       "    </tr>\n",
       "    <tr>\n",
       "      <th>28</th>\n",
       "      <td>116</td>\n",
       "    </tr>\n",
       "    <tr>\n",
       "      <th>29</th>\n",
       "      <td>72</td>\n",
       "    </tr>\n",
       "    <tr>\n",
       "      <th>30</th>\n",
       "      <td>70</td>\n",
       "    </tr>\n",
       "    <tr>\n",
       "      <th>31</th>\n",
       "      <td>48</td>\n",
       "    </tr>\n",
       "    <tr>\n",
       "      <th>32</th>\n",
       "      <td>41</td>\n",
       "    </tr>\n",
       "    <tr>\n",
       "      <th>33</th>\n",
       "      <td>40</td>\n",
       "    </tr>\n",
       "    <tr>\n",
       "      <th>34</th>\n",
       "      <td>19</td>\n",
       "    </tr>\n",
       "    <tr>\n",
       "      <th>35</th>\n",
       "      <td>15</td>\n",
       "    </tr>\n",
       "    <tr>\n",
       "      <th>36</th>\n",
       "      <td>6</td>\n",
       "    </tr>\n",
       "    <tr>\n",
       "      <th>37</th>\n",
       "      <td>2</td>\n",
       "    </tr>\n",
       "    <tr>\n",
       "      <th>38</th>\n",
       "      <td>3</td>\n",
       "    </tr>\n",
       "    <tr>\n",
       "      <th>39</th>\n",
       "      <td>1</td>\n",
       "    </tr>\n",
       "    <tr>\n",
       "      <th>43</th>\n",
       "      <td>1</td>\n",
       "    </tr>\n",
       "  </tbody>\n",
       "</table>\n",
       "</div>"
      ],
      "text/plain": [
       "     user_id\n",
       "age         \n",
       "12         4\n",
       "13         8\n",
       "14         9\n",
       "15        13\n",
       "16        19\n",
       "17        26\n",
       "18        46\n",
       "19        49\n",
       "20        72\n",
       "21        94\n",
       "22       120\n",
       "23       133\n",
       "24       132\n",
       "25       149\n",
       "26       133\n",
       "27       124\n",
       "28       116\n",
       "29        72\n",
       "30        70\n",
       "31        48\n",
       "32        41\n",
       "33        40\n",
       "34        19\n",
       "35        15\n",
       "36         6\n",
       "37         2\n",
       "38         3\n",
       "39         1\n",
       "43         1"
      ]
     },
     "execution_count": 25,
     "metadata": {},
     "output_type": "execute_result"
    }
   ],
   "source": [
    "users_age_pivot"
   ]
  },
  {
   "cell_type": "markdown",
   "id": "99b1026b",
   "metadata": {},
   "source": [
    "Отметим, что график показывает нормальное распределение совокупности. Наиболее часто сервисом пользуются молодые люди со средним возрастом около 25 лет. Чем дальше от среднего в любую сторону, тем меньше пользователей становится."
   ]
  },
  {
   "cell_type": "markdown",
   "id": "96f2844b",
   "metadata": {},
   "source": [
    "### Датафрейм rides"
   ]
  },
  {
   "cell_type": "code",
   "execution_count": 26,
   "id": "581c3645",
   "metadata": {},
   "outputs": [
    {
     "data": {
      "text/html": [
       "<div>\n",
       "<style scoped>\n",
       "    .dataframe tbody tr th:only-of-type {\n",
       "        vertical-align: middle;\n",
       "    }\n",
       "\n",
       "    .dataframe tbody tr th {\n",
       "        vertical-align: top;\n",
       "    }\n",
       "\n",
       "    .dataframe thead th {\n",
       "        text-align: right;\n",
       "    }\n",
       "</style>\n",
       "<table border=\"1\" class=\"dataframe\">\n",
       "  <thead>\n",
       "    <tr style=\"text-align: right;\">\n",
       "      <th></th>\n",
       "      <th>user_id</th>\n",
       "      <th>distance</th>\n",
       "      <th>duration</th>\n",
       "      <th>date</th>\n",
       "      <th>ride_month</th>\n",
       "    </tr>\n",
       "  </thead>\n",
       "  <tbody>\n",
       "    <tr>\n",
       "      <th>count</th>\n",
       "      <td>18068.000000</td>\n",
       "      <td>18068.000000</td>\n",
       "      <td>18068.000000</td>\n",
       "      <td>18068</td>\n",
       "      <td>18068.000000</td>\n",
       "    </tr>\n",
       "    <tr>\n",
       "      <th>mean</th>\n",
       "      <td>842.869936</td>\n",
       "      <td>3070.659976</td>\n",
       "      <td>17.805011</td>\n",
       "      <td>2021-06-30 19:47:21.266327296</td>\n",
       "      <td>6.486772</td>\n",
       "    </tr>\n",
       "    <tr>\n",
       "      <th>min</th>\n",
       "      <td>1.000000</td>\n",
       "      <td>0.855683</td>\n",
       "      <td>0.500000</td>\n",
       "      <td>2021-01-01 00:00:00</td>\n",
       "      <td>1.000000</td>\n",
       "    </tr>\n",
       "    <tr>\n",
       "      <th>1%</th>\n",
       "      <td>18.000000</td>\n",
       "      <td>208.084405</td>\n",
       "      <td>3.982105</td>\n",
       "      <td>2021-01-04 00:00:00</td>\n",
       "      <td>1.000000</td>\n",
       "    </tr>\n",
       "    <tr>\n",
       "      <th>5%</th>\n",
       "      <td>96.000000</td>\n",
       "      <td>689.007279</td>\n",
       "      <td>8.244528</td>\n",
       "      <td>2021-01-18 00:00:00</td>\n",
       "      <td>1.000000</td>\n",
       "    </tr>\n",
       "    <tr>\n",
       "      <th>25%</th>\n",
       "      <td>487.000000</td>\n",
       "      <td>2543.226360</td>\n",
       "      <td>13.597563</td>\n",
       "      <td>2021-04-02 00:00:00</td>\n",
       "      <td>4.000000</td>\n",
       "    </tr>\n",
       "    <tr>\n",
       "      <th>50%</th>\n",
       "      <td>889.000000</td>\n",
       "      <td>3133.609994</td>\n",
       "      <td>17.678395</td>\n",
       "      <td>2021-06-30 00:00:00</td>\n",
       "      <td>6.000000</td>\n",
       "    </tr>\n",
       "    <tr>\n",
       "      <th>75%</th>\n",
       "      <td>1213.250000</td>\n",
       "      <td>3776.222735</td>\n",
       "      <td>21.724800</td>\n",
       "      <td>2021-09-28 00:00:00</td>\n",
       "      <td>9.000000</td>\n",
       "    </tr>\n",
       "    <tr>\n",
       "      <th>95%</th>\n",
       "      <td>1471.000000</td>\n",
       "      <td>4740.088596</td>\n",
       "      <td>28.428730</td>\n",
       "      <td>2021-12-13 00:00:00</td>\n",
       "      <td>12.000000</td>\n",
       "    </tr>\n",
       "    <tr>\n",
       "      <th>99%</th>\n",
       "      <td>1523.000000</td>\n",
       "      <td>5478.621528</td>\n",
       "      <td>32.503580</td>\n",
       "      <td>2021-12-27 00:00:00</td>\n",
       "      <td>12.000000</td>\n",
       "    </tr>\n",
       "    <tr>\n",
       "      <th>max</th>\n",
       "      <td>1534.000000</td>\n",
       "      <td>7211.007745</td>\n",
       "      <td>40.823963</td>\n",
       "      <td>2021-12-30 00:00:00</td>\n",
       "      <td>12.000000</td>\n",
       "    </tr>\n",
       "    <tr>\n",
       "      <th>std</th>\n",
       "      <td>434.734317</td>\n",
       "      <td>1116.831209</td>\n",
       "      <td>6.091051</td>\n",
       "      <td>NaN</td>\n",
       "      <td>3.437410</td>\n",
       "    </tr>\n",
       "  </tbody>\n",
       "</table>\n",
       "</div>"
      ],
      "text/plain": [
       "            user_id      distance      duration  \\\n",
       "count  18068.000000  18068.000000  18068.000000   \n",
       "mean     842.869936   3070.659976     17.805011   \n",
       "min        1.000000      0.855683      0.500000   \n",
       "1%        18.000000    208.084405      3.982105   \n",
       "5%        96.000000    689.007279      8.244528   \n",
       "25%      487.000000   2543.226360     13.597563   \n",
       "50%      889.000000   3133.609994     17.678395   \n",
       "75%     1213.250000   3776.222735     21.724800   \n",
       "95%     1471.000000   4740.088596     28.428730   \n",
       "99%     1523.000000   5478.621528     32.503580   \n",
       "max     1534.000000   7211.007745     40.823963   \n",
       "std      434.734317   1116.831209      6.091051   \n",
       "\n",
       "                                date    ride_month  \n",
       "count                          18068  18068.000000  \n",
       "mean   2021-06-30 19:47:21.266327296      6.486772  \n",
       "min              2021-01-01 00:00:00      1.000000  \n",
       "1%               2021-01-04 00:00:00      1.000000  \n",
       "5%               2021-01-18 00:00:00      1.000000  \n",
       "25%              2021-04-02 00:00:00      4.000000  \n",
       "50%              2021-06-30 00:00:00      6.000000  \n",
       "75%              2021-09-28 00:00:00      9.000000  \n",
       "95%              2021-12-13 00:00:00     12.000000  \n",
       "99%              2021-12-27 00:00:00     12.000000  \n",
       "max              2021-12-30 00:00:00     12.000000  \n",
       "std                              NaN      3.437410  "
      ]
     },
     "execution_count": 26,
     "metadata": {},
     "output_type": "execute_result"
    }
   ],
   "source": [
    "rides.describe(include='all', percentiles=[0.01, 0.05,0.25,0.5,0.75, 0.95, 0.99])"
   ]
  },
  {
   "cell_type": "markdown",
   "id": "95066fff",
   "metadata": {},
   "source": [
    "Проверим данные с помощью графиков с усами"
   ]
  },
  {
   "cell_type": "code",
   "execution_count": 27,
   "id": "0c998f4f",
   "metadata": {},
   "outputs": [
    {
     "data": {
      "image/png": "[encoded data removed]",
      "text/plain": [
       "<Figure size 1000x600 with 1 Axes>"
      ]
     },
     "metadata": {},
     "output_type": "display_data"
    },
    {
     "data": {
      "image/png": "[encoded data removed]",
      "text/plain": [
       "<Figure size 1000x600 with 1 Axes>"
      ]
     },
     "metadata": {},
     "output_type": "display_data"
    }
   ],
   "source": [
    "boxplot(rides, 'distance')\n",
    "boxplot(rides, 'duration')"
   ]
  },
  {
   "cell_type": "markdown",
   "id": "a3c008cf",
   "metadata": {},
   "source": [
    "Необъяснимых выбросов нет"
   ]
  },
  {
   "cell_type": "markdown",
   "id": "f4120837",
   "metadata": {},
   "source": [
    "Построим график для визуализации расстояния, преодолеваемого пользователями за одну поездку. Для этого осуществим категоризацию данных"
   ]
  },
  {
   "cell_type": "code",
   "execution_count": 28,
   "id": "aff104a1",
   "metadata": {},
   "outputs": [],
   "source": [
    "def categorize_distance(distance):\n",
    "    try:\n",
    "        if 0 <= distance <= 1000:\n",
    "            return '0-1 км.'\n",
    "        elif 1000.01 <= distance <= 2000:\n",
    "            return '1-2 км.'\n",
    "        elif 2000.01 <= distance <= 3000:\n",
    "            return '2-3 км.'\n",
    "        elif 3000.01 <= distance <=4000:\n",
    "            return '3-4 км.'\n",
    "        elif 4000.01 <= distance <=5000:\n",
    "            return '4-5 км.'\n",
    "        elif 5000.01 <= distance <=6000:\n",
    "            return '5-6 км.'\n",
    "        elif distance >= 6000.1:\n",
    "            return 'свыше 6 км.'\n",
    "    except:\n",
    "        pass\n",
    "    \n",
    "rides['distance_category'] = rides['distance'].apply(categorize_distance)"
   ]
  },
  {
   "cell_type": "code",
   "execution_count": 29,
   "id": "e4193652",
   "metadata": {},
   "outputs": [
    {
     "data": {
      "image/png": "[encoded data removed]",
      "text/plain": [
       "<Figure size 1500x500 with 1 Axes>"
      ]
     },
     "metadata": {},
     "output_type": "display_data"
    }
   ],
   "source": [
    "rides_dist_pivot = rides.pivot_table(index='distance_category', values='user_id', aggfunc='count')\n",
    "rides_dist_pivot.plot(kind='barh', grid='True')\n",
    "plt.title('Распределение пользователей по преодолённой дистанции')\n",
    "plt.ylabel('Дистанция')\n",
    "plt.xlabel('Кол-во пользователей, чел.')\n",
    "plt.show()"
   ]
  },
  {
   "cell_type": "code",
   "execution_count": 30,
   "id": "d6eff820",
   "metadata": {},
   "outputs": [
    {
     "data": {
      "text/html": [
       "<div>\n",
       "<style scoped>\n",
       "    .dataframe tbody tr th:only-of-type {\n",
       "        vertical-align: middle;\n",
       "    }\n",
       "\n",
       "    .dataframe tbody tr th {\n",
       "        vertical-align: top;\n",
       "    }\n",
       "\n",
       "    .dataframe thead th {\n",
       "        text-align: right;\n",
       "    }\n",
       "</style>\n",
       "<table border=\"1\" class=\"dataframe\">\n",
       "  <thead>\n",
       "    <tr style=\"text-align: right;\">\n",
       "      <th></th>\n",
       "      <th>user_id</th>\n",
       "      <th>ratio</th>\n",
       "    </tr>\n",
       "    <tr>\n",
       "      <th>distance_category</th>\n",
       "      <th></th>\n",
       "      <th></th>\n",
       "    </tr>\n",
       "  </thead>\n",
       "  <tbody>\n",
       "    <tr>\n",
       "      <th>0-1 км.</th>\n",
       "      <td>1372</td>\n",
       "      <td>0.08</td>\n",
       "    </tr>\n",
       "    <tr>\n",
       "      <th>1-2 км.</th>\n",
       "      <td>980</td>\n",
       "      <td>0.05</td>\n",
       "    </tr>\n",
       "    <tr>\n",
       "      <th>2-3 км.</th>\n",
       "      <td>5540</td>\n",
       "      <td>0.31</td>\n",
       "    </tr>\n",
       "    <tr>\n",
       "      <th>3-4 км.</th>\n",
       "      <td>6698</td>\n",
       "      <td>0.37</td>\n",
       "    </tr>\n",
       "    <tr>\n",
       "      <th>4-5 км.</th>\n",
       "      <td>2937</td>\n",
       "      <td>0.16</td>\n",
       "    </tr>\n",
       "    <tr>\n",
       "      <th>5-6 км.</th>\n",
       "      <td>495</td>\n",
       "      <td>0.03</td>\n",
       "    </tr>\n",
       "    <tr>\n",
       "      <th>свыше 6 км.</th>\n",
       "      <td>46</td>\n",
       "      <td>0.00</td>\n",
       "    </tr>\n",
       "  </tbody>\n",
       "</table>\n",
       "</div>"
      ],
      "text/plain": [
       "                   user_id  ratio\n",
       "distance_category                \n",
       "0-1 км.               1372   0.08\n",
       "1-2 км.                980   0.05\n",
       "2-3 км.               5540   0.31\n",
       "3-4 км.               6698   0.37\n",
       "4-5 км.               2937   0.16\n",
       "5-6 км.                495   0.03\n",
       "свыше 6 км.             46   0.00"
      ]
     },
     "execution_count": 30,
     "metadata": {},
     "output_type": "execute_result"
    }
   ],
   "source": [
    "rides_dist_pivot['ratio'] = (rides_dist_pivot['user_id']/(rides['user_id'].count())).round(2)\n",
    "rides_dist_pivot"
   ]
  },
  {
   "cell_type": "code",
   "execution_count": 31,
   "id": "767f3879",
   "metadata": {},
   "outputs": [
    {
     "data": {
      "image/png": "[encoded data removed]",
      "text/plain": [
       "<Figure size 1500x500 with 1 Axes>"
      ]
     },
     "metadata": {},
     "output_type": "display_data"
    }
   ],
   "source": [
    "rides.plot(kind='hist', y='distance', x='user_id', bins=100)\n",
    "plt.title('Распределение пользователей по преодолённой дистанции')\n",
    "plt.xlabel('Дистанция')\n",
    "plt.ylabel('Кол-во пользователей, чел.')\n",
    "plt.show()"
   ]
  },
  {
   "cell_type": "markdown",
   "id": "144a9f3e",
   "metadata": {},
   "source": [
    "    Наиболее часто пользователи проезжают расстояние от 3 до 4 км, наименее часто - свыше 6 км. 84% пользователей проезжают расстояние от 2 до 5 км.\n",
    "    За одну поездку пользователи преодолевают от 1 до 7211 метров. Медиана равна 3134 метров. Наблюдаются два пика. \n",
    "    Малый пик около 700 метров, большой пик около 3200 метров. Между пиками значения нормально распределены."
   ]
  },
  {
   "cell_type": "markdown",
   "id": "b073f419",
   "metadata": {},
   "source": [
    "Построим график для визуализации продолжительности поездок. Категоризуем время поездок по группам"
   ]
  },
  {
   "cell_type": "code",
   "execution_count": 32,
   "id": "20cd0720",
   "metadata": {},
   "outputs": [],
   "source": [
    "def categorize_duration(duration):\n",
    "    try:\n",
    "        if 0 <= duration <= 10:\n",
    "            return '0-10 мин.'\n",
    "        elif 10.0001 <= duration <= 20:\n",
    "            return '10-20 мин.'\n",
    "        elif 20.0001 <= duration <= 30:\n",
    "            return '20-30 мин.'\n",
    "        elif duration >= 30.0001:\n",
    "            return 'свыше 30 мин.'\n",
    "    except:\n",
    "        pass\n",
    "    \n",
    "rides['duration_category'] = rides['duration'].apply(categorize_duration)"
   ]
  },
  {
   "cell_type": "code",
   "execution_count": 33,
   "id": "ca3f6b11",
   "metadata": {},
   "outputs": [
    {
     "data": {
      "image/png": "[encoded data removed]",
      "text/plain": [
       "<Figure size 1500x500 with 1 Axes>"
      ]
     },
     "metadata": {},
     "output_type": "display_data"
    }
   ],
   "source": [
    "rides_dur_pivot = rides.pivot_table(index='duration_category', values='user_id', aggfunc='count')\\\n",
    ".sort_values(by='duration_category')\n",
    "rides_dur_pivot.plot(kind='barh', grid='True')\n",
    "plt.title('Распределение пользователей по времени поездки')\n",
    "plt.xlabel('Время поездки')\n",
    "plt.ylabel('Кол-во пользователей, чел.')\n",
    "plt.show()"
   ]
  },
  {
   "cell_type": "code",
   "execution_count": 34,
   "id": "1afe853e",
   "metadata": {
    "scrolled": true
   },
   "outputs": [
    {
     "data": {
      "text/html": [
       "<div>\n",
       "<style scoped>\n",
       "    .dataframe tbody tr th:only-of-type {\n",
       "        vertical-align: middle;\n",
       "    }\n",
       "\n",
       "    .dataframe tbody tr th {\n",
       "        vertical-align: top;\n",
       "    }\n",
       "\n",
       "    .dataframe thead th {\n",
       "        text-align: right;\n",
       "    }\n",
       "</style>\n",
       "<table border=\"1\" class=\"dataframe\">\n",
       "  <thead>\n",
       "    <tr style=\"text-align: right;\">\n",
       "      <th></th>\n",
       "      <th>user_id</th>\n",
       "      <th>ratio</th>\n",
       "    </tr>\n",
       "    <tr>\n",
       "      <th>duration_category</th>\n",
       "      <th></th>\n",
       "      <th></th>\n",
       "    </tr>\n",
       "  </thead>\n",
       "  <tbody>\n",
       "    <tr>\n",
       "      <th>0-10 мин.</th>\n",
       "      <td>1639</td>\n",
       "      <td>0.09</td>\n",
       "    </tr>\n",
       "    <tr>\n",
       "      <th>10-20 мин.</th>\n",
       "      <td>10095</td>\n",
       "      <td>0.56</td>\n",
       "    </tr>\n",
       "    <tr>\n",
       "      <th>20-30 мин.</th>\n",
       "      <td>5791</td>\n",
       "      <td>0.32</td>\n",
       "    </tr>\n",
       "    <tr>\n",
       "      <th>свыше 30 мин.</th>\n",
       "      <td>543</td>\n",
       "      <td>0.03</td>\n",
       "    </tr>\n",
       "  </tbody>\n",
       "</table>\n",
       "</div>"
      ],
      "text/plain": [
       "                   user_id  ratio\n",
       "duration_category                \n",
       "0-10 мин.             1639   0.09\n",
       "10-20 мин.           10095   0.56\n",
       "20-30 мин.            5791   0.32\n",
       "свыше 30 мин.          543   0.03"
      ]
     },
     "execution_count": 34,
     "metadata": {},
     "output_type": "execute_result"
    }
   ],
   "source": [
    "rides_dur_pivot['ratio'] = (rides_dur_pivot['user_id']/(rides['user_id'].count())).round(2)\n",
    "rides_dur_pivot"
   ]
  },
  {
   "cell_type": "code",
   "execution_count": 35,
   "id": "92495db1",
   "metadata": {},
   "outputs": [
    {
     "data": {
      "image/png": "[encoded data removed]",
      "text/plain": [
       "<Figure size 1500x500 with 1 Axes>"
      ]
     },
     "metadata": {},
     "output_type": "display_data"
    }
   ],
   "source": [
    "rides.plot(kind='hist', y='duration', x='user_id', bins=60)\n",
    "plt.title('Распределение пользователей по времени поездки')\n",
    "plt.xlabel('Дистанция')\n",
    "plt.ylabel('Кол-во пользователей, чел.')\n",
    "plt.show()"
   ]
  },
  {
   "cell_type": "markdown",
   "id": "0ad5d33c",
   "metadata": {},
   "source": [
    "    В основном, а именно в 56% случаев пользователи проезжают от 10 до 20 минут. Меньше всего времени пользователи тратят на поездки от 30 минут. Присутствует необычный выброс количества поездок (около 100) длительность до 1 минуты. Такое может происходить из-за технических неисправностей, связанных с началом поездки, в результате чего пользователи останавливают поездку.\n",
    "    Длительность поездок нормально распределена в промежутке от 0 до 41 минуты. Мединное время поездки - около 18 минут."
   ]
  },
  {
   "cell_type": "markdown",
   "id": "49d26b69",
   "metadata": {},
   "source": [
    "### Датафрейм subscriptions"
   ]
  },
  {
   "cell_type": "code",
   "execution_count": 36,
   "id": "cb94c60b",
   "metadata": {
    "scrolled": true
   },
   "outputs": [
    {
     "name": "stdout",
     "output_type": "stream",
     "text": [
      "<class 'pandas.core.frame.DataFrame'>\n",
      "RangeIndex: 2 entries, 0 to 1\n",
      "Data columns (total 4 columns):\n",
      " #   Column             Non-Null Count  Dtype \n",
      "---  ------             --------------  ----- \n",
      " 0   subscription_type  2 non-null      object\n",
      " 1   minute_price       2 non-null      int64 \n",
      " 2   start_ride_price   2 non-null      int64 \n",
      " 3   subscription_fee   2 non-null      int64 \n",
      "dtypes: int64(3), object(1)\n",
      "memory usage: 196.0+ bytes\n"
     ]
    }
   ],
   "source": [
    "subscriptions.info()"
   ]
  },
  {
   "cell_type": "code",
   "execution_count": 37,
   "id": "c6762fc8",
   "metadata": {},
   "outputs": [
    {
     "data": {
      "text/html": [
       "<div>\n",
       "<style scoped>\n",
       "    .dataframe tbody tr th:only-of-type {\n",
       "        vertical-align: middle;\n",
       "    }\n",
       "\n",
       "    .dataframe tbody tr th {\n",
       "        vertical-align: top;\n",
       "    }\n",
       "\n",
       "    .dataframe thead th {\n",
       "        text-align: right;\n",
       "    }\n",
       "</style>\n",
       "<table border=\"1\" class=\"dataframe\">\n",
       "  <thead>\n",
       "    <tr style=\"text-align: right;\">\n",
       "      <th></th>\n",
       "      <th>subscription_type</th>\n",
       "      <th>minute_price</th>\n",
       "      <th>start_ride_price</th>\n",
       "      <th>subscription_fee</th>\n",
       "    </tr>\n",
       "  </thead>\n",
       "  <tbody>\n",
       "    <tr>\n",
       "      <th>0</th>\n",
       "      <td>free</td>\n",
       "      <td>8</td>\n",
       "      <td>50</td>\n",
       "      <td>0</td>\n",
       "    </tr>\n",
       "    <tr>\n",
       "      <th>1</th>\n",
       "      <td>ultra</td>\n",
       "      <td>6</td>\n",
       "      <td>0</td>\n",
       "      <td>199</td>\n",
       "    </tr>\n",
       "  </tbody>\n",
       "</table>\n",
       "</div>"
      ],
      "text/plain": [
       "  subscription_type  minute_price  start_ride_price  subscription_fee\n",
       "0              free             8                50                 0\n",
       "1             ultra             6                 0               199"
      ]
     },
     "execution_count": 37,
     "metadata": {},
     "output_type": "execute_result"
    }
   ],
   "source": [
    "subscriptions"
   ]
  },
  {
   "cell_type": "markdown",
   "id": "677cc7d5",
   "metadata": {},
   "source": [
    "    В датафрейме всего 2 строчки. Какие-либо странности в нём отсутствуют"
   ]
  },
  {
   "cell_type": "markdown",
   "id": "28192fdf",
   "metadata": {},
   "source": [
    "**Вывод:**  \n",
    "\n",
    "<span style=\"color:green\">1) Услугами сервиса аренды самокатов пользуются люди от 12 до 43 лет.\\\n",
    "2) Максимальное количество пользователей в возрасте 25 лет, этот же возраст является медианным.\\\n",
    "3) Большая часть всех пользователей используют подписку \"free\". Всего их 835, что составляет около 54% от общего количества и на 136 больше, чем с подпиской \"ultra\".\\\n",
    "4) Максимальное количество в 219 поездок совершено в Пятигорске. Минимальное количество в 168 поездок совершено в Москве.\\\n",
    "5) За одну поездку пользователи преодолевают расстояние от 1 до 7211 метров. Медиана пройденной дистанции равна 3134 метров. Наблюдаются два пика. Малый пик около 700 метров, большой пик около 3200 метров. Между пиками значения нормально распределены.\\\n",
    "6) Продолжительность поездок нормально распределена от 0 до 41 минуты. Продолжительность в 18 минут является наиболее распространенной, а также медианой. Наблюдается выброс размером около 100 поездок с продолжительностью в 1 минуту.</span>"
   ]
  },
  {
   "cell_type": "markdown",
   "id": "4ef51331",
   "metadata": {},
   "source": [
    "## Объединение данных"
   ]
  },
  {
   "cell_type": "markdown",
   "id": "f7e0766c",
   "metadata": {},
   "source": [
    "Объединим данные о пользователях, поездках и подписках в один датафрейм."
   ]
  },
  {
   "cell_type": "code",
   "execution_count": 38,
   "id": "3c88e15e",
   "metadata": {
    "scrolled": true
   },
   "outputs": [],
   "source": [
    "df = users.merge(rides, on='user_id').merge(subscriptions, on='subscription_type')"
   ]
  },
  {
   "cell_type": "code",
   "execution_count": 39,
   "id": "91888c04",
   "metadata": {},
   "outputs": [
    {
     "name": "stdout",
     "output_type": "stream",
     "text": [
      "<class 'pandas.core.frame.DataFrame'>\n",
      "RangeIndex: 18388 entries, 0 to 18387\n",
      "Data columns (total 14 columns):\n",
      " #   Column             Non-Null Count  Dtype         \n",
      "---  ------             --------------  -----         \n",
      " 0   user_id            18388 non-null  int64         \n",
      " 1   name               18388 non-null  object        \n",
      " 2   age                18388 non-null  int64         \n",
      " 3   city               18388 non-null  object        \n",
      " 4   subscription_type  18388 non-null  object        \n",
      " 5   distance           18388 non-null  float64       \n",
      " 6   duration           18388 non-null  float64       \n",
      " 7   date               18388 non-null  datetime64[ns]\n",
      " 8   ride_month         18388 non-null  int32         \n",
      " 9   distance_category  18388 non-null  object        \n",
      " 10  duration_category  18388 non-null  object        \n",
      " 11  minute_price       18388 non-null  int64         \n",
      " 12  start_ride_price   18388 non-null  int64         \n",
      " 13  subscription_fee   18388 non-null  int64         \n",
      "dtypes: datetime64[ns](1), float64(2), int32(1), int64(5), object(5)\n",
      "memory usage: 1.9+ MB\n"
     ]
    }
   ],
   "source": [
    "df.info()"
   ]
  },
  {
   "cell_type": "code",
   "execution_count": 40,
   "id": "75f3dc8b",
   "metadata": {},
   "outputs": [
    {
     "data": {
      "text/html": [
       "<div>\n",
       "<style scoped>\n",
       "    .dataframe tbody tr th:only-of-type {\n",
       "        vertical-align: middle;\n",
       "    }\n",
       "\n",
       "    .dataframe tbody tr th {\n",
       "        vertical-align: top;\n",
       "    }\n",
       "\n",
       "    .dataframe thead th {\n",
       "        text-align: right;\n",
       "    }\n",
       "</style>\n",
       "<table border=\"1\" class=\"dataframe\">\n",
       "  <thead>\n",
       "    <tr style=\"text-align: right;\">\n",
       "      <th></th>\n",
       "      <th>user_id</th>\n",
       "      <th>name</th>\n",
       "      <th>age</th>\n",
       "      <th>city</th>\n",
       "      <th>subscription_type</th>\n",
       "      <th>distance</th>\n",
       "      <th>duration</th>\n",
       "      <th>date</th>\n",
       "      <th>ride_month</th>\n",
       "      <th>distance_category</th>\n",
       "      <th>duration_category</th>\n",
       "      <th>minute_price</th>\n",
       "      <th>start_ride_price</th>\n",
       "      <th>subscription_fee</th>\n",
       "    </tr>\n",
       "  </thead>\n",
       "  <tbody>\n",
       "    <tr>\n",
       "      <th>0</th>\n",
       "      <td>1</td>\n",
       "      <td>Кира</td>\n",
       "      <td>22</td>\n",
       "      <td>Тюмень</td>\n",
       "      <td>ultra</td>\n",
       "      <td>4409.919140</td>\n",
       "      <td>25.599769</td>\n",
       "      <td>2021-01-01</td>\n",
       "      <td>1</td>\n",
       "      <td>4-5 км.</td>\n",
       "      <td>20-30 мин.</td>\n",
       "      <td>6</td>\n",
       "      <td>0</td>\n",
       "      <td>199</td>\n",
       "    </tr>\n",
       "    <tr>\n",
       "      <th>1</th>\n",
       "      <td>1</td>\n",
       "      <td>Кира</td>\n",
       "      <td>22</td>\n",
       "      <td>Тюмень</td>\n",
       "      <td>ultra</td>\n",
       "      <td>2617.592153</td>\n",
       "      <td>15.816871</td>\n",
       "      <td>2021-01-18</td>\n",
       "      <td>1</td>\n",
       "      <td>2-3 км.</td>\n",
       "      <td>10-20 мин.</td>\n",
       "      <td>6</td>\n",
       "      <td>0</td>\n",
       "      <td>199</td>\n",
       "    </tr>\n",
       "    <tr>\n",
       "      <th>2</th>\n",
       "      <td>1</td>\n",
       "      <td>Кира</td>\n",
       "      <td>22</td>\n",
       "      <td>Тюмень</td>\n",
       "      <td>ultra</td>\n",
       "      <td>754.159807</td>\n",
       "      <td>6.232113</td>\n",
       "      <td>2021-04-20</td>\n",
       "      <td>4</td>\n",
       "      <td>0-1 км.</td>\n",
       "      <td>0-10 мин.</td>\n",
       "      <td>6</td>\n",
       "      <td>0</td>\n",
       "      <td>199</td>\n",
       "    </tr>\n",
       "    <tr>\n",
       "      <th>3</th>\n",
       "      <td>1</td>\n",
       "      <td>Кира</td>\n",
       "      <td>22</td>\n",
       "      <td>Тюмень</td>\n",
       "      <td>ultra</td>\n",
       "      <td>2694.783254</td>\n",
       "      <td>18.511000</td>\n",
       "      <td>2021-08-11</td>\n",
       "      <td>8</td>\n",
       "      <td>2-3 км.</td>\n",
       "      <td>10-20 мин.</td>\n",
       "      <td>6</td>\n",
       "      <td>0</td>\n",
       "      <td>199</td>\n",
       "    </tr>\n",
       "    <tr>\n",
       "      <th>4</th>\n",
       "      <td>1</td>\n",
       "      <td>Кира</td>\n",
       "      <td>22</td>\n",
       "      <td>Тюмень</td>\n",
       "      <td>ultra</td>\n",
       "      <td>4028.687306</td>\n",
       "      <td>26.265803</td>\n",
       "      <td>2021-08-28</td>\n",
       "      <td>8</td>\n",
       "      <td>4-5 км.</td>\n",
       "      <td>20-30 мин.</td>\n",
       "      <td>6</td>\n",
       "      <td>0</td>\n",
       "      <td>199</td>\n",
       "    </tr>\n",
       "    <tr>\n",
       "      <th>5</th>\n",
       "      <td>1</td>\n",
       "      <td>Кира</td>\n",
       "      <td>22</td>\n",
       "      <td>Тюмень</td>\n",
       "      <td>ultra</td>\n",
       "      <td>2770.890808</td>\n",
       "      <td>16.650138</td>\n",
       "      <td>2021-10-09</td>\n",
       "      <td>10</td>\n",
       "      <td>2-3 км.</td>\n",
       "      <td>10-20 мин.</td>\n",
       "      <td>6</td>\n",
       "      <td>0</td>\n",
       "      <td>199</td>\n",
       "    </tr>\n",
       "    <tr>\n",
       "      <th>6</th>\n",
       "      <td>1</td>\n",
       "      <td>Кира</td>\n",
       "      <td>22</td>\n",
       "      <td>Тюмень</td>\n",
       "      <td>ultra</td>\n",
       "      <td>3039.020292</td>\n",
       "      <td>14.927879</td>\n",
       "      <td>2021-10-19</td>\n",
       "      <td>10</td>\n",
       "      <td>3-4 км.</td>\n",
       "      <td>10-20 мин.</td>\n",
       "      <td>6</td>\n",
       "      <td>0</td>\n",
       "      <td>199</td>\n",
       "    </tr>\n",
       "    <tr>\n",
       "      <th>7</th>\n",
       "      <td>1</td>\n",
       "      <td>Кира</td>\n",
       "      <td>22</td>\n",
       "      <td>Тюмень</td>\n",
       "      <td>ultra</td>\n",
       "      <td>2842.118050</td>\n",
       "      <td>23.117468</td>\n",
       "      <td>2021-11-06</td>\n",
       "      <td>11</td>\n",
       "      <td>2-3 км.</td>\n",
       "      <td>20-30 мин.</td>\n",
       "      <td>6</td>\n",
       "      <td>0</td>\n",
       "      <td>199</td>\n",
       "    </tr>\n",
       "    <tr>\n",
       "      <th>8</th>\n",
       "      <td>1</td>\n",
       "      <td>Кира</td>\n",
       "      <td>22</td>\n",
       "      <td>Тюмень</td>\n",
       "      <td>ultra</td>\n",
       "      <td>3412.690668</td>\n",
       "      <td>15.238072</td>\n",
       "      <td>2021-11-14</td>\n",
       "      <td>11</td>\n",
       "      <td>3-4 км.</td>\n",
       "      <td>10-20 мин.</td>\n",
       "      <td>6</td>\n",
       "      <td>0</td>\n",
       "      <td>199</td>\n",
       "    </tr>\n",
       "    <tr>\n",
       "      <th>9</th>\n",
       "      <td>1</td>\n",
       "      <td>Кира</td>\n",
       "      <td>22</td>\n",
       "      <td>Тюмень</td>\n",
       "      <td>ultra</td>\n",
       "      <td>748.690645</td>\n",
       "      <td>15.041884</td>\n",
       "      <td>2021-11-22</td>\n",
       "      <td>11</td>\n",
       "      <td>0-1 км.</td>\n",
       "      <td>10-20 мин.</td>\n",
       "      <td>6</td>\n",
       "      <td>0</td>\n",
       "      <td>199</td>\n",
       "    </tr>\n",
       "  </tbody>\n",
       "</table>\n",
       "</div>"
      ],
      "text/plain": [
       "   user_id  name  age    city subscription_type     distance   duration  \\\n",
       "0        1  Кира   22  Тюмень             ultra  4409.919140  25.599769   \n",
       "1        1  Кира   22  Тюмень             ultra  2617.592153  15.816871   \n",
       "2        1  Кира   22  Тюмень             ultra   754.159807   6.232113   \n",
       "3        1  Кира   22  Тюмень             ultra  2694.783254  18.511000   \n",
       "4        1  Кира   22  Тюмень             ultra  4028.687306  26.265803   \n",
       "5        1  Кира   22  Тюмень             ultra  2770.890808  16.650138   \n",
       "6        1  Кира   22  Тюмень             ultra  3039.020292  14.927879   \n",
       "7        1  Кира   22  Тюмень             ultra  2842.118050  23.117468   \n",
       "8        1  Кира   22  Тюмень             ultra  3412.690668  15.238072   \n",
       "9        1  Кира   22  Тюмень             ultra   748.690645  15.041884   \n",
       "\n",
       "        date  ride_month distance_category duration_category  minute_price  \\\n",
       "0 2021-01-01           1           4-5 км.        20-30 мин.             6   \n",
       "1 2021-01-18           1           2-3 км.        10-20 мин.             6   \n",
       "2 2021-04-20           4           0-1 км.         0-10 мин.             6   \n",
       "3 2021-08-11           8           2-3 км.        10-20 мин.             6   \n",
       "4 2021-08-28           8           4-5 км.        20-30 мин.             6   \n",
       "5 2021-10-09          10           2-3 км.        10-20 мин.             6   \n",
       "6 2021-10-19          10           3-4 км.        10-20 мин.             6   \n",
       "7 2021-11-06          11           2-3 км.        20-30 мин.             6   \n",
       "8 2021-11-14          11           3-4 км.        10-20 мин.             6   \n",
       "9 2021-11-22          11           0-1 км.        10-20 мин.             6   \n",
       "\n",
       "   start_ride_price  subscription_fee  \n",
       "0                 0               199  \n",
       "1                 0               199  \n",
       "2                 0               199  \n",
       "3                 0               199  \n",
       "4                 0               199  \n",
       "5                 0               199  \n",
       "6                 0               199  \n",
       "7                 0               199  \n",
       "8                 0               199  \n",
       "9                 0               199  "
      ]
     },
     "execution_count": 40,
     "metadata": {},
     "output_type": "execute_result"
    }
   ],
   "source": [
    "df.head(10)"
   ]
  },
  {
   "cell_type": "code",
   "execution_count": 41,
   "id": "309faf66",
   "metadata": {},
   "outputs": [
    {
     "name": "stdout",
     "output_type": "stream",
     "text": [
      "<class 'pandas.core.frame.DataFrame'>\n",
      "RangeIndex: 18388 entries, 0 to 18387\n",
      "Data columns (total 14 columns):\n",
      " #   Column             Non-Null Count  Dtype         \n",
      "---  ------             --------------  -----         \n",
      " 0   user_id            18388 non-null  int64         \n",
      " 1   name               18388 non-null  object        \n",
      " 2   age                18388 non-null  int64         \n",
      " 3   city               18388 non-null  object        \n",
      " 4   subscription_type  18388 non-null  object        \n",
      " 5   distance           18388 non-null  float64       \n",
      " 6   duration           18388 non-null  float64       \n",
      " 7   date               18388 non-null  datetime64[ns]\n",
      " 8   ride_month         18388 non-null  int32         \n",
      " 9   distance_category  18388 non-null  object        \n",
      " 10  duration_category  18388 non-null  object        \n",
      " 11  minute_price       18388 non-null  int64         \n",
      " 12  start_ride_price   18388 non-null  int64         \n",
      " 13  subscription_fee   18388 non-null  int64         \n",
      "dtypes: datetime64[ns](1), float64(2), int32(1), int64(5), object(5)\n",
      "memory usage: 1.9+ MB\n"
     ]
    }
   ],
   "source": [
    "df.info()"
   ]
  },
  {
   "cell_type": "code",
   "execution_count": 42,
   "id": "9b66da2c",
   "metadata": {},
   "outputs": [
    {
     "name": "stdout",
     "output_type": "stream",
     "text": [
      "Количество уникальных идентификаторов в датафрейме users: 1534\n",
      "Количество уникальных идентификаторов в датафрейме df: 1534\n",
      "\n",
      "Количество строк в датафрейме rides: 18068\n",
      "Количество строк в датафрейме df: 18388\n"
     ]
    }
   ],
   "source": [
    "print(f\"Количество уникальных идентификаторов в датафрейме users: {users['user_id'].nunique()}\")\n",
    "print(f\"Количество уникальных идентификаторов в датафрейме df: {df['user_id'].nunique()}\")\n",
    "print()\n",
    "print(f\"Количество строк в датафрейме rides: {rides['user_id'].count()}\")\n",
    "print(f\"Количество строк в датафрейме df: {df['user_id'].count()}\")"
   ]
  },
  {
   "cell_type": "markdown",
   "id": "ec1e29ad",
   "metadata": {},
   "source": [
    "Потери или появления лишних данных не произошло. Пропуски отсутствуют"
   ]
  },
  {
   "cell_type": "markdown",
   "id": "3dba68f4",
   "metadata": {},
   "source": [
    "Создадим ещё два производных датафрейма из вышеуказанного:\n",
    "- c данными о пользователях без подписки;\n",
    "- с данными о пользователях с подпиской."
   ]
  },
  {
   "cell_type": "code",
   "execution_count": 43,
   "id": "bd36c34a",
   "metadata": {
    "scrolled": true
   },
   "outputs": [
    {
     "data": {
      "text/plain": [
       "subscription_type\n",
       "ultra    6672\n",
       "Name: count, dtype: int64"
      ]
     },
     "execution_count": 43,
     "metadata": {},
     "output_type": "execute_result"
    }
   ],
   "source": [
    "df_ultra = df.query('subscription_type == \"ultra\"')\n",
    "df_ultra['subscription_type'].value_counts()"
   ]
  },
  {
   "cell_type": "code",
   "execution_count": 44,
   "id": "865574dc",
   "metadata": {},
   "outputs": [
    {
     "data": {
      "text/plain": [
       "subscription_type\n",
       "free    11716\n",
       "Name: count, dtype: int64"
      ]
     },
     "execution_count": 44,
     "metadata": {},
     "output_type": "execute_result"
    }
   ],
   "source": [
    "df_free = df.query('subscription_type == \"free\"')\n",
    "df_free['subscription_type'].value_counts()"
   ]
  },
  {
   "cell_type": "markdown",
   "id": "bdd40422",
   "metadata": {},
   "source": [
    "Количество строк в исходном датафрейме (18068) совпадает с суммой строк в сформированных датафреймах (6500+11568=18068)"
   ]
  },
  {
   "cell_type": "markdown",
   "id": "dfbab5df",
   "metadata": {},
   "source": [
    "    Количество поездок с подпиской free на 78% больше (в абс. выражении на 5 068), чем с подпиской ultra."
   ]
  },
  {
   "cell_type": "code",
   "execution_count": 45,
   "id": "5740c9b3",
   "metadata": {},
   "outputs": [
    {
     "data": {
      "text/html": [
       "<div>\n",
       "<style scoped>\n",
       "    .dataframe tbody tr th:only-of-type {\n",
       "        vertical-align: middle;\n",
       "    }\n",
       "\n",
       "    .dataframe tbody tr th {\n",
       "        vertical-align: top;\n",
       "    }\n",
       "\n",
       "    .dataframe thead th {\n",
       "        text-align: right;\n",
       "    }\n",
       "</style>\n",
       "<table border=\"1\" class=\"dataframe\">\n",
       "  <thead>\n",
       "    <tr style=\"text-align: right;\">\n",
       "      <th></th>\n",
       "      <th>user_id</th>\n",
       "      <th>name</th>\n",
       "      <th>age</th>\n",
       "      <th>city</th>\n",
       "      <th>subscription_type</th>\n",
       "      <th>distance</th>\n",
       "      <th>duration</th>\n",
       "      <th>date</th>\n",
       "      <th>ride_month</th>\n",
       "      <th>distance_category</th>\n",
       "      <th>duration_category</th>\n",
       "      <th>minute_price</th>\n",
       "      <th>start_ride_price</th>\n",
       "      <th>subscription_fee</th>\n",
       "    </tr>\n",
       "  </thead>\n",
       "  <tbody>\n",
       "    <tr>\n",
       "      <th>0</th>\n",
       "      <td>1</td>\n",
       "      <td>Кира</td>\n",
       "      <td>22</td>\n",
       "      <td>Тюмень</td>\n",
       "      <td>ultra</td>\n",
       "      <td>4409.919140</td>\n",
       "      <td>25.599769</td>\n",
       "      <td>2021-01-01</td>\n",
       "      <td>1</td>\n",
       "      <td>4-5 км.</td>\n",
       "      <td>20-30 мин.</td>\n",
       "      <td>6</td>\n",
       "      <td>0</td>\n",
       "      <td>199</td>\n",
       "    </tr>\n",
       "    <tr>\n",
       "      <th>1</th>\n",
       "      <td>1</td>\n",
       "      <td>Кира</td>\n",
       "      <td>22</td>\n",
       "      <td>Тюмень</td>\n",
       "      <td>ultra</td>\n",
       "      <td>2617.592153</td>\n",
       "      <td>15.816871</td>\n",
       "      <td>2021-01-18</td>\n",
       "      <td>1</td>\n",
       "      <td>2-3 км.</td>\n",
       "      <td>10-20 мин.</td>\n",
       "      <td>6</td>\n",
       "      <td>0</td>\n",
       "      <td>199</td>\n",
       "    </tr>\n",
       "    <tr>\n",
       "      <th>2</th>\n",
       "      <td>1</td>\n",
       "      <td>Кира</td>\n",
       "      <td>22</td>\n",
       "      <td>Тюмень</td>\n",
       "      <td>ultra</td>\n",
       "      <td>754.159807</td>\n",
       "      <td>6.232113</td>\n",
       "      <td>2021-04-20</td>\n",
       "      <td>4</td>\n",
       "      <td>0-1 км.</td>\n",
       "      <td>0-10 мин.</td>\n",
       "      <td>6</td>\n",
       "      <td>0</td>\n",
       "      <td>199</td>\n",
       "    </tr>\n",
       "    <tr>\n",
       "      <th>3</th>\n",
       "      <td>1</td>\n",
       "      <td>Кира</td>\n",
       "      <td>22</td>\n",
       "      <td>Тюмень</td>\n",
       "      <td>ultra</td>\n",
       "      <td>2694.783254</td>\n",
       "      <td>18.511000</td>\n",
       "      <td>2021-08-11</td>\n",
       "      <td>8</td>\n",
       "      <td>2-3 км.</td>\n",
       "      <td>10-20 мин.</td>\n",
       "      <td>6</td>\n",
       "      <td>0</td>\n",
       "      <td>199</td>\n",
       "    </tr>\n",
       "    <tr>\n",
       "      <th>4</th>\n",
       "      <td>1</td>\n",
       "      <td>Кира</td>\n",
       "      <td>22</td>\n",
       "      <td>Тюмень</td>\n",
       "      <td>ultra</td>\n",
       "      <td>4028.687306</td>\n",
       "      <td>26.265803</td>\n",
       "      <td>2021-08-28</td>\n",
       "      <td>8</td>\n",
       "      <td>4-5 км.</td>\n",
       "      <td>20-30 мин.</td>\n",
       "      <td>6</td>\n",
       "      <td>0</td>\n",
       "      <td>199</td>\n",
       "    </tr>\n",
       "    <tr>\n",
       "      <th>...</th>\n",
       "      <td>...</td>\n",
       "      <td>...</td>\n",
       "      <td>...</td>\n",
       "      <td>...</td>\n",
       "      <td>...</td>\n",
       "      <td>...</td>\n",
       "      <td>...</td>\n",
       "      <td>...</td>\n",
       "      <td>...</td>\n",
       "      <td>...</td>\n",
       "      <td>...</td>\n",
       "      <td>...</td>\n",
       "      <td>...</td>\n",
       "      <td>...</td>\n",
       "    </tr>\n",
       "    <tr>\n",
       "      <th>17610</th>\n",
       "      <td>1480</td>\n",
       "      <td>Кира</td>\n",
       "      <td>25</td>\n",
       "      <td>Краснодар</td>\n",
       "      <td>free</td>\n",
       "      <td>2331.885150</td>\n",
       "      <td>20.744569</td>\n",
       "      <td>2021-07-23</td>\n",
       "      <td>7</td>\n",
       "      <td>2-3 км.</td>\n",
       "      <td>20-30 мин.</td>\n",
       "      <td>8</td>\n",
       "      <td>50</td>\n",
       "      <td>0</td>\n",
       "    </tr>\n",
       "    <tr>\n",
       "      <th>17611</th>\n",
       "      <td>1480</td>\n",
       "      <td>Кира</td>\n",
       "      <td>25</td>\n",
       "      <td>Краснодар</td>\n",
       "      <td>free</td>\n",
       "      <td>668.831102</td>\n",
       "      <td>11.744777</td>\n",
       "      <td>2021-08-19</td>\n",
       "      <td>8</td>\n",
       "      <td>0-1 км.</td>\n",
       "      <td>10-20 мин.</td>\n",
       "      <td>8</td>\n",
       "      <td>50</td>\n",
       "      <td>0</td>\n",
       "    </tr>\n",
       "    <tr>\n",
       "      <th>17612</th>\n",
       "      <td>1480</td>\n",
       "      <td>Кира</td>\n",
       "      <td>25</td>\n",
       "      <td>Краснодар</td>\n",
       "      <td>free</td>\n",
       "      <td>3053.018744</td>\n",
       "      <td>22.448820</td>\n",
       "      <td>2021-08-20</td>\n",
       "      <td>8</td>\n",
       "      <td>3-4 км.</td>\n",
       "      <td>20-30 мин.</td>\n",
       "      <td>8</td>\n",
       "      <td>50</td>\n",
       "      <td>0</td>\n",
       "    </tr>\n",
       "    <tr>\n",
       "      <th>17613</th>\n",
       "      <td>1480</td>\n",
       "      <td>Кира</td>\n",
       "      <td>25</td>\n",
       "      <td>Краснодар</td>\n",
       "      <td>free</td>\n",
       "      <td>242.121324</td>\n",
       "      <td>14.968485</td>\n",
       "      <td>2021-09-01</td>\n",
       "      <td>9</td>\n",
       "      <td>0-1 км.</td>\n",
       "      <td>10-20 мин.</td>\n",
       "      <td>8</td>\n",
       "      <td>50</td>\n",
       "      <td>0</td>\n",
       "    </tr>\n",
       "    <tr>\n",
       "      <th>17614</th>\n",
       "      <td>1480</td>\n",
       "      <td>Кира</td>\n",
       "      <td>25</td>\n",
       "      <td>Краснодар</td>\n",
       "      <td>free</td>\n",
       "      <td>2411.569357</td>\n",
       "      <td>13.890198</td>\n",
       "      <td>2021-11-26</td>\n",
       "      <td>11</td>\n",
       "      <td>2-3 км.</td>\n",
       "      <td>10-20 мин.</td>\n",
       "      <td>8</td>\n",
       "      <td>50</td>\n",
       "      <td>0</td>\n",
       "    </tr>\n",
       "  </tbody>\n",
       "</table>\n",
       "<p>179 rows × 14 columns</p>\n",
       "</div>"
      ],
      "text/plain": [
       "       user_id  name  age       city subscription_type     distance  \\\n",
       "0            1  Кира   22     Тюмень             ultra  4409.919140   \n",
       "1            1  Кира   22     Тюмень             ultra  2617.592153   \n",
       "2            1  Кира   22     Тюмень             ultra   754.159807   \n",
       "3            1  Кира   22     Тюмень             ultra  2694.783254   \n",
       "4            1  Кира   22     Тюмень             ultra  4028.687306   \n",
       "...        ...   ...  ...        ...               ...          ...   \n",
       "17610     1480  Кира   25  Краснодар              free  2331.885150   \n",
       "17611     1480  Кира   25  Краснодар              free   668.831102   \n",
       "17612     1480  Кира   25  Краснодар              free  3053.018744   \n",
       "17613     1480  Кира   25  Краснодар              free   242.121324   \n",
       "17614     1480  Кира   25  Краснодар              free  2411.569357   \n",
       "\n",
       "        duration       date  ride_month distance_category duration_category  \\\n",
       "0      25.599769 2021-01-01           1           4-5 км.        20-30 мин.   \n",
       "1      15.816871 2021-01-18           1           2-3 км.        10-20 мин.   \n",
       "2       6.232113 2021-04-20           4           0-1 км.         0-10 мин.   \n",
       "3      18.511000 2021-08-11           8           2-3 км.        10-20 мин.   \n",
       "4      26.265803 2021-08-28           8           4-5 км.        20-30 мин.   \n",
       "...          ...        ...         ...               ...               ...   \n",
       "17610  20.744569 2021-07-23           7           2-3 км.        20-30 мин.   \n",
       "17611  11.744777 2021-08-19           8           0-1 км.        10-20 мин.   \n",
       "17612  22.448820 2021-08-20           8           3-4 км.        20-30 мин.   \n",
       "17613  14.968485 2021-09-01           9           0-1 км.        10-20 мин.   \n",
       "17614  13.890198 2021-11-26          11           2-3 км.        10-20 мин.   \n",
       "\n",
       "       minute_price  start_ride_price  subscription_fee  \n",
       "0                 6                 0               199  \n",
       "1                 6                 0               199  \n",
       "2                 6                 0               199  \n",
       "3                 6                 0               199  \n",
       "4                 6                 0               199  \n",
       "...             ...               ...               ...  \n",
       "17610             8                50                 0  \n",
       "17611             8                50                 0  \n",
       "17612             8                50                 0  \n",
       "17613             8                50                 0  \n",
       "17614             8                50                 0  \n",
       "\n",
       "[179 rows x 14 columns]"
      ]
     },
     "execution_count": 45,
     "metadata": {},
     "output_type": "execute_result"
    }
   ],
   "source": [
    "# необходимо учесть, что у одних и тех же пользователей могут быть разные виды подписки\n",
    "df.query('name == \"Кира\"')"
   ]
  },
  {
   "cell_type": "markdown",
   "id": "7564226e",
   "metadata": {},
   "source": [
    "Визуализируем данные о расстоянии и времени поездок для пользователей с разными типами подписки"
   ]
  },
  {
   "cell_type": "markdown",
   "id": "e239d51e",
   "metadata": {},
   "source": [
    "Для начала построим график распределения пользователей по расстоянию поездок"
   ]
  },
  {
   "cell_type": "code",
   "execution_count": 46,
   "id": "588014ca",
   "metadata": {},
   "outputs": [
    {
     "name": "stderr",
     "output_type": "stream",
     "text": [
      "C:\\ProgramData\\anaconda3\\Lib\\site-packages\\seaborn\\_oldcore.py:1119: FutureWarning: use_inf_as_na option is deprecated and will be removed in a future version. Convert inf values to NaN before operating instead.\n",
      "  with pd.option_context('mode.use_inf_as_na', True):\n"
     ]
    },
    {
     "data": {
      "image/png": "[encoded data removed]",
      "text/plain": [
       "<Figure size 1500x500 with 1 Axes>"
      ]
     },
     "metadata": {},
     "output_type": "display_data"
    }
   ],
   "source": [
    "sns.histplot(data=df, x='distance', hue='subscription_type')\n",
    "plt.title('Распределение пользователей c разным видом подписки по расстоянию поездки')\n",
    "plt.xlabel('Расстояние')\n",
    "plt.ylabel('Кол-во пользователей, чел.')\n",
    "plt.show()"
   ]
  },
  {
   "cell_type": "markdown",
   "id": "f76c355c",
   "metadata": {},
   "source": [
    "У обоих графиков(для подписки ultra и для подписки free) отображены следующие пики:\n",
    "- для \"ultra-графика\" малый пик в районе 1000 м., большой пик в районе 3200 м, а также небольшой пик в районе 4100 м.;\n",
    "- для \"free-графика\" малый пик в районе 500 м., большой пик в районе 2500 м.\\\n",
    "Между пиками графики нпохожи на нормальное распределение. При этом большой пик на \"free-графике\" немного \"срублен\"."
   ]
  },
  {
   "cell_type": "markdown",
   "id": "bd736e3b-cdf9-4e68-aa9b-b2a7ad4d1c3b",
   "metadata": {},
   "source": [
    "Cоздадим доп. датафрейм с категоризированным расстоянием"
   ]
  },
  {
   "cell_type": "code",
   "execution_count": 47,
   "id": "bd22c1c5",
   "metadata": {},
   "outputs": [
    {
     "data": {
      "text/html": [
       "<div>\n",
       "<style scoped>\n",
       "    .dataframe tbody tr th:only-of-type {\n",
       "        vertical-align: middle;\n",
       "    }\n",
       "\n",
       "    .dataframe tbody tr th {\n",
       "        vertical-align: top;\n",
       "    }\n",
       "\n",
       "    .dataframe thead th {\n",
       "        text-align: right;\n",
       "    }\n",
       "</style>\n",
       "<table border=\"1\" class=\"dataframe\">\n",
       "  <thead>\n",
       "    <tr style=\"text-align: right;\">\n",
       "      <th>subscription_type</th>\n",
       "      <th>free</th>\n",
       "      <th>ultra</th>\n",
       "    </tr>\n",
       "    <tr>\n",
       "      <th>distance_category</th>\n",
       "      <th></th>\n",
       "      <th></th>\n",
       "    </tr>\n",
       "  </thead>\n",
       "  <tbody>\n",
       "    <tr>\n",
       "      <th>0-1 км.</th>\n",
       "      <td>1130.0</td>\n",
       "      <td>267.0</td>\n",
       "    </tr>\n",
       "    <tr>\n",
       "      <th>1-2 км.</th>\n",
       "      <td>732.0</td>\n",
       "      <td>258.0</td>\n",
       "    </tr>\n",
       "    <tr>\n",
       "      <th>2-3 км.</th>\n",
       "      <td>3569.0</td>\n",
       "      <td>2067.0</td>\n",
       "    </tr>\n",
       "    <tr>\n",
       "      <th>3-4 км.</th>\n",
       "      <td>3653.0</td>\n",
       "      <td>3183.0</td>\n",
       "    </tr>\n",
       "    <tr>\n",
       "      <th>4-5 км.</th>\n",
       "      <td>2108.0</td>\n",
       "      <td>874.0</td>\n",
       "    </tr>\n",
       "    <tr>\n",
       "      <th>5-6 км.</th>\n",
       "      <td>477.0</td>\n",
       "      <td>23.0</td>\n",
       "    </tr>\n",
       "    <tr>\n",
       "      <th>свыше 6 км.</th>\n",
       "      <td>47.0</td>\n",
       "      <td>NaN</td>\n",
       "    </tr>\n",
       "  </tbody>\n",
       "</table>\n",
       "</div>"
      ],
      "text/plain": [
       "subscription_type    free   ultra\n",
       "distance_category                \n",
       "0-1 км.            1130.0   267.0\n",
       "1-2 км.             732.0   258.0\n",
       "2-3 км.            3569.0  2067.0\n",
       "3-4 км.            3653.0  3183.0\n",
       "4-5 км.            2108.0   874.0\n",
       "5-6 км.             477.0    23.0\n",
       "свыше 6 км.          47.0     NaN"
      ]
     },
     "execution_count": 47,
     "metadata": {},
     "output_type": "execute_result"
    }
   ],
   "source": [
    "dist_by_sub = df.pivot_table(index='distance_category', columns='subscription_type', values='user_id', aggfunc='count')\n",
    "dist_by_sub"
   ]
  },
  {
   "cell_type": "code",
   "execution_count": 48,
   "id": "c70df1d0",
   "metadata": {},
   "outputs": [
    {
     "data": {
      "image/png": "[encoded data removed]",
      "text/plain": [
       "<Figure size 1500x500 with 1 Axes>"
      ]
     },
     "metadata": {},
     "output_type": "display_data"
    }
   ],
   "source": [
    "# построим столбчатую диаграмму для наглядности\n",
    "dist_by_sub.plot(kind='bar')\n",
    "plt.title('Распределение пользователей c разным видом подписки по расстоянию поездки')\n",
    "plt.xlabel('Время')\n",
    "plt.ylabel('Кол-во пользователей, чел.')\n",
    "plt.show()"
   ]
  },
  {
   "cell_type": "code",
   "execution_count": 49,
   "id": "044878ad",
   "metadata": {},
   "outputs": [
    {
     "name": "stdout",
     "output_type": "stream",
     "text": [
      "count    6672.000000\n",
      "mean     3115.434963\n",
      "std       836.686986\n",
      "min       244.210438\n",
      "25%      2785.359959\n",
      "50%      3148.731011\n",
      "75%      3559.725229\n",
      "max      5699.769662\n",
      "Name: distance, dtype: float64\n"
     ]
    },
    {
     "data": {
      "text/plain": [
       "count    11716.000000\n",
       "mean      3045.357335\n",
       "std       1246.269595\n",
       "min          0.855683\n",
       "25%       2366.991323\n",
       "50%       3114.660769\n",
       "75%       3903.762902\n",
       "max       7211.007745\n",
       "Name: distance, dtype: float64"
      ]
     },
     "execution_count": 49,
     "metadata": {},
     "output_type": "execute_result"
    }
   ],
   "source": [
    "print(df_ultra['distance'].describe())\n",
    "df_free['distance'].describe()"
   ]
  },
  {
   "cell_type": "markdown",
   "id": "4b8f5cdc",
   "metadata": {},
   "source": [
    "**Вывод:**  \n",
    "\n",
    "<span style=\"color:green\">- количество затраченного расстояния у пользователей с разными видами подписок, в целом, пропорционально;\\\n",
    "    - пользователи с подпиской ultra не ездят на дистанции свыше 6 км;\\\n",
    "    - среди пользователей с подпиской free дистанция поездки у почти 62% составляет 2-4 км, в то же время поездка у 79% пользователей с подпиской ultra составляет 2-4 км;\\\n",
    "    - максимальное расстояние поездки у пользователей с подпиской ultra составляет 5.700 м., что на 1.500 м. меньше, чем максимальная дистанция поездки у пользователей с подпиской free;\\\n",
    "    - среднее время поездок у сравнимаемых категорий примерно равно."
   ]
  },
  {
   "cell_type": "markdown",
   "id": "624a68dc",
   "metadata": {},
   "source": [
    "Построим график распределения пользователей с разными видами подписки по времени поездки"
   ]
  },
  {
   "cell_type": "code",
   "execution_count": 50,
   "id": "e61dfa23",
   "metadata": {},
   "outputs": [
    {
     "name": "stderr",
     "output_type": "stream",
     "text": [
      "C:\\ProgramData\\anaconda3\\Lib\\site-packages\\seaborn\\_oldcore.py:1119: FutureWarning: use_inf_as_na option is deprecated and will be removed in a future version. Convert inf values to NaN before operating instead.\n",
      "  with pd.option_context('mode.use_inf_as_na', True):\n"
     ]
    },
    {
     "data": {
      "image/png": "[encoded data removed]",
      "text/plain": [
       "<Figure size 1500x500 with 1 Axes>"
      ]
     },
     "metadata": {},
     "output_type": "display_data"
    }
   ],
   "source": [
    "sns.histplot(data=df, x='duration', hue='subscription_type')\n",
    "plt.title('Распределение пользователей c разным видом подписки по времени поездки')\n",
    "plt.xlabel('Продолжительность поездки, мин.')\n",
    "plt.ylabel('Кол-во пользователей, чел.')\n",
    "plt.show()"
   ]
  },
  {
   "cell_type": "markdown",
   "id": "022dc0b5",
   "metadata": {},
   "source": [
    "Оба графика похожи на нормальное распределение.\\\n",
    "Так, среднее время поездки у обоих категорий пользователей приходится примерно на 18 минут.\n",
    "При этом на \"free-графике\" ярко выражен пик около 1 минуты.\\\n",
    "Здесь может крыться следующее:\n",
    "- среди пользователей с типом подписки free, вероятно, больше новичков, которые в первую минуту поездки разбираются как начать движение, и, впоследствии, столкнувшись с неудачей, отменяют поездку;\n",
    "- существует техническая неполадка, связанная со стартом сессии у пользователей с подпиской free, в результате которой самокат может технически не начать движение;"
   ]
  },
  {
   "cell_type": "code",
   "execution_count": 51,
   "id": "eadcc02f",
   "metadata": {},
   "outputs": [
    {
     "data": {
      "image/png": "[encoded data removed]",
      "text/plain": [
       "<Figure size 1500x500 with 1 Axes>"
      ]
     },
     "metadata": {},
     "output_type": "display_data"
    }
   ],
   "source": [
    "dur_by_sub = df.pivot_table(index='duration_category', columns='subscription_type', values='user_id', aggfunc='count')\n",
    "dur_by_sub.plot(kind='bar')\n",
    "plt.title('Распределение пользователей c разным видом подписки по времени поездки')\n",
    "plt.xlabel('Продолжительность поездки')\n",
    "plt.ylabel('Кол-во пользователей, чел.')\n",
    "plt.show()"
   ]
  },
  {
   "cell_type": "code",
   "execution_count": 52,
   "id": "8399e6fc",
   "metadata": {
    "scrolled": true
   },
   "outputs": [
    {
     "data": {
      "text/html": [
       "<div>\n",
       "<style scoped>\n",
       "    .dataframe tbody tr th:only-of-type {\n",
       "        vertical-align: middle;\n",
       "    }\n",
       "\n",
       "    .dataframe tbody tr th {\n",
       "        vertical-align: top;\n",
       "    }\n",
       "\n",
       "    .dataframe thead th {\n",
       "        text-align: right;\n",
       "    }\n",
       "</style>\n",
       "<table border=\"1\" class=\"dataframe\">\n",
       "  <thead>\n",
       "    <tr style=\"text-align: right;\">\n",
       "      <th>subscription_type</th>\n",
       "      <th>free</th>\n",
       "      <th>ultra</th>\n",
       "    </tr>\n",
       "    <tr>\n",
       "      <th>duration_category</th>\n",
       "      <th></th>\n",
       "      <th></th>\n",
       "    </tr>\n",
       "  </thead>\n",
       "  <tbody>\n",
       "    <tr>\n",
       "      <th>0-10 мин.</th>\n",
       "      <td>1376</td>\n",
       "      <td>286</td>\n",
       "    </tr>\n",
       "    <tr>\n",
       "      <th>10-20 мин.</th>\n",
       "      <td>6381</td>\n",
       "      <td>3901</td>\n",
       "    </tr>\n",
       "    <tr>\n",
       "      <th>20-30 мин.</th>\n",
       "      <td>3625</td>\n",
       "      <td>2269</td>\n",
       "    </tr>\n",
       "    <tr>\n",
       "      <th>свыше 30 мин.</th>\n",
       "      <td>334</td>\n",
       "      <td>216</td>\n",
       "    </tr>\n",
       "  </tbody>\n",
       "</table>\n",
       "</div>"
      ],
      "text/plain": [
       "subscription_type  free  ultra\n",
       "duration_category             \n",
       "0-10 мин.          1376    286\n",
       "10-20 мин.         6381   3901\n",
       "20-30 мин.         3625   2269\n",
       "свыше 30 мин.       334    216"
      ]
     },
     "execution_count": 52,
     "metadata": {},
     "output_type": "execute_result"
    }
   ],
   "source": [
    "dur_by_sub"
   ]
  },
  {
   "cell_type": "code",
   "execution_count": 53,
   "id": "8968e187",
   "metadata": {},
   "outputs": [
    {
     "name": "stdout",
     "output_type": "stream",
     "text": [
      "count    6672.000000\n",
      "mean       18.531419\n",
      "std         5.572656\n",
      "min         3.760353\n",
      "25%        14.498947\n",
      "50%        18.178153\n",
      "75%        21.887063\n",
      "max        40.823963\n",
      "Name: duration, dtype: float64\n"
     ]
    },
    {
     "data": {
      "text/plain": [
       "count    11716.000000\n",
       "mean        17.394835\n",
       "std          6.326323\n",
       "min          0.500000\n",
       "25%         12.959265\n",
       "50%         17.339932\n",
       "75%         21.598654\n",
       "max         34.948498\n",
       "Name: duration, dtype: float64"
      ]
     },
     "execution_count": 53,
     "metadata": {},
     "output_type": "execute_result"
    }
   ],
   "source": [
    "print(df_ultra['duration'].describe())\n",
    "df_free['duration'].describe()"
   ]
  },
  {
   "cell_type": "markdown",
   "id": "63992e92",
   "metadata": {},
   "source": [
    "**Вывод:**  \n",
    "\n",
    "<span style=\"color:green\">1) Основное время поездки у сравниваемых категорий составляет от 10 до 20 минут (у пользователей с подпиской free примерно в 54% случаев, с подпиской ultra - в 58% случаев.\\\n",
    "2) Максимальное время поездки у пользователей с подпиской free составляет примерно 35 минут, у ultra пользователей - примерно 41 минуту.\\\n",
    "3) Минимальное время у free пользователей составляет примерно 4 минуты, у второй категории - около полминуты.</span>"
   ]
  },
  {
   "cell_type": "markdown",
   "id": "402d620f",
   "metadata": {},
   "source": [
    "## Подсчёт выручки"
   ]
  },
  {
   "cell_type": "markdown",
   "id": "54c7d1c6",
   "metadata": {},
   "source": [
    "Создадим датафрейм с агрегированными данными о поездках на основе датафрейма с объединёнными данными из предыдущего шага и найдём суммарное расстояние, количество поездок и суммарное время для каждого пользователя за каждый месяц."
   ]
  },
  {
   "cell_type": "code",
   "execution_count": 54,
   "id": "efa7f2fa",
   "metadata": {},
   "outputs": [],
   "source": [
    "# округлим время поездки \"вверх\" для корректности подсчёта\n",
    "df['duration'] = np.ceil(df['duration'])"
   ]
  },
  {
   "cell_type": "code",
   "execution_count": 55,
   "id": "a51f577f",
   "metadata": {},
   "outputs": [
    {
     "data": {
      "text/html": [
       "<div>\n",
       "<style scoped>\n",
       "    .dataframe tbody tr th:only-of-type {\n",
       "        vertical-align: middle;\n",
       "    }\n",
       "\n",
       "    .dataframe tbody tr th {\n",
       "        vertical-align: top;\n",
       "    }\n",
       "\n",
       "    .dataframe thead th {\n",
       "        text-align: right;\n",
       "    }\n",
       "</style>\n",
       "<table border=\"1\" class=\"dataframe\">\n",
       "  <thead>\n",
       "    <tr style=\"text-align: right;\">\n",
       "      <th></th>\n",
       "      <th></th>\n",
       "      <th>rides</th>\n",
       "      <th>distance</th>\n",
       "      <th>duration</th>\n",
       "      <th>minute_price</th>\n",
       "      <th>start_ride_price</th>\n",
       "      <th>subscription_fee</th>\n",
       "    </tr>\n",
       "    <tr>\n",
       "      <th>user_id</th>\n",
       "      <th>ride_month</th>\n",
       "      <th></th>\n",
       "      <th></th>\n",
       "      <th></th>\n",
       "      <th></th>\n",
       "      <th></th>\n",
       "      <th></th>\n",
       "    </tr>\n",
       "  </thead>\n",
       "  <tbody>\n",
       "    <tr>\n",
       "      <th rowspan=\"5\" valign=\"top\">1</th>\n",
       "      <th>1</th>\n",
       "      <td>2</td>\n",
       "      <td>7027.511294</td>\n",
       "      <td>42.0</td>\n",
       "      <td>6.0</td>\n",
       "      <td>0.0</td>\n",
       "      <td>199.0</td>\n",
       "    </tr>\n",
       "    <tr>\n",
       "      <th>4</th>\n",
       "      <td>1</td>\n",
       "      <td>754.159807</td>\n",
       "      <td>7.0</td>\n",
       "      <td>6.0</td>\n",
       "      <td>0.0</td>\n",
       "      <td>199.0</td>\n",
       "    </tr>\n",
       "    <tr>\n",
       "      <th>8</th>\n",
       "      <td>2</td>\n",
       "      <td>6723.470560</td>\n",
       "      <td>46.0</td>\n",
       "      <td>6.0</td>\n",
       "      <td>0.0</td>\n",
       "      <td>199.0</td>\n",
       "    </tr>\n",
       "    <tr>\n",
       "      <th>10</th>\n",
       "      <td>2</td>\n",
       "      <td>5809.911100</td>\n",
       "      <td>32.0</td>\n",
       "      <td>6.0</td>\n",
       "      <td>0.0</td>\n",
       "      <td>199.0</td>\n",
       "    </tr>\n",
       "    <tr>\n",
       "      <th>11</th>\n",
       "      <td>3</td>\n",
       "      <td>7003.499363</td>\n",
       "      <td>56.0</td>\n",
       "      <td>6.0</td>\n",
       "      <td>0.0</td>\n",
       "      <td>199.0</td>\n",
       "    </tr>\n",
       "    <tr>\n",
       "      <th>...</th>\n",
       "      <th>...</th>\n",
       "      <td>...</td>\n",
       "      <td>...</td>\n",
       "      <td>...</td>\n",
       "      <td>...</td>\n",
       "      <td>...</td>\n",
       "      <td>...</td>\n",
       "    </tr>\n",
       "    <tr>\n",
       "      <th rowspan=\"5\" valign=\"top\">1534</th>\n",
       "      <th>6</th>\n",
       "      <td>2</td>\n",
       "      <td>3409.468534</td>\n",
       "      <td>26.0</td>\n",
       "      <td>8.0</td>\n",
       "      <td>50.0</td>\n",
       "      <td>0.0</td>\n",
       "    </tr>\n",
       "    <tr>\n",
       "      <th>8</th>\n",
       "      <td>2</td>\n",
       "      <td>7622.453034</td>\n",
       "      <td>48.0</td>\n",
       "      <td>8.0</td>\n",
       "      <td>50.0</td>\n",
       "      <td>0.0</td>\n",
       "    </tr>\n",
       "    <tr>\n",
       "      <th>9</th>\n",
       "      <td>1</td>\n",
       "      <td>4928.173852</td>\n",
       "      <td>23.0</td>\n",
       "      <td>8.0</td>\n",
       "      <td>50.0</td>\n",
       "      <td>0.0</td>\n",
       "    </tr>\n",
       "    <tr>\n",
       "      <th>11</th>\n",
       "      <td>4</td>\n",
       "      <td>13350.015305</td>\n",
       "      <td>78.0</td>\n",
       "      <td>8.0</td>\n",
       "      <td>50.0</td>\n",
       "      <td>0.0</td>\n",
       "    </tr>\n",
       "    <tr>\n",
       "      <th>12</th>\n",
       "      <td>1</td>\n",
       "      <td>2371.711192</td>\n",
       "      <td>16.0</td>\n",
       "      <td>8.0</td>\n",
       "      <td>50.0</td>\n",
       "      <td>0.0</td>\n",
       "    </tr>\n",
       "  </tbody>\n",
       "</table>\n",
       "<p>11331 rows × 6 columns</p>\n",
       "</div>"
      ],
      "text/plain": [
       "                    rides      distance  duration  minute_price  \\\n",
       "user_id ride_month                                                \n",
       "1       1               2   7027.511294      42.0           6.0   \n",
       "        4               1    754.159807       7.0           6.0   \n",
       "        8               2   6723.470560      46.0           6.0   \n",
       "        10              2   5809.911100      32.0           6.0   \n",
       "        11              3   7003.499363      56.0           6.0   \n",
       "...                   ...           ...       ...           ...   \n",
       "1534    6               2   3409.468534      26.0           8.0   \n",
       "        8               2   7622.453034      48.0           8.0   \n",
       "        9               1   4928.173852      23.0           8.0   \n",
       "        11              4  13350.015305      78.0           8.0   \n",
       "        12              1   2371.711192      16.0           8.0   \n",
       "\n",
       "                    start_ride_price  subscription_fee  \n",
       "user_id ride_month                                      \n",
       "1       1                        0.0             199.0  \n",
       "        4                        0.0             199.0  \n",
       "        8                        0.0             199.0  \n",
       "        10                       0.0             199.0  \n",
       "        11                       0.0             199.0  \n",
       "...                              ...               ...  \n",
       "1534    6                       50.0               0.0  \n",
       "        8                       50.0               0.0  \n",
       "        9                       50.0               0.0  \n",
       "        11                      50.0               0.0  \n",
       "        12                      50.0               0.0  \n",
       "\n",
       "[11331 rows x 6 columns]"
      ]
     },
     "execution_count": 55,
     "metadata": {},
     "output_type": "execute_result"
    }
   ],
   "source": [
    "df_new = df.pivot_table(index=('user_id','ride_month'),\\\n",
    "                        values=('distance', 'duration', 'minute_price', 'start_ride_price', 'subscription_fee'),\\\n",
    "                        aggfunc=('sum', 'count'))\n",
    "# уберём двухуровневое название столбцов\n",
    "df_new.columns = [\n",
    "    'rides', 'distance', \n",
    "    '2', 'duration', \n",
    "    '3', 'minute_price',\n",
    "    '4', 'start_ride_price', \n",
    "    '5', 'subscription_fee'\n",
    "]\n",
    "# ликвидируем ненужные столбцы\n",
    "df_new = df_new.drop(['2', '3', '4', '5'], axis=1)\n",
    "\n",
    "# поскольку операции суммирования были применены ко всем столбцам, вернём к исходному виду значения в столбцах minute_price,\n",
    "#start_ride_price, subscription_fee\n",
    "df_new['start_ride_price'] = df_new['start_ride_price'] / df_new['rides']\n",
    "df_new['minute_price'] = df_new['minute_price'] / df_new['rides']\n",
    "df_new['subscription_fee'] = df_new['subscription_fee'] / df_new['rides']\n",
    "df_new"
   ]
  },
  {
   "cell_type": "markdown",
   "id": "1b54da92",
   "metadata": {},
   "source": [
    "Добавим столбец с помесячной выручкой, которую принёс каждый пользователь"
   ]
  },
  {
   "cell_type": "code",
   "execution_count": 56,
   "id": "abce4818",
   "metadata": {},
   "outputs": [],
   "source": [
    "df_new['revenue'] =\\\n",
    "(df_new['start_ride_price'] * df_new['rides']) + (df_new['minute_price'] * df_new['duration']) + df_new['subscription_fee']"
   ]
  },
  {
   "cell_type": "code",
   "execution_count": 57,
   "id": "e5b7de68",
   "metadata": {},
   "outputs": [
    {
     "data": {
      "text/html": [
       "<div>\n",
       "<style scoped>\n",
       "    .dataframe tbody tr th:only-of-type {\n",
       "        vertical-align: middle;\n",
       "    }\n",
       "\n",
       "    .dataframe tbody tr th {\n",
       "        vertical-align: top;\n",
       "    }\n",
       "\n",
       "    .dataframe thead th {\n",
       "        text-align: right;\n",
       "    }\n",
       "</style>\n",
       "<table border=\"1\" class=\"dataframe\">\n",
       "  <thead>\n",
       "    <tr style=\"text-align: right;\">\n",
       "      <th></th>\n",
       "      <th></th>\n",
       "      <th>rides</th>\n",
       "      <th>distance</th>\n",
       "      <th>duration</th>\n",
       "      <th>minute_price</th>\n",
       "      <th>start_ride_price</th>\n",
       "      <th>subscription_fee</th>\n",
       "      <th>revenue</th>\n",
       "    </tr>\n",
       "    <tr>\n",
       "      <th>user_id</th>\n",
       "      <th>ride_month</th>\n",
       "      <th></th>\n",
       "      <th></th>\n",
       "      <th></th>\n",
       "      <th></th>\n",
       "      <th></th>\n",
       "      <th></th>\n",
       "      <th></th>\n",
       "    </tr>\n",
       "  </thead>\n",
       "  <tbody>\n",
       "    <tr>\n",
       "      <th rowspan=\"5\" valign=\"top\">1</th>\n",
       "      <th>1</th>\n",
       "      <td>2</td>\n",
       "      <td>7027.511294</td>\n",
       "      <td>42.0</td>\n",
       "      <td>6.0</td>\n",
       "      <td>0.0</td>\n",
       "      <td>199.0</td>\n",
       "      <td>451.0</td>\n",
       "    </tr>\n",
       "    <tr>\n",
       "      <th>4</th>\n",
       "      <td>1</td>\n",
       "      <td>754.159807</td>\n",
       "      <td>7.0</td>\n",
       "      <td>6.0</td>\n",
       "      <td>0.0</td>\n",
       "      <td>199.0</td>\n",
       "      <td>241.0</td>\n",
       "    </tr>\n",
       "    <tr>\n",
       "      <th>8</th>\n",
       "      <td>2</td>\n",
       "      <td>6723.470560</td>\n",
       "      <td>46.0</td>\n",
       "      <td>6.0</td>\n",
       "      <td>0.0</td>\n",
       "      <td>199.0</td>\n",
       "      <td>475.0</td>\n",
       "    </tr>\n",
       "    <tr>\n",
       "      <th>10</th>\n",
       "      <td>2</td>\n",
       "      <td>5809.911100</td>\n",
       "      <td>32.0</td>\n",
       "      <td>6.0</td>\n",
       "      <td>0.0</td>\n",
       "      <td>199.0</td>\n",
       "      <td>391.0</td>\n",
       "    </tr>\n",
       "    <tr>\n",
       "      <th>11</th>\n",
       "      <td>3</td>\n",
       "      <td>7003.499363</td>\n",
       "      <td>56.0</td>\n",
       "      <td>6.0</td>\n",
       "      <td>0.0</td>\n",
       "      <td>199.0</td>\n",
       "      <td>535.0</td>\n",
       "    </tr>\n",
       "    <tr>\n",
       "      <th>...</th>\n",
       "      <th>...</th>\n",
       "      <td>...</td>\n",
       "      <td>...</td>\n",
       "      <td>...</td>\n",
       "      <td>...</td>\n",
       "      <td>...</td>\n",
       "      <td>...</td>\n",
       "      <td>...</td>\n",
       "    </tr>\n",
       "    <tr>\n",
       "      <th rowspan=\"5\" valign=\"top\">1534</th>\n",
       "      <th>6</th>\n",
       "      <td>2</td>\n",
       "      <td>3409.468534</td>\n",
       "      <td>26.0</td>\n",
       "      <td>8.0</td>\n",
       "      <td>50.0</td>\n",
       "      <td>0.0</td>\n",
       "      <td>308.0</td>\n",
       "    </tr>\n",
       "    <tr>\n",
       "      <th>8</th>\n",
       "      <td>2</td>\n",
       "      <td>7622.453034</td>\n",
       "      <td>48.0</td>\n",
       "      <td>8.0</td>\n",
       "      <td>50.0</td>\n",
       "      <td>0.0</td>\n",
       "      <td>484.0</td>\n",
       "    </tr>\n",
       "    <tr>\n",
       "      <th>9</th>\n",
       "      <td>1</td>\n",
       "      <td>4928.173852</td>\n",
       "      <td>23.0</td>\n",
       "      <td>8.0</td>\n",
       "      <td>50.0</td>\n",
       "      <td>0.0</td>\n",
       "      <td>234.0</td>\n",
       "    </tr>\n",
       "    <tr>\n",
       "      <th>11</th>\n",
       "      <td>4</td>\n",
       "      <td>13350.015305</td>\n",
       "      <td>78.0</td>\n",
       "      <td>8.0</td>\n",
       "      <td>50.0</td>\n",
       "      <td>0.0</td>\n",
       "      <td>824.0</td>\n",
       "    </tr>\n",
       "    <tr>\n",
       "      <th>12</th>\n",
       "      <td>1</td>\n",
       "      <td>2371.711192</td>\n",
       "      <td>16.0</td>\n",
       "      <td>8.0</td>\n",
       "      <td>50.0</td>\n",
       "      <td>0.0</td>\n",
       "      <td>178.0</td>\n",
       "    </tr>\n",
       "  </tbody>\n",
       "</table>\n",
       "<p>11331 rows × 7 columns</p>\n",
       "</div>"
      ],
      "text/plain": [
       "                    rides      distance  duration  minute_price  \\\n",
       "user_id ride_month                                                \n",
       "1       1               2   7027.511294      42.0           6.0   \n",
       "        4               1    754.159807       7.0           6.0   \n",
       "        8               2   6723.470560      46.0           6.0   \n",
       "        10              2   5809.911100      32.0           6.0   \n",
       "        11              3   7003.499363      56.0           6.0   \n",
       "...                   ...           ...       ...           ...   \n",
       "1534    6               2   3409.468534      26.0           8.0   \n",
       "        8               2   7622.453034      48.0           8.0   \n",
       "        9               1   4928.173852      23.0           8.0   \n",
       "        11              4  13350.015305      78.0           8.0   \n",
       "        12              1   2371.711192      16.0           8.0   \n",
       "\n",
       "                    start_ride_price  subscription_fee  revenue  \n",
       "user_id ride_month                                               \n",
       "1       1                        0.0             199.0    451.0  \n",
       "        4                        0.0             199.0    241.0  \n",
       "        8                        0.0             199.0    475.0  \n",
       "        10                       0.0             199.0    391.0  \n",
       "        11                       0.0             199.0    535.0  \n",
       "...                              ...               ...      ...  \n",
       "1534    6                       50.0               0.0    308.0  \n",
       "        8                       50.0               0.0    484.0  \n",
       "        9                       50.0               0.0    234.0  \n",
       "        11                      50.0               0.0    824.0  \n",
       "        12                      50.0               0.0    178.0  \n",
       "\n",
       "[11331 rows x 7 columns]"
      ]
     },
     "execution_count": 57,
     "metadata": {},
     "output_type": "execute_result"
    }
   ],
   "source": [
    "df_new"
   ]
  },
  {
   "cell_type": "markdown",
   "id": "41545ac0",
   "metadata": {},
   "source": [
    "## Проверка гипотез"
   ]
  },
  {
   "cell_type": "markdown",
   "id": "7c8d50e1",
   "metadata": {},
   "source": [
    "### Установить, тратят ли пользователи с подпиской больше времени на поездки. "
   ]
  },
  {
   "cell_type": "markdown",
   "id": "96b991d0",
   "metadata": {},
   "source": [
    "Выдвинем нулевую и альтернативную гипотезы:\\\n",
    "Гипотеза H0: средняя длительность поездки с подписками ultra и free равна.\\\n",
    "Гипотеза H1: средняя длительность поездки с подпиской ultra больше, чем у пользователей с подпиской free."
   ]
  },
  {
   "cell_type": "code",
   "execution_count": 58,
   "id": "48c2040c",
   "metadata": {
    "scrolled": true
   },
   "outputs": [
    {
     "name": "stdout",
     "output_type": "stream",
     "text": [
      "count    11716.000000\n",
      "mean        17.394835\n",
      "std          6.326323\n",
      "min          0.500000\n",
      "25%         12.959265\n",
      "50%         17.339932\n",
      "75%         21.598654\n",
      "max         34.948498\n",
      "Name: duration, dtype: float64\n",
      "Дисперсия выборки равна 39.94\n"
     ]
    }
   ],
   "source": [
    "print(df_free['duration'].describe())\n",
    "print('Дисперсия выборки равна 39.94')"
   ]
  },
  {
   "cell_type": "code",
   "execution_count": 59,
   "id": "1b41e4eb",
   "metadata": {},
   "outputs": [
    {
     "name": "stdout",
     "output_type": "stream",
     "text": [
      "count    6672.000000\n",
      "mean       18.531419\n",
      "std         5.572656\n",
      "min         3.760353\n",
      "25%        14.498947\n",
      "50%        18.178153\n",
      "75%        21.887063\n",
      "max        40.823963\n",
      "Name: duration, dtype: float64\n",
      "Дисперсия выборки равна 31.02\n"
     ]
    }
   ],
   "source": [
    "print(df_ultra['duration'].describe())\n",
    "print('Дисперсия выборки равна 31.02')"
   ]
  },
  {
   "cell_type": "markdown",
   "id": "43fc38b2",
   "metadata": {},
   "source": [
    " - дисперсии не сильно отличаются;\n",
    " - размер выборок не равен.\\\n",
    " Нет оснований предполагать, что дисперсии существенно отличаются, однако размер выборок различный.\\\n",
    " Попробуем провести стат. тест с двумя противоположными параметрами equal_var."
   ]
  },
  {
   "cell_type": "code",
   "execution_count": 60,
   "id": "5cd25577",
   "metadata": {},
   "outputs": [
    {
     "name": "stdout",
     "output_type": "stream",
     "text": [
      "p-value: 1.6261032773552045e-34\n",
      "Отвергаем нулевую гипотезу\n"
     ]
    }
   ],
   "source": [
    "# в задаче представлены две независимые выборки, значит прибегнем к методу st.ttest_ind с предположением о неравенстве дисперсий\n",
    "result = st.ttest_ind(df_ultra['duration'], df_free['duration'], alternative='greater')\n",
    "\n",
    "print(f'p-value: {result.pvalue}')\n",
    "if result.pvalue < 0.05:\n",
    "    print('Отвергаем нулевую гипотезу')\n",
    "else:\n",
    "    print('Не удалось отвергнуть нулевую гипотезу')"
   ]
  },
  {
   "cell_type": "code",
   "execution_count": 61,
   "id": "0d9d2ff8",
   "metadata": {},
   "outputs": [
    {
     "name": "stdout",
     "output_type": "stream",
     "text": [
      "p-value: 8.32088249919051e-37\n",
      "Отвергаем нулевую гипотезу\n"
     ]
    }
   ],
   "source": [
    "v2_result = st.ttest_ind(df_ultra['duration'], df_free['duration'], equal_var=False, alternative='greater')\n",
    "\n",
    "print(f'p-value: {v2_result.pvalue}')\n",
    "if v2_result.pvalue < 0.05:\n",
    "    print('Отвергаем нулевую гипотезу')\n",
    "else:\n",
    "    print('Не удалось отвергнуть нулевую гипотезу')"
   ]
  },
  {
   "cell_type": "markdown",
   "id": "9e6e895b",
   "metadata": {},
   "source": [
    "Таким образом, нулевая гипотеза отвергается в обоих случаях"
   ]
  },
  {
   "cell_type": "markdown",
   "id": "cbc95c66",
   "metadata": {},
   "source": [
    "Странно, что стат. тест отображает наличие существенной разницы между средней продолжительностью поездок у пользователей с разной подпиской, поскольку в описании данных разница между средним временем поездки невелика.\\\n",
    "Отразим распределение продолжительности поездок на графике."
   ]
  },
  {
   "cell_type": "code",
   "execution_count": 62,
   "id": "f52531cb",
   "metadata": {},
   "outputs": [
    {
     "data": {
      "image/png": "[encoded data removed]",
      "text/plain": [
       "<Figure size 1500x500 with 1 Axes>"
      ]
     },
     "metadata": {},
     "output_type": "display_data"
    }
   ],
   "source": [
    "sns.barplot(x = 'ride_month',\n",
    "            y = 'duration',\n",
    "            hue = \"subscription_type\",\n",
    "            data = df,\n",
    "            palette = ['red', 'blue'])\n",
    "plt.title('Распределение пользователей по продолжительности поездок по типу подписки по месяцам')\n",
    "plt.ylabel('Продолжительность поездки, мин.')\n",
    "plt.xlabel('Месяц')\n",
    "plt.show()"
   ]
  },
  {
   "cell_type": "markdown",
   "id": "5e717a6e",
   "metadata": {},
   "source": [
    "На графике отчётливо видна разница между средним временем поездки у сравниваемых категорий"
   ]
  },
  {
   "cell_type": "markdown",
   "id": "7e623295",
   "metadata": {},
   "source": [
    "**Вывод**: отвергаем нулевую гипотезу о том, что средняя продолжительность поездок с разными подписками равна.\\\n",
    "P-значение крайне низкое, а значит, очень вероятно, что между средними продолжительностями поездок среди пользователей с разными видами подписки присутствуют существенные различия."
   ]
  },
  {
   "cell_type": "markdown",
   "id": "af6e2e20",
   "metadata": {},
   "source": [
    "### Расстояние одной поездки в 3130 метров — оптимальное с точки зрения износа самоката. Можно ли сказать, что среднее расстояние, которое проезжают пользователи с подпиской за одну поездку, не превышает 3130 метров?"
   ]
  },
  {
   "cell_type": "markdown",
   "id": "a770f428",
   "metadata": {},
   "source": [
    "Выдвинем нулевую и альтернативную гипотезы.\\\n",
    "H0: среднее расстояние, которое проезжают пользователи с подпиской ultra за одну поездку равно 3130 м.\\\n",
    "H1: среднее расстояние, которое проезжают пользователи с подпиской ultra за одну поездку больше 3130 м."
   ]
  },
  {
   "cell_type": "code",
   "execution_count": 63,
   "id": "5a5a7ca5",
   "metadata": {},
   "outputs": [
    {
     "name": "stdout",
     "output_type": "stream",
     "text": [
      "p-value: 0.9224525735508029\n",
      "Не удалось отвергнуть нулевую гипотезу\n"
     ]
    }
   ],
   "source": [
    "# речь идёт об одной выборке, значит используем метод st.ttest_1samp\n",
    "result = st.ttest_1samp(df_ultra['distance'], 3130, alternative='greater')\n",
    "\n",
    "print(f'p-value: {result.pvalue}')\n",
    "if result.pvalue < 0.05:\n",
    "    print('Отвергаем нулевую гипотезу')\n",
    "else:\n",
    "    print('Не удалось отвергнуть нулевую гипотезу')"
   ]
  },
  {
   "cell_type": "markdown",
   "id": "e728aa09",
   "metadata": {},
   "source": [
    "**Вывод:** не удалось отвергнуть нулевую гипотезу о том, что среднее расстояние поездки у пользователей с подпиской ultra не превышает 3130 м.\\\n",
    "Нет оснований предполагать, что среднее расстояние, проезжаемое пользователями с подпиской ultra, превышает 3130 м., значит, вероятно, нет необходимости задумываться об увеличении износостойкости самокатов."
   ]
  },
  {
   "cell_type": "markdown",
   "id": "482848eb",
   "metadata": {},
   "source": [
    "### Будет ли помесячная выручка от пользователей с подпиской по месяцам выше, чем выручка от пользователей без подписки. "
   ]
  },
  {
   "cell_type": "markdown",
   "id": "48329e07",
   "metadata": {},
   "source": [
    "Выдвинем нулевую и альтернативную гипотезы.\\\n",
    "H0: Средняя выручка от пользователей с разными подписками равна.\\\n",
    "H1: Средняя выручка от пользователей с подпиской ultra выше, чем от пользователей без подписки."
   ]
  },
  {
   "cell_type": "code",
   "execution_count": 64,
   "id": "38d4abef",
   "metadata": {},
   "outputs": [],
   "source": [
    "# создадим отдельные сводные таблицы для работы с выручкой\n",
    "revenue_ultra = df_new.query('subscription_fee > 0')\n",
    "revenue_free = df_new.query('subscription_fee == 0')"
   ]
  },
  {
   "cell_type": "code",
   "execution_count": 65,
   "id": "978e61dd",
   "metadata": {},
   "outputs": [
    {
     "data": {
      "text/plain": [
       "subscription_fee\n",
       "199.0    4533\n",
       "Name: count, dtype: int64"
      ]
     },
     "execution_count": 65,
     "metadata": {},
     "output_type": "execute_result"
    }
   ],
   "source": [
    "revenue_ultra['subscription_fee'].value_counts()"
   ]
  },
  {
   "cell_type": "code",
   "execution_count": 66,
   "id": "0761b38d",
   "metadata": {
    "scrolled": true
   },
   "outputs": [
    {
     "data": {
      "text/plain": [
       "subscription_fee\n",
       "0.0    6798\n",
       "Name: count, dtype: int64"
      ]
     },
     "execution_count": 66,
     "metadata": {},
     "output_type": "execute_result"
    }
   ],
   "source": [
    "revenue_free['subscription_fee'].value_counts()"
   ]
  },
  {
   "cell_type": "code",
   "execution_count": 67,
   "id": "447bcc80",
   "metadata": {},
   "outputs": [
    {
     "data": {
      "text/html": [
       "<div>\n",
       "<style scoped>\n",
       "    .dataframe tbody tr th:only-of-type {\n",
       "        vertical-align: middle;\n",
       "    }\n",
       "\n",
       "    .dataframe tbody tr th {\n",
       "        vertical-align: top;\n",
       "    }\n",
       "\n",
       "    .dataframe thead th {\n",
       "        text-align: right;\n",
       "    }\n",
       "</style>\n",
       "<table border=\"1\" class=\"dataframe\">\n",
       "  <thead>\n",
       "    <tr style=\"text-align: right;\">\n",
       "      <th></th>\n",
       "      <th></th>\n",
       "      <th>rides</th>\n",
       "      <th>distance</th>\n",
       "      <th>duration</th>\n",
       "      <th>minute_price</th>\n",
       "      <th>start_ride_price</th>\n",
       "      <th>subscription_fee</th>\n",
       "      <th>revenue</th>\n",
       "    </tr>\n",
       "    <tr>\n",
       "      <th>user_id</th>\n",
       "      <th>ride_month</th>\n",
       "      <th></th>\n",
       "      <th></th>\n",
       "      <th></th>\n",
       "      <th></th>\n",
       "      <th></th>\n",
       "      <th></th>\n",
       "      <th></th>\n",
       "    </tr>\n",
       "  </thead>\n",
       "  <tbody>\n",
       "    <tr>\n",
       "      <th rowspan=\"6\" valign=\"top\">1</th>\n",
       "      <th>1</th>\n",
       "      <td>2</td>\n",
       "      <td>7027.511294</td>\n",
       "      <td>42.0</td>\n",
       "      <td>6.0</td>\n",
       "      <td>0.0</td>\n",
       "      <td>199.0</td>\n",
       "      <td>451.0</td>\n",
       "    </tr>\n",
       "    <tr>\n",
       "      <th>4</th>\n",
       "      <td>1</td>\n",
       "      <td>754.159807</td>\n",
       "      <td>7.0</td>\n",
       "      <td>6.0</td>\n",
       "      <td>0.0</td>\n",
       "      <td>199.0</td>\n",
       "      <td>241.0</td>\n",
       "    </tr>\n",
       "    <tr>\n",
       "      <th>8</th>\n",
       "      <td>2</td>\n",
       "      <td>6723.470560</td>\n",
       "      <td>46.0</td>\n",
       "      <td>6.0</td>\n",
       "      <td>0.0</td>\n",
       "      <td>199.0</td>\n",
       "      <td>475.0</td>\n",
       "    </tr>\n",
       "    <tr>\n",
       "      <th>10</th>\n",
       "      <td>2</td>\n",
       "      <td>5809.911100</td>\n",
       "      <td>32.0</td>\n",
       "      <td>6.0</td>\n",
       "      <td>0.0</td>\n",
       "      <td>199.0</td>\n",
       "      <td>391.0</td>\n",
       "    </tr>\n",
       "    <tr>\n",
       "      <th>11</th>\n",
       "      <td>3</td>\n",
       "      <td>7003.499363</td>\n",
       "      <td>56.0</td>\n",
       "      <td>6.0</td>\n",
       "      <td>0.0</td>\n",
       "      <td>199.0</td>\n",
       "      <td>535.0</td>\n",
       "    </tr>\n",
       "    <tr>\n",
       "      <th>12</th>\n",
       "      <td>2</td>\n",
       "      <td>6751.629942</td>\n",
       "      <td>28.0</td>\n",
       "      <td>6.0</td>\n",
       "      <td>0.0</td>\n",
       "      <td>199.0</td>\n",
       "      <td>367.0</td>\n",
       "    </tr>\n",
       "    <tr>\n",
       "      <th rowspan=\"4\" valign=\"top\">2</th>\n",
       "      <th>3</th>\n",
       "      <td>3</td>\n",
       "      <td>10187.723006</td>\n",
       "      <td>63.0</td>\n",
       "      <td>6.0</td>\n",
       "      <td>0.0</td>\n",
       "      <td>199.0</td>\n",
       "      <td>577.0</td>\n",
       "    </tr>\n",
       "    <tr>\n",
       "      <th>4</th>\n",
       "      <td>2</td>\n",
       "      <td>6164.381824</td>\n",
       "      <td>40.0</td>\n",
       "      <td>6.0</td>\n",
       "      <td>0.0</td>\n",
       "      <td>199.0</td>\n",
       "      <td>439.0</td>\n",
       "    </tr>\n",
       "    <tr>\n",
       "      <th>6</th>\n",
       "      <td>1</td>\n",
       "      <td>3255.338202</td>\n",
       "      <td>14.0</td>\n",
       "      <td>6.0</td>\n",
       "      <td>0.0</td>\n",
       "      <td>199.0</td>\n",
       "      <td>283.0</td>\n",
       "    </tr>\n",
       "    <tr>\n",
       "      <th>7</th>\n",
       "      <td>2</td>\n",
       "      <td>6780.722964</td>\n",
       "      <td>48.0</td>\n",
       "      <td>6.0</td>\n",
       "      <td>0.0</td>\n",
       "      <td>199.0</td>\n",
       "      <td>487.0</td>\n",
       "    </tr>\n",
       "  </tbody>\n",
       "</table>\n",
       "</div>"
      ],
      "text/plain": [
       "                    rides      distance  duration  minute_price  \\\n",
       "user_id ride_month                                                \n",
       "1       1               2   7027.511294      42.0           6.0   \n",
       "        4               1    754.159807       7.0           6.0   \n",
       "        8               2   6723.470560      46.0           6.0   \n",
       "        10              2   5809.911100      32.0           6.0   \n",
       "        11              3   7003.499363      56.0           6.0   \n",
       "        12              2   6751.629942      28.0           6.0   \n",
       "2       3               3  10187.723006      63.0           6.0   \n",
       "        4               2   6164.381824      40.0           6.0   \n",
       "        6               1   3255.338202      14.0           6.0   \n",
       "        7               2   6780.722964      48.0           6.0   \n",
       "\n",
       "                    start_ride_price  subscription_fee  revenue  \n",
       "user_id ride_month                                               \n",
       "1       1                        0.0             199.0    451.0  \n",
       "        4                        0.0             199.0    241.0  \n",
       "        8                        0.0             199.0    475.0  \n",
       "        10                       0.0             199.0    391.0  \n",
       "        11                       0.0             199.0    535.0  \n",
       "        12                       0.0             199.0    367.0  \n",
       "2       3                        0.0             199.0    577.0  \n",
       "        4                        0.0             199.0    439.0  \n",
       "        6                        0.0             199.0    283.0  \n",
       "        7                        0.0             199.0    487.0  "
      ]
     },
     "execution_count": 67,
     "metadata": {},
     "output_type": "execute_result"
    }
   ],
   "source": [
    "revenue_ultra.head(10)"
   ]
  },
  {
   "cell_type": "code",
   "execution_count": 68,
   "id": "52d724dc",
   "metadata": {},
   "outputs": [
    {
     "data": {
      "text/html": [
       "<div>\n",
       "<style scoped>\n",
       "    .dataframe tbody tr th:only-of-type {\n",
       "        vertical-align: middle;\n",
       "    }\n",
       "\n",
       "    .dataframe tbody tr th {\n",
       "        vertical-align: top;\n",
       "    }\n",
       "\n",
       "    .dataframe thead th {\n",
       "        text-align: right;\n",
       "    }\n",
       "</style>\n",
       "<table border=\"1\" class=\"dataframe\">\n",
       "  <thead>\n",
       "    <tr style=\"text-align: right;\">\n",
       "      <th></th>\n",
       "      <th></th>\n",
       "      <th>rides</th>\n",
       "      <th>distance</th>\n",
       "      <th>duration</th>\n",
       "      <th>minute_price</th>\n",
       "      <th>start_ride_price</th>\n",
       "      <th>subscription_fee</th>\n",
       "      <th>revenue</th>\n",
       "    </tr>\n",
       "    <tr>\n",
       "      <th>user_id</th>\n",
       "      <th>ride_month</th>\n",
       "      <th></th>\n",
       "      <th></th>\n",
       "      <th></th>\n",
       "      <th></th>\n",
       "      <th></th>\n",
       "      <th></th>\n",
       "      <th></th>\n",
       "    </tr>\n",
       "  </thead>\n",
       "  <tbody>\n",
       "    <tr>\n",
       "      <th rowspan=\"9\" valign=\"top\">700</th>\n",
       "      <th>1</th>\n",
       "      <td>1</td>\n",
       "      <td>2515.690719</td>\n",
       "      <td>15.0</td>\n",
       "      <td>8.0</td>\n",
       "      <td>50.0</td>\n",
       "      <td>0.0</td>\n",
       "      <td>170.0</td>\n",
       "    </tr>\n",
       "    <tr>\n",
       "      <th>2</th>\n",
       "      <td>5</td>\n",
       "      <td>13446.659764</td>\n",
       "      <td>89.0</td>\n",
       "      <td>8.0</td>\n",
       "      <td>50.0</td>\n",
       "      <td>0.0</td>\n",
       "      <td>962.0</td>\n",
       "    </tr>\n",
       "    <tr>\n",
       "      <th>3</th>\n",
       "      <td>1</td>\n",
       "      <td>3798.334905</td>\n",
       "      <td>19.0</td>\n",
       "      <td>8.0</td>\n",
       "      <td>50.0</td>\n",
       "      <td>0.0</td>\n",
       "      <td>202.0</td>\n",
       "    </tr>\n",
       "    <tr>\n",
       "      <th>4</th>\n",
       "      <td>1</td>\n",
       "      <td>2984.551206</td>\n",
       "      <td>16.0</td>\n",
       "      <td>8.0</td>\n",
       "      <td>50.0</td>\n",
       "      <td>0.0</td>\n",
       "      <td>178.0</td>\n",
       "    </tr>\n",
       "    <tr>\n",
       "      <th>6</th>\n",
       "      <td>2</td>\n",
       "      <td>5927.650988</td>\n",
       "      <td>29.0</td>\n",
       "      <td>8.0</td>\n",
       "      <td>50.0</td>\n",
       "      <td>0.0</td>\n",
       "      <td>332.0</td>\n",
       "    </tr>\n",
       "    <tr>\n",
       "      <th>7</th>\n",
       "      <td>2</td>\n",
       "      <td>4399.206279</td>\n",
       "      <td>21.0</td>\n",
       "      <td>8.0</td>\n",
       "      <td>50.0</td>\n",
       "      <td>0.0</td>\n",
       "      <td>268.0</td>\n",
       "    </tr>\n",
       "    <tr>\n",
       "      <th>8</th>\n",
       "      <td>1</td>\n",
       "      <td>4071.654669</td>\n",
       "      <td>17.0</td>\n",
       "      <td>8.0</td>\n",
       "      <td>50.0</td>\n",
       "      <td>0.0</td>\n",
       "      <td>186.0</td>\n",
       "    </tr>\n",
       "    <tr>\n",
       "      <th>10</th>\n",
       "      <td>2</td>\n",
       "      <td>6322.578618</td>\n",
       "      <td>44.0</td>\n",
       "      <td>8.0</td>\n",
       "      <td>50.0</td>\n",
       "      <td>0.0</td>\n",
       "      <td>452.0</td>\n",
       "    </tr>\n",
       "    <tr>\n",
       "      <th>11</th>\n",
       "      <td>3</td>\n",
       "      <td>8735.782625</td>\n",
       "      <td>32.0</td>\n",
       "      <td>8.0</td>\n",
       "      <td>50.0</td>\n",
       "      <td>0.0</td>\n",
       "      <td>406.0</td>\n",
       "    </tr>\n",
       "    <tr>\n",
       "      <th>701</th>\n",
       "      <th>1</th>\n",
       "      <td>1</td>\n",
       "      <td>2676.472894</td>\n",
       "      <td>18.0</td>\n",
       "      <td>8.0</td>\n",
       "      <td>50.0</td>\n",
       "      <td>0.0</td>\n",
       "      <td>194.0</td>\n",
       "    </tr>\n",
       "  </tbody>\n",
       "</table>\n",
       "</div>"
      ],
      "text/plain": [
       "                    rides      distance  duration  minute_price  \\\n",
       "user_id ride_month                                                \n",
       "700     1               1   2515.690719      15.0           8.0   \n",
       "        2               5  13446.659764      89.0           8.0   \n",
       "        3               1   3798.334905      19.0           8.0   \n",
       "        4               1   2984.551206      16.0           8.0   \n",
       "        6               2   5927.650988      29.0           8.0   \n",
       "        7               2   4399.206279      21.0           8.0   \n",
       "        8               1   4071.654669      17.0           8.0   \n",
       "        10              2   6322.578618      44.0           8.0   \n",
       "        11              3   8735.782625      32.0           8.0   \n",
       "701     1               1   2676.472894      18.0           8.0   \n",
       "\n",
       "                    start_ride_price  subscription_fee  revenue  \n",
       "user_id ride_month                                               \n",
       "700     1                       50.0               0.0    170.0  \n",
       "        2                       50.0               0.0    962.0  \n",
       "        3                       50.0               0.0    202.0  \n",
       "        4                       50.0               0.0    178.0  \n",
       "        6                       50.0               0.0    332.0  \n",
       "        7                       50.0               0.0    268.0  \n",
       "        8                       50.0               0.0    186.0  \n",
       "        10                      50.0               0.0    452.0  \n",
       "        11                      50.0               0.0    406.0  \n",
       "701     1                       50.0               0.0    194.0  "
      ]
     },
     "execution_count": 68,
     "metadata": {},
     "output_type": "execute_result"
    }
   ],
   "source": [
    "revenue_free.head(10)"
   ]
  },
  {
   "cell_type": "code",
   "execution_count": 69,
   "id": "7fc1c7f4",
   "metadata": {},
   "outputs": [
    {
     "name": "stdout",
     "output_type": "stream",
     "text": [
      "count    4533.000000\n",
      "mean      367.029120\n",
      "std        94.163615\n",
      "min       229.000000\n",
      "25%       301.000000\n",
      "50%       337.000000\n",
      "75%       415.000000\n",
      "max      1195.000000\n",
      "Name: revenue, dtype: float64\n"
     ]
    }
   ],
   "source": [
    "print(revenue_ultra['revenue'].describe())"
   ]
  },
  {
   "cell_type": "code",
   "execution_count": 70,
   "id": "8625522d",
   "metadata": {},
   "outputs": [
    {
     "name": "stdout",
     "output_type": "stream",
     "text": [
      "count    6798.000000\n",
      "mean      332.894381\n",
      "std       190.917413\n",
      "min        58.000000\n",
      "25%       194.000000\n",
      "50%       274.000000\n",
      "75%       428.000000\n",
      "max      1952.000000\n",
      "Name: revenue, dtype: float64\n"
     ]
    }
   ],
   "source": [
    "print(revenue_free['revenue'].describe())"
   ]
  },
  {
   "cell_type": "markdown",
   "id": "5d71f2cb",
   "metadata": {},
   "source": [
    "Поскольку разница в выручке у пользователей с разной подпиской может сильно отличаться, а выборки не равны между собой, установим параметр с неравными дисперсиями в стат. тесте"
   ]
  },
  {
   "cell_type": "code",
   "execution_count": 71,
   "id": "87794f10",
   "metadata": {},
   "outputs": [
    {
     "name": "stdout",
     "output_type": "stream",
     "text": [
      "p-value: 1.5258168675601446e-36\n",
      "Отвергаем нулевую гипотезу\n"
     ]
    }
   ],
   "source": [
    "result_v2 = st.ttest_ind(revenue_ultra['revenue'], revenue_free['revenue'], equal_var=False, alternative='greater')\n",
    "\n",
    "print(f'p-value: {result_v2.pvalue}')\n",
    "if result_v2.pvalue < 0.05:\n",
    "    print('Отвергаем нулевую гипотезу')\n",
    "else:\n",
    "    print('Не удалось отвергнуть нулевую гипотезу')"
   ]
  },
  {
   "cell_type": "markdown",
   "id": "002561f5",
   "metadata": {},
   "source": [
    "Отвергаем нулевую гипотезу. Вероятно, стоит говорить о том, что средняя выручка от пользователей с подпиской ultra выше, чем выручка от второй категории пользователей."
   ]
  },
  {
   "cell_type": "markdown",
   "id": "9d120da5",
   "metadata": {},
   "source": [
    "**Вывод:**  \n",
    "\n",
    "<span style=\"color:green\">1) Вероятно, средняя длительность поездок у пользователей с подпиской ultra больше, чем у пользователей с подпиской free.\\\n",
    "2) Нет оснований предполагать, что среднее расстояние, проезжаемое пользователями с подпиской ultra, превышает 3130 м.\\\n",
    "3) Предположительно средняя выручка от пользователей с подпиской ultra выше, чем выручка от второй категории пользователей.\\\n",
    "4) Для зависимых выборок с равным размером применяется метод scipy.stats.ttest_rel.</span>"
   ]
  },
  {
   "cell_type": "markdown",
   "id": "61213c5e",
   "metadata": {},
   "source": [
    "## Распределения"
   ]
  },
  {
   "cell_type": "markdown",
   "id": "72f33f6b",
   "metadata": {},
   "source": [
    "### Нужно провести акцию с раздачей промокодов на один бесплатный месяц подписки, в рамках которой как минимум 100 существующих клиентов должны продлить эту подписку. То есть по завершении периода действия подписки пользователь может либо отказаться от неё, либо продлить, совершив соответствующий платёж. Эта акция уже проводилась ранее и по итогу выяснилось, что после бесплатного пробного периода подписку продлевают 10 % пользователей. Необходимо выяснить, какое минимальное количество промокодов нужно разослать, чтобы вероятность не выполнить план была примерно 5 %, подобрать параметры распределения, описывающего эту ситуацию, построить график распределения и сформулируйте ответ на вопрос о количестве промокодов."
   ]
  },
  {
   "cell_type": "code",
   "execution_count": 72,
   "id": "95cd1d51",
   "metadata": {},
   "outputs": [
    {
     "data": {
      "text/plain": [
       "(0.0, 300.0)"
      ]
     },
     "execution_count": 72,
     "metadata": {},
     "output_type": "execute_result"
    }
   ],
   "source": [
    "# Предположим, что необходимое количество промокодов для рассылки n = 1000. Построим биноминальное распределение.\n",
    "n = 1000\n",
    "p = 0.1 # вероятность успеха\n",
    "alpha = 0.05 # уровень стат. значимости\n",
    "\n",
    "distr = []\n",
    "\n",
    "for k in range(0, n + 1):\n",
    "    current_value = binom.pmf(k, n, p)\n",
    "    distr.append(current_value)\n",
    "    \n",
    "plt.plot(range(0, n + 1), distr)\n",
    "plt.xlim(0,300)"
   ]
  },
  {
   "cell_type": "code",
   "execution_count": 73,
   "id": "2d5527f6",
   "metadata": {},
   "outputs": [
    {
     "data": {
      "text/plain": [
       "0.9502390990500976"
      ]
     },
     "execution_count": 73,
     "metadata": {},
     "output_type": "execute_result"
    }
   ],
   "source": [
    "# подберём необходимый параметр необходимого количества разосланных промокодов, чтобы z было меньше, чем уровень статистической\n",
    "# значимости в 5%\n",
    "k = 99 # количество успешных продлений подписки\n",
    "N = 1161 # подбираемый параметр необходимой рассылки\n",
    "p = 0.1 # вероятность продления подписки пользователем\n",
    "z = 1 - st.binom.cdf(k, N, p)\n",
    "z"
   ]
  },
  {
   "cell_type": "markdown",
   "id": "5f7ff3ab",
   "metadata": {},
   "source": [
    "**Вывод:**  \n",
    "\n",
    "<span style=\"color:green\">Для того, чтобы как минимум 100 пользователей продлили подписку с вероятностью 95% необходимо разослать не меньше 1161 промокодов</span>"
   ]
  },
  {
   "cell_type": "markdown",
   "id": "c0ff1b4d",
   "metadata": {},
   "source": [
    "### Отдел маркетинга рассылает клиентам push-уведомления в мобильном приложении. Клиенты могут открыть его или не открывать. Известно, что уведомления открывают около 40 % получивших клиентов. Отдел планирует разослать 1 млн уведомлений. С помощью аппроксимации необходимо построить примерный график распределения и оцените вероятность того, что уведомление откроют не более 399,5 тыс. пользователей."
   ]
  },
  {
   "cell_type": "code",
   "execution_count": 74,
   "id": "9f029f63",
   "metadata": {
    "scrolled": true
   },
   "outputs": [
    {
     "name": "stdout",
     "output_type": "stream",
     "text": [
      "Вероятность того, что уведомление откроют менее 399 500 пользователей равна 15.37%\n"
     ]
    }
   ],
   "source": [
    "# зададим параметры биноминального распределения\n",
    "n = 1000000 # количество рассылок\n",
    "p = 0.4 # вероятность просмотра уведомления\n",
    "\n",
    "# зададим мат.ожидание и ст.отклонение нормального распределения равными\n",
    "# мат.ожиданию и ст.отклонению биномиального распределения\n",
    "mu = n * p\n",
    "sigma = sqrt(n * p * (1 - p))\n",
    "\n",
    "# задаём нормальное распределение с математическим ожиданием 400.000 \n",
    "# и стандартным отклонением ~489.9\n",
    "distr = st.norm(mu, sigma)\n",
    "\n",
    "# зададим границы интервала для значения 399.500\n",
    "y_1 = 399000\n",
    "y_2 = 400000\n",
    "\n",
    "# считаем вероятность получить значение от y1 до y2\n",
    "output = distr.cdf(399500)\n",
    "\n",
    "print(f'Вероятность того, что уведомление откроют менее 399 500 пользователей равна {(output*100).round(2)}%')"
   ]
  },
  {
   "cell_type": "markdown",
   "id": "1d56100f",
   "metadata": {},
   "source": [
    "## ОБЩИЙ ВЫВОД:\n",
    "<span style=\"color:green\">**1)** В ходе предобработки данных установлено, что пропуски и дубликаты отсутствуют.\\\n",
    "    **2)** В процессе исследовательского анализа данных установлено, что аномальные и необъяснимые значения отсутствуют. Вузуализирована общая информация о пользователях и поездках и сделаны следующие выводы:\\\n",
    "    - Услугами сервиса аренды самокатов пользуются люди от 12 до 43 лет;\\\n",
    "    - Максимальное количество пользователей в возрасте 25 лет, этот же возраст является медианным;\\\n",
    "    - Большая часть всех пользователей используют подписку \"free\". Всего их 835, что составляет около 54% от общего количества и на 136 больше, чем с подпиской \"ultra\";\\\n",
    "    - Максимальное количество в 219 поездок совершено в Пятигорске. Минимальное количество в 168 поездок совершено в Москве;\\\n",
    "    - За одну поездку пользователи преодолевают расстояние от 1 до 7211 метров. Медиана пройденной дистанции равна 3134 метров. Наблюдаются два пика. Малый пик около 700 метров, большой пик около 3200 метров. Между пиками значения нормально распределены;\\\n",
    "    - Продолжительность поездок нормально распределена от 0 до 41 минуты. Продолжительность в 18 минут является наиболее распространенной, а также медианой. Наблюдается выброс размером около 100 поездок с продолжительностью в 1 минуту.\\\n",
    "    **3)** В процессе объединения таблиц и создания новых датафреймов провизуализирована информация о продолжительности и продолжительности поездок у пользователей с разной подпиской и сделаны следующие выводы:\\\n",
    "    - количество затраченного расстояния у пользователей с разными видами подписок, в целом, пропорционально;\\\n",
    "    - пользователи с подпиской ultra не ездят на дистанции свыше 6 км;\\\n",
    "    - среди пользователей с подпиской free дистанция поездки у почти 62% составляет 2-4 км, в то же время поездка у 79% пользователей с подпиской ultra составляет 2-4 км;\\\n",
    "    - максимальное расстояние поездки у пользователей с подпиской ultra составляет 5.700 м., что на 1.500 м. меньше, чем максимальная дистанция поездки у пользователей с подпиской free;\\\n",
    "    - среднее время поездок у сравнимаемых категорий примерно равно.\\\n",
    "    **4)** Создан датафрейм с агрегированными данными о поездках и рассчитана суммарная выручка от каждого пользователя за каждый месяц.\\\n",
    "    **5)** Проверены гипотезы, в результате чего выявлено, что:\\\n",
    "    - вероятно, средняя длительность поездок у пользователей с подпиской ultra больше, чем у пользователей с подпиской free;\\\n",
    "    - нет оснований предполагать, что среднее расстояние, проезжаемое пользователями с подпиской ultra, превышает 3130 м;\\\n",
    "    - предположительно средняя выручка от пользователей с подпиской ultra выше, чем выручка от второй категории пользователей;\\\n",
    "    - для зависимых выборок с равным размером применяется метод scipy.stats.ttest_rel.\\\n",
    "    **6) Анализ показал, что:\\\n",
    "    - стоит проверить, существуют ли неполадки, связанные со стартом поездки;\\\n",
    "    - тип подписки влияет на проезжаемое пользователями с разной подпиской расстояние, соответственно, компании выгодно увеличивать кол-во пользователей с подпиской ultra;\\\n",
    "    - средняя выручка от пользователей с подпиской ultra выше, чем от тех, у кого подписка free, следовательно, для роста бизнеса стоит подумать об увеличении пользователей с подпиской ultra.**"
   ]
  },
  {
   "cell_type": "code",
   "execution_count": null,
   "id": "dbebbe1f-2cc5-48c9-a136-bf5c033f1061",
   "metadata": {},
   "outputs": [],
   "source": []
  }
 ],
 "metadata": {
  "ExecuteTimeLog": [
   {
    "duration": 64,
    "start_time": "2024-01-19T12:33:58.686Z"
   },
   {
    "duration": 0,
    "start_time": "2024-01-19T12:33:58.751Z"
   },
   {
    "duration": 0,
    "start_time": "2024-01-19T12:33:58.753Z"
   },
   {
    "duration": 0,
    "start_time": "2024-01-19T12:33:58.754Z"
   },
   {
    "duration": 1497,
    "start_time": "2024-01-19T12:34:08.775Z"
   },
   {
    "duration": 60,
    "start_time": "2024-01-19T12:34:12.393Z"
   },
   {
    "duration": 133,
    "start_time": "2024-01-19T12:34:42.892Z"
   },
   {
    "duration": 65,
    "start_time": "2024-01-19T12:35:54.727Z"
   },
   {
    "duration": 305,
    "start_time": "2024-01-19T12:36:21.824Z"
   },
   {
    "duration": 23,
    "start_time": "2024-01-19T12:36:24.866Z"
   },
   {
    "duration": 21,
    "start_time": "2024-01-19T12:36:31.124Z"
   },
   {
    "duration": 15,
    "start_time": "2024-01-19T12:36:35.022Z"
   },
   {
    "duration": 11,
    "start_time": "2024-01-19T12:45:37.536Z"
   },
   {
    "duration": 22,
    "start_time": "2024-01-19T12:47:58.997Z"
   },
   {
    "duration": 16,
    "start_time": "2024-01-19T12:48:05.443Z"
   },
   {
    "duration": 6,
    "start_time": "2024-01-19T12:49:32.733Z"
   },
   {
    "duration": 6,
    "start_time": "2024-01-19T12:49:54.545Z"
   },
   {
    "duration": 6,
    "start_time": "2024-01-19T12:50:07.522Z"
   },
   {
    "duration": 8,
    "start_time": "2024-01-19T12:51:06.689Z"
   },
   {
    "duration": 7,
    "start_time": "2024-01-19T12:51:18.551Z"
   },
   {
    "duration": 9,
    "start_time": "2024-01-19T12:51:31.738Z"
   },
   {
    "duration": 5,
    "start_time": "2024-01-19T12:51:42.345Z"
   },
   {
    "duration": 5,
    "start_time": "2024-01-19T12:54:34.148Z"
   },
   {
    "duration": 7,
    "start_time": "2024-01-19T12:54:48.628Z"
   },
   {
    "duration": 23,
    "start_time": "2024-01-19T12:56:47.061Z"
   },
   {
    "duration": 31,
    "start_time": "2024-01-19T12:57:14.615Z"
   },
   {
    "duration": 26,
    "start_time": "2024-01-19T12:57:46.660Z"
   },
   {
    "duration": 41,
    "start_time": "2024-01-19T13:47:49.980Z"
   },
   {
    "duration": 3,
    "start_time": "2024-01-19T13:48:08.925Z"
   },
   {
    "duration": 77,
    "start_time": "2024-01-19T13:48:08.930Z"
   },
   {
    "duration": 17,
    "start_time": "2024-01-19T13:48:09.010Z"
   },
   {
    "duration": 53,
    "start_time": "2024-01-19T13:48:09.029Z"
   },
   {
    "duration": 15,
    "start_time": "2024-01-19T13:48:09.084Z"
   },
   {
    "duration": 13,
    "start_time": "2024-01-19T13:48:09.101Z"
   },
   {
    "duration": 26,
    "start_time": "2024-01-19T13:48:09.116Z"
   },
   {
    "duration": 7,
    "start_time": "2024-01-19T13:48:09.143Z"
   },
   {
    "duration": 12,
    "start_time": "2024-01-19T13:48:09.151Z"
   },
   {
    "duration": 13,
    "start_time": "2024-01-19T13:48:09.165Z"
   },
   {
    "duration": 14,
    "start_time": "2024-01-19T13:48:09.181Z"
   },
   {
    "duration": 9,
    "start_time": "2024-01-19T13:48:09.197Z"
   },
   {
    "duration": 16,
    "start_time": "2024-01-19T13:48:09.208Z"
   },
   {
    "duration": 7,
    "start_time": "2024-01-19T13:48:09.227Z"
   },
   {
    "duration": 69,
    "start_time": "2024-01-19T13:48:09.236Z"
   },
   {
    "duration": 54,
    "start_time": "2024-01-19T13:48:30.442Z"
   },
   {
    "duration": 59,
    "start_time": "2024-01-19T13:48:41.205Z"
   },
   {
    "duration": 15,
    "start_time": "2024-01-19T13:49:12.121Z"
   },
   {
    "duration": 24,
    "start_time": "2024-01-19T13:49:12.900Z"
   },
   {
    "duration": 18,
    "start_time": "2024-01-19T13:49:13.183Z"
   },
   {
    "duration": 17,
    "start_time": "2024-01-19T13:51:51.483Z"
   },
   {
    "duration": 22,
    "start_time": "2024-01-19T13:52:00.677Z"
   },
   {
    "duration": 27,
    "start_time": "2024-01-19T13:52:25.640Z"
   },
   {
    "duration": 25,
    "start_time": "2024-01-19T13:52:33.093Z"
   },
   {
    "duration": 19,
    "start_time": "2024-01-19T13:52:38.190Z"
   },
   {
    "duration": 6,
    "start_time": "2024-01-19T13:54:50.964Z"
   },
   {
    "duration": 12,
    "start_time": "2024-01-19T13:55:00.323Z"
   },
   {
    "duration": 156,
    "start_time": "2024-01-19T13:55:18.275Z"
   },
   {
    "duration": 12,
    "start_time": "2024-01-19T14:04:51.107Z"
   },
   {
    "duration": 7,
    "start_time": "2024-01-19T14:05:09.520Z"
   },
   {
    "duration": 9,
    "start_time": "2024-01-19T14:06:08.118Z"
   },
   {
    "duration": 54,
    "start_time": "2024-01-19T14:06:13.033Z"
   },
   {
    "duration": 13,
    "start_time": "2024-01-19T14:06:46.327Z"
   },
   {
    "duration": 167,
    "start_time": "2024-01-19T14:07:06.033Z"
   },
   {
    "duration": 15,
    "start_time": "2024-01-19T14:07:20.550Z"
   },
   {
    "duration": 16,
    "start_time": "2024-01-19T14:07:32.086Z"
   },
   {
    "duration": 186,
    "start_time": "2024-01-19T14:07:42.864Z"
   },
   {
    "duration": 183,
    "start_time": "2024-01-19T14:10:06.658Z"
   },
   {
    "duration": 3,
    "start_time": "2024-01-19T14:10:31.517Z"
   },
   {
    "duration": 3,
    "start_time": "2024-01-19T14:10:35.233Z"
   },
   {
    "duration": 83,
    "start_time": "2024-01-19T14:10:35.238Z"
   },
   {
    "duration": 17,
    "start_time": "2024-01-19T14:10:35.323Z"
   },
   {
    "duration": 65,
    "start_time": "2024-01-19T14:10:35.341Z"
   },
   {
    "duration": 16,
    "start_time": "2024-01-19T14:10:35.407Z"
   },
   {
    "duration": 18,
    "start_time": "2024-01-19T14:10:35.425Z"
   },
   {
    "duration": 10,
    "start_time": "2024-01-19T14:10:35.444Z"
   },
   {
    "duration": 8,
    "start_time": "2024-01-19T14:10:35.455Z"
   },
   {
    "duration": 26,
    "start_time": "2024-01-19T14:10:35.465Z"
   },
   {
    "duration": 20,
    "start_time": "2024-01-19T14:10:35.493Z"
   },
   {
    "duration": 28,
    "start_time": "2024-01-19T14:10:35.515Z"
   },
   {
    "duration": 15,
    "start_time": "2024-01-19T14:10:35.545Z"
   },
   {
    "duration": 21,
    "start_time": "2024-01-19T14:10:35.562Z"
   },
   {
    "duration": 7,
    "start_time": "2024-01-19T14:10:35.586Z"
   },
   {
    "duration": 34,
    "start_time": "2024-01-19T14:10:35.595Z"
   },
   {
    "duration": 197,
    "start_time": "2024-01-19T14:10:35.631Z"
   },
   {
    "duration": 28,
    "start_time": "2024-01-19T14:10:35.830Z"
   },
   {
    "duration": 38,
    "start_time": "2024-01-19T14:10:35.859Z"
   },
   {
    "duration": 64,
    "start_time": "2024-01-19T16:57:16.448Z"
   },
   {
    "duration": 1453,
    "start_time": "2024-01-19T16:57:50.068Z"
   },
   {
    "duration": 292,
    "start_time": "2024-01-19T16:57:51.524Z"
   },
   {
    "duration": 22,
    "start_time": "2024-01-19T16:57:51.818Z"
   },
   {
    "duration": 108,
    "start_time": "2024-01-19T16:57:51.842Z"
   },
   {
    "duration": 53,
    "start_time": "2024-01-19T16:57:51.952Z"
   },
   {
    "duration": 39,
    "start_time": "2024-01-19T16:57:52.007Z"
   },
   {
    "duration": 7,
    "start_time": "2024-01-19T16:57:52.048Z"
   },
   {
    "duration": 9,
    "start_time": "2024-01-19T16:57:52.057Z"
   },
   {
    "duration": 7,
    "start_time": "2024-01-19T16:57:52.067Z"
   },
   {
    "duration": 15,
    "start_time": "2024-01-19T16:57:52.077Z"
   },
   {
    "duration": 18,
    "start_time": "2024-01-19T16:57:52.094Z"
   },
   {
    "duration": 22,
    "start_time": "2024-01-19T16:57:52.113Z"
   },
   {
    "duration": 50,
    "start_time": "2024-01-19T16:57:52.136Z"
   },
   {
    "duration": 6,
    "start_time": "2024-01-19T16:57:52.188Z"
   },
   {
    "duration": 24,
    "start_time": "2024-01-19T16:57:52.195Z"
   },
   {
    "duration": 200,
    "start_time": "2024-01-19T16:57:52.220Z"
   },
   {
    "duration": 177,
    "start_time": "2024-01-19T16:57:52.422Z"
   },
   {
    "duration": 33,
    "start_time": "2024-01-19T16:57:52.601Z"
   },
   {
    "duration": 22,
    "start_time": "2024-01-19T16:57:52.636Z"
   },
   {
    "duration": 13,
    "start_time": "2024-01-19T16:59:06.412Z"
   },
   {
    "duration": 12,
    "start_time": "2024-01-19T16:59:24.368Z"
   },
   {
    "duration": 13,
    "start_time": "2024-01-19T17:00:02.720Z"
   },
   {
    "duration": 15,
    "start_time": "2024-01-19T17:00:19.831Z"
   },
   {
    "duration": 5,
    "start_time": "2024-01-19T17:01:22.422Z"
   },
   {
    "duration": 4,
    "start_time": "2024-01-19T17:01:26.287Z"
   },
   {
    "duration": 90,
    "start_time": "2024-01-19T17:01:26.293Z"
   },
   {
    "duration": 18,
    "start_time": "2024-01-19T17:01:26.385Z"
   },
   {
    "duration": 21,
    "start_time": "2024-01-19T17:01:26.404Z"
   },
   {
    "duration": 14,
    "start_time": "2024-01-19T17:01:26.427Z"
   },
   {
    "duration": 12,
    "start_time": "2024-01-19T17:01:26.443Z"
   },
   {
    "duration": 6,
    "start_time": "2024-01-19T17:01:26.456Z"
   },
   {
    "duration": 31,
    "start_time": "2024-01-19T17:01:26.464Z"
   },
   {
    "duration": 6,
    "start_time": "2024-01-19T17:01:26.497Z"
   },
   {
    "duration": 12,
    "start_time": "2024-01-19T17:01:26.505Z"
   },
   {
    "duration": 5,
    "start_time": "2024-01-19T17:01:26.520Z"
   },
   {
    "duration": 7,
    "start_time": "2024-01-19T17:01:26.526Z"
   },
   {
    "duration": 9,
    "start_time": "2024-01-19T17:01:26.535Z"
   },
   {
    "duration": 6,
    "start_time": "2024-01-19T17:01:26.545Z"
   },
   {
    "duration": 57,
    "start_time": "2024-01-19T17:01:26.552Z"
   },
   {
    "duration": 229,
    "start_time": "2024-01-19T17:01:26.611Z"
   },
   {
    "duration": 14,
    "start_time": "2024-01-19T17:01:26.841Z"
   },
   {
    "duration": 189,
    "start_time": "2024-01-19T17:01:26.856Z"
   },
   {
    "duration": 13,
    "start_time": "2024-01-19T17:01:27.047Z"
   },
   {
    "duration": 38,
    "start_time": "2024-01-19T17:01:27.061Z"
   },
   {
    "duration": 19,
    "start_time": "2024-01-19T17:01:27.100Z"
   },
   {
    "duration": 225,
    "start_time": "2024-01-19T17:04:06.695Z"
   },
   {
    "duration": 245,
    "start_time": "2024-01-19T17:05:17.389Z"
   },
   {
    "duration": 203,
    "start_time": "2024-01-19T17:05:47.142Z"
   },
   {
    "duration": 251,
    "start_time": "2024-01-19T17:07:27.535Z"
   },
   {
    "duration": 189,
    "start_time": "2024-01-19T17:07:59.633Z"
   },
   {
    "duration": 261,
    "start_time": "2024-01-19T17:09:32.939Z"
   },
   {
    "duration": 188,
    "start_time": "2024-01-19T17:09:42.623Z"
   },
   {
    "duration": 13,
    "start_time": "2024-01-19T17:10:37.046Z"
   },
   {
    "duration": 217,
    "start_time": "2024-01-19T17:11:28.681Z"
   },
   {
    "duration": 388,
    "start_time": "2024-01-19T17:11:36.999Z"
   },
   {
    "duration": 365,
    "start_time": "2024-01-19T17:11:51.096Z"
   },
   {
    "duration": 400,
    "start_time": "2024-01-19T17:12:47.780Z"
   },
   {
    "duration": 211,
    "start_time": "2024-01-19T17:13:17.783Z"
   },
   {
    "duration": 383,
    "start_time": "2024-01-19T17:13:32.813Z"
   },
   {
    "duration": 346,
    "start_time": "2024-01-19T17:14:13.275Z"
   },
   {
    "duration": 47,
    "start_time": "2024-01-20T09:47:16.412Z"
   },
   {
    "duration": 1284,
    "start_time": "2024-01-20T09:47:23.026Z"
   },
   {
    "duration": 203,
    "start_time": "2024-01-20T09:47:24.312Z"
   },
   {
    "duration": 21,
    "start_time": "2024-01-20T09:47:24.516Z"
   },
   {
    "duration": 16,
    "start_time": "2024-01-20T09:47:24.539Z"
   },
   {
    "duration": 24,
    "start_time": "2024-01-20T09:47:24.557Z"
   },
   {
    "duration": 11,
    "start_time": "2024-01-20T09:47:24.582Z"
   },
   {
    "duration": 5,
    "start_time": "2024-01-20T09:47:24.595Z"
   },
   {
    "duration": 13,
    "start_time": "2024-01-20T09:47:24.601Z"
   },
   {
    "duration": 5,
    "start_time": "2024-01-20T09:47:24.615Z"
   },
   {
    "duration": 5,
    "start_time": "2024-01-20T09:47:24.622Z"
   },
   {
    "duration": 3,
    "start_time": "2024-01-20T09:47:24.629Z"
   },
   {
    "duration": 14,
    "start_time": "2024-01-20T09:47:24.634Z"
   },
   {
    "duration": 27,
    "start_time": "2024-01-20T09:47:24.649Z"
   },
   {
    "duration": 5,
    "start_time": "2024-01-20T09:47:24.679Z"
   },
   {
    "duration": 30,
    "start_time": "2024-01-20T09:47:24.685Z"
   },
   {
    "duration": 231,
    "start_time": "2024-01-20T09:47:24.717Z"
   },
   {
    "duration": 28,
    "start_time": "2024-01-20T09:47:24.949Z"
   },
   {
    "duration": 159,
    "start_time": "2024-01-20T09:47:24.979Z"
   },
   {
    "duration": 11,
    "start_time": "2024-01-20T09:47:25.140Z"
   },
   {
    "duration": 388,
    "start_time": "2024-01-20T09:47:25.153Z"
   },
   {
    "duration": 35,
    "start_time": "2024-01-20T09:47:25.543Z"
   },
   {
    "duration": 17,
    "start_time": "2024-01-20T09:47:25.580Z"
   },
   {
    "duration": 6,
    "start_time": "2024-01-20T09:47:38.182Z"
   },
   {
    "duration": 166,
    "start_time": "2024-01-20T09:49:54.629Z"
   },
   {
    "duration": 9,
    "start_time": "2024-01-20T09:50:06.270Z"
   },
   {
    "duration": 8,
    "start_time": "2024-01-20T09:52:17.662Z"
   },
   {
    "duration": 8,
    "start_time": "2024-01-20T09:52:35.516Z"
   },
   {
    "duration": 330,
    "start_time": "2024-01-20T09:55:07.848Z"
   },
   {
    "duration": 6,
    "start_time": "2024-01-20T09:55:17.505Z"
   },
   {
    "duration": 72,
    "start_time": "2024-01-20T10:02:00.482Z"
   },
   {
    "duration": 9,
    "start_time": "2024-01-20T10:02:55.420Z"
   },
   {
    "duration": 127,
    "start_time": "2024-01-20T10:03:26.811Z"
   },
   {
    "duration": 309,
    "start_time": "2024-01-20T10:03:43.094Z"
   },
   {
    "duration": 26,
    "start_time": "2024-01-20T10:08:30.565Z"
   },
   {
    "duration": 22,
    "start_time": "2024-01-20T10:08:55.782Z"
   },
   {
    "duration": 118,
    "start_time": "2024-01-20T10:10:04.170Z"
   },
   {
    "duration": 131,
    "start_time": "2024-01-20T10:11:46.817Z"
   },
   {
    "duration": 136,
    "start_time": "2024-01-20T10:12:21.659Z"
   },
   {
    "duration": 293,
    "start_time": "2024-01-20T10:13:31.247Z"
   },
   {
    "duration": 16,
    "start_time": "2024-01-20T10:22:19.785Z"
   },
   {
    "duration": 9,
    "start_time": "2024-01-20T10:24:29.634Z"
   },
   {
    "duration": 158,
    "start_time": "2024-01-20T10:25:44.980Z"
   },
   {
    "duration": 8,
    "start_time": "2024-01-20T10:54:37.563Z"
   },
   {
    "duration": 13,
    "start_time": "2024-01-20T10:55:04.613Z"
   },
   {
    "duration": 7,
    "start_time": "2024-01-20T10:55:06.338Z"
   },
   {
    "duration": 191,
    "start_time": "2024-01-20T10:55:14.718Z"
   },
   {
    "duration": 13,
    "start_time": "2024-01-20T10:55:44.086Z"
   },
   {
    "duration": 204,
    "start_time": "2024-01-20T10:55:44.575Z"
   },
   {
    "duration": 6,
    "start_time": "2024-01-20T10:56:04.484Z"
   },
   {
    "duration": 13,
    "start_time": "2024-01-20T10:56:51.492Z"
   },
   {
    "duration": 203,
    "start_time": "2024-01-20T10:56:51.952Z"
   },
   {
    "duration": 6,
    "start_time": "2024-01-20T10:56:58.192Z"
   },
   {
    "duration": 7,
    "start_time": "2024-01-20T11:02:42.672Z"
   },
   {
    "duration": 8,
    "start_time": "2024-01-20T11:03:49.506Z"
   },
   {
    "duration": 8,
    "start_time": "2024-01-20T11:04:18.076Z"
   },
   {
    "duration": 8,
    "start_time": "2024-01-20T11:04:30.837Z"
   },
   {
    "duration": 8,
    "start_time": "2024-01-20T11:04:41.014Z"
   },
   {
    "duration": 8,
    "start_time": "2024-01-20T11:04:51.644Z"
   },
   {
    "duration": 7,
    "start_time": "2024-01-20T11:04:57.571Z"
   },
   {
    "duration": 8,
    "start_time": "2024-01-20T11:05:02.762Z"
   },
   {
    "duration": 10,
    "start_time": "2024-01-20T11:05:07.851Z"
   },
   {
    "duration": 14,
    "start_time": "2024-01-20T11:10:12.686Z"
   },
   {
    "duration": 179,
    "start_time": "2024-01-20T11:11:08.928Z"
   },
   {
    "duration": 10,
    "start_time": "2024-01-20T11:11:41.196Z"
   },
   {
    "duration": 264,
    "start_time": "2024-01-20T11:11:41.788Z"
   },
   {
    "duration": 10,
    "start_time": "2024-01-20T11:12:25.747Z"
   },
   {
    "duration": 167,
    "start_time": "2024-01-20T11:13:17.412Z"
   },
   {
    "duration": 8,
    "start_time": "2024-01-20T11:13:32.532Z"
   },
   {
    "duration": 9,
    "start_time": "2024-01-20T11:13:56.924Z"
   },
   {
    "duration": 176,
    "start_time": "2024-01-20T11:13:57.330Z"
   },
   {
    "duration": 11,
    "start_time": "2024-01-20T11:14:00.298Z"
   },
   {
    "duration": 19,
    "start_time": "2024-01-20T11:17:42.310Z"
   },
   {
    "duration": 7,
    "start_time": "2024-01-20T11:18:29.494Z"
   },
   {
    "duration": 123,
    "start_time": "2024-01-20T11:23:52.529Z"
   },
   {
    "duration": 223,
    "start_time": "2024-01-20T11:24:19.623Z"
   },
   {
    "duration": 378,
    "start_time": "2024-01-20T11:24:46.011Z"
   },
   {
    "duration": 10,
    "start_time": "2024-01-20T11:25:21.674Z"
   },
   {
    "duration": 16,
    "start_time": "2024-01-20T11:25:51.262Z"
   },
   {
    "duration": 9,
    "start_time": "2024-01-20T11:37:33.000Z"
   },
   {
    "duration": 10,
    "start_time": "2024-01-20T11:41:04.476Z"
   },
   {
    "duration": 4,
    "start_time": "2024-01-20T11:41:09.631Z"
   },
   {
    "duration": 71,
    "start_time": "2024-01-20T11:41:09.637Z"
   },
   {
    "duration": 17,
    "start_time": "2024-01-20T11:41:09.710Z"
   },
   {
    "duration": 16,
    "start_time": "2024-01-20T11:41:09.729Z"
   },
   {
    "duration": 20,
    "start_time": "2024-01-20T11:41:09.747Z"
   },
   {
    "duration": 10,
    "start_time": "2024-01-20T11:41:09.769Z"
   },
   {
    "duration": 6,
    "start_time": "2024-01-20T11:41:09.780Z"
   },
   {
    "duration": 7,
    "start_time": "2024-01-20T11:41:09.787Z"
   },
   {
    "duration": 5,
    "start_time": "2024-01-20T11:41:09.795Z"
   },
   {
    "duration": 13,
    "start_time": "2024-01-20T11:41:09.801Z"
   },
   {
    "duration": 2,
    "start_time": "2024-01-20T11:41:09.816Z"
   },
   {
    "duration": 45,
    "start_time": "2024-01-20T11:41:09.820Z"
   },
   {
    "duration": 6,
    "start_time": "2024-01-20T11:41:09.867Z"
   },
   {
    "duration": 8,
    "start_time": "2024-01-20T11:41:09.875Z"
   },
   {
    "duration": 4,
    "start_time": "2024-01-20T11:41:09.884Z"
   },
   {
    "duration": 18,
    "start_time": "2024-01-20T11:41:09.889Z"
   },
   {
    "duration": 144,
    "start_time": "2024-01-20T11:41:09.908Z"
   },
   {
    "duration": 200,
    "start_time": "2024-01-20T11:41:10.054Z"
   },
   {
    "duration": 10,
    "start_time": "2024-01-20T11:41:10.256Z"
   },
   {
    "duration": 238,
    "start_time": "2024-01-20T11:41:10.268Z"
   },
   {
    "duration": 8,
    "start_time": "2024-01-20T11:41:10.507Z"
   },
   {
    "duration": 336,
    "start_time": "2024-01-20T11:41:10.516Z"
   },
   {
    "duration": 6,
    "start_time": "2024-01-20T11:41:10.853Z"
   },
   {
    "duration": 23,
    "start_time": "2024-01-20T11:41:10.865Z"
   },
   {
    "duration": 280,
    "start_time": "2024-01-20T11:41:10.889Z"
   },
   {
    "duration": 12,
    "start_time": "2024-01-20T11:41:11.170Z"
   },
   {
    "duration": 201,
    "start_time": "2024-01-20T11:41:11.184Z"
   },
   {
    "duration": 9,
    "start_time": "2024-01-20T11:41:11.386Z"
   },
   {
    "duration": 28,
    "start_time": "2024-01-20T11:41:11.397Z"
   },
   {
    "duration": 177,
    "start_time": "2024-01-20T11:41:11.426Z"
   },
   {
    "duration": 8,
    "start_time": "2024-01-20T11:41:11.605Z"
   },
   {
    "duration": 8,
    "start_time": "2024-01-20T11:41:11.615Z"
   },
   {
    "duration": 9,
    "start_time": "2024-01-20T11:41:11.625Z"
   },
   {
    "duration": 29,
    "start_time": "2024-01-20T11:41:11.636Z"
   },
   {
    "duration": 11,
    "start_time": "2024-01-20T11:41:11.667Z"
   },
   {
    "duration": 5,
    "start_time": "2024-01-20T11:43:21.169Z"
   },
   {
    "duration": 6,
    "start_time": "2024-01-20T11:44:42.439Z"
   },
   {
    "duration": 4,
    "start_time": "2024-01-20T11:44:46.947Z"
   },
   {
    "duration": 67,
    "start_time": "2024-01-20T11:44:46.953Z"
   },
   {
    "duration": 16,
    "start_time": "2024-01-20T11:44:47.022Z"
   },
   {
    "duration": 15,
    "start_time": "2024-01-20T11:44:47.039Z"
   },
   {
    "duration": 13,
    "start_time": "2024-01-20T11:44:47.055Z"
   },
   {
    "duration": 9,
    "start_time": "2024-01-20T11:44:47.069Z"
   },
   {
    "duration": 5,
    "start_time": "2024-01-20T11:44:47.079Z"
   },
   {
    "duration": 6,
    "start_time": "2024-01-20T11:44:47.086Z"
   },
   {
    "duration": 5,
    "start_time": "2024-01-20T11:44:47.093Z"
   },
   {
    "duration": 12,
    "start_time": "2024-01-20T11:44:47.099Z"
   },
   {
    "duration": 5,
    "start_time": "2024-01-20T11:44:47.113Z"
   },
   {
    "duration": 6,
    "start_time": "2024-01-20T11:44:47.119Z"
   },
   {
    "duration": 46,
    "start_time": "2024-01-20T11:44:47.126Z"
   },
   {
    "duration": 0,
    "start_time": "2024-01-20T11:44:47.173Z"
   },
   {
    "duration": 0,
    "start_time": "2024-01-20T11:44:47.175Z"
   },
   {
    "duration": 0,
    "start_time": "2024-01-20T11:44:47.175Z"
   },
   {
    "duration": 0,
    "start_time": "2024-01-20T11:44:47.177Z"
   },
   {
    "duration": 0,
    "start_time": "2024-01-20T11:44:47.178Z"
   },
   {
    "duration": 0,
    "start_time": "2024-01-20T11:44:47.180Z"
   },
   {
    "duration": 0,
    "start_time": "2024-01-20T11:44:47.181Z"
   },
   {
    "duration": 0,
    "start_time": "2024-01-20T11:44:47.182Z"
   },
   {
    "duration": 0,
    "start_time": "2024-01-20T11:44:47.183Z"
   },
   {
    "duration": 0,
    "start_time": "2024-01-20T11:44:47.184Z"
   },
   {
    "duration": 0,
    "start_time": "2024-01-20T11:44:47.185Z"
   },
   {
    "duration": 0,
    "start_time": "2024-01-20T11:44:47.187Z"
   },
   {
    "duration": 0,
    "start_time": "2024-01-20T11:44:47.188Z"
   },
   {
    "duration": 0,
    "start_time": "2024-01-20T11:44:47.189Z"
   },
   {
    "duration": 0,
    "start_time": "2024-01-20T11:44:47.190Z"
   },
   {
    "duration": 0,
    "start_time": "2024-01-20T11:44:47.191Z"
   },
   {
    "duration": 0,
    "start_time": "2024-01-20T11:44:47.192Z"
   },
   {
    "duration": 0,
    "start_time": "2024-01-20T11:44:47.193Z"
   },
   {
    "duration": 0,
    "start_time": "2024-01-20T11:44:47.194Z"
   },
   {
    "duration": 0,
    "start_time": "2024-01-20T11:44:47.195Z"
   },
   {
    "duration": 0,
    "start_time": "2024-01-20T11:44:47.196Z"
   },
   {
    "duration": 0,
    "start_time": "2024-01-20T11:44:47.197Z"
   },
   {
    "duration": 8,
    "start_time": "2024-01-20T11:45:13.084Z"
   },
   {
    "duration": 10,
    "start_time": "2024-01-20T11:45:13.759Z"
   },
   {
    "duration": 1122,
    "start_time": "2024-01-20T11:45:24.687Z"
   },
   {
    "duration": 69,
    "start_time": "2024-01-20T11:45:25.811Z"
   },
   {
    "duration": 19,
    "start_time": "2024-01-20T11:45:25.881Z"
   },
   {
    "duration": 35,
    "start_time": "2024-01-20T11:45:25.902Z"
   },
   {
    "duration": 12,
    "start_time": "2024-01-20T11:45:25.938Z"
   },
   {
    "duration": 27,
    "start_time": "2024-01-20T11:45:25.951Z"
   },
   {
    "duration": 6,
    "start_time": "2024-01-20T11:45:25.979Z"
   },
   {
    "duration": 21,
    "start_time": "2024-01-20T11:45:25.986Z"
   },
   {
    "duration": 8,
    "start_time": "2024-01-20T11:45:26.009Z"
   },
   {
    "duration": 11,
    "start_time": "2024-01-20T11:45:26.020Z"
   },
   {
    "duration": 5,
    "start_time": "2024-01-20T11:45:26.033Z"
   },
   {
    "duration": 5,
    "start_time": "2024-01-20T11:45:26.039Z"
   },
   {
    "duration": 11,
    "start_time": "2024-01-20T11:45:26.045Z"
   },
   {
    "duration": 10,
    "start_time": "2024-01-20T11:45:26.065Z"
   },
   {
    "duration": 5,
    "start_time": "2024-01-20T11:45:26.076Z"
   },
   {
    "duration": 24,
    "start_time": "2024-01-20T11:45:26.082Z"
   },
   {
    "duration": 140,
    "start_time": "2024-01-20T11:45:26.108Z"
   },
   {
    "duration": 214,
    "start_time": "2024-01-20T11:45:26.250Z"
   },
   {
    "duration": 6,
    "start_time": "2024-01-20T11:45:26.466Z"
   },
   {
    "duration": 168,
    "start_time": "2024-01-20T11:45:26.474Z"
   },
   {
    "duration": 21,
    "start_time": "2024-01-20T11:45:26.644Z"
   },
   {
    "duration": 344,
    "start_time": "2024-01-20T11:45:26.666Z"
   },
   {
    "duration": 7,
    "start_time": "2024-01-20T11:45:27.012Z"
   },
   {
    "duration": 24,
    "start_time": "2024-01-20T11:45:27.021Z"
   },
   {
    "duration": 291,
    "start_time": "2024-01-20T11:45:27.064Z"
   },
   {
    "duration": 20,
    "start_time": "2024-01-20T11:45:27.357Z"
   },
   {
    "duration": 203,
    "start_time": "2024-01-20T11:45:27.378Z"
   },
   {
    "duration": 8,
    "start_time": "2024-01-20T11:45:27.585Z"
   },
   {
    "duration": 18,
    "start_time": "2024-01-20T11:45:27.595Z"
   },
   {
    "duration": 212,
    "start_time": "2024-01-20T11:45:27.615Z"
   },
   {
    "duration": 8,
    "start_time": "2024-01-20T11:45:27.829Z"
   },
   {
    "duration": 11,
    "start_time": "2024-01-20T11:45:27.838Z"
   },
   {
    "duration": 20,
    "start_time": "2024-01-20T11:45:27.851Z"
   },
   {
    "duration": 7,
    "start_time": "2024-01-20T11:45:27.873Z"
   },
   {
    "duration": 91,
    "start_time": "2024-01-20T11:45:27.882Z"
   },
   {
    "duration": 10,
    "start_time": "2024-01-20T11:47:56.425Z"
   },
   {
    "duration": 17,
    "start_time": "2024-01-20T11:48:02.253Z"
   },
   {
    "duration": 20,
    "start_time": "2024-01-20T11:48:25.868Z"
   },
   {
    "duration": 13,
    "start_time": "2024-01-20T11:49:15.172Z"
   },
   {
    "duration": 109,
    "start_time": "2024-01-20T11:49:33.407Z"
   },
   {
    "duration": 15,
    "start_time": "2024-01-20T11:49:39.936Z"
   },
   {
    "duration": 15,
    "start_time": "2024-01-20T11:49:48.104Z"
   },
   {
    "duration": 19,
    "start_time": "2024-01-20T11:52:06.927Z"
   },
   {
    "duration": 20,
    "start_time": "2024-01-20T11:52:20.244Z"
   },
   {
    "duration": 15,
    "start_time": "2024-01-20T11:52:46.193Z"
   },
   {
    "duration": 14,
    "start_time": "2024-01-20T11:52:49.757Z"
   },
   {
    "duration": 10,
    "start_time": "2024-01-20T11:56:49.001Z"
   },
   {
    "duration": 9,
    "start_time": "2024-01-20T11:57:13.875Z"
   },
   {
    "duration": 9,
    "start_time": "2024-01-20T11:57:54.276Z"
   },
   {
    "duration": 22,
    "start_time": "2024-01-20T11:58:38.522Z"
   },
   {
    "duration": 299752,
    "start_time": "2024-01-20T12:11:18.903Z"
   },
   {
    "duration": 230,
    "start_time": "2024-01-20T12:18:42.677Z"
   },
   {
    "duration": 240,
    "start_time": "2024-01-20T12:22:01.358Z"
   },
   {
    "duration": 207,
    "start_time": "2024-01-20T12:22:27.923Z"
   },
   {
    "duration": 19,
    "start_time": "2024-01-20T12:26:27.524Z"
   },
   {
    "duration": 237,
    "start_time": "2024-01-20T12:26:35.606Z"
   },
   {
    "duration": 229,
    "start_time": "2024-01-20T12:26:51.902Z"
   },
   {
    "duration": 9,
    "start_time": "2024-01-20T12:37:39.134Z"
   },
   {
    "duration": 216,
    "start_time": "2024-01-20T12:37:42.336Z"
   },
   {
    "duration": 13,
    "start_time": "2024-01-20T12:37:43.179Z"
   },
   {
    "duration": 12,
    "start_time": "2024-01-20T12:38:07.449Z"
   },
   {
    "duration": 12,
    "start_time": "2024-01-20T12:38:24.458Z"
   },
   {
    "duration": 205,
    "start_time": "2024-01-20T12:42:49.364Z"
   },
   {
    "duration": 10,
    "start_time": "2024-01-20T12:43:09.761Z"
   },
   {
    "duration": 13,
    "start_time": "2024-01-20T12:43:14.862Z"
   },
   {
    "duration": 631,
    "start_time": "2024-01-20T12:44:15.448Z"
   },
   {
    "duration": 539,
    "start_time": "2024-01-20T12:45:29.792Z"
   },
   {
    "duration": 557,
    "start_time": "2024-01-20T12:45:41.605Z"
   },
   {
    "duration": 574,
    "start_time": "2024-01-20T12:45:52.324Z"
   },
   {
    "duration": 11,
    "start_time": "2024-01-20T12:46:15.969Z"
   },
   {
    "duration": 234,
    "start_time": "2024-01-20T12:47:22.581Z"
   },
   {
    "duration": 7,
    "start_time": "2024-01-20T12:47:36.282Z"
   },
   {
    "duration": 25,
    "start_time": "2024-01-20T12:49:33.894Z"
   },
   {
    "duration": 10,
    "start_time": "2024-01-20T12:50:37.341Z"
   },
   {
    "duration": 7,
    "start_time": "2024-01-20T12:54:05.628Z"
   },
   {
    "duration": 230,
    "start_time": "2024-01-20T13:04:47.957Z"
   },
   {
    "duration": 381,
    "start_time": "2024-01-20T13:04:56.581Z"
   },
   {
    "duration": 199,
    "start_time": "2024-01-20T13:05:54.261Z"
   },
   {
    "duration": 13,
    "start_time": "2024-01-20T13:07:30.667Z"
   },
   {
    "duration": 1100,
    "start_time": "2024-01-20T13:10:47.610Z"
   },
   {
    "duration": 69,
    "start_time": "2024-01-20T13:10:48.712Z"
   },
   {
    "duration": 19,
    "start_time": "2024-01-20T13:10:48.783Z"
   },
   {
    "duration": 16,
    "start_time": "2024-01-20T13:10:48.804Z"
   },
   {
    "duration": 14,
    "start_time": "2024-01-20T13:10:48.821Z"
   },
   {
    "duration": 9,
    "start_time": "2024-01-20T13:10:48.836Z"
   },
   {
    "duration": 25,
    "start_time": "2024-01-20T13:10:48.847Z"
   },
   {
    "duration": 10,
    "start_time": "2024-01-20T13:10:48.874Z"
   },
   {
    "duration": 7,
    "start_time": "2024-01-20T13:10:48.886Z"
   },
   {
    "duration": 30,
    "start_time": "2024-01-20T13:10:48.896Z"
   },
   {
    "duration": 7,
    "start_time": "2024-01-20T13:10:48.928Z"
   },
   {
    "duration": 33,
    "start_time": "2024-01-20T13:10:48.936Z"
   },
   {
    "duration": 13,
    "start_time": "2024-01-20T13:10:48.971Z"
   },
   {
    "duration": 10,
    "start_time": "2024-01-20T13:10:48.986Z"
   },
   {
    "duration": 5,
    "start_time": "2024-01-20T13:10:48.998Z"
   },
   {
    "duration": 21,
    "start_time": "2024-01-20T13:10:49.006Z"
   },
   {
    "duration": 183,
    "start_time": "2024-01-20T13:10:49.028Z"
   },
   {
    "duration": 200,
    "start_time": "2024-01-20T13:10:49.212Z"
   },
   {
    "duration": 6,
    "start_time": "2024-01-20T13:10:49.413Z"
   },
   {
    "duration": 192,
    "start_time": "2024-01-20T13:10:49.420Z"
   },
   {
    "duration": 8,
    "start_time": "2024-01-20T13:10:49.613Z"
   },
   {
    "duration": 386,
    "start_time": "2024-01-20T13:10:49.622Z"
   },
   {
    "duration": 7,
    "start_time": "2024-01-20T13:10:50.009Z"
   },
   {
    "duration": 43,
    "start_time": "2024-01-20T13:10:50.017Z"
   },
   {
    "duration": 291,
    "start_time": "2024-01-20T13:10:50.062Z"
   },
   {
    "duration": 21,
    "start_time": "2024-01-20T13:10:50.355Z"
   },
   {
    "duration": 229,
    "start_time": "2024-01-20T13:10:50.378Z"
   },
   {
    "duration": 2,
    "start_time": "2024-01-20T13:10:50.610Z"
   },
   {
    "duration": 12,
    "start_time": "2024-01-20T13:10:50.614Z"
   },
   {
    "duration": 10,
    "start_time": "2024-01-20T13:10:50.627Z"
   },
   {
    "duration": 211,
    "start_time": "2024-01-20T13:10:50.638Z"
   },
   {
    "duration": 7,
    "start_time": "2024-01-20T13:10:50.851Z"
   },
   {
    "duration": 9,
    "start_time": "2024-01-20T13:10:50.866Z"
   },
   {
    "duration": 11,
    "start_time": "2024-01-20T13:10:50.876Z"
   },
   {
    "duration": 21,
    "start_time": "2024-01-20T13:10:50.888Z"
   },
   {
    "duration": 98,
    "start_time": "2024-01-20T13:10:50.911Z"
   },
   {
    "duration": 13,
    "start_time": "2024-01-20T13:10:51.010Z"
   },
   {
    "duration": 17,
    "start_time": "2024-01-20T13:10:51.024Z"
   },
   {
    "duration": 25,
    "start_time": "2024-01-20T13:10:51.043Z"
   },
   {
    "duration": 33,
    "start_time": "2024-01-20T13:10:51.069Z"
   },
   {
    "duration": 252,
    "start_time": "2024-01-20T13:10:51.104Z"
   },
   {
    "duration": 11,
    "start_time": "2024-01-20T13:10:51.358Z"
   },
   {
    "duration": 1240,
    "start_time": "2024-01-20T13:16:08.139Z"
   },
   {
    "duration": 69,
    "start_time": "2024-01-20T13:16:09.382Z"
   },
   {
    "duration": 22,
    "start_time": "2024-01-20T13:16:09.453Z"
   },
   {
    "duration": 19,
    "start_time": "2024-01-20T13:16:09.479Z"
   },
   {
    "duration": 13,
    "start_time": "2024-01-20T13:16:09.500Z"
   },
   {
    "duration": 10,
    "start_time": "2024-01-20T13:16:09.514Z"
   },
   {
    "duration": 5,
    "start_time": "2024-01-20T13:16:09.525Z"
   },
   {
    "duration": 10,
    "start_time": "2024-01-20T13:16:09.564Z"
   },
   {
    "duration": 7,
    "start_time": "2024-01-20T13:16:09.577Z"
   },
   {
    "duration": 12,
    "start_time": "2024-01-20T13:16:09.588Z"
   },
   {
    "duration": 5,
    "start_time": "2024-01-20T13:16:09.601Z"
   },
   {
    "duration": 8,
    "start_time": "2024-01-20T13:16:09.607Z"
   },
   {
    "duration": 6,
    "start_time": "2024-01-20T13:16:09.616Z"
   },
   {
    "duration": 42,
    "start_time": "2024-01-20T13:16:09.623Z"
   },
   {
    "duration": 7,
    "start_time": "2024-01-20T13:16:09.667Z"
   },
   {
    "duration": 27,
    "start_time": "2024-01-20T13:16:09.675Z"
   },
   {
    "duration": 161,
    "start_time": "2024-01-20T13:16:09.704Z"
   },
   {
    "duration": 222,
    "start_time": "2024-01-20T13:16:09.867Z"
   },
   {
    "duration": 7,
    "start_time": "2024-01-20T13:16:10.091Z"
   },
   {
    "duration": 183,
    "start_time": "2024-01-20T13:16:10.100Z"
   },
   {
    "duration": 9,
    "start_time": "2024-01-20T13:16:10.284Z"
   },
   {
    "duration": 329,
    "start_time": "2024-01-20T13:16:10.294Z"
   },
   {
    "duration": 6,
    "start_time": "2024-01-20T13:16:10.625Z"
   },
   {
    "duration": 53,
    "start_time": "2024-01-20T13:16:10.633Z"
   },
   {
    "duration": 267,
    "start_time": "2024-01-20T13:16:10.687Z"
   },
   {
    "duration": 15,
    "start_time": "2024-01-20T13:16:10.955Z"
   },
   {
    "duration": 218,
    "start_time": "2024-01-20T13:16:10.971Z"
   },
   {
    "duration": 8,
    "start_time": "2024-01-20T13:16:11.194Z"
   },
   {
    "duration": 20,
    "start_time": "2024-01-20T13:16:11.204Z"
   },
   {
    "duration": 214,
    "start_time": "2024-01-20T13:16:11.226Z"
   },
   {
    "duration": 8,
    "start_time": "2024-01-20T13:16:11.442Z"
   },
   {
    "duration": 23,
    "start_time": "2024-01-20T13:16:11.451Z"
   },
   {
    "duration": 12,
    "start_time": "2024-01-20T13:16:11.476Z"
   },
   {
    "duration": 15,
    "start_time": "2024-01-20T13:16:11.490Z"
   },
   {
    "duration": 94,
    "start_time": "2024-01-20T13:16:11.507Z"
   },
   {
    "duration": 13,
    "start_time": "2024-01-20T13:16:11.603Z"
   },
   {
    "duration": 23,
    "start_time": "2024-01-20T13:16:11.617Z"
   },
   {
    "duration": 10,
    "start_time": "2024-01-20T13:16:11.641Z"
   },
   {
    "duration": 36,
    "start_time": "2024-01-20T13:16:11.652Z"
   },
   {
    "duration": 246,
    "start_time": "2024-01-20T13:16:11.689Z"
   },
   {
    "duration": 8,
    "start_time": "2024-01-20T13:16:11.936Z"
   },
   {
    "duration": 209,
    "start_time": "2024-01-20T13:19:26.162Z"
   },
   {
    "duration": 6,
    "start_time": "2024-01-20T13:19:53.358Z"
   },
   {
    "duration": 225,
    "start_time": "2024-01-20T13:20:57.171Z"
   },
   {
    "duration": 16,
    "start_time": "2024-01-20T13:23:22.106Z"
   },
   {
    "duration": 15,
    "start_time": "2024-01-20T13:24:04.484Z"
   },
   {
    "duration": 15,
    "start_time": "2024-01-20T13:24:04.789Z"
   },
   {
    "duration": 95,
    "start_time": "2024-01-20T13:24:30.313Z"
   },
   {
    "duration": 10,
    "start_time": "2024-01-20T13:24:34.553Z"
   },
   {
    "duration": 10,
    "start_time": "2024-01-20T13:27:14.132Z"
   },
   {
    "duration": 191,
    "start_time": "2024-01-20T13:35:23.844Z"
   },
   {
    "duration": 240,
    "start_time": "2024-01-20T13:35:43.974Z"
   },
   {
    "duration": 226,
    "start_time": "2024-01-20T13:36:20.043Z"
   },
   {
    "duration": 453,
    "start_time": "2024-01-20T13:37:41.447Z"
   },
   {
    "duration": 70,
    "start_time": "2024-01-20T13:37:52.499Z"
   },
   {
    "duration": 234,
    "start_time": "2024-01-20T13:37:59.267Z"
   },
   {
    "duration": 222,
    "start_time": "2024-01-20T13:38:10.381Z"
   },
   {
    "duration": 296,
    "start_time": "2024-01-20T13:38:33.198Z"
   },
   {
    "duration": 238,
    "start_time": "2024-01-20T13:38:37.495Z"
   },
   {
    "duration": 280,
    "start_time": "2024-01-20T13:38:42.399Z"
   },
   {
    "duration": 318,
    "start_time": "2024-01-20T13:38:46.699Z"
   },
   {
    "duration": 288,
    "start_time": "2024-01-20T13:38:56.278Z"
   },
   {
    "duration": 302,
    "start_time": "2024-01-20T13:38:59.914Z"
   },
   {
    "duration": 356,
    "start_time": "2024-01-20T13:39:03.342Z"
   },
   {
    "duration": 264,
    "start_time": "2024-01-20T13:39:07.282Z"
   },
   {
    "duration": 264,
    "start_time": "2024-01-20T13:39:44.925Z"
   },
   {
    "duration": 195,
    "start_time": "2024-01-20T13:40:19.730Z"
   },
   {
    "duration": 332,
    "start_time": "2024-01-20T13:40:28.346Z"
   },
   {
    "duration": 346,
    "start_time": "2024-01-20T13:40:37.028Z"
   },
   {
    "duration": 638,
    "start_time": "2024-01-20T13:40:45.183Z"
   },
   {
    "duration": 399,
    "start_time": "2024-01-20T13:40:54.409Z"
   },
   {
    "duration": 376,
    "start_time": "2024-01-20T13:41:02.289Z"
   },
   {
    "duration": 320,
    "start_time": "2024-01-20T13:41:07.114Z"
   },
   {
    "duration": 449,
    "start_time": "2024-01-20T13:43:06.259Z"
   },
   {
    "duration": 329,
    "start_time": "2024-01-20T13:43:25.734Z"
   },
   {
    "duration": 295,
    "start_time": "2024-01-20T13:43:31.081Z"
   },
   {
    "duration": 306,
    "start_time": "2024-01-20T13:43:35.486Z"
   },
   {
    "duration": 289,
    "start_time": "2024-01-20T13:43:40.109Z"
   },
   {
    "duration": 15,
    "start_time": "2024-01-20T13:51:35.392Z"
   },
   {
    "duration": 15,
    "start_time": "2024-01-20T13:51:35.617Z"
   },
   {
    "duration": 8,
    "start_time": "2024-01-20T13:52:27.633Z"
   },
   {
    "duration": 4,
    "start_time": "2024-01-20T13:52:45.135Z"
   },
   {
    "duration": 4,
    "start_time": "2024-01-20T13:53:10.666Z"
   },
   {
    "duration": 10,
    "start_time": "2024-01-20T13:54:10.076Z"
   },
   {
    "duration": 9,
    "start_time": "2024-01-20T13:54:18.955Z"
   },
   {
    "duration": 6,
    "start_time": "2024-01-20T13:56:03.302Z"
   },
   {
    "duration": 5,
    "start_time": "2024-01-20T13:56:43.126Z"
   },
   {
    "duration": 18,
    "start_time": "2024-01-20T13:56:55.071Z"
   },
   {
    "duration": 9,
    "start_time": "2024-01-20T13:57:20.605Z"
   },
   {
    "duration": 16,
    "start_time": "2024-01-20T13:59:17.236Z"
   },
   {
    "duration": 12,
    "start_time": "2024-01-20T14:01:24.586Z"
   },
   {
    "duration": 11,
    "start_time": "2024-01-20T14:01:35.946Z"
   },
   {
    "duration": 4,
    "start_time": "2024-01-20T14:02:17.991Z"
   },
   {
    "duration": 73,
    "start_time": "2024-01-20T14:02:17.997Z"
   },
   {
    "duration": 19,
    "start_time": "2024-01-20T14:02:18.073Z"
   },
   {
    "duration": 18,
    "start_time": "2024-01-20T14:02:18.094Z"
   },
   {
    "duration": 15,
    "start_time": "2024-01-20T14:02:18.115Z"
   },
   {
    "duration": 46,
    "start_time": "2024-01-20T14:02:18.132Z"
   },
   {
    "duration": 18,
    "start_time": "2024-01-20T14:02:18.180Z"
   },
   {
    "duration": 10,
    "start_time": "2024-01-20T14:02:18.200Z"
   },
   {
    "duration": 8,
    "start_time": "2024-01-20T14:02:18.212Z"
   },
   {
    "duration": 18,
    "start_time": "2024-01-20T14:02:18.221Z"
   },
   {
    "duration": 26,
    "start_time": "2024-01-20T14:02:18.243Z"
   },
   {
    "duration": 10,
    "start_time": "2024-01-20T14:02:18.270Z"
   },
   {
    "duration": 19,
    "start_time": "2024-01-20T14:02:18.282Z"
   },
   {
    "duration": 23,
    "start_time": "2024-01-20T14:02:18.303Z"
   },
   {
    "duration": 10,
    "start_time": "2024-01-20T14:02:18.327Z"
   },
   {
    "duration": 4,
    "start_time": "2024-01-20T14:02:18.339Z"
   },
   {
    "duration": 48,
    "start_time": "2024-01-20T14:02:18.345Z"
   },
   {
    "duration": 132,
    "start_time": "2024-01-20T14:02:18.396Z"
   },
   {
    "duration": 206,
    "start_time": "2024-01-20T14:02:18.529Z"
   },
   {
    "duration": 10,
    "start_time": "2024-01-20T14:02:18.737Z"
   },
   {
    "duration": 222,
    "start_time": "2024-01-20T14:02:18.749Z"
   },
   {
    "duration": 13,
    "start_time": "2024-01-20T14:02:18.972Z"
   },
   {
    "duration": 375,
    "start_time": "2024-01-20T14:02:18.988Z"
   },
   {
    "duration": 6,
    "start_time": "2024-01-20T14:02:19.365Z"
   },
   {
    "duration": 33,
    "start_time": "2024-01-20T14:02:19.373Z"
   },
   {
    "duration": 435,
    "start_time": "2024-01-20T14:02:19.407Z"
   },
   {
    "duration": 13,
    "start_time": "2024-01-20T14:02:19.844Z"
   },
   {
    "duration": 204,
    "start_time": "2024-01-20T14:02:19.858Z"
   },
   {
    "duration": 13,
    "start_time": "2024-01-20T14:02:20.065Z"
   },
   {
    "duration": 361,
    "start_time": "2024-01-20T14:02:20.080Z"
   },
   {
    "duration": 24,
    "start_time": "2024-01-20T14:02:20.444Z"
   },
   {
    "duration": 232,
    "start_time": "2024-01-20T14:02:20.471Z"
   },
   {
    "duration": 10,
    "start_time": "2024-01-20T14:02:20.705Z"
   },
   {
    "duration": 324,
    "start_time": "2024-01-20T14:02:20.716Z"
   },
   {
    "duration": 10,
    "start_time": "2024-01-20T14:02:21.042Z"
   },
   {
    "duration": 20,
    "start_time": "2024-01-20T14:02:21.053Z"
   },
   {
    "duration": 46,
    "start_time": "2024-01-20T14:02:21.074Z"
   },
   {
    "duration": 21,
    "start_time": "2024-01-20T14:02:21.122Z"
   },
   {
    "duration": 11,
    "start_time": "2024-01-20T14:02:21.145Z"
   },
   {
    "duration": 4,
    "start_time": "2024-01-20T14:02:21.157Z"
   },
   {
    "duration": 14,
    "start_time": "2024-01-20T14:02:21.164Z"
   },
   {
    "duration": 29,
    "start_time": "2024-01-20T14:02:21.180Z"
   },
   {
    "duration": 10,
    "start_time": "2024-01-20T14:02:21.211Z"
   },
   {
    "duration": 34,
    "start_time": "2024-01-20T14:02:21.222Z"
   },
   {
    "duration": 32,
    "start_time": "2024-01-20T14:02:21.258Z"
   },
   {
    "duration": 41,
    "start_time": "2024-01-20T14:02:21.291Z"
   },
   {
    "duration": 50,
    "start_time": "2024-01-20T14:02:21.334Z"
   },
   {
    "duration": 31,
    "start_time": "2024-01-20T14:02:21.386Z"
   },
   {
    "duration": 243,
    "start_time": "2024-01-20T14:02:21.420Z"
   },
   {
    "duration": 8,
    "start_time": "2024-01-20T14:02:21.665Z"
   },
   {
    "duration": 241,
    "start_time": "2024-01-20T14:02:21.675Z"
   },
   {
    "duration": 7,
    "start_time": "2024-01-20T14:02:21.918Z"
   },
   {
    "duration": 12,
    "start_time": "2024-01-20T14:03:26.613Z"
   },
   {
    "duration": 217,
    "start_time": "2024-01-20T14:03:28.167Z"
   },
   {
    "duration": 3,
    "start_time": "2024-01-20T14:03:37.879Z"
   },
   {
    "duration": 73,
    "start_time": "2024-01-20T14:03:37.884Z"
   },
   {
    "duration": 19,
    "start_time": "2024-01-20T14:03:37.960Z"
   },
   {
    "duration": 16,
    "start_time": "2024-01-20T14:03:37.980Z"
   },
   {
    "duration": 13,
    "start_time": "2024-01-20T14:03:37.998Z"
   },
   {
    "duration": 10,
    "start_time": "2024-01-20T14:03:38.012Z"
   },
   {
    "duration": 42,
    "start_time": "2024-01-20T14:03:38.024Z"
   },
   {
    "duration": 7,
    "start_time": "2024-01-20T14:03:38.068Z"
   },
   {
    "duration": 8,
    "start_time": "2024-01-20T14:03:38.077Z"
   },
   {
    "duration": 19,
    "start_time": "2024-01-20T14:03:38.086Z"
   },
   {
    "duration": 6,
    "start_time": "2024-01-20T14:03:38.108Z"
   },
   {
    "duration": 11,
    "start_time": "2024-01-20T14:03:38.115Z"
   },
   {
    "duration": 39,
    "start_time": "2024-01-20T14:03:38.128Z"
   },
   {
    "duration": 9,
    "start_time": "2024-01-20T14:03:38.169Z"
   },
   {
    "duration": 12,
    "start_time": "2024-01-20T14:03:38.179Z"
   },
   {
    "duration": 5,
    "start_time": "2024-01-20T14:03:38.193Z"
   },
   {
    "duration": 20,
    "start_time": "2024-01-20T14:03:38.199Z"
   },
   {
    "duration": 141,
    "start_time": "2024-01-20T14:03:38.220Z"
   },
   {
    "duration": 195,
    "start_time": "2024-01-20T14:03:38.364Z"
   },
   {
    "duration": 8,
    "start_time": "2024-01-20T14:03:38.560Z"
   },
   {
    "duration": 166,
    "start_time": "2024-01-20T14:03:38.569Z"
   },
   {
    "duration": 8,
    "start_time": "2024-01-20T14:03:38.736Z"
   },
   {
    "duration": 342,
    "start_time": "2024-01-20T14:03:38.745Z"
   },
   {
    "duration": 7,
    "start_time": "2024-01-20T14:03:39.088Z"
   },
   {
    "duration": 26,
    "start_time": "2024-01-20T14:03:39.096Z"
   },
   {
    "duration": 410,
    "start_time": "2024-01-20T14:03:39.123Z"
   },
   {
    "duration": 12,
    "start_time": "2024-01-20T14:03:39.534Z"
   },
   {
    "duration": 214,
    "start_time": "2024-01-20T14:03:39.548Z"
   },
   {
    "duration": 9,
    "start_time": "2024-01-20T14:03:39.767Z"
   },
   {
    "duration": 354,
    "start_time": "2024-01-20T14:03:39.778Z"
   },
   {
    "duration": 10,
    "start_time": "2024-01-20T14:03:40.133Z"
   },
   {
    "duration": 187,
    "start_time": "2024-01-20T14:03:40.145Z"
   },
   {
    "duration": 9,
    "start_time": "2024-01-20T14:03:40.334Z"
   },
   {
    "duration": 305,
    "start_time": "2024-01-20T14:03:40.344Z"
   },
   {
    "duration": 16,
    "start_time": "2024-01-20T14:03:40.650Z"
   },
   {
    "duration": 15,
    "start_time": "2024-01-20T14:03:40.667Z"
   },
   {
    "duration": 25,
    "start_time": "2024-01-20T14:03:40.683Z"
   },
   {
    "duration": 18,
    "start_time": "2024-01-20T14:03:40.710Z"
   },
   {
    "duration": 9,
    "start_time": "2024-01-20T14:03:40.730Z"
   },
   {
    "duration": 7,
    "start_time": "2024-01-20T14:03:40.740Z"
   },
   {
    "duration": 5,
    "start_time": "2024-01-20T14:03:40.748Z"
   },
   {
    "duration": 18,
    "start_time": "2024-01-20T14:03:40.754Z"
   },
   {
    "duration": 9,
    "start_time": "2024-01-20T14:03:40.774Z"
   },
   {
    "duration": 9,
    "start_time": "2024-01-20T14:03:40.784Z"
   },
   {
    "duration": 33,
    "start_time": "2024-01-20T14:03:40.794Z"
   },
   {
    "duration": 17,
    "start_time": "2024-01-20T14:03:40.828Z"
   },
   {
    "duration": 11,
    "start_time": "2024-01-20T14:03:40.847Z"
   },
   {
    "duration": 22,
    "start_time": "2024-01-20T14:03:40.860Z"
   },
   {
    "duration": 230,
    "start_time": "2024-01-20T14:03:40.883Z"
   },
   {
    "duration": 7,
    "start_time": "2024-01-20T14:03:41.114Z"
   },
   {
    "duration": 200,
    "start_time": "2024-01-20T14:03:41.123Z"
   },
   {
    "duration": 6,
    "start_time": "2024-01-20T14:03:41.325Z"
   },
   {
    "duration": 10,
    "start_time": "2024-01-20T14:04:08.329Z"
   },
   {
    "duration": 4,
    "start_time": "2024-01-20T14:04:12.122Z"
   },
   {
    "duration": 71,
    "start_time": "2024-01-20T14:04:12.128Z"
   },
   {
    "duration": 15,
    "start_time": "2024-01-20T14:04:12.201Z"
   },
   {
    "duration": 16,
    "start_time": "2024-01-20T14:04:12.218Z"
   },
   {
    "duration": 13,
    "start_time": "2024-01-20T14:04:12.236Z"
   },
   {
    "duration": 26,
    "start_time": "2024-01-20T14:04:12.250Z"
   },
   {
    "duration": 6,
    "start_time": "2024-01-20T14:04:12.277Z"
   },
   {
    "duration": 10,
    "start_time": "2024-01-20T14:04:12.284Z"
   },
   {
    "duration": 5,
    "start_time": "2024-01-20T14:04:12.296Z"
   },
   {
    "duration": 12,
    "start_time": "2024-01-20T14:04:12.302Z"
   },
   {
    "duration": 4,
    "start_time": "2024-01-20T14:04:12.317Z"
   },
   {
    "duration": 5,
    "start_time": "2024-01-20T14:04:12.323Z"
   },
   {
    "duration": 7,
    "start_time": "2024-01-20T14:04:12.364Z"
   },
   {
    "duration": 12,
    "start_time": "2024-01-20T14:04:12.372Z"
   },
   {
    "duration": 11,
    "start_time": "2024-01-20T14:04:12.385Z"
   },
   {
    "duration": 5,
    "start_time": "2024-01-20T14:04:12.398Z"
   },
   {
    "duration": 28,
    "start_time": "2024-01-20T14:04:12.405Z"
   },
   {
    "duration": 135,
    "start_time": "2024-01-20T14:04:12.435Z"
   },
   {
    "duration": 228,
    "start_time": "2024-01-20T14:04:12.572Z"
   },
   {
    "duration": 6,
    "start_time": "2024-01-20T14:04:12.801Z"
   },
   {
    "duration": 163,
    "start_time": "2024-01-20T14:04:12.809Z"
   },
   {
    "duration": 7,
    "start_time": "2024-01-20T14:04:12.974Z"
   },
   {
    "duration": 331,
    "start_time": "2024-01-20T14:04:12.983Z"
   },
   {
    "duration": 6,
    "start_time": "2024-01-20T14:04:13.315Z"
   },
   {
    "duration": 26,
    "start_time": "2024-01-20T14:04:13.323Z"
   },
   {
    "duration": 420,
    "start_time": "2024-01-20T14:04:13.350Z"
   },
   {
    "duration": 16,
    "start_time": "2024-01-20T14:04:13.772Z"
   },
   {
    "duration": 219,
    "start_time": "2024-01-20T14:04:13.790Z"
   },
   {
    "duration": 8,
    "start_time": "2024-01-20T14:04:14.013Z"
   },
   {
    "duration": 352,
    "start_time": "2024-01-20T14:04:14.022Z"
   },
   {
    "duration": 11,
    "start_time": "2024-01-20T14:04:14.375Z"
   },
   {
    "duration": 191,
    "start_time": "2024-01-20T14:04:14.388Z"
   },
   {
    "duration": 9,
    "start_time": "2024-01-20T14:04:14.581Z"
   },
   {
    "duration": 301,
    "start_time": "2024-01-20T14:04:14.592Z"
   },
   {
    "duration": 9,
    "start_time": "2024-01-20T14:04:14.894Z"
   },
   {
    "duration": 10,
    "start_time": "2024-01-20T14:04:14.904Z"
   },
   {
    "duration": 14,
    "start_time": "2024-01-20T14:04:14.915Z"
   },
   {
    "duration": 13,
    "start_time": "2024-01-20T14:04:14.931Z"
   },
   {
    "duration": 10,
    "start_time": "2024-01-20T14:04:14.966Z"
   },
   {
    "duration": 5,
    "start_time": "2024-01-20T14:04:14.978Z"
   },
   {
    "duration": 5,
    "start_time": "2024-01-20T14:04:14.984Z"
   },
   {
    "duration": 13,
    "start_time": "2024-01-20T14:04:14.990Z"
   },
   {
    "duration": 10,
    "start_time": "2024-01-20T14:04:15.005Z"
   },
   {
    "duration": 41,
    "start_time": "2024-01-20T14:04:15.016Z"
   },
   {
    "duration": 32,
    "start_time": "2024-01-20T14:04:15.059Z"
   },
   {
    "duration": 11,
    "start_time": "2024-01-20T14:04:15.093Z"
   },
   {
    "duration": 22,
    "start_time": "2024-01-20T14:04:15.105Z"
   },
   {
    "duration": 39,
    "start_time": "2024-01-20T14:04:15.128Z"
   },
   {
    "duration": 250,
    "start_time": "2024-01-20T14:04:15.169Z"
   },
   {
    "duration": 7,
    "start_time": "2024-01-20T14:04:15.421Z"
   },
   {
    "duration": 201,
    "start_time": "2024-01-20T14:04:15.430Z"
   },
   {
    "duration": 7,
    "start_time": "2024-01-20T14:04:15.633Z"
   },
   {
    "duration": 10,
    "start_time": "2024-01-20T14:04:35.257Z"
   },
   {
    "duration": 5,
    "start_time": "2024-01-20T14:04:38.956Z"
   },
   {
    "duration": 66,
    "start_time": "2024-01-20T14:04:38.964Z"
   },
   {
    "duration": 15,
    "start_time": "2024-01-20T14:04:39.031Z"
   },
   {
    "duration": 19,
    "start_time": "2024-01-20T14:04:39.047Z"
   },
   {
    "duration": 11,
    "start_time": "2024-01-20T14:04:39.068Z"
   },
   {
    "duration": 17,
    "start_time": "2024-01-20T14:04:39.081Z"
   },
   {
    "duration": 6,
    "start_time": "2024-01-20T14:04:39.099Z"
   },
   {
    "duration": 7,
    "start_time": "2024-01-20T14:04:39.107Z"
   },
   {
    "duration": 6,
    "start_time": "2024-01-20T14:04:39.115Z"
   },
   {
    "duration": 53,
    "start_time": "2024-01-20T14:04:39.124Z"
   },
   {
    "duration": 5,
    "start_time": "2024-01-20T14:04:39.180Z"
   },
   {
    "duration": 6,
    "start_time": "2024-01-20T14:04:39.186Z"
   },
   {
    "duration": 13,
    "start_time": "2024-01-20T14:04:39.193Z"
   },
   {
    "duration": 11,
    "start_time": "2024-01-20T14:04:39.208Z"
   },
   {
    "duration": 7,
    "start_time": "2024-01-20T14:04:39.221Z"
   },
   {
    "duration": 4,
    "start_time": "2024-01-20T14:04:39.229Z"
   },
   {
    "duration": 48,
    "start_time": "2024-01-20T14:04:39.235Z"
   },
   {
    "duration": 126,
    "start_time": "2024-01-20T14:04:39.284Z"
   },
   {
    "duration": 200,
    "start_time": "2024-01-20T14:04:39.412Z"
   },
   {
    "duration": 6,
    "start_time": "2024-01-20T14:04:39.614Z"
   },
   {
    "duration": 174,
    "start_time": "2024-01-20T14:04:39.621Z"
   },
   {
    "duration": 8,
    "start_time": "2024-01-20T14:04:39.797Z"
   },
   {
    "duration": 333,
    "start_time": "2024-01-20T14:04:39.806Z"
   },
   {
    "duration": 6,
    "start_time": "2024-01-20T14:04:40.141Z"
   },
   {
    "duration": 43,
    "start_time": "2024-01-20T14:04:40.149Z"
   },
   {
    "duration": 403,
    "start_time": "2024-01-20T14:04:40.194Z"
   },
   {
    "duration": 12,
    "start_time": "2024-01-20T14:04:40.598Z"
   },
   {
    "duration": 214,
    "start_time": "2024-01-20T14:04:40.611Z"
   },
   {
    "duration": 11,
    "start_time": "2024-01-20T14:04:40.828Z"
   },
   {
    "duration": 331,
    "start_time": "2024-01-20T14:04:40.841Z"
   },
   {
    "duration": 10,
    "start_time": "2024-01-20T14:04:41.174Z"
   },
   {
    "duration": 183,
    "start_time": "2024-01-20T14:04:41.186Z"
   },
   {
    "duration": 9,
    "start_time": "2024-01-20T14:04:41.371Z"
   },
   {
    "duration": 316,
    "start_time": "2024-01-20T14:04:41.382Z"
   },
   {
    "duration": 9,
    "start_time": "2024-01-20T14:04:41.700Z"
   },
   {
    "duration": 18,
    "start_time": "2024-01-20T14:04:41.711Z"
   },
   {
    "duration": 31,
    "start_time": "2024-01-20T14:04:41.731Z"
   },
   {
    "duration": 19,
    "start_time": "2024-01-20T14:04:41.763Z"
   },
   {
    "duration": 17,
    "start_time": "2024-01-20T14:04:41.783Z"
   },
   {
    "duration": 24,
    "start_time": "2024-01-20T14:04:41.802Z"
   },
   {
    "duration": 14,
    "start_time": "2024-01-20T14:04:41.827Z"
   },
   {
    "duration": 38,
    "start_time": "2024-01-20T14:04:41.842Z"
   },
   {
    "duration": 22,
    "start_time": "2024-01-20T14:04:41.881Z"
   },
   {
    "duration": 16,
    "start_time": "2024-01-20T14:04:41.904Z"
   },
   {
    "duration": 43,
    "start_time": "2024-01-20T14:04:41.922Z"
   },
   {
    "duration": 30,
    "start_time": "2024-01-20T14:04:41.967Z"
   },
   {
    "duration": 21,
    "start_time": "2024-01-20T14:04:41.998Z"
   },
   {
    "duration": 42,
    "start_time": "2024-01-20T14:04:42.021Z"
   },
   {
    "duration": 240,
    "start_time": "2024-01-20T14:04:42.064Z"
   },
   {
    "duration": 8,
    "start_time": "2024-01-20T14:04:42.305Z"
   },
   {
    "duration": 229,
    "start_time": "2024-01-20T14:04:42.315Z"
   },
   {
    "duration": 7,
    "start_time": "2024-01-20T14:04:42.545Z"
   },
   {
    "duration": 14,
    "start_time": "2024-01-20T14:05:03.287Z"
   },
   {
    "duration": 14,
    "start_time": "2024-01-20T14:05:08.066Z"
   },
   {
    "duration": 9,
    "start_time": "2024-01-20T14:05:13.252Z"
   },
   {
    "duration": 9,
    "start_time": "2024-01-20T14:05:14.403Z"
   },
   {
    "duration": 7,
    "start_time": "2024-01-20T14:05:35.743Z"
   },
   {
    "duration": 48,
    "start_time": "2024-01-20T14:56:13.340Z"
   },
   {
    "duration": 16,
    "start_time": "2024-01-20T14:56:42.095Z"
   },
   {
    "duration": 14,
    "start_time": "2024-01-20T14:56:50.908Z"
   },
   {
    "duration": 13,
    "start_time": "2024-01-20T15:00:21.753Z"
   },
   {
    "duration": 19,
    "start_time": "2024-01-20T15:18:11.607Z"
   },
   {
    "duration": 15,
    "start_time": "2024-01-20T15:18:24.583Z"
   },
   {
    "duration": 17,
    "start_time": "2024-01-20T15:18:56.058Z"
   },
   {
    "duration": 41,
    "start_time": "2024-01-20T15:19:01.839Z"
   },
   {
    "duration": 4,
    "start_time": "2024-01-20T15:19:48.416Z"
   },
   {
    "duration": 4,
    "start_time": "2024-01-20T15:19:55.176Z"
   },
   {
    "duration": 69,
    "start_time": "2024-01-20T15:19:55.182Z"
   },
   {
    "duration": 18,
    "start_time": "2024-01-20T15:19:55.253Z"
   },
   {
    "duration": 19,
    "start_time": "2024-01-20T15:19:55.272Z"
   },
   {
    "duration": 16,
    "start_time": "2024-01-20T15:19:55.293Z"
   },
   {
    "duration": 9,
    "start_time": "2024-01-20T15:19:55.311Z"
   },
   {
    "duration": 45,
    "start_time": "2024-01-20T15:19:55.321Z"
   },
   {
    "duration": 17,
    "start_time": "2024-01-20T15:19:55.368Z"
   },
   {
    "duration": 14,
    "start_time": "2024-01-20T15:19:55.387Z"
   },
   {
    "duration": 13,
    "start_time": "2024-01-20T15:19:55.403Z"
   },
   {
    "duration": 8,
    "start_time": "2024-01-20T15:19:55.420Z"
   },
   {
    "duration": 6,
    "start_time": "2024-01-20T15:19:55.429Z"
   },
   {
    "duration": 9,
    "start_time": "2024-01-20T15:19:55.436Z"
   },
   {
    "duration": 11,
    "start_time": "2024-01-20T15:19:55.464Z"
   },
   {
    "duration": 13,
    "start_time": "2024-01-20T15:19:55.476Z"
   },
   {
    "duration": 5,
    "start_time": "2024-01-20T15:19:55.490Z"
   },
   {
    "duration": 25,
    "start_time": "2024-01-20T15:19:55.496Z"
   },
   {
    "duration": 142,
    "start_time": "2024-01-20T15:19:55.523Z"
   },
   {
    "duration": 226,
    "start_time": "2024-01-20T15:19:55.666Z"
   },
   {
    "duration": 7,
    "start_time": "2024-01-20T15:19:55.893Z"
   },
   {
    "duration": 186,
    "start_time": "2024-01-20T15:19:55.901Z"
   },
   {
    "duration": 9,
    "start_time": "2024-01-20T15:19:56.089Z"
   },
   {
    "duration": 338,
    "start_time": "2024-01-20T15:19:56.099Z"
   },
   {
    "duration": 6,
    "start_time": "2024-01-20T15:19:56.439Z"
   },
   {
    "duration": 42,
    "start_time": "2024-01-20T15:19:56.447Z"
   },
   {
    "duration": 432,
    "start_time": "2024-01-20T15:19:56.491Z"
   },
   {
    "duration": 13,
    "start_time": "2024-01-20T15:19:56.924Z"
   },
   {
    "duration": 300,
    "start_time": "2024-01-20T15:19:56.938Z"
   },
   {
    "duration": 9,
    "start_time": "2024-01-20T15:19:57.241Z"
   },
   {
    "duration": 371,
    "start_time": "2024-01-20T15:19:57.251Z"
   },
   {
    "duration": 11,
    "start_time": "2024-01-20T15:19:57.623Z"
   },
   {
    "duration": 193,
    "start_time": "2024-01-20T15:19:57.636Z"
   },
   {
    "duration": 9,
    "start_time": "2024-01-20T15:19:57.830Z"
   },
   {
    "duration": 396,
    "start_time": "2024-01-20T15:19:57.841Z"
   },
   {
    "duration": 10,
    "start_time": "2024-01-20T15:19:58.239Z"
   },
   {
    "duration": 17,
    "start_time": "2024-01-20T15:19:58.251Z"
   },
   {
    "duration": 16,
    "start_time": "2024-01-20T15:19:58.269Z"
   },
   {
    "duration": 18,
    "start_time": "2024-01-20T15:19:58.287Z"
   },
   {
    "duration": 18,
    "start_time": "2024-01-20T15:19:58.307Z"
   },
   {
    "duration": 40,
    "start_time": "2024-01-20T15:19:58.327Z"
   },
   {
    "duration": 13,
    "start_time": "2024-01-20T15:19:58.368Z"
   },
   {
    "duration": 21,
    "start_time": "2024-01-20T15:19:58.383Z"
   },
   {
    "duration": 250,
    "start_time": "2024-01-20T15:19:58.406Z"
   },
   {
    "duration": 11,
    "start_time": "2024-01-20T15:19:58.658Z"
   },
   {
    "duration": 13,
    "start_time": "2024-01-20T15:19:58.671Z"
   },
   {
    "duration": 226,
    "start_time": "2024-01-20T15:19:58.685Z"
   },
   {
    "duration": 8,
    "start_time": "2024-01-20T15:19:58.913Z"
   },
   {
    "duration": 14,
    "start_time": "2024-01-20T15:19:58.924Z"
   },
   {
    "duration": 42,
    "start_time": "2024-01-20T15:19:58.965Z"
   },
   {
    "duration": 20,
    "start_time": "2024-01-20T15:24:27.203Z"
   },
   {
    "duration": 19,
    "start_time": "2024-01-20T15:27:11.637Z"
   },
   {
    "duration": 77,
    "start_time": "2024-01-20T15:28:10.671Z"
   },
   {
    "duration": 31,
    "start_time": "2024-01-20T15:28:18.653Z"
   },
   {
    "duration": 29,
    "start_time": "2024-01-20T15:29:28.022Z"
   },
   {
    "duration": 68,
    "start_time": "2024-01-20T15:29:52.805Z"
   },
   {
    "duration": 32,
    "start_time": "2024-01-20T15:29:57.103Z"
   },
   {
    "duration": 30,
    "start_time": "2024-01-20T15:30:17.085Z"
   },
   {
    "duration": 54,
    "start_time": "2024-01-20T15:35:24.233Z"
   },
   {
    "duration": 52,
    "start_time": "2024-01-20T15:36:47.467Z"
   },
   {
    "duration": 967,
    "start_time": "2024-01-20T15:38:06.336Z"
   },
   {
    "duration": 39,
    "start_time": "2024-01-20T15:39:35.454Z"
   },
   {
    "duration": 52,
    "start_time": "2024-01-20T15:39:58.284Z"
   },
   {
    "duration": 48,
    "start_time": "2024-01-20T15:43:09.443Z"
   },
   {
    "duration": 5,
    "start_time": "2024-01-20T15:49:48.594Z"
   },
   {
    "duration": 54,
    "start_time": "2024-01-20T15:52:43.210Z"
   },
   {
    "duration": 5,
    "start_time": "2024-01-20T15:52:46.779Z"
   },
   {
    "duration": 17,
    "start_time": "2024-01-20T15:52:56.893Z"
   },
   {
    "duration": 54,
    "start_time": "2024-01-21T10:25:56.940Z"
   },
   {
    "duration": 1338,
    "start_time": "2024-01-21T10:26:59.330Z"
   },
   {
    "duration": 196,
    "start_time": "2024-01-21T10:27:00.670Z"
   },
   {
    "duration": 22,
    "start_time": "2024-01-21T10:27:00.868Z"
   },
   {
    "duration": 46,
    "start_time": "2024-01-21T10:27:00.892Z"
   },
   {
    "duration": 21,
    "start_time": "2024-01-21T10:27:00.940Z"
   },
   {
    "duration": 19,
    "start_time": "2024-01-21T10:27:00.963Z"
   },
   {
    "duration": 34,
    "start_time": "2024-01-21T10:27:00.984Z"
   },
   {
    "duration": 45,
    "start_time": "2024-01-21T10:27:01.020Z"
   },
   {
    "duration": 43,
    "start_time": "2024-01-21T10:27:01.066Z"
   },
   {
    "duration": 35,
    "start_time": "2024-01-21T10:27:01.112Z"
   },
   {
    "duration": 22,
    "start_time": "2024-01-21T10:27:01.149Z"
   },
   {
    "duration": 54,
    "start_time": "2024-01-21T10:27:01.173Z"
   },
   {
    "duration": 33,
    "start_time": "2024-01-21T10:27:01.229Z"
   },
   {
    "duration": 29,
    "start_time": "2024-01-21T10:27:01.264Z"
   },
   {
    "duration": 40,
    "start_time": "2024-01-21T10:27:01.295Z"
   },
   {
    "duration": 67,
    "start_time": "2024-01-21T10:27:01.336Z"
   },
   {
    "duration": 54,
    "start_time": "2024-01-21T10:27:01.405Z"
   },
   {
    "duration": 149,
    "start_time": "2024-01-21T10:27:01.460Z"
   },
   {
    "duration": 221,
    "start_time": "2024-01-21T10:27:01.611Z"
   },
   {
    "duration": 6,
    "start_time": "2024-01-21T10:27:01.834Z"
   },
   {
    "duration": 205,
    "start_time": "2024-01-21T10:27:01.841Z"
   },
   {
    "duration": 8,
    "start_time": "2024-01-21T10:27:02.047Z"
   },
   {
    "duration": 376,
    "start_time": "2024-01-21T10:27:02.057Z"
   },
   {
    "duration": 7,
    "start_time": "2024-01-21T10:27:02.435Z"
   },
   {
    "duration": 66,
    "start_time": "2024-01-21T10:27:02.444Z"
   },
   {
    "duration": 296,
    "start_time": "2024-01-21T10:27:02.512Z"
   },
   {
    "duration": 15,
    "start_time": "2024-01-21T10:27:02.809Z"
   },
   {
    "duration": 293,
    "start_time": "2024-01-21T10:27:02.827Z"
   },
   {
    "duration": 9,
    "start_time": "2024-01-21T10:27:03.121Z"
   },
   {
    "duration": 473,
    "start_time": "2024-01-21T10:27:03.131Z"
   },
   {
    "duration": 12,
    "start_time": "2024-01-21T10:27:03.605Z"
   },
   {
    "duration": 219,
    "start_time": "2024-01-21T10:27:03.621Z"
   },
   {
    "duration": 9,
    "start_time": "2024-01-21T10:27:03.842Z"
   },
   {
    "duration": 320,
    "start_time": "2024-01-21T10:27:03.852Z"
   },
   {
    "duration": 10,
    "start_time": "2024-01-21T10:27:04.174Z"
   },
   {
    "duration": 41,
    "start_time": "2024-01-21T10:27:04.185Z"
   },
   {
    "duration": 17,
    "start_time": "2024-01-21T10:27:04.227Z"
   },
   {
    "duration": 16,
    "start_time": "2024-01-21T10:27:04.245Z"
   },
   {
    "duration": 13,
    "start_time": "2024-01-21T10:27:04.262Z"
   },
   {
    "duration": 11,
    "start_time": "2024-01-21T10:27:04.276Z"
   },
   {
    "duration": 36,
    "start_time": "2024-01-21T10:27:04.288Z"
   },
   {
    "duration": 21,
    "start_time": "2024-01-21T10:27:04.325Z"
   },
   {
    "duration": 248,
    "start_time": "2024-01-21T10:27:04.348Z"
   },
   {
    "duration": 8,
    "start_time": "2024-01-21T10:27:04.598Z"
   },
   {
    "duration": 12,
    "start_time": "2024-01-21T10:27:04.621Z"
   },
   {
    "duration": 219,
    "start_time": "2024-01-21T10:27:04.635Z"
   },
   {
    "duration": 6,
    "start_time": "2024-01-21T10:27:04.856Z"
   },
   {
    "duration": 12,
    "start_time": "2024-01-21T10:27:04.864Z"
   },
   {
    "duration": 88,
    "start_time": "2024-01-21T10:27:04.877Z"
   },
   {
    "duration": 4,
    "start_time": "2024-01-21T10:27:04.967Z"
   },
   {
    "duration": 19,
    "start_time": "2024-01-21T10:27:04.973Z"
   },
   {
    "duration": 5,
    "start_time": "2024-01-21T10:27:04.993Z"
   },
   {
    "duration": 5,
    "start_time": "2024-01-21T10:27:36.069Z"
   },
   {
    "duration": 7,
    "start_time": "2024-01-21T10:39:07.891Z"
   },
   {
    "duration": 6,
    "start_time": "2024-01-21T10:41:25.335Z"
   },
   {
    "duration": 6,
    "start_time": "2024-01-21T10:41:35.305Z"
   },
   {
    "duration": 5,
    "start_time": "2024-01-21T10:53:45.546Z"
   },
   {
    "duration": 5,
    "start_time": "2024-01-21T11:00:37.670Z"
   },
   {
    "duration": 1247,
    "start_time": "2024-01-21T11:17:12.935Z"
   },
   {
    "duration": 43,
    "start_time": "2024-01-21T11:26:50.536Z"
   },
   {
    "duration": 26,
    "start_time": "2024-01-21T11:27:46.635Z"
   },
   {
    "duration": 31,
    "start_time": "2024-01-21T11:27:59.777Z"
   },
   {
    "duration": 8,
    "start_time": "2024-01-21T11:28:16.572Z"
   },
   {
    "duration": 13,
    "start_time": "2024-01-21T11:28:35.199Z"
   },
   {
    "duration": 7,
    "start_time": "2024-01-21T11:29:14.047Z"
   },
   {
    "duration": 8,
    "start_time": "2024-01-21T11:29:29.457Z"
   },
   {
    "duration": 6,
    "start_time": "2024-01-21T11:29:35.231Z"
   },
   {
    "duration": 6,
    "start_time": "2024-01-21T11:30:52.872Z"
   },
   {
    "duration": 33,
    "start_time": "2024-01-21T11:50:39.814Z"
   },
   {
    "duration": 37,
    "start_time": "2024-01-21T11:50:56.799Z"
   },
   {
    "duration": 30,
    "start_time": "2024-01-21T11:52:41.031Z"
   },
   {
    "duration": 13,
    "start_time": "2024-01-21T11:52:53.932Z"
   },
   {
    "duration": 11,
    "start_time": "2024-01-21T11:55:25.194Z"
   },
   {
    "duration": 12,
    "start_time": "2024-01-21T11:55:39.986Z"
   },
   {
    "duration": 14,
    "start_time": "2024-01-21T11:55:51.796Z"
   },
   {
    "duration": 13,
    "start_time": "2024-01-21T11:56:07.354Z"
   },
   {
    "duration": 13,
    "start_time": "2024-01-21T11:56:11.491Z"
   },
   {
    "duration": 6,
    "start_time": "2024-01-21T12:29:04.486Z"
   },
   {
    "duration": 1122,
    "start_time": "2024-01-21T12:29:18.338Z"
   },
   {
    "duration": 73,
    "start_time": "2024-01-21T12:29:19.462Z"
   },
   {
    "duration": 20,
    "start_time": "2024-01-21T12:29:19.536Z"
   },
   {
    "duration": 17,
    "start_time": "2024-01-21T12:29:19.558Z"
   },
   {
    "duration": 15,
    "start_time": "2024-01-21T12:29:19.576Z"
   },
   {
    "duration": 10,
    "start_time": "2024-01-21T12:29:19.592Z"
   },
   {
    "duration": 6,
    "start_time": "2024-01-21T12:29:19.621Z"
   },
   {
    "duration": 9,
    "start_time": "2024-01-21T12:29:19.628Z"
   },
   {
    "duration": 35,
    "start_time": "2024-01-21T12:29:19.638Z"
   },
   {
    "duration": 14,
    "start_time": "2024-01-21T12:29:19.676Z"
   },
   {
    "duration": 6,
    "start_time": "2024-01-21T12:29:19.691Z"
   },
   {
    "duration": 6,
    "start_time": "2024-01-21T12:29:19.699Z"
   },
   {
    "duration": 8,
    "start_time": "2024-01-21T12:29:19.706Z"
   },
   {
    "duration": 15,
    "start_time": "2024-01-21T12:29:19.720Z"
   },
   {
    "duration": 14,
    "start_time": "2024-01-21T12:29:19.737Z"
   },
   {
    "duration": 4,
    "start_time": "2024-01-21T12:29:19.752Z"
   },
   {
    "duration": 27,
    "start_time": "2024-01-21T12:29:19.758Z"
   },
   {
    "duration": 152,
    "start_time": "2024-01-21T12:29:19.786Z"
   },
   {
    "duration": 213,
    "start_time": "2024-01-21T12:29:19.940Z"
   },
   {
    "duration": 5,
    "start_time": "2024-01-21T12:29:20.155Z"
   },
   {
    "duration": 174,
    "start_time": "2024-01-21T12:29:20.162Z"
   },
   {
    "duration": 9,
    "start_time": "2024-01-21T12:29:20.337Z"
   },
   {
    "duration": 365,
    "start_time": "2024-01-21T12:29:20.347Z"
   },
   {
    "duration": 7,
    "start_time": "2024-01-21T12:29:20.720Z"
   },
   {
    "duration": 26,
    "start_time": "2024-01-21T12:29:20.728Z"
   },
   {
    "duration": 289,
    "start_time": "2024-01-21T12:29:20.756Z"
   },
   {
    "duration": 12,
    "start_time": "2024-01-21T12:29:21.047Z"
   },
   {
    "duration": 224,
    "start_time": "2024-01-21T12:29:21.063Z"
   },
   {
    "duration": 8,
    "start_time": "2024-01-21T12:29:21.289Z"
   },
   {
    "duration": 436,
    "start_time": "2024-01-21T12:29:21.298Z"
   },
   {
    "duration": 13,
    "start_time": "2024-01-21T12:29:21.736Z"
   },
   {
    "duration": 228,
    "start_time": "2024-01-21T12:29:21.753Z"
   },
   {
    "duration": 9,
    "start_time": "2024-01-21T12:29:21.983Z"
   },
   {
    "duration": 318,
    "start_time": "2024-01-21T12:29:21.993Z"
   },
   {
    "duration": 13,
    "start_time": "2024-01-21T12:29:22.312Z"
   },
   {
    "duration": 26,
    "start_time": "2024-01-21T12:29:22.327Z"
   },
   {
    "duration": 31,
    "start_time": "2024-01-21T12:29:22.354Z"
   },
   {
    "duration": 19,
    "start_time": "2024-01-21T12:29:22.387Z"
   },
   {
    "duration": 25,
    "start_time": "2024-01-21T12:29:22.408Z"
   },
   {
    "duration": 20,
    "start_time": "2024-01-21T12:29:22.434Z"
   },
   {
    "duration": 29,
    "start_time": "2024-01-21T12:29:22.455Z"
   },
   {
    "duration": 38,
    "start_time": "2024-01-21T12:29:22.486Z"
   },
   {
    "duration": 243,
    "start_time": "2024-01-21T12:29:22.525Z"
   },
   {
    "duration": 8,
    "start_time": "2024-01-21T12:29:22.769Z"
   },
   {
    "duration": 20,
    "start_time": "2024-01-21T12:29:22.778Z"
   },
   {
    "duration": 222,
    "start_time": "2024-01-21T12:29:22.799Z"
   },
   {
    "duration": 6,
    "start_time": "2024-01-21T12:29:23.022Z"
   },
   {
    "duration": 14,
    "start_time": "2024-01-21T12:29:23.030Z"
   },
   {
    "duration": 65,
    "start_time": "2024-01-21T12:29:23.046Z"
   },
   {
    "duration": 4,
    "start_time": "2024-01-21T12:29:23.121Z"
   },
   {
    "duration": 17,
    "start_time": "2024-01-21T12:29:23.127Z"
   },
   {
    "duration": 5,
    "start_time": "2024-01-21T12:29:23.145Z"
   },
   {
    "duration": 4,
    "start_time": "2024-01-21T12:29:23.152Z"
   },
   {
    "duration": 12,
    "start_time": "2024-01-21T12:29:23.157Z"
   },
   {
    "duration": 6,
    "start_time": "2024-01-21T12:29:23.170Z"
   },
   {
    "duration": 6,
    "start_time": "2024-01-21T12:29:23.177Z"
   },
   {
    "duration": 14,
    "start_time": "2024-01-21T12:29:23.221Z"
   },
   {
    "duration": 17,
    "start_time": "2024-01-21T12:29:23.236Z"
   },
   {
    "duration": 5,
    "start_time": "2024-01-21T12:29:23.254Z"
   },
   {
    "duration": 107,
    "start_time": "2024-01-21T12:46:26.192Z"
   },
   {
    "duration": 4,
    "start_time": "2024-01-21T12:46:58.277Z"
   },
   {
    "duration": 1130,
    "start_time": "2024-01-21T12:47:04.344Z"
   },
   {
    "duration": 71,
    "start_time": "2024-01-21T12:47:05.476Z"
   },
   {
    "duration": 19,
    "start_time": "2024-01-21T12:47:05.548Z"
   },
   {
    "duration": 15,
    "start_time": "2024-01-21T12:47:05.569Z"
   },
   {
    "duration": 18,
    "start_time": "2024-01-21T12:47:05.585Z"
   },
   {
    "duration": 21,
    "start_time": "2024-01-21T12:47:05.605Z"
   },
   {
    "duration": 6,
    "start_time": "2024-01-21T12:47:05.633Z"
   },
   {
    "duration": 9,
    "start_time": "2024-01-21T12:47:05.641Z"
   },
   {
    "duration": 11,
    "start_time": "2024-01-21T12:47:05.652Z"
   },
   {
    "duration": 28,
    "start_time": "2024-01-21T12:47:05.666Z"
   },
   {
    "duration": 15,
    "start_time": "2024-01-21T12:47:05.695Z"
   },
   {
    "duration": 23,
    "start_time": "2024-01-21T12:47:05.711Z"
   },
   {
    "duration": 12,
    "start_time": "2024-01-21T12:47:05.736Z"
   },
   {
    "duration": 15,
    "start_time": "2024-01-21T12:47:05.750Z"
   },
   {
    "duration": 8,
    "start_time": "2024-01-21T12:47:05.766Z"
   },
   {
    "duration": 11,
    "start_time": "2024-01-21T12:47:05.776Z"
   },
   {
    "duration": 24,
    "start_time": "2024-01-21T12:47:05.789Z"
   },
   {
    "duration": 142,
    "start_time": "2024-01-21T12:47:05.815Z"
   },
   {
    "duration": 220,
    "start_time": "2024-01-21T12:47:05.959Z"
   },
   {
    "duration": 5,
    "start_time": "2024-01-21T12:47:06.181Z"
   },
   {
    "duration": 175,
    "start_time": "2024-01-21T12:47:06.187Z"
   },
   {
    "duration": 8,
    "start_time": "2024-01-21T12:47:06.363Z"
   },
   {
    "duration": 385,
    "start_time": "2024-01-21T12:47:06.372Z"
   },
   {
    "duration": 7,
    "start_time": "2024-01-21T12:47:06.758Z"
   },
   {
    "duration": 30,
    "start_time": "2024-01-21T12:47:06.766Z"
   },
   {
    "duration": 342,
    "start_time": "2024-01-21T12:47:06.798Z"
   },
   {
    "duration": 12,
    "start_time": "2024-01-21T12:47:07.142Z"
   },
   {
    "duration": 233,
    "start_time": "2024-01-21T12:47:07.158Z"
   },
   {
    "duration": 8,
    "start_time": "2024-01-21T12:47:07.393Z"
   },
   {
    "duration": 455,
    "start_time": "2024-01-21T12:47:07.402Z"
   },
   {
    "duration": 10,
    "start_time": "2024-01-21T12:47:07.858Z"
   },
   {
    "duration": 216,
    "start_time": "2024-01-21T12:47:07.870Z"
   },
   {
    "duration": 8,
    "start_time": "2024-01-21T12:47:08.088Z"
   },
   {
    "duration": 320,
    "start_time": "2024-01-21T12:47:08.098Z"
   },
   {
    "duration": 18,
    "start_time": "2024-01-21T12:47:08.420Z"
   },
   {
    "duration": 12,
    "start_time": "2024-01-21T12:47:08.439Z"
   },
   {
    "duration": 24,
    "start_time": "2024-01-21T12:47:08.453Z"
   },
   {
    "duration": 16,
    "start_time": "2024-01-21T12:47:08.478Z"
   },
   {
    "duration": 14,
    "start_time": "2024-01-21T12:47:08.495Z"
   },
   {
    "duration": 20,
    "start_time": "2024-01-21T12:47:08.510Z"
   },
   {
    "duration": 13,
    "start_time": "2024-01-21T12:47:08.531Z"
   },
   {
    "duration": 21,
    "start_time": "2024-01-21T12:47:08.545Z"
   },
   {
    "duration": 274,
    "start_time": "2024-01-21T12:47:08.568Z"
   },
   {
    "duration": 8,
    "start_time": "2024-01-21T12:47:08.844Z"
   },
   {
    "duration": 32,
    "start_time": "2024-01-21T12:47:08.854Z"
   },
   {
    "duration": 211,
    "start_time": "2024-01-21T12:47:08.888Z"
   },
   {
    "duration": 7,
    "start_time": "2024-01-21T12:47:09.100Z"
   },
   {
    "duration": 25,
    "start_time": "2024-01-21T12:47:09.109Z"
   },
   {
    "duration": 55,
    "start_time": "2024-01-21T12:47:09.135Z"
   },
   {
    "duration": 4,
    "start_time": "2024-01-21T12:47:09.192Z"
   },
   {
    "duration": 41,
    "start_time": "2024-01-21T12:47:09.198Z"
   },
   {
    "duration": 6,
    "start_time": "2024-01-21T12:47:09.240Z"
   },
   {
    "duration": 28,
    "start_time": "2024-01-21T12:47:09.247Z"
   },
   {
    "duration": 31,
    "start_time": "2024-01-21T12:47:09.277Z"
   },
   {
    "duration": 7,
    "start_time": "2024-01-21T12:47:09.310Z"
   },
   {
    "duration": 16,
    "start_time": "2024-01-21T12:47:09.318Z"
   },
   {
    "duration": 33,
    "start_time": "2024-01-21T12:47:09.336Z"
   },
   {
    "duration": 21,
    "start_time": "2024-01-21T12:47:09.371Z"
   },
   {
    "duration": 17,
    "start_time": "2024-01-21T12:47:09.393Z"
   },
   {
    "duration": 1722,
    "start_time": "2024-01-21T12:47:09.411Z"
   },
   {
    "duration": 1705,
    "start_time": "2024-01-21T12:48:17.450Z"
   },
   {
    "duration": 4,
    "start_time": "2024-01-21T12:51:29.456Z"
   },
   {
    "duration": 8,
    "start_time": "2024-01-21T12:51:33.322Z"
   },
   {
    "duration": 9,
    "start_time": "2024-01-21T12:52:13.321Z"
   },
   {
    "duration": 159,
    "start_time": "2024-01-21T12:52:59.387Z"
   },
   {
    "duration": 9,
    "start_time": "2024-01-21T12:53:10.107Z"
   },
   {
    "duration": 4,
    "start_time": "2024-01-21T12:54:15.913Z"
   },
   {
    "duration": 4,
    "start_time": "2024-01-21T12:54:35.652Z"
   },
   {
    "duration": 11,
    "start_time": "2024-01-21T12:59:48.785Z"
   },
   {
    "duration": 9,
    "start_time": "2024-01-21T13:00:39.466Z"
   },
   {
    "duration": 9,
    "start_time": "2024-01-21T13:01:10.745Z"
   },
   {
    "duration": 10,
    "start_time": "2024-01-21T13:01:30.962Z"
   },
   {
    "duration": 1318,
    "start_time": "2024-01-21T13:02:23.362Z"
   },
   {
    "duration": 1301,
    "start_time": "2024-01-21T13:04:12.475Z"
   },
   {
    "duration": 1224,
    "start_time": "2024-01-21T13:04:23.365Z"
   },
   {
    "duration": 159,
    "start_time": "2024-01-21T13:05:53.587Z"
   },
   {
    "duration": 1647,
    "start_time": "2024-01-21T13:06:25.118Z"
   },
   {
    "duration": 129,
    "start_time": "2024-01-21T13:08:05.042Z"
   },
   {
    "duration": 165,
    "start_time": "2024-01-21T13:08:14.582Z"
   },
   {
    "duration": 156,
    "start_time": "2024-01-21T13:08:21.675Z"
   },
   {
    "duration": 277,
    "start_time": "2024-01-21T13:08:31.865Z"
   },
   {
    "duration": 423,
    "start_time": "2024-01-21T13:12:00.713Z"
   },
   {
    "duration": 8,
    "start_time": "2024-01-21T13:15:17.503Z"
   },
   {
    "duration": 3,
    "start_time": "2024-01-21T13:17:38.859Z"
   },
   {
    "duration": 5,
    "start_time": "2024-01-21T13:17:54.869Z"
   },
   {
    "duration": 4,
    "start_time": "2024-01-21T13:18:02.314Z"
   },
   {
    "duration": 4,
    "start_time": "2024-01-21T13:18:07.514Z"
   },
   {
    "duration": 4,
    "start_time": "2024-01-21T13:20:07.415Z"
   },
   {
    "duration": 4,
    "start_time": "2024-01-21T13:20:11.895Z"
   },
   {
    "duration": 3,
    "start_time": "2024-01-21T13:20:19.991Z"
   },
   {
    "duration": 4,
    "start_time": "2024-01-21T13:20:22.671Z"
   },
   {
    "duration": 161,
    "start_time": "2024-01-21T13:21:17.895Z"
   },
   {
    "duration": 167,
    "start_time": "2024-01-21T13:21:46.092Z"
   },
   {
    "duration": 4,
    "start_time": "2024-01-21T13:25:26.913Z"
   },
   {
    "duration": 6,
    "start_time": "2024-01-21T13:25:30.495Z"
   },
   {
    "duration": 10,
    "start_time": "2024-01-21T13:25:38.841Z"
   },
   {
    "duration": 8,
    "start_time": "2024-01-21T13:27:25.194Z"
   },
   {
    "duration": 287,
    "start_time": "2024-01-21T13:27:50.899Z"
   },
   {
    "duration": 8,
    "start_time": "2024-01-21T13:31:09.200Z"
   },
   {
    "duration": 4,
    "start_time": "2024-01-21T13:31:33.048Z"
   },
   {
    "duration": 1202,
    "start_time": "2024-01-21T13:31:40.379Z"
   },
   {
    "duration": 74,
    "start_time": "2024-01-21T13:31:41.583Z"
   },
   {
    "duration": 20,
    "start_time": "2024-01-21T13:31:41.658Z"
   },
   {
    "duration": 16,
    "start_time": "2024-01-21T13:31:41.679Z"
   },
   {
    "duration": 13,
    "start_time": "2024-01-21T13:31:41.696Z"
   },
   {
    "duration": 26,
    "start_time": "2024-01-21T13:31:41.711Z"
   },
   {
    "duration": 6,
    "start_time": "2024-01-21T13:31:41.739Z"
   },
   {
    "duration": 12,
    "start_time": "2024-01-21T13:31:41.746Z"
   },
   {
    "duration": 6,
    "start_time": "2024-01-21T13:31:41.760Z"
   },
   {
    "duration": 15,
    "start_time": "2024-01-21T13:31:41.770Z"
   },
   {
    "duration": 7,
    "start_time": "2024-01-21T13:31:41.792Z"
   },
   {
    "duration": 7,
    "start_time": "2024-01-21T13:31:41.825Z"
   },
   {
    "duration": 25,
    "start_time": "2024-01-21T13:31:41.834Z"
   },
   {
    "duration": 9,
    "start_time": "2024-01-21T13:31:41.861Z"
   },
   {
    "duration": 15,
    "start_time": "2024-01-21T13:31:41.871Z"
   },
   {
    "duration": 4,
    "start_time": "2024-01-21T13:31:41.887Z"
   },
   {
    "duration": 53,
    "start_time": "2024-01-21T13:31:41.893Z"
   },
   {
    "duration": 151,
    "start_time": "2024-01-21T13:31:41.947Z"
   },
   {
    "duration": 217,
    "start_time": "2024-01-21T13:31:42.099Z"
   },
   {
    "duration": 15,
    "start_time": "2024-01-21T13:31:42.317Z"
   },
   {
    "duration": 201,
    "start_time": "2024-01-21T13:31:42.334Z"
   },
   {
    "duration": 18,
    "start_time": "2024-01-21T13:31:42.537Z"
   },
   {
    "duration": 403,
    "start_time": "2024-01-21T13:31:42.558Z"
   },
   {
    "duration": 7,
    "start_time": "2024-01-21T13:31:42.963Z"
   },
   {
    "duration": 28,
    "start_time": "2024-01-21T13:31:42.971Z"
   },
   {
    "duration": 338,
    "start_time": "2024-01-21T13:31:43.000Z"
   },
   {
    "duration": 13,
    "start_time": "2024-01-21T13:31:43.339Z"
   },
   {
    "duration": 243,
    "start_time": "2024-01-21T13:31:43.355Z"
   },
   {
    "duration": 9,
    "start_time": "2024-01-21T13:31:43.599Z"
   },
   {
    "duration": 466,
    "start_time": "2024-01-21T13:31:43.609Z"
   },
   {
    "duration": 12,
    "start_time": "2024-01-21T13:31:44.077Z"
   },
   {
    "duration": 247,
    "start_time": "2024-01-21T13:31:44.090Z"
   },
   {
    "duration": 9,
    "start_time": "2024-01-21T13:31:44.339Z"
   },
   {
    "duration": 337,
    "start_time": "2024-01-21T13:31:44.350Z"
   },
   {
    "duration": 10,
    "start_time": "2024-01-21T13:31:44.689Z"
   },
   {
    "duration": 39,
    "start_time": "2024-01-21T13:31:44.700Z"
   },
   {
    "duration": 14,
    "start_time": "2024-01-21T13:31:44.741Z"
   },
   {
    "duration": 18,
    "start_time": "2024-01-21T13:31:44.757Z"
   },
   {
    "duration": 16,
    "start_time": "2024-01-21T13:31:44.776Z"
   },
   {
    "duration": 10,
    "start_time": "2024-01-21T13:31:44.794Z"
   },
   {
    "duration": 20,
    "start_time": "2024-01-21T13:31:44.806Z"
   },
   {
    "duration": 23,
    "start_time": "2024-01-21T13:31:44.827Z"
   },
   {
    "duration": 263,
    "start_time": "2024-01-21T13:31:44.852Z"
   },
   {
    "duration": 8,
    "start_time": "2024-01-21T13:31:45.117Z"
   },
   {
    "duration": 57,
    "start_time": "2024-01-21T13:31:45.127Z"
   },
   {
    "duration": 318,
    "start_time": "2024-01-21T13:31:45.185Z"
   },
   {
    "duration": 7,
    "start_time": "2024-01-21T13:31:45.504Z"
   },
   {
    "duration": 58,
    "start_time": "2024-01-21T13:31:45.512Z"
   },
   {
    "duration": 68,
    "start_time": "2024-01-21T13:31:45.572Z"
   },
   {
    "duration": 6,
    "start_time": "2024-01-21T13:31:45.641Z"
   },
   {
    "duration": 36,
    "start_time": "2024-01-21T13:31:45.648Z"
   },
   {
    "duration": 11,
    "start_time": "2024-01-21T13:31:45.686Z"
   },
   {
    "duration": 7,
    "start_time": "2024-01-21T13:31:45.699Z"
   },
   {
    "duration": 17,
    "start_time": "2024-01-21T13:31:45.708Z"
   },
   {
    "duration": 8,
    "start_time": "2024-01-21T13:31:45.727Z"
   },
   {
    "duration": 11,
    "start_time": "2024-01-21T13:31:45.737Z"
   },
   {
    "duration": 17,
    "start_time": "2024-01-21T13:31:45.749Z"
   },
   {
    "duration": 28,
    "start_time": "2024-01-21T13:31:45.768Z"
   },
   {
    "duration": 25,
    "start_time": "2024-01-21T13:31:45.797Z"
   },
   {
    "duration": 296,
    "start_time": "2024-01-21T13:31:45.824Z"
   },
   {
    "duration": 5,
    "start_time": "2024-01-21T13:31:46.122Z"
   },
   {
    "duration": 8,
    "start_time": "2024-01-21T13:31:46.128Z"
   },
   {
    "duration": 5,
    "start_time": "2024-01-21T13:31:54.983Z"
   },
   {
    "duration": 4,
    "start_time": "2024-01-21T13:32:15.978Z"
   },
   {
    "duration": 6,
    "start_time": "2024-01-21T13:32:27.034Z"
   },
   {
    "duration": 6,
    "start_time": "2024-01-21T13:32:47.952Z"
   },
   {
    "duration": 4,
    "start_time": "2024-01-21T13:33:08.112Z"
   },
   {
    "duration": 7,
    "start_time": "2024-01-21T13:33:20.628Z"
   },
   {
    "duration": 5,
    "start_time": "2024-01-21T13:33:35.786Z"
   },
   {
    "duration": 4,
    "start_time": "2024-01-21T13:33:42.495Z"
   },
   {
    "duration": 5,
    "start_time": "2024-01-21T13:33:53.116Z"
   },
   {
    "duration": 5,
    "start_time": "2024-01-21T13:35:23.918Z"
   },
   {
    "duration": 4,
    "start_time": "2024-01-21T13:35:31.544Z"
   },
   {
    "duration": 5,
    "start_time": "2024-01-21T13:46:15.507Z"
   },
   {
    "duration": 5,
    "start_time": "2024-01-21T13:46:20.557Z"
   },
   {
    "duration": 4,
    "start_time": "2024-01-21T13:46:24.279Z"
   },
   {
    "duration": 8,
    "start_time": "2024-01-21T13:46:27.128Z"
   },
   {
    "duration": 5,
    "start_time": "2024-01-21T13:46:30.270Z"
   },
   {
    "duration": 5,
    "start_time": "2024-01-21T13:46:33.557Z"
   },
   {
    "duration": 6,
    "start_time": "2024-01-21T13:49:37.475Z"
   },
   {
    "duration": 112,
    "start_time": "2024-01-21T13:56:08.120Z"
   },
   {
    "duration": 8,
    "start_time": "2024-01-21T13:56:13.936Z"
   },
   {
    "duration": 6,
    "start_time": "2024-01-21T13:57:07.808Z"
   },
   {
    "duration": 1294,
    "start_time": "2024-01-21T13:57:15.024Z"
   },
   {
    "duration": 70,
    "start_time": "2024-01-21T13:57:16.320Z"
   },
   {
    "duration": 19,
    "start_time": "2024-01-21T13:57:16.391Z"
   },
   {
    "duration": 31,
    "start_time": "2024-01-21T13:57:16.411Z"
   },
   {
    "duration": 17,
    "start_time": "2024-01-21T13:57:16.444Z"
   },
   {
    "duration": 11,
    "start_time": "2024-01-21T13:57:16.462Z"
   },
   {
    "duration": 5,
    "start_time": "2024-01-21T13:57:16.475Z"
   },
   {
    "duration": 10,
    "start_time": "2024-01-21T13:57:16.482Z"
   },
   {
    "duration": 12,
    "start_time": "2024-01-21T13:57:16.493Z"
   },
   {
    "duration": 23,
    "start_time": "2024-01-21T13:57:16.507Z"
   },
   {
    "duration": 7,
    "start_time": "2024-01-21T13:57:16.531Z"
   },
   {
    "duration": 5,
    "start_time": "2024-01-21T13:57:16.540Z"
   },
   {
    "duration": 16,
    "start_time": "2024-01-21T13:57:16.546Z"
   },
   {
    "duration": 27,
    "start_time": "2024-01-21T13:57:16.564Z"
   },
   {
    "duration": 10,
    "start_time": "2024-01-21T13:57:16.592Z"
   },
   {
    "duration": 5,
    "start_time": "2024-01-21T13:57:16.603Z"
   },
   {
    "duration": 49,
    "start_time": "2024-01-21T13:57:16.609Z"
   },
   {
    "duration": 178,
    "start_time": "2024-01-21T13:57:16.660Z"
   },
   {
    "duration": 223,
    "start_time": "2024-01-21T13:57:16.840Z"
   },
   {
    "duration": 6,
    "start_time": "2024-01-21T13:57:17.065Z"
   },
   {
    "duration": 194,
    "start_time": "2024-01-21T13:57:17.073Z"
   },
   {
    "duration": 8,
    "start_time": "2024-01-21T13:57:17.268Z"
   },
   {
    "duration": 377,
    "start_time": "2024-01-21T13:57:17.278Z"
   },
   {
    "duration": 7,
    "start_time": "2024-01-21T13:57:17.657Z"
   },
   {
    "duration": 39,
    "start_time": "2024-01-21T13:57:17.665Z"
   },
   {
    "duration": 332,
    "start_time": "2024-01-21T13:57:17.705Z"
   },
   {
    "duration": 13,
    "start_time": "2024-01-21T13:57:18.038Z"
   },
   {
    "duration": 230,
    "start_time": "2024-01-21T13:57:18.054Z"
   },
   {
    "duration": 8,
    "start_time": "2024-01-21T13:57:18.286Z"
   },
   {
    "duration": 474,
    "start_time": "2024-01-21T13:57:18.296Z"
   },
   {
    "duration": 12,
    "start_time": "2024-01-21T13:57:18.772Z"
   },
   {
    "duration": 216,
    "start_time": "2024-01-21T13:57:18.787Z"
   },
   {
    "duration": 26,
    "start_time": "2024-01-21T13:57:19.005Z"
   },
   {
    "duration": 334,
    "start_time": "2024-01-21T13:57:19.032Z"
   },
   {
    "duration": 10,
    "start_time": "2024-01-21T13:57:19.367Z"
   },
   {
    "duration": 28,
    "start_time": "2024-01-21T13:57:19.379Z"
   },
   {
    "duration": 26,
    "start_time": "2024-01-21T13:57:19.409Z"
   },
   {
    "duration": 16,
    "start_time": "2024-01-21T13:57:19.436Z"
   },
   {
    "duration": 15,
    "start_time": "2024-01-21T13:57:19.453Z"
   },
   {
    "duration": 18,
    "start_time": "2024-01-21T13:57:19.469Z"
   },
   {
    "duration": 13,
    "start_time": "2024-01-21T13:57:19.488Z"
   },
   {
    "duration": 36,
    "start_time": "2024-01-21T13:57:19.502Z"
   },
   {
    "duration": 297,
    "start_time": "2024-01-21T13:57:19.540Z"
   },
   {
    "duration": 8,
    "start_time": "2024-01-21T13:57:19.838Z"
   },
   {
    "duration": 14,
    "start_time": "2024-01-21T13:57:19.848Z"
   },
   {
    "duration": 233,
    "start_time": "2024-01-21T13:57:19.863Z"
   },
   {
    "duration": 7,
    "start_time": "2024-01-21T13:57:20.097Z"
   },
   {
    "duration": 35,
    "start_time": "2024-01-21T13:57:20.106Z"
   },
   {
    "duration": 65,
    "start_time": "2024-01-21T13:57:20.143Z"
   },
   {
    "duration": 5,
    "start_time": "2024-01-21T13:57:20.209Z"
   },
   {
    "duration": 20,
    "start_time": "2024-01-21T13:57:20.226Z"
   },
   {
    "duration": 8,
    "start_time": "2024-01-21T13:57:20.248Z"
   },
   {
    "duration": 5,
    "start_time": "2024-01-21T13:57:20.258Z"
   },
   {
    "duration": 9,
    "start_time": "2024-01-21T13:57:20.264Z"
   },
   {
    "duration": 8,
    "start_time": "2024-01-21T13:57:20.274Z"
   },
   {
    "duration": 10,
    "start_time": "2024-01-21T13:57:20.283Z"
   },
   {
    "duration": 44,
    "start_time": "2024-01-21T13:57:20.294Z"
   },
   {
    "duration": 13,
    "start_time": "2024-01-21T13:57:20.340Z"
   },
   {
    "duration": 23,
    "start_time": "2024-01-21T13:57:20.354Z"
   },
   {
    "duration": 364,
    "start_time": "2024-01-21T13:57:20.379Z"
   },
   {
    "duration": 4,
    "start_time": "2024-01-21T13:57:20.745Z"
   },
   {
    "duration": 21,
    "start_time": "2024-01-21T13:57:20.751Z"
   },
   {
    "duration": 17,
    "start_time": "2024-01-21T13:57:20.774Z"
   },
   {
    "duration": 6,
    "start_time": "2024-01-21T14:01:41.144Z"
   },
   {
    "duration": 1257,
    "start_time": "2024-01-21T14:03:57.678Z"
   },
   {
    "duration": 70,
    "start_time": "2024-01-21T14:03:58.937Z"
   },
   {
    "duration": 26,
    "start_time": "2024-01-21T14:03:59.009Z"
   },
   {
    "duration": 19,
    "start_time": "2024-01-21T14:03:59.037Z"
   },
   {
    "duration": 13,
    "start_time": "2024-01-21T14:03:59.058Z"
   },
   {
    "duration": 19,
    "start_time": "2024-01-21T14:03:59.073Z"
   },
   {
    "duration": 5,
    "start_time": "2024-01-21T14:03:59.094Z"
   },
   {
    "duration": 29,
    "start_time": "2024-01-21T14:03:59.101Z"
   },
   {
    "duration": 38,
    "start_time": "2024-01-21T14:03:59.132Z"
   },
   {
    "duration": 13,
    "start_time": "2024-01-21T14:03:59.173Z"
   },
   {
    "duration": 5,
    "start_time": "2024-01-21T14:03:59.188Z"
   },
   {
    "duration": 7,
    "start_time": "2024-01-21T14:03:59.195Z"
   },
   {
    "duration": 7,
    "start_time": "2024-01-21T14:03:59.203Z"
   },
   {
    "duration": 21,
    "start_time": "2024-01-21T14:03:59.212Z"
   },
   {
    "duration": 9,
    "start_time": "2024-01-21T14:03:59.234Z"
   },
   {
    "duration": 5,
    "start_time": "2024-01-21T14:03:59.244Z"
   },
   {
    "duration": 24,
    "start_time": "2024-01-21T14:03:59.250Z"
   },
   {
    "duration": 160,
    "start_time": "2024-01-21T14:03:59.275Z"
   },
   {
    "duration": 224,
    "start_time": "2024-01-21T14:03:59.437Z"
   },
   {
    "duration": 6,
    "start_time": "2024-01-21T14:03:59.663Z"
   },
   {
    "duration": 209,
    "start_time": "2024-01-21T14:03:59.671Z"
   },
   {
    "duration": 12,
    "start_time": "2024-01-21T14:03:59.882Z"
   },
   {
    "duration": 412,
    "start_time": "2024-01-21T14:03:59.897Z"
   },
   {
    "duration": 11,
    "start_time": "2024-01-21T14:04:00.310Z"
   },
   {
    "duration": 145,
    "start_time": "2024-01-21T14:04:00.323Z"
   },
   {
    "duration": 579,
    "start_time": "2024-01-21T14:04:00.470Z"
   },
   {
    "duration": 12,
    "start_time": "2024-01-21T14:04:01.051Z"
   },
   {
    "duration": 293,
    "start_time": "2024-01-21T14:04:01.066Z"
   },
   {
    "duration": 8,
    "start_time": "2024-01-21T14:04:01.361Z"
   },
   {
    "duration": 500,
    "start_time": "2024-01-21T14:04:01.371Z"
   },
   {
    "duration": 11,
    "start_time": "2024-01-21T14:04:01.873Z"
   },
   {
    "duration": 219,
    "start_time": "2024-01-21T14:04:01.885Z"
   },
   {
    "duration": 27,
    "start_time": "2024-01-21T14:04:02.106Z"
   },
   {
    "duration": 357,
    "start_time": "2024-01-21T14:04:02.135Z"
   },
   {
    "duration": 9,
    "start_time": "2024-01-21T14:04:02.494Z"
   },
   {
    "duration": 64,
    "start_time": "2024-01-21T14:04:02.504Z"
   },
   {
    "duration": 35,
    "start_time": "2024-01-21T14:04:02.569Z"
   },
   {
    "duration": 39,
    "start_time": "2024-01-21T14:04:02.606Z"
   },
   {
    "duration": 53,
    "start_time": "2024-01-21T14:04:02.647Z"
   },
   {
    "duration": 28,
    "start_time": "2024-01-21T14:04:02.701Z"
   },
   {
    "duration": 69,
    "start_time": "2024-01-21T14:04:02.730Z"
   },
   {
    "duration": 52,
    "start_time": "2024-01-21T14:04:02.801Z"
   },
   {
    "duration": 284,
    "start_time": "2024-01-21T14:04:02.854Z"
   },
   {
    "duration": 8,
    "start_time": "2024-01-21T14:04:03.140Z"
   },
   {
    "duration": 212,
    "start_time": "2024-01-21T14:04:03.149Z"
   },
   {
    "duration": 298,
    "start_time": "2024-01-21T14:04:03.363Z"
   },
   {
    "duration": 6,
    "start_time": "2024-01-21T14:04:03.662Z"
   },
   {
    "duration": 31,
    "start_time": "2024-01-21T14:04:03.670Z"
   },
   {
    "duration": 60,
    "start_time": "2024-01-21T14:04:03.703Z"
   },
   {
    "duration": 5,
    "start_time": "2024-01-21T14:04:03.765Z"
   },
   {
    "duration": 44,
    "start_time": "2024-01-21T14:04:03.771Z"
   },
   {
    "duration": 19,
    "start_time": "2024-01-21T14:04:03.817Z"
   },
   {
    "duration": 47,
    "start_time": "2024-01-21T14:04:03.838Z"
   },
   {
    "duration": 32,
    "start_time": "2024-01-21T14:04:03.886Z"
   },
   {
    "duration": 15,
    "start_time": "2024-01-21T14:04:03.919Z"
   },
   {
    "duration": 16,
    "start_time": "2024-01-21T14:04:03.935Z"
   },
   {
    "duration": 14,
    "start_time": "2024-01-21T14:04:03.952Z"
   },
   {
    "duration": 23,
    "start_time": "2024-01-21T14:04:03.968Z"
   },
   {
    "duration": 8,
    "start_time": "2024-01-21T14:04:03.993Z"
   },
   {
    "duration": 351,
    "start_time": "2024-01-21T14:04:04.002Z"
   },
   {
    "duration": 4,
    "start_time": "2024-01-21T14:04:04.355Z"
   },
   {
    "duration": 1250,
    "start_time": "2024-01-21T14:05:08.941Z"
   },
   {
    "duration": 74,
    "start_time": "2024-01-21T14:05:10.193Z"
   },
   {
    "duration": 19,
    "start_time": "2024-01-21T14:05:10.269Z"
   },
   {
    "duration": 57,
    "start_time": "2024-01-21T14:05:10.291Z"
   },
   {
    "duration": 15,
    "start_time": "2024-01-21T14:05:10.350Z"
   },
   {
    "duration": 14,
    "start_time": "2024-01-21T14:05:10.366Z"
   },
   {
    "duration": 14,
    "start_time": "2024-01-21T14:05:10.382Z"
   },
   {
    "duration": 39,
    "start_time": "2024-01-21T14:05:10.397Z"
   },
   {
    "duration": 53,
    "start_time": "2024-01-21T14:05:10.437Z"
   },
   {
    "duration": 39,
    "start_time": "2024-01-21T14:05:10.494Z"
   },
   {
    "duration": 30,
    "start_time": "2024-01-21T14:05:10.535Z"
   },
   {
    "duration": 28,
    "start_time": "2024-01-21T14:05:10.566Z"
   },
   {
    "duration": 42,
    "start_time": "2024-01-21T14:05:10.595Z"
   },
   {
    "duration": 10,
    "start_time": "2024-01-21T14:05:10.639Z"
   },
   {
    "duration": 34,
    "start_time": "2024-01-21T14:05:10.651Z"
   },
   {
    "duration": 5,
    "start_time": "2024-01-21T14:05:10.686Z"
   },
   {
    "duration": 66,
    "start_time": "2024-01-21T14:05:10.692Z"
   },
   {
    "duration": 154,
    "start_time": "2024-01-21T14:05:10.759Z"
   },
   {
    "duration": 223,
    "start_time": "2024-01-21T14:05:10.914Z"
   },
   {
    "duration": 6,
    "start_time": "2024-01-21T14:05:11.138Z"
   },
   {
    "duration": 192,
    "start_time": "2024-01-21T14:05:11.145Z"
   },
   {
    "duration": 9,
    "start_time": "2024-01-21T14:05:11.338Z"
   },
   {
    "duration": 462,
    "start_time": "2024-01-21T14:05:11.348Z"
   },
   {
    "duration": 21,
    "start_time": "2024-01-21T14:05:11.811Z"
   },
   {
    "duration": 26,
    "start_time": "2024-01-21T14:05:11.834Z"
   },
   {
    "duration": 312,
    "start_time": "2024-01-21T14:05:11.862Z"
   },
   {
    "duration": 12,
    "start_time": "2024-01-21T14:05:12.175Z"
   },
   {
    "duration": 235,
    "start_time": "2024-01-21T14:05:12.190Z"
   },
   {
    "duration": 14,
    "start_time": "2024-01-21T14:05:12.426Z"
   },
   {
    "duration": 491,
    "start_time": "2024-01-21T14:05:12.442Z"
   },
   {
    "duration": 12,
    "start_time": "2024-01-21T14:05:12.935Z"
   },
   {
    "duration": 208,
    "start_time": "2024-01-21T14:05:12.948Z"
   },
   {
    "duration": 10,
    "start_time": "2024-01-21T14:05:13.158Z"
   },
   {
    "duration": 339,
    "start_time": "2024-01-21T14:05:13.169Z"
   },
   {
    "duration": 23,
    "start_time": "2024-01-21T14:05:13.510Z"
   },
   {
    "duration": 7,
    "start_time": "2024-01-21T14:05:13.535Z"
   },
   {
    "duration": 16,
    "start_time": "2024-01-21T14:05:13.544Z"
   },
   {
    "duration": 17,
    "start_time": "2024-01-21T14:05:13.562Z"
   },
   {
    "duration": 16,
    "start_time": "2024-01-21T14:05:13.580Z"
   },
   {
    "duration": 36,
    "start_time": "2024-01-21T14:05:13.598Z"
   },
   {
    "duration": 11,
    "start_time": "2024-01-21T14:05:13.635Z"
   },
   {
    "duration": 22,
    "start_time": "2024-01-21T14:05:13.648Z"
   },
   {
    "duration": 292,
    "start_time": "2024-01-21T14:05:13.672Z"
   },
   {
    "duration": 8,
    "start_time": "2024-01-21T14:05:13.966Z"
   },
   {
    "duration": 13,
    "start_time": "2024-01-21T14:05:13.975Z"
   },
   {
    "duration": 247,
    "start_time": "2024-01-21T14:05:13.990Z"
   },
   {
    "duration": 6,
    "start_time": "2024-01-21T14:05:14.239Z"
   },
   {
    "duration": 12,
    "start_time": "2024-01-21T14:05:14.247Z"
   },
   {
    "duration": 71,
    "start_time": "2024-01-21T14:05:14.261Z"
   },
   {
    "duration": 6,
    "start_time": "2024-01-21T14:05:14.334Z"
   },
   {
    "duration": 21,
    "start_time": "2024-01-21T14:05:14.342Z"
   },
   {
    "duration": 5,
    "start_time": "2024-01-21T14:05:14.364Z"
   },
   {
    "duration": 5,
    "start_time": "2024-01-21T14:05:14.371Z"
   },
   {
    "duration": 9,
    "start_time": "2024-01-21T14:05:14.377Z"
   },
   {
    "duration": 5,
    "start_time": "2024-01-21T14:05:14.388Z"
   },
   {
    "duration": 40,
    "start_time": "2024-01-21T14:05:14.394Z"
   },
   {
    "duration": 14,
    "start_time": "2024-01-21T14:05:14.436Z"
   },
   {
    "duration": 16,
    "start_time": "2024-01-21T14:05:14.452Z"
   },
   {
    "duration": 5,
    "start_time": "2024-01-21T14:05:14.469Z"
   },
   {
    "duration": 334,
    "start_time": "2024-01-21T14:05:14.475Z"
   },
   {
    "duration": 13,
    "start_time": "2024-01-21T14:05:14.819Z"
   },
   {
    "duration": 7,
    "start_time": "2024-01-21T14:05:14.835Z"
   },
   {
    "duration": 1281,
    "start_time": "2024-01-21T14:07:38.403Z"
   },
   {
    "duration": 80,
    "start_time": "2024-01-21T14:07:39.686Z"
   },
   {
    "duration": 22,
    "start_time": "2024-01-21T14:07:39.767Z"
   },
   {
    "duration": 25,
    "start_time": "2024-01-21T14:07:39.792Z"
   },
   {
    "duration": 25,
    "start_time": "2024-01-21T14:07:39.819Z"
   },
   {
    "duration": 15,
    "start_time": "2024-01-21T14:07:39.845Z"
   },
   {
    "duration": 9,
    "start_time": "2024-01-21T14:07:39.862Z"
   },
   {
    "duration": 16,
    "start_time": "2024-01-21T14:07:39.873Z"
   },
   {
    "duration": 45,
    "start_time": "2024-01-21T14:07:39.891Z"
   },
   {
    "duration": 13,
    "start_time": "2024-01-21T14:07:39.940Z"
   },
   {
    "duration": 6,
    "start_time": "2024-01-21T14:07:39.955Z"
   },
   {
    "duration": 13,
    "start_time": "2024-01-21T14:07:39.962Z"
   },
   {
    "duration": 9,
    "start_time": "2024-01-21T14:07:39.977Z"
   },
   {
    "duration": 28,
    "start_time": "2024-01-21T14:07:39.987Z"
   },
   {
    "duration": 24,
    "start_time": "2024-01-21T14:07:40.016Z"
   },
   {
    "duration": 10,
    "start_time": "2024-01-21T14:07:40.041Z"
   },
   {
    "duration": 32,
    "start_time": "2024-01-21T14:07:40.053Z"
   },
   {
    "duration": 175,
    "start_time": "2024-01-21T14:07:40.086Z"
   },
   {
    "duration": 223,
    "start_time": "2024-01-21T14:07:40.263Z"
   },
   {
    "duration": 7,
    "start_time": "2024-01-21T14:07:40.487Z"
   },
   {
    "duration": 242,
    "start_time": "2024-01-21T14:07:40.495Z"
   },
   {
    "duration": 12,
    "start_time": "2024-01-21T14:07:40.739Z"
   },
   {
    "duration": 409,
    "start_time": "2024-01-21T14:07:40.753Z"
   },
   {
    "duration": 7,
    "start_time": "2024-01-21T14:07:41.163Z"
   },
   {
    "duration": 27,
    "start_time": "2024-01-21T14:07:41.171Z"
   },
   {
    "duration": 333,
    "start_time": "2024-01-21T14:07:41.200Z"
   },
   {
    "duration": 15,
    "start_time": "2024-01-21T14:07:41.535Z"
   },
   {
    "duration": 251,
    "start_time": "2024-01-21T14:07:41.556Z"
   },
   {
    "duration": 28,
    "start_time": "2024-01-21T14:07:41.810Z"
   },
   {
    "duration": 490,
    "start_time": "2024-01-21T14:07:41.840Z"
   },
   {
    "duration": 14,
    "start_time": "2024-01-21T14:07:42.332Z"
   },
   {
    "duration": 225,
    "start_time": "2024-01-21T14:07:42.348Z"
   },
   {
    "duration": 9,
    "start_time": "2024-01-21T14:07:42.575Z"
   },
   {
    "duration": 364,
    "start_time": "2024-01-21T14:07:42.586Z"
   },
   {
    "duration": 10,
    "start_time": "2024-01-21T14:07:42.952Z"
   },
   {
    "duration": 22,
    "start_time": "2024-01-21T14:07:42.964Z"
   },
   {
    "duration": 18,
    "start_time": "2024-01-21T14:07:42.988Z"
   },
   {
    "duration": 29,
    "start_time": "2024-01-21T14:07:43.008Z"
   },
   {
    "duration": 16,
    "start_time": "2024-01-21T14:07:43.039Z"
   },
   {
    "duration": 10,
    "start_time": "2024-01-21T14:07:43.057Z"
   },
   {
    "duration": 11,
    "start_time": "2024-01-21T14:07:43.069Z"
   },
   {
    "duration": 62,
    "start_time": "2024-01-21T14:07:43.081Z"
   },
   {
    "duration": 283,
    "start_time": "2024-01-21T14:07:43.146Z"
   },
   {
    "duration": 11,
    "start_time": "2024-01-21T14:07:43.431Z"
   },
   {
    "duration": 18,
    "start_time": "2024-01-21T14:07:43.443Z"
   },
   {
    "duration": 274,
    "start_time": "2024-01-21T14:07:43.463Z"
   },
   {
    "duration": 9,
    "start_time": "2024-01-21T14:07:43.740Z"
   },
   {
    "duration": 18,
    "start_time": "2024-01-21T14:07:43.750Z"
   },
   {
    "duration": 88,
    "start_time": "2024-01-21T14:07:43.770Z"
   },
   {
    "duration": 4,
    "start_time": "2024-01-21T14:07:43.860Z"
   },
   {
    "duration": 23,
    "start_time": "2024-01-21T14:07:43.866Z"
   },
   {
    "duration": 5,
    "start_time": "2024-01-21T14:07:43.891Z"
   },
   {
    "duration": 11,
    "start_time": "2024-01-21T14:07:43.897Z"
   },
   {
    "duration": 21,
    "start_time": "2024-01-21T14:07:43.922Z"
   },
   {
    "duration": 9,
    "start_time": "2024-01-21T14:07:43.948Z"
   },
   {
    "duration": 17,
    "start_time": "2024-01-21T14:07:43.958Z"
   },
   {
    "duration": 15,
    "start_time": "2024-01-21T14:07:43.976Z"
   },
   {
    "duration": 13,
    "start_time": "2024-01-21T14:07:43.992Z"
   },
   {
    "duration": 24,
    "start_time": "2024-01-21T14:07:44.007Z"
   },
   {
    "duration": 399,
    "start_time": "2024-01-21T14:07:44.034Z"
   },
   {
    "duration": 5,
    "start_time": "2024-01-21T14:07:44.435Z"
   },
   {
    "duration": 9,
    "start_time": "2024-01-21T14:07:44.442Z"
   },
   {
    "duration": 81,
    "start_time": "2024-01-21T14:09:34.338Z"
   },
   {
    "duration": 12,
    "start_time": "2024-01-21T14:10:00.232Z"
   },
   {
    "duration": 6,
    "start_time": "2024-01-21T14:10:12.543Z"
   },
   {
    "duration": 6,
    "start_time": "2024-01-21T14:10:22.850Z"
   },
   {
    "duration": 1217,
    "start_time": "2024-01-21T14:34:27.953Z"
   },
   {
    "duration": 78,
    "start_time": "2024-01-21T14:34:29.172Z"
   },
   {
    "duration": 21,
    "start_time": "2024-01-21T14:34:29.251Z"
   },
   {
    "duration": 26,
    "start_time": "2024-01-21T14:34:29.274Z"
   },
   {
    "duration": 14,
    "start_time": "2024-01-21T14:34:29.302Z"
   },
   {
    "duration": 19,
    "start_time": "2024-01-21T14:34:29.318Z"
   },
   {
    "duration": 6,
    "start_time": "2024-01-21T14:34:29.339Z"
   },
   {
    "duration": 9,
    "start_time": "2024-01-21T14:34:29.347Z"
   },
   {
    "duration": 8,
    "start_time": "2024-01-21T14:34:29.358Z"
   },
   {
    "duration": 15,
    "start_time": "2024-01-21T14:34:29.369Z"
   },
   {
    "duration": 12,
    "start_time": "2024-01-21T14:34:29.385Z"
   },
   {
    "duration": 22,
    "start_time": "2024-01-21T14:34:29.399Z"
   },
   {
    "duration": 13,
    "start_time": "2024-01-21T14:34:29.423Z"
   },
   {
    "duration": 65,
    "start_time": "2024-01-21T14:34:29.437Z"
   },
   {
    "duration": 28,
    "start_time": "2024-01-21T14:34:29.504Z"
   },
   {
    "duration": 20,
    "start_time": "2024-01-21T14:34:29.534Z"
   },
   {
    "duration": 23,
    "start_time": "2024-01-21T14:34:29.556Z"
   },
   {
    "duration": 155,
    "start_time": "2024-01-21T14:34:29.581Z"
   },
   {
    "duration": 237,
    "start_time": "2024-01-21T14:34:29.739Z"
   },
   {
    "duration": 7,
    "start_time": "2024-01-21T14:34:29.978Z"
   },
   {
    "duration": 205,
    "start_time": "2024-01-21T14:34:29.987Z"
   },
   {
    "duration": 8,
    "start_time": "2024-01-21T14:34:30.195Z"
   },
   {
    "duration": 410,
    "start_time": "2024-01-21T14:34:30.205Z"
   },
   {
    "duration": 6,
    "start_time": "2024-01-21T14:34:30.620Z"
   },
   {
    "duration": 118,
    "start_time": "2024-01-21T14:34:30.628Z"
   },
   {
    "duration": 312,
    "start_time": "2024-01-21T14:34:30.747Z"
   },
   {
    "duration": 14,
    "start_time": "2024-01-21T14:34:31.061Z"
   },
   {
    "duration": 314,
    "start_time": "2024-01-21T14:34:31.078Z"
   },
   {
    "duration": 10,
    "start_time": "2024-01-21T14:34:31.393Z"
   },
   {
    "duration": 490,
    "start_time": "2024-01-21T14:34:31.405Z"
   },
   {
    "duration": 11,
    "start_time": "2024-01-21T14:34:31.896Z"
   },
   {
    "duration": 285,
    "start_time": "2024-01-21T14:34:31.909Z"
   },
   {
    "duration": 139,
    "start_time": "2024-01-21T14:34:32.196Z"
   },
   {
    "duration": 408,
    "start_time": "2024-01-21T14:34:32.337Z"
   },
   {
    "duration": 10,
    "start_time": "2024-01-21T14:34:32.746Z"
   },
   {
    "duration": 249,
    "start_time": "2024-01-21T14:34:32.758Z"
   },
   {
    "duration": 52,
    "start_time": "2024-01-21T14:34:33.009Z"
   },
   {
    "duration": 42,
    "start_time": "2024-01-21T14:34:33.062Z"
   },
   {
    "duration": 67,
    "start_time": "2024-01-21T14:34:33.105Z"
   },
   {
    "duration": 23,
    "start_time": "2024-01-21T14:34:33.173Z"
   },
   {
    "duration": 10,
    "start_time": "2024-01-21T14:34:33.198Z"
   },
   {
    "duration": 37,
    "start_time": "2024-01-21T14:34:33.209Z"
   },
   {
    "duration": 260,
    "start_time": "2024-01-21T14:34:33.248Z"
   },
   {
    "duration": 9,
    "start_time": "2024-01-21T14:34:33.510Z"
   },
   {
    "duration": 18,
    "start_time": "2024-01-21T14:34:33.521Z"
   },
   {
    "duration": 256,
    "start_time": "2024-01-21T14:34:33.540Z"
   },
   {
    "duration": 7,
    "start_time": "2024-01-21T14:34:33.798Z"
   },
   {
    "duration": 36,
    "start_time": "2024-01-21T14:34:33.806Z"
   },
   {
    "duration": 59,
    "start_time": "2024-01-21T14:34:33.843Z"
   },
   {
    "duration": 5,
    "start_time": "2024-01-21T14:34:33.904Z"
   },
   {
    "duration": 33,
    "start_time": "2024-01-21T14:34:33.910Z"
   },
   {
    "duration": 6,
    "start_time": "2024-01-21T14:34:33.944Z"
   },
   {
    "duration": 6,
    "start_time": "2024-01-21T14:34:33.951Z"
   },
   {
    "duration": 11,
    "start_time": "2024-01-21T14:34:33.959Z"
   },
   {
    "duration": 6,
    "start_time": "2024-01-21T14:34:33.971Z"
   },
   {
    "duration": 8,
    "start_time": "2024-01-21T14:34:33.978Z"
   },
   {
    "duration": 50,
    "start_time": "2024-01-21T14:34:33.987Z"
   },
   {
    "duration": 14,
    "start_time": "2024-01-21T14:34:34.038Z"
   },
   {
    "duration": 6,
    "start_time": "2024-01-21T14:34:34.054Z"
   },
   {
    "duration": 352,
    "start_time": "2024-01-21T14:34:34.061Z"
   },
   {
    "duration": 9,
    "start_time": "2024-01-21T14:34:34.414Z"
   },
   {
    "duration": 26,
    "start_time": "2024-01-21T14:34:34.424Z"
   },
   {
    "duration": 1231,
    "start_time": "2024-01-21T15:00:36.014Z"
   },
   {
    "duration": 68,
    "start_time": "2024-01-21T15:00:37.247Z"
   },
   {
    "duration": 20,
    "start_time": "2024-01-21T15:00:37.317Z"
   },
   {
    "duration": 19,
    "start_time": "2024-01-21T15:00:37.339Z"
   },
   {
    "duration": 14,
    "start_time": "2024-01-21T15:00:37.359Z"
   },
   {
    "duration": 9,
    "start_time": "2024-01-21T15:00:37.374Z"
   },
   {
    "duration": 41,
    "start_time": "2024-01-21T15:00:37.384Z"
   },
   {
    "duration": 7,
    "start_time": "2024-01-21T15:00:37.426Z"
   },
   {
    "duration": 6,
    "start_time": "2024-01-21T15:00:37.434Z"
   },
   {
    "duration": 11,
    "start_time": "2024-01-21T15:00:37.442Z"
   },
   {
    "duration": 5,
    "start_time": "2024-01-21T15:00:37.455Z"
   },
   {
    "duration": 5,
    "start_time": "2024-01-21T15:00:37.461Z"
   },
   {
    "duration": 57,
    "start_time": "2024-01-21T15:00:37.467Z"
   },
   {
    "duration": 21,
    "start_time": "2024-01-21T15:00:37.525Z"
   },
   {
    "duration": 8,
    "start_time": "2024-01-21T15:00:37.548Z"
   },
   {
    "duration": 11,
    "start_time": "2024-01-21T15:00:37.558Z"
   },
   {
    "duration": 28,
    "start_time": "2024-01-21T15:00:37.571Z"
   },
   {
    "duration": 185,
    "start_time": "2024-01-21T15:00:37.601Z"
   },
   {
    "duration": 241,
    "start_time": "2024-01-21T15:00:37.788Z"
   },
   {
    "duration": 6,
    "start_time": "2024-01-21T15:00:38.031Z"
   },
   {
    "duration": 191,
    "start_time": "2024-01-21T15:00:38.038Z"
   },
   {
    "duration": 8,
    "start_time": "2024-01-21T15:00:38.230Z"
   },
   {
    "duration": 361,
    "start_time": "2024-01-21T15:00:38.240Z"
   },
   {
    "duration": 6,
    "start_time": "2024-01-21T15:00:38.603Z"
   },
   {
    "duration": 41,
    "start_time": "2024-01-21T15:00:38.610Z"
   },
   {
    "duration": 303,
    "start_time": "2024-01-21T15:00:38.653Z"
   },
   {
    "duration": 16,
    "start_time": "2024-01-21T15:00:38.958Z"
   },
   {
    "duration": 229,
    "start_time": "2024-01-21T15:00:38.977Z"
   },
   {
    "duration": 8,
    "start_time": "2024-01-21T15:00:39.207Z"
   },
   {
    "duration": 420,
    "start_time": "2024-01-21T15:00:39.220Z"
   },
   {
    "duration": 11,
    "start_time": "2024-01-21T15:00:39.641Z"
   },
   {
    "duration": 203,
    "start_time": "2024-01-21T15:00:39.653Z"
   },
   {
    "duration": 8,
    "start_time": "2024-01-21T15:00:39.858Z"
   },
   {
    "duration": 332,
    "start_time": "2024-01-21T15:00:39.868Z"
   },
   {
    "duration": 9,
    "start_time": "2024-01-21T15:00:40.201Z"
   },
   {
    "duration": 7,
    "start_time": "2024-01-21T15:00:40.221Z"
   },
   {
    "duration": 36,
    "start_time": "2024-01-21T15:00:40.229Z"
   },
   {
    "duration": 23,
    "start_time": "2024-01-21T15:00:40.266Z"
   },
   {
    "duration": 47,
    "start_time": "2024-01-21T15:00:40.291Z"
   },
   {
    "duration": 15,
    "start_time": "2024-01-21T15:00:40.340Z"
   },
   {
    "duration": 13,
    "start_time": "2024-01-21T15:00:40.357Z"
   },
   {
    "duration": 21,
    "start_time": "2024-01-21T15:00:40.372Z"
   },
   {
    "duration": 244,
    "start_time": "2024-01-21T15:00:40.395Z"
   },
   {
    "duration": 8,
    "start_time": "2024-01-21T15:00:40.640Z"
   },
   {
    "duration": 13,
    "start_time": "2024-01-21T15:00:40.649Z"
   },
   {
    "duration": 239,
    "start_time": "2024-01-21T15:00:40.664Z"
   },
   {
    "duration": 6,
    "start_time": "2024-01-21T15:00:40.905Z"
   },
   {
    "duration": 12,
    "start_time": "2024-01-21T15:00:40.921Z"
   },
   {
    "duration": 56,
    "start_time": "2024-01-21T15:00:40.935Z"
   },
   {
    "duration": 5,
    "start_time": "2024-01-21T15:00:40.993Z"
   },
   {
    "duration": 19,
    "start_time": "2024-01-21T15:00:41.020Z"
   },
   {
    "duration": 5,
    "start_time": "2024-01-21T15:00:41.041Z"
   },
   {
    "duration": 14,
    "start_time": "2024-01-21T15:00:41.048Z"
   },
   {
    "duration": 27,
    "start_time": "2024-01-21T15:00:41.063Z"
   },
   {
    "duration": 11,
    "start_time": "2024-01-21T15:00:41.092Z"
   },
   {
    "duration": 14,
    "start_time": "2024-01-21T15:00:41.104Z"
   },
   {
    "duration": 22,
    "start_time": "2024-01-21T15:00:41.120Z"
   },
   {
    "duration": 19,
    "start_time": "2024-01-21T15:00:41.144Z"
   },
   {
    "duration": 6,
    "start_time": "2024-01-21T15:00:41.165Z"
   },
   {
    "duration": 356,
    "start_time": "2024-01-21T15:00:41.172Z"
   },
   {
    "duration": 5,
    "start_time": "2024-01-21T15:00:41.530Z"
   },
   {
    "duration": 28,
    "start_time": "2024-01-21T15:00:41.537Z"
   },
   {
    "duration": 1182,
    "start_time": "2024-01-21T15:02:17.217Z"
   },
   {
    "duration": 69,
    "start_time": "2024-01-21T15:02:18.401Z"
   },
   {
    "duration": 22,
    "start_time": "2024-01-21T15:02:18.471Z"
   },
   {
    "duration": 18,
    "start_time": "2024-01-21T15:02:18.495Z"
   },
   {
    "duration": 15,
    "start_time": "2024-01-21T15:02:18.514Z"
   },
   {
    "duration": 18,
    "start_time": "2024-01-21T15:02:18.530Z"
   },
   {
    "duration": 8,
    "start_time": "2024-01-21T15:02:18.549Z"
   },
   {
    "duration": 10,
    "start_time": "2024-01-21T15:02:18.558Z"
   },
   {
    "duration": 5,
    "start_time": "2024-01-21T15:02:18.570Z"
   },
   {
    "duration": 14,
    "start_time": "2024-01-21T15:02:18.577Z"
   },
   {
    "duration": 33,
    "start_time": "2024-01-21T15:02:18.592Z"
   },
   {
    "duration": 7,
    "start_time": "2024-01-21T15:02:18.626Z"
   },
   {
    "duration": 7,
    "start_time": "2024-01-21T15:02:18.634Z"
   },
   {
    "duration": 20,
    "start_time": "2024-01-21T15:02:18.643Z"
   },
   {
    "duration": 13,
    "start_time": "2024-01-21T15:02:18.665Z"
   },
   {
    "duration": 5,
    "start_time": "2024-01-21T15:02:18.680Z"
   },
   {
    "duration": 46,
    "start_time": "2024-01-21T15:02:18.686Z"
   },
   {
    "duration": 167,
    "start_time": "2024-01-21T15:02:18.733Z"
   },
   {
    "duration": 220,
    "start_time": "2024-01-21T15:02:18.902Z"
   },
   {
    "duration": 7,
    "start_time": "2024-01-21T15:02:19.124Z"
   },
   {
    "duration": 184,
    "start_time": "2024-01-21T15:02:19.133Z"
   },
   {
    "duration": 9,
    "start_time": "2024-01-21T15:02:19.319Z"
   },
   {
    "duration": 364,
    "start_time": "2024-01-21T15:02:19.329Z"
   },
   {
    "duration": 7,
    "start_time": "2024-01-21T15:02:19.696Z"
   },
   {
    "duration": 39,
    "start_time": "2024-01-21T15:02:19.705Z"
   },
   {
    "duration": 319,
    "start_time": "2024-01-21T15:02:19.746Z"
   },
   {
    "duration": 13,
    "start_time": "2024-01-21T15:02:20.067Z"
   },
   {
    "duration": 232,
    "start_time": "2024-01-21T15:02:20.082Z"
   },
   {
    "duration": 11,
    "start_time": "2024-01-21T15:02:20.315Z"
   },
   {
    "duration": 434,
    "start_time": "2024-01-21T15:02:20.328Z"
   },
   {
    "duration": 10,
    "start_time": "2024-01-21T15:02:20.764Z"
   },
   {
    "duration": 197,
    "start_time": "2024-01-21T15:02:20.776Z"
   },
   {
    "duration": 8,
    "start_time": "2024-01-21T15:02:20.975Z"
   },
   {
    "duration": 336,
    "start_time": "2024-01-21T15:02:20.985Z"
   },
   {
    "duration": 9,
    "start_time": "2024-01-21T15:02:21.323Z"
   },
   {
    "duration": 11,
    "start_time": "2024-01-21T15:02:21.334Z"
   },
   {
    "duration": 27,
    "start_time": "2024-01-21T15:02:21.346Z"
   },
   {
    "duration": 22,
    "start_time": "2024-01-21T15:02:21.375Z"
   },
   {
    "duration": 14,
    "start_time": "2024-01-21T15:02:21.399Z"
   },
   {
    "duration": 14,
    "start_time": "2024-01-21T15:02:21.421Z"
   },
   {
    "duration": 9,
    "start_time": "2024-01-21T15:02:21.439Z"
   },
   {
    "duration": 23,
    "start_time": "2024-01-21T15:02:21.449Z"
   },
   {
    "duration": 255,
    "start_time": "2024-01-21T15:02:21.474Z"
   },
   {
    "duration": 8,
    "start_time": "2024-01-21T15:02:21.731Z"
   },
   {
    "duration": 25,
    "start_time": "2024-01-21T15:02:21.740Z"
   },
   {
    "duration": 218,
    "start_time": "2024-01-21T15:02:21.767Z"
   },
   {
    "duration": 7,
    "start_time": "2024-01-21T15:02:21.986Z"
   },
   {
    "duration": 30,
    "start_time": "2024-01-21T15:02:21.994Z"
   },
   {
    "duration": 59,
    "start_time": "2024-01-21T15:02:22.025Z"
   },
   {
    "duration": 5,
    "start_time": "2024-01-21T15:02:22.085Z"
   },
   {
    "duration": 39,
    "start_time": "2024-01-21T15:02:22.092Z"
   },
   {
    "duration": 69,
    "start_time": "2024-01-21T15:02:22.133Z"
   },
   {
    "duration": 19,
    "start_time": "2024-01-21T15:02:22.204Z"
   },
   {
    "duration": 34,
    "start_time": "2024-01-21T15:02:22.225Z"
   },
   {
    "duration": 18,
    "start_time": "2024-01-21T15:02:22.261Z"
   },
   {
    "duration": 24,
    "start_time": "2024-01-21T15:02:22.281Z"
   },
   {
    "duration": 26,
    "start_time": "2024-01-21T15:02:22.307Z"
   },
   {
    "duration": 37,
    "start_time": "2024-01-21T15:02:22.335Z"
   },
   {
    "duration": 28,
    "start_time": "2024-01-21T15:02:22.373Z"
   },
   {
    "duration": 349,
    "start_time": "2024-01-21T15:02:22.403Z"
   },
   {
    "duration": 5,
    "start_time": "2024-01-21T15:02:22.753Z"
   },
   {
    "duration": 22,
    "start_time": "2024-01-21T15:02:22.760Z"
   },
   {
    "duration": 110,
    "start_time": "2024-01-21T15:20:35.147Z"
   },
   {
    "duration": 8,
    "start_time": "2024-01-21T15:20:44.957Z"
   },
   {
    "duration": 8,
    "start_time": "2024-01-21T15:45:14.219Z"
   },
   {
    "duration": 4,
    "start_time": "2024-01-21T15:46:07.787Z"
   },
   {
    "duration": 7,
    "start_time": "2024-01-21T15:46:18.634Z"
   },
   {
    "duration": 1270,
    "start_time": "2024-01-21T15:48:55.311Z"
   },
   {
    "duration": 76,
    "start_time": "2024-01-21T15:48:56.582Z"
   },
   {
    "duration": 20,
    "start_time": "2024-01-21T15:48:56.659Z"
   },
   {
    "duration": 15,
    "start_time": "2024-01-21T15:48:56.681Z"
   },
   {
    "duration": 13,
    "start_time": "2024-01-21T15:48:56.698Z"
   },
   {
    "duration": 12,
    "start_time": "2024-01-21T15:48:56.728Z"
   },
   {
    "duration": 7,
    "start_time": "2024-01-21T15:48:56.741Z"
   },
   {
    "duration": 17,
    "start_time": "2024-01-21T15:48:56.750Z"
   },
   {
    "duration": 9,
    "start_time": "2024-01-21T15:48:56.769Z"
   },
   {
    "duration": 18,
    "start_time": "2024-01-21T15:48:56.781Z"
   },
   {
    "duration": 6,
    "start_time": "2024-01-21T15:48:56.801Z"
   },
   {
    "duration": 19,
    "start_time": "2024-01-21T15:48:56.809Z"
   },
   {
    "duration": 10,
    "start_time": "2024-01-21T15:48:56.832Z"
   },
   {
    "duration": 21,
    "start_time": "2024-01-21T15:48:56.844Z"
   },
   {
    "duration": 8,
    "start_time": "2024-01-21T15:48:56.866Z"
   },
   {
    "duration": 4,
    "start_time": "2024-01-21T15:48:56.876Z"
   },
   {
    "duration": 21,
    "start_time": "2024-01-21T15:48:56.882Z"
   },
   {
    "duration": 161,
    "start_time": "2024-01-21T15:48:56.921Z"
   },
   {
    "duration": 217,
    "start_time": "2024-01-21T15:48:57.083Z"
   },
   {
    "duration": 6,
    "start_time": "2024-01-21T15:48:57.301Z"
   },
   {
    "duration": 193,
    "start_time": "2024-01-21T15:48:57.308Z"
   },
   {
    "duration": 9,
    "start_time": "2024-01-21T15:48:57.502Z"
   },
   {
    "duration": 378,
    "start_time": "2024-01-21T15:48:57.513Z"
   },
   {
    "duration": 7,
    "start_time": "2024-01-21T15:48:57.893Z"
   },
   {
    "duration": 36,
    "start_time": "2024-01-21T15:48:57.901Z"
   },
   {
    "duration": 337,
    "start_time": "2024-01-21T15:48:57.939Z"
   },
   {
    "duration": 14,
    "start_time": "2024-01-21T15:48:58.278Z"
   },
   {
    "duration": 253,
    "start_time": "2024-01-21T15:48:58.296Z"
   },
   {
    "duration": 10,
    "start_time": "2024-01-21T15:48:58.550Z"
   },
   {
    "duration": 487,
    "start_time": "2024-01-21T15:48:58.561Z"
   },
   {
    "duration": 10,
    "start_time": "2024-01-21T15:48:59.050Z"
   },
   {
    "duration": 216,
    "start_time": "2024-01-21T15:48:59.062Z"
   },
   {
    "duration": 10,
    "start_time": "2024-01-21T15:48:59.280Z"
   },
   {
    "duration": 362,
    "start_time": "2024-01-21T15:48:59.292Z"
   },
   {
    "duration": 10,
    "start_time": "2024-01-21T15:48:59.656Z"
   },
   {
    "duration": 12,
    "start_time": "2024-01-21T15:48:59.667Z"
   },
   {
    "duration": 18,
    "start_time": "2024-01-21T15:48:59.680Z"
   },
   {
    "duration": 22,
    "start_time": "2024-01-21T15:48:59.700Z"
   },
   {
    "duration": 18,
    "start_time": "2024-01-21T15:48:59.725Z"
   },
   {
    "duration": 20,
    "start_time": "2024-01-21T15:48:59.745Z"
   },
   {
    "duration": 11,
    "start_time": "2024-01-21T15:48:59.767Z"
   },
   {
    "duration": 57,
    "start_time": "2024-01-21T15:48:59.780Z"
   },
   {
    "duration": 249,
    "start_time": "2024-01-21T15:48:59.838Z"
   },
   {
    "duration": 8,
    "start_time": "2024-01-21T15:49:00.088Z"
   },
   {
    "duration": 56,
    "start_time": "2024-01-21T15:49:00.098Z"
   },
   {
    "duration": 239,
    "start_time": "2024-01-21T15:49:00.155Z"
   },
   {
    "duration": 5,
    "start_time": "2024-01-21T15:49:00.396Z"
   },
   {
    "duration": 58,
    "start_time": "2024-01-21T15:49:00.403Z"
   },
   {
    "duration": 113,
    "start_time": "2024-01-21T15:49:00.462Z"
   },
   {
    "duration": 12,
    "start_time": "2024-01-21T15:49:00.577Z"
   },
   {
    "duration": 104,
    "start_time": "2024-01-21T15:49:00.591Z"
   },
   {
    "duration": 35,
    "start_time": "2024-01-21T15:49:00.697Z"
   },
   {
    "duration": 40,
    "start_time": "2024-01-21T15:49:00.734Z"
   },
   {
    "duration": 59,
    "start_time": "2024-01-21T15:49:00.776Z"
   },
   {
    "duration": 105,
    "start_time": "2024-01-21T15:49:00.837Z"
   },
   {
    "duration": 40,
    "start_time": "2024-01-21T15:49:00.944Z"
   },
   {
    "duration": 62,
    "start_time": "2024-01-21T15:49:00.985Z"
   },
   {
    "duration": 46,
    "start_time": "2024-01-21T15:49:01.048Z"
   },
   {
    "duration": 37,
    "start_time": "2024-01-21T15:49:01.095Z"
   },
   {
    "duration": 387,
    "start_time": "2024-01-21T15:49:01.134Z"
   },
   {
    "duration": 13,
    "start_time": "2024-01-21T15:49:01.524Z"
   },
   {
    "duration": 60,
    "start_time": "2024-01-21T15:49:01.538Z"
   },
   {
    "duration": 47,
    "start_time": "2024-01-21T16:24:00.779Z"
   },
   {
    "duration": 1355,
    "start_time": "2024-01-21T16:24:07.061Z"
   },
   {
    "duration": 278,
    "start_time": "2024-01-21T16:24:08.418Z"
   },
   {
    "duration": 26,
    "start_time": "2024-01-21T16:24:08.700Z"
   },
   {
    "duration": 21,
    "start_time": "2024-01-21T16:24:08.728Z"
   },
   {
    "duration": 15,
    "start_time": "2024-01-21T16:24:08.751Z"
   },
   {
    "duration": 10,
    "start_time": "2024-01-21T16:24:08.780Z"
   },
   {
    "duration": 65,
    "start_time": "2024-01-21T16:24:08.792Z"
   },
   {
    "duration": 0,
    "start_time": "2024-01-21T16:24:08.860Z"
   },
   {
    "duration": 0,
    "start_time": "2024-01-21T16:24:08.862Z"
   },
   {
    "duration": 0,
    "start_time": "2024-01-21T16:24:08.880Z"
   },
   {
    "duration": 0,
    "start_time": "2024-01-21T16:24:08.882Z"
   },
   {
    "duration": 0,
    "start_time": "2024-01-21T16:24:08.883Z"
   },
   {
    "duration": 0,
    "start_time": "2024-01-21T16:24:08.884Z"
   },
   {
    "duration": 1,
    "start_time": "2024-01-21T16:24:08.885Z"
   },
   {
    "duration": 0,
    "start_time": "2024-01-21T16:24:08.886Z"
   },
   {
    "duration": 0,
    "start_time": "2024-01-21T16:24:08.888Z"
   },
   {
    "duration": 0,
    "start_time": "2024-01-21T16:24:08.889Z"
   },
   {
    "duration": 0,
    "start_time": "2024-01-21T16:24:08.890Z"
   },
   {
    "duration": 0,
    "start_time": "2024-01-21T16:24:08.891Z"
   },
   {
    "duration": 0,
    "start_time": "2024-01-21T16:24:08.892Z"
   },
   {
    "duration": 0,
    "start_time": "2024-01-21T16:24:08.893Z"
   },
   {
    "duration": 0,
    "start_time": "2024-01-21T16:24:08.894Z"
   },
   {
    "duration": 0,
    "start_time": "2024-01-21T16:24:08.895Z"
   },
   {
    "duration": 0,
    "start_time": "2024-01-21T16:24:08.896Z"
   },
   {
    "duration": 0,
    "start_time": "2024-01-21T16:24:08.898Z"
   },
   {
    "duration": 0,
    "start_time": "2024-01-21T16:24:08.899Z"
   },
   {
    "duration": 1,
    "start_time": "2024-01-21T16:24:08.900Z"
   },
   {
    "duration": 0,
    "start_time": "2024-01-21T16:24:08.902Z"
   },
   {
    "duration": 0,
    "start_time": "2024-01-21T16:24:08.903Z"
   },
   {
    "duration": 0,
    "start_time": "2024-01-21T16:24:08.905Z"
   },
   {
    "duration": 0,
    "start_time": "2024-01-21T16:24:08.907Z"
   },
   {
    "duration": 0,
    "start_time": "2024-01-21T16:24:08.908Z"
   },
   {
    "duration": 0,
    "start_time": "2024-01-21T16:24:08.909Z"
   },
   {
    "duration": 0,
    "start_time": "2024-01-21T16:24:08.910Z"
   },
   {
    "duration": 0,
    "start_time": "2024-01-21T16:24:08.912Z"
   },
   {
    "duration": 0,
    "start_time": "2024-01-21T16:24:08.913Z"
   },
   {
    "duration": 0,
    "start_time": "2024-01-21T16:24:08.914Z"
   },
   {
    "duration": 0,
    "start_time": "2024-01-21T16:24:08.915Z"
   },
   {
    "duration": 0,
    "start_time": "2024-01-21T16:24:08.916Z"
   },
   {
    "duration": 0,
    "start_time": "2024-01-21T16:24:08.917Z"
   },
   {
    "duration": 0,
    "start_time": "2024-01-21T16:24:08.918Z"
   },
   {
    "duration": 0,
    "start_time": "2024-01-21T16:24:08.980Z"
   },
   {
    "duration": 0,
    "start_time": "2024-01-21T16:24:08.981Z"
   },
   {
    "duration": 0,
    "start_time": "2024-01-21T16:24:08.983Z"
   },
   {
    "duration": 0,
    "start_time": "2024-01-21T16:24:08.984Z"
   },
   {
    "duration": 0,
    "start_time": "2024-01-21T16:24:08.985Z"
   },
   {
    "duration": 1,
    "start_time": "2024-01-21T16:24:08.986Z"
   },
   {
    "duration": 0,
    "start_time": "2024-01-21T16:24:08.988Z"
   },
   {
    "duration": 0,
    "start_time": "2024-01-21T16:24:08.989Z"
   },
   {
    "duration": 0,
    "start_time": "2024-01-21T16:24:08.991Z"
   },
   {
    "duration": 0,
    "start_time": "2024-01-21T16:24:08.992Z"
   },
   {
    "duration": 0,
    "start_time": "2024-01-21T16:24:08.993Z"
   },
   {
    "duration": 0,
    "start_time": "2024-01-21T16:24:08.996Z"
   },
   {
    "duration": 0,
    "start_time": "2024-01-21T16:24:08.998Z"
   },
   {
    "duration": 0,
    "start_time": "2024-01-21T16:24:08.999Z"
   },
   {
    "duration": 0,
    "start_time": "2024-01-21T16:24:09.001Z"
   },
   {
    "duration": 0,
    "start_time": "2024-01-21T16:24:09.002Z"
   },
   {
    "duration": 1,
    "start_time": "2024-01-21T16:24:09.003Z"
   },
   {
    "duration": 0,
    "start_time": "2024-01-21T16:24:09.005Z"
   },
   {
    "duration": 0,
    "start_time": "2024-01-21T16:24:09.007Z"
   },
   {
    "duration": 0,
    "start_time": "2024-01-21T16:24:09.008Z"
   },
   {
    "duration": 0,
    "start_time": "2024-01-21T16:24:09.009Z"
   },
   {
    "duration": 0,
    "start_time": "2024-01-21T16:24:09.011Z"
   },
   {
    "duration": 5,
    "start_time": "2024-01-21T16:24:32.176Z"
   },
   {
    "duration": 5,
    "start_time": "2024-01-21T16:25:46.098Z"
   },
   {
    "duration": 10,
    "start_time": "2024-01-21T16:25:46.105Z"
   },
   {
    "duration": 12,
    "start_time": "2024-01-21T16:25:46.117Z"
   },
   {
    "duration": 5,
    "start_time": "2024-01-21T16:25:46.130Z"
   },
   {
    "duration": 19,
    "start_time": "2024-01-21T16:25:46.137Z"
   },
   {
    "duration": 24,
    "start_time": "2024-01-21T16:25:46.158Z"
   },
   {
    "duration": 5,
    "start_time": "2024-01-21T16:25:46.184Z"
   },
   {
    "duration": 7,
    "start_time": "2024-01-21T16:25:46.190Z"
   },
   {
    "duration": 10,
    "start_time": "2024-01-21T16:25:46.198Z"
   },
   {
    "duration": 9,
    "start_time": "2024-01-21T16:25:46.210Z"
   },
   {
    "duration": 4,
    "start_time": "2024-01-21T16:25:46.222Z"
   },
   {
    "duration": 75,
    "start_time": "2024-01-21T16:25:46.228Z"
   },
   {
    "duration": 157,
    "start_time": "2024-01-21T16:25:46.305Z"
   },
   {
    "duration": 237,
    "start_time": "2024-01-21T16:25:46.463Z"
   },
   {
    "duration": 6,
    "start_time": "2024-01-21T16:25:46.702Z"
   },
   {
    "duration": 189,
    "start_time": "2024-01-21T16:25:46.710Z"
   },
   {
    "duration": 8,
    "start_time": "2024-01-21T16:25:46.901Z"
   },
   {
    "duration": 388,
    "start_time": "2024-01-21T16:25:46.911Z"
   },
   {
    "duration": 8,
    "start_time": "2024-01-21T16:25:47.301Z"
   },
   {
    "duration": 35,
    "start_time": "2024-01-21T16:25:47.310Z"
   },
   {
    "duration": 313,
    "start_time": "2024-01-21T16:25:47.347Z"
   },
   {
    "duration": 20,
    "start_time": "2024-01-21T16:25:47.662Z"
   },
   {
    "duration": 235,
    "start_time": "2024-01-21T16:25:47.684Z"
   },
   {
    "duration": 9,
    "start_time": "2024-01-21T16:25:47.921Z"
   },
   {
    "duration": 456,
    "start_time": "2024-01-21T16:25:47.932Z"
   },
   {
    "duration": 11,
    "start_time": "2024-01-21T16:25:48.390Z"
   },
   {
    "duration": 226,
    "start_time": "2024-01-21T16:25:48.403Z"
   },
   {
    "duration": 10,
    "start_time": "2024-01-21T16:25:48.631Z"
   },
   {
    "duration": 386,
    "start_time": "2024-01-21T16:25:48.645Z"
   },
   {
    "duration": 10,
    "start_time": "2024-01-21T16:25:49.032Z"
   },
   {
    "duration": 33,
    "start_time": "2024-01-21T16:25:49.043Z"
   },
   {
    "duration": 16,
    "start_time": "2024-01-21T16:25:49.078Z"
   },
   {
    "duration": 16,
    "start_time": "2024-01-21T16:25:49.095Z"
   },
   {
    "duration": 15,
    "start_time": "2024-01-21T16:25:49.112Z"
   },
   {
    "duration": 13,
    "start_time": "2024-01-21T16:25:49.128Z"
   },
   {
    "duration": 8,
    "start_time": "2024-01-21T16:25:49.143Z"
   },
   {
    "duration": 43,
    "start_time": "2024-01-21T16:25:49.153Z"
   },
   {
    "duration": 260,
    "start_time": "2024-01-21T16:25:49.198Z"
   },
   {
    "duration": 8,
    "start_time": "2024-01-21T16:25:49.460Z"
   },
   {
    "duration": 13,
    "start_time": "2024-01-21T16:25:49.480Z"
   },
   {
    "duration": 221,
    "start_time": "2024-01-21T16:25:49.494Z"
   },
   {
    "duration": 6,
    "start_time": "2024-01-21T16:25:49.717Z"
   },
   {
    "duration": 16,
    "start_time": "2024-01-21T16:25:49.725Z"
   },
   {
    "duration": 78,
    "start_time": "2024-01-21T16:25:49.743Z"
   },
   {
    "duration": 5,
    "start_time": "2024-01-21T16:25:49.823Z"
   },
   {
    "duration": 26,
    "start_time": "2024-01-21T16:25:49.829Z"
   },
   {
    "duration": 6,
    "start_time": "2024-01-21T16:25:49.856Z"
   },
   {
    "duration": 18,
    "start_time": "2024-01-21T16:25:49.864Z"
   },
   {
    "duration": 8,
    "start_time": "2024-01-21T16:25:49.883Z"
   },
   {
    "duration": 10,
    "start_time": "2024-01-21T16:25:49.892Z"
   },
   {
    "duration": 10,
    "start_time": "2024-01-21T16:25:49.904Z"
   },
   {
    "duration": 29,
    "start_time": "2024-01-21T16:25:49.916Z"
   },
   {
    "duration": 36,
    "start_time": "2024-01-21T16:25:49.947Z"
   },
   {
    "duration": 8,
    "start_time": "2024-01-21T16:25:49.985Z"
   },
   {
    "duration": 344,
    "start_time": "2024-01-21T16:25:49.994Z"
   },
   {
    "duration": 5,
    "start_time": "2024-01-21T16:25:50.339Z"
   },
   {
    "duration": 13,
    "start_time": "2024-01-21T16:25:50.346Z"
   },
   {
    "duration": 18,
    "start_time": "2024-01-21T16:26:17.874Z"
   },
   {
    "duration": 23,
    "start_time": "2024-01-21T16:26:56.658Z"
   },
   {
    "duration": 142,
    "start_time": "2024-01-21T16:28:29.532Z"
   },
   {
    "duration": 1269,
    "start_time": "2024-01-21T16:31:18.929Z"
   },
   {
    "duration": 86,
    "start_time": "2024-01-21T16:31:39.302Z"
   },
   {
    "duration": 83,
    "start_time": "2024-01-21T16:33:14.068Z"
   },
   {
    "duration": 155,
    "start_time": "2024-01-21T16:33:23.685Z"
   },
   {
    "duration": 62,
    "start_time": "2024-01-21T16:33:45.928Z"
   },
   {
    "duration": 95,
    "start_time": "2024-01-21T16:33:53.531Z"
   },
   {
    "duration": 87,
    "start_time": "2024-01-21T16:34:24.714Z"
   },
   {
    "duration": 85,
    "start_time": "2024-01-21T16:37:38.253Z"
   },
   {
    "duration": 85,
    "start_time": "2024-01-21T16:37:44.254Z"
   },
   {
    "duration": 312,
    "start_time": "2024-01-21T16:45:21.330Z"
   },
   {
    "duration": 285,
    "start_time": "2024-01-21T16:45:41.359Z"
   },
   {
    "duration": 6,
    "start_time": "2024-01-21T16:53:22.010Z"
   },
   {
    "duration": 184,
    "start_time": "2024-01-21T16:53:36.038Z"
   },
   {
    "duration": 207,
    "start_time": "2024-01-21T16:53:54.444Z"
   },
   {
    "duration": 8,
    "start_time": "2024-01-21T16:54:11.716Z"
   },
   {
    "duration": 7,
    "start_time": "2024-01-21T16:56:05.878Z"
   },
   {
    "duration": 309,
    "start_time": "2024-01-21T16:56:26.949Z"
   },
   {
    "duration": 244,
    "start_time": "2024-01-21T16:56:49.550Z"
   },
   {
    "duration": 303,
    "start_time": "2024-01-21T16:58:12.804Z"
   },
   {
    "duration": 225,
    "start_time": "2024-01-21T16:58:24.608Z"
   },
   {
    "duration": 196,
    "start_time": "2024-01-21T16:59:33.699Z"
   },
   {
    "duration": 244,
    "start_time": "2024-01-21T16:59:45.360Z"
   },
   {
    "duration": 211,
    "start_time": "2024-01-21T16:59:52.991Z"
   },
   {
    "duration": 240,
    "start_time": "2024-01-21T16:59:55.953Z"
   },
   {
    "duration": 262,
    "start_time": "2024-01-21T17:00:00.304Z"
   },
   {
    "duration": 313,
    "start_time": "2024-01-21T17:00:04.175Z"
   },
   {
    "duration": 206,
    "start_time": "2024-01-21T17:00:11.788Z"
   },
   {
    "duration": 10,
    "start_time": "2024-01-21T17:00:46.564Z"
   },
   {
    "duration": 16,
    "start_time": "2024-01-21T17:21:05.017Z"
   },
   {
    "duration": 7,
    "start_time": "2024-01-21T17:22:41.063Z"
   },
   {
    "duration": 6,
    "start_time": "2024-01-21T17:23:04.678Z"
   },
   {
    "duration": 6,
    "start_time": "2024-01-21T17:23:14.011Z"
   },
   {
    "duration": 6,
    "start_time": "2024-01-21T17:23:20.111Z"
   },
   {
    "duration": 63,
    "start_time": "2024-01-21T17:27:42.566Z"
   },
   {
    "duration": 60,
    "start_time": "2024-01-21T17:28:34.770Z"
   },
   {
    "duration": 7,
    "start_time": "2024-01-21T17:29:16.531Z"
   },
   {
    "duration": 6,
    "start_time": "2024-01-21T17:29:24.130Z"
   },
   {
    "duration": 44,
    "start_time": "2024-01-22T08:14:19.777Z"
   },
   {
    "duration": 1267,
    "start_time": "2024-01-22T08:14:28.760Z"
   },
   {
    "duration": 197,
    "start_time": "2024-01-22T08:14:30.029Z"
   },
   {
    "duration": 20,
    "start_time": "2024-01-22T08:14:30.227Z"
   },
   {
    "duration": 122,
    "start_time": "2024-01-22T08:14:30.248Z"
   },
   {
    "duration": 21,
    "start_time": "2024-01-22T08:14:30.372Z"
   },
   {
    "duration": 34,
    "start_time": "2024-01-22T08:14:30.394Z"
   },
   {
    "duration": 48,
    "start_time": "2024-01-22T08:14:30.430Z"
   },
   {
    "duration": 58,
    "start_time": "2024-01-22T08:14:30.480Z"
   },
   {
    "duration": 45,
    "start_time": "2024-01-22T08:14:30.539Z"
   },
   {
    "duration": 69,
    "start_time": "2024-01-22T08:14:30.586Z"
   },
   {
    "duration": 63,
    "start_time": "2024-01-22T08:14:30.656Z"
   },
   {
    "duration": 49,
    "start_time": "2024-01-22T08:14:30.721Z"
   },
   {
    "duration": 17,
    "start_time": "2024-01-22T08:14:30.772Z"
   },
   {
    "duration": 51,
    "start_time": "2024-01-22T08:14:30.790Z"
   },
   {
    "duration": 47,
    "start_time": "2024-01-22T08:14:30.842Z"
   },
   {
    "duration": 44,
    "start_time": "2024-01-22T08:14:30.891Z"
   },
   {
    "duration": 42,
    "start_time": "2024-01-22T08:14:30.936Z"
   },
   {
    "duration": 71,
    "start_time": "2024-01-22T08:14:30.980Z"
   },
   {
    "duration": 149,
    "start_time": "2024-01-22T08:14:31.052Z"
   },
   {
    "duration": 203,
    "start_time": "2024-01-22T08:14:31.203Z"
   },
   {
    "duration": 7,
    "start_time": "2024-01-22T08:14:31.407Z"
   },
   {
    "duration": 114,
    "start_time": "2024-01-22T08:14:31.415Z"
   },
   {
    "duration": 46,
    "start_time": "2024-01-22T08:14:31.531Z"
   },
   {
    "duration": 384,
    "start_time": "2024-01-22T08:14:31.579Z"
   },
   {
    "duration": 5,
    "start_time": "2024-01-22T08:14:31.965Z"
   },
   {
    "duration": 55,
    "start_time": "2024-01-22T08:14:31.972Z"
   },
   {
    "duration": 282,
    "start_time": "2024-01-22T08:14:32.028Z"
   },
   {
    "duration": 11,
    "start_time": "2024-01-22T08:14:32.314Z"
   },
   {
    "duration": 234,
    "start_time": "2024-01-22T08:14:32.326Z"
   },
   {
    "duration": 31,
    "start_time": "2024-01-22T08:14:32.561Z"
   },
   {
    "duration": 457,
    "start_time": "2024-01-22T08:14:32.593Z"
   },
   {
    "duration": 10,
    "start_time": "2024-01-22T08:14:33.052Z"
   },
   {
    "duration": 409,
    "start_time": "2024-01-22T08:14:33.063Z"
   },
   {
    "duration": 10,
    "start_time": "2024-01-22T08:14:33.474Z"
   },
   {
    "duration": 340,
    "start_time": "2024-01-22T08:14:33.485Z"
   },
   {
    "duration": 9,
    "start_time": "2024-01-22T08:14:33.826Z"
   },
   {
    "duration": 176,
    "start_time": "2024-01-22T08:14:33.844Z"
   },
   {
    "duration": 337,
    "start_time": "2024-01-22T08:14:34.022Z"
   },
   {
    "duration": 115,
    "start_time": "2024-01-22T08:14:34.361Z"
   },
   {
    "duration": 53,
    "start_time": "2024-01-22T08:14:34.478Z"
   },
   {
    "duration": 27,
    "start_time": "2024-01-22T08:14:34.533Z"
   },
   {
    "duration": 29,
    "start_time": "2024-01-22T08:14:34.562Z"
   },
   {
    "duration": 49,
    "start_time": "2024-01-22T08:14:34.592Z"
   },
   {
    "duration": 23,
    "start_time": "2024-01-22T08:14:34.642Z"
   },
   {
    "duration": 87,
    "start_time": "2024-01-22T08:14:34.667Z"
   },
   {
    "duration": 253,
    "start_time": "2024-01-22T08:14:34.755Z"
   },
   {
    "duration": 8,
    "start_time": "2024-01-22T08:14:35.009Z"
   },
   {
    "duration": 34,
    "start_time": "2024-01-22T08:14:35.018Z"
   },
   {
    "duration": 201,
    "start_time": "2024-01-22T08:14:35.053Z"
   },
   {
    "duration": 6,
    "start_time": "2024-01-22T08:14:35.256Z"
   },
   {
    "duration": 27,
    "start_time": "2024-01-22T08:14:35.263Z"
   },
   {
    "duration": 68,
    "start_time": "2024-01-22T08:14:35.291Z"
   },
   {
    "duration": 4,
    "start_time": "2024-01-22T08:14:35.360Z"
   },
   {
    "duration": 34,
    "start_time": "2024-01-22T08:14:35.365Z"
   },
   {
    "duration": 32,
    "start_time": "2024-01-22T08:14:35.400Z"
   },
   {
    "duration": 26,
    "start_time": "2024-01-22T08:14:35.434Z"
   },
   {
    "duration": 25,
    "start_time": "2024-01-22T08:14:35.461Z"
   },
   {
    "duration": 41,
    "start_time": "2024-01-22T08:14:35.487Z"
   },
   {
    "duration": 22,
    "start_time": "2024-01-22T08:14:35.530Z"
   },
   {
    "duration": 28,
    "start_time": "2024-01-22T08:14:35.554Z"
   },
   {
    "duration": 30,
    "start_time": "2024-01-22T08:14:35.584Z"
   },
   {
    "duration": 24,
    "start_time": "2024-01-22T08:14:35.616Z"
   },
   {
    "duration": 311,
    "start_time": "2024-01-22T08:14:35.642Z"
   },
   {
    "duration": 5,
    "start_time": "2024-01-22T08:14:35.954Z"
   },
   {
    "duration": 57,
    "start_time": "2024-01-22T08:14:35.960Z"
   },
   {
    "duration": 270,
    "start_time": "2024-01-22T08:15:31.342Z"
   },
   {
    "duration": 22,
    "start_time": "2024-01-22T08:19:11.106Z"
   },
   {
    "duration": 189,
    "start_time": "2024-01-22T08:19:47.521Z"
   },
   {
    "duration": 247,
    "start_time": "2024-01-22T08:20:32.644Z"
   },
   {
    "duration": 250,
    "start_time": "2024-01-22T08:20:52.772Z"
   },
   {
    "duration": 315,
    "start_time": "2024-01-22T08:22:12.142Z"
   },
   {
    "duration": 449,
    "start_time": "2024-01-22T08:22:49.633Z"
   },
   {
    "duration": 212,
    "start_time": "2024-01-22T08:23:51.380Z"
   },
   {
    "duration": 203,
    "start_time": "2024-01-22T08:24:32.101Z"
   },
   {
    "duration": 201,
    "start_time": "2024-01-22T08:25:00.655Z"
   },
   {
    "duration": 21,
    "start_time": "2024-01-22T08:33:37.646Z"
   },
   {
    "duration": 16,
    "start_time": "2024-01-22T08:34:08.059Z"
   },
   {
    "duration": 212,
    "start_time": "2024-01-22T08:34:10.456Z"
   },
   {
    "duration": 400,
    "start_time": "2024-01-22T08:34:46.424Z"
   },
   {
    "duration": 505,
    "start_time": "2024-01-22T08:35:17.420Z"
   },
   {
    "duration": 413,
    "start_time": "2024-01-22T08:35:43.206Z"
   },
   {
    "duration": 209,
    "start_time": "2024-01-22T08:35:45.351Z"
   },
   {
    "duration": 4,
    "start_time": "2024-01-22T08:46:21.378Z"
   },
   {
    "duration": 51,
    "start_time": "2024-01-22T08:46:21.996Z"
   },
   {
    "duration": 5,
    "start_time": "2024-01-22T08:47:17.222Z"
   },
   {
    "duration": 86,
    "start_time": "2024-01-22T08:47:17.229Z"
   },
   {
    "duration": 14,
    "start_time": "2024-01-22T08:47:17.317Z"
   },
   {
    "duration": 27,
    "start_time": "2024-01-22T08:47:17.332Z"
   },
   {
    "duration": 104,
    "start_time": "2024-01-22T08:47:17.362Z"
   },
   {
    "duration": 24,
    "start_time": "2024-01-22T08:47:17.468Z"
   },
   {
    "duration": 46,
    "start_time": "2024-01-22T08:47:17.494Z"
   },
   {
    "duration": 10,
    "start_time": "2024-01-22T08:47:17.542Z"
   },
   {
    "duration": 22,
    "start_time": "2024-01-22T08:47:17.554Z"
   },
   {
    "duration": 39,
    "start_time": "2024-01-22T08:47:17.577Z"
   },
   {
    "duration": 37,
    "start_time": "2024-01-22T08:47:17.619Z"
   },
   {
    "duration": 5,
    "start_time": "2024-01-22T08:47:17.658Z"
   },
   {
    "duration": 12,
    "start_time": "2024-01-22T08:47:17.665Z"
   },
   {
    "duration": 29,
    "start_time": "2024-01-22T08:47:17.679Z"
   },
   {
    "duration": 27,
    "start_time": "2024-01-22T08:47:17.710Z"
   },
   {
    "duration": 36,
    "start_time": "2024-01-22T08:47:17.739Z"
   },
   {
    "duration": 13,
    "start_time": "2024-01-22T08:47:17.776Z"
   },
   {
    "duration": 40,
    "start_time": "2024-01-22T08:47:17.790Z"
   },
   {
    "duration": 142,
    "start_time": "2024-01-22T08:47:17.831Z"
   },
   {
    "duration": 212,
    "start_time": "2024-01-22T08:47:17.974Z"
   },
   {
    "duration": 6,
    "start_time": "2024-01-22T08:47:18.187Z"
   },
   {
    "duration": 107,
    "start_time": "2024-01-22T08:47:18.194Z"
   },
   {
    "duration": 37,
    "start_time": "2024-01-22T08:47:18.302Z"
   },
   {
    "duration": 386,
    "start_time": "2024-01-22T08:47:18.341Z"
   },
   {
    "duration": 6,
    "start_time": "2024-01-22T08:47:18.728Z"
   },
   {
    "duration": 107,
    "start_time": "2024-01-22T08:47:18.736Z"
   },
   {
    "duration": 283,
    "start_time": "2024-01-22T08:47:18.845Z"
   },
   {
    "duration": 29,
    "start_time": "2024-01-22T08:47:19.129Z"
   },
   {
    "duration": 308,
    "start_time": "2024-01-22T08:47:19.162Z"
   },
   {
    "duration": 9,
    "start_time": "2024-01-22T08:47:19.471Z"
   },
   {
    "duration": 342,
    "start_time": "2024-01-22T08:47:19.481Z"
   },
   {
    "duration": 10,
    "start_time": "2024-01-22T08:47:19.825Z"
   },
   {
    "duration": 230,
    "start_time": "2024-01-22T08:47:19.836Z"
   },
   {
    "duration": 9,
    "start_time": "2024-01-22T08:47:20.074Z"
   },
   {
    "duration": 300,
    "start_time": "2024-01-22T08:47:20.085Z"
   },
   {
    "duration": 9,
    "start_time": "2024-01-22T08:47:20.387Z"
   },
   {
    "duration": 139,
    "start_time": "2024-01-22T08:47:20.397Z"
   },
   {
    "duration": 21,
    "start_time": "2024-01-22T08:47:20.538Z"
   },
   {
    "duration": 14,
    "start_time": "2024-01-22T08:47:20.560Z"
   },
   {
    "duration": 35,
    "start_time": "2024-01-22T08:47:20.576Z"
   },
   {
    "duration": 24,
    "start_time": "2024-01-22T08:47:20.612Z"
   },
   {
    "duration": 18,
    "start_time": "2024-01-22T08:47:20.637Z"
   },
   {
    "duration": 31,
    "start_time": "2024-01-22T08:47:20.657Z"
   },
   {
    "duration": 33,
    "start_time": "2024-01-22T08:47:20.690Z"
   },
   {
    "duration": 31,
    "start_time": "2024-01-22T08:47:20.725Z"
   },
   {
    "duration": 458,
    "start_time": "2024-01-22T08:47:20.758Z"
   },
   {
    "duration": 16,
    "start_time": "2024-01-22T08:47:21.218Z"
   },
   {
    "duration": 231,
    "start_time": "2024-01-22T08:47:21.246Z"
   },
   {
    "duration": 13,
    "start_time": "2024-01-22T08:47:21.479Z"
   },
   {
    "duration": 525,
    "start_time": "2024-01-22T08:47:21.493Z"
   },
   {
    "duration": 205,
    "start_time": "2024-01-22T08:47:22.020Z"
   },
   {
    "duration": 5,
    "start_time": "2024-01-22T08:47:22.227Z"
   },
   {
    "duration": 36,
    "start_time": "2024-01-22T08:47:22.245Z"
   },
   {
    "duration": 6,
    "start_time": "2024-01-22T08:47:22.283Z"
   },
   {
    "duration": 93,
    "start_time": "2024-01-22T08:47:22.290Z"
   },
   {
    "duration": 4,
    "start_time": "2024-01-22T08:47:22.384Z"
   },
   {
    "duration": 54,
    "start_time": "2024-01-22T08:47:22.390Z"
   },
   {
    "duration": 50,
    "start_time": "2024-01-22T08:47:22.446Z"
   },
   {
    "duration": 39,
    "start_time": "2024-01-22T08:47:22.498Z"
   },
   {
    "duration": 45,
    "start_time": "2024-01-22T08:47:22.538Z"
   },
   {
    "duration": 29,
    "start_time": "2024-01-22T08:47:22.585Z"
   },
   {
    "duration": 25,
    "start_time": "2024-01-22T08:47:22.616Z"
   },
   {
    "duration": 50,
    "start_time": "2024-01-22T08:47:22.642Z"
   },
   {
    "duration": 46,
    "start_time": "2024-01-22T08:47:22.694Z"
   },
   {
    "duration": 53,
    "start_time": "2024-01-22T08:47:22.741Z"
   },
   {
    "duration": 312,
    "start_time": "2024-01-22T08:47:22.796Z"
   },
   {
    "duration": 5,
    "start_time": "2024-01-22T08:47:23.109Z"
   },
   {
    "duration": 64,
    "start_time": "2024-01-22T08:47:23.115Z"
   },
   {
    "duration": 4,
    "start_time": "2024-01-22T08:48:57.878Z"
   },
   {
    "duration": 8,
    "start_time": "2024-01-22T08:53:41.962Z"
   },
   {
    "duration": 7,
    "start_time": "2024-01-22T08:54:12.119Z"
   },
   {
    "duration": 90,
    "start_time": "2024-01-22T08:55:31.812Z"
   },
   {
    "duration": 5,
    "start_time": "2024-01-22T08:55:35.883Z"
   },
   {
    "duration": 8,
    "start_time": "2024-01-22T08:56:17.052Z"
   },
   {
    "duration": 10,
    "start_time": "2024-01-22T09:00:46.354Z"
   },
   {
    "duration": 5,
    "start_time": "2024-01-22T09:10:30.606Z"
   },
   {
    "duration": 7,
    "start_time": "2024-01-22T09:23:17.619Z"
   },
   {
    "duration": 8,
    "start_time": "2024-01-22T09:23:33.278Z"
   },
   {
    "duration": 5,
    "start_time": "2024-01-22T09:27:00.308Z"
   },
   {
    "duration": 95,
    "start_time": "2024-01-22T09:27:48.130Z"
   },
   {
    "duration": 7,
    "start_time": "2024-01-22T09:27:53.851Z"
   },
   {
    "duration": 4,
    "start_time": "2024-01-22T09:29:51.352Z"
   },
   {
    "duration": 4,
    "start_time": "2024-01-22T09:32:59.837Z"
   },
   {
    "duration": 5,
    "start_time": "2024-01-22T09:37:33.614Z"
   },
   {
    "duration": 8,
    "start_time": "2024-01-22T09:49:11.559Z"
   },
   {
    "duration": 849,
    "start_time": "2024-01-22T09:49:21.171Z"
   },
   {
    "duration": 756,
    "start_time": "2024-01-22T09:49:33.704Z"
   },
   {
    "duration": 759,
    "start_time": "2024-01-22T09:53:16.171Z"
   },
   {
    "duration": 5,
    "start_time": "2024-01-22T09:56:41.233Z"
   },
   {
    "duration": 4,
    "start_time": "2024-01-22T09:56:45.470Z"
   },
   {
    "duration": 4,
    "start_time": "2024-01-22T09:56:48.673Z"
   },
   {
    "duration": 4,
    "start_time": "2024-01-22T09:56:52.047Z"
   },
   {
    "duration": 4,
    "start_time": "2024-01-22T09:56:56.585Z"
   },
   {
    "duration": 4,
    "start_time": "2024-01-22T09:56:59.051Z"
   },
   {
    "duration": 5,
    "start_time": "2024-01-22T09:57:01.577Z"
   },
   {
    "duration": 5,
    "start_time": "2024-01-22T10:00:13.728Z"
   },
   {
    "duration": 6,
    "start_time": "2024-01-22T10:00:15.721Z"
   },
   {
    "duration": 1075,
    "start_time": "2024-01-22T10:04:53.554Z"
   },
   {
    "duration": 69,
    "start_time": "2024-01-22T10:04:54.631Z"
   },
   {
    "duration": 16,
    "start_time": "2024-01-22T10:04:54.702Z"
   },
   {
    "duration": 41,
    "start_time": "2024-01-22T10:04:54.720Z"
   },
   {
    "duration": 22,
    "start_time": "2024-01-22T10:04:54.762Z"
   },
   {
    "duration": 35,
    "start_time": "2024-01-22T10:04:54.785Z"
   },
   {
    "duration": 32,
    "start_time": "2024-01-22T10:04:54.821Z"
   },
   {
    "duration": 38,
    "start_time": "2024-01-22T10:04:54.854Z"
   },
   {
    "duration": 36,
    "start_time": "2024-01-22T10:04:54.894Z"
   },
   {
    "duration": 32,
    "start_time": "2024-01-22T10:04:54.933Z"
   },
   {
    "duration": 36,
    "start_time": "2024-01-22T10:04:54.966Z"
   },
   {
    "duration": 26,
    "start_time": "2024-01-22T10:04:55.004Z"
   },
   {
    "duration": 35,
    "start_time": "2024-01-22T10:04:55.031Z"
   },
   {
    "duration": 24,
    "start_time": "2024-01-22T10:04:55.068Z"
   },
   {
    "duration": 50,
    "start_time": "2024-01-22T10:04:55.094Z"
   },
   {
    "duration": 20,
    "start_time": "2024-01-22T10:04:55.145Z"
   },
   {
    "duration": 40,
    "start_time": "2024-01-22T10:04:55.166Z"
   },
   {
    "duration": 43,
    "start_time": "2024-01-22T10:04:55.207Z"
   },
   {
    "duration": 157,
    "start_time": "2024-01-22T10:04:55.251Z"
   },
   {
    "duration": 190,
    "start_time": "2024-01-22T10:04:55.409Z"
   },
   {
    "duration": 6,
    "start_time": "2024-01-22T10:04:55.600Z"
   },
   {
    "duration": 103,
    "start_time": "2024-01-22T10:04:55.607Z"
   },
   {
    "duration": 6,
    "start_time": "2024-01-22T10:04:55.712Z"
   },
   {
    "duration": 344,
    "start_time": "2024-01-22T10:04:55.720Z"
   },
   {
    "duration": 6,
    "start_time": "2024-01-22T10:04:56.065Z"
   },
   {
    "duration": 51,
    "start_time": "2024-01-22T10:04:56.073Z"
   },
   {
    "duration": 251,
    "start_time": "2024-01-22T10:04:56.125Z"
   },
   {
    "duration": 11,
    "start_time": "2024-01-22T10:04:56.379Z"
   },
   {
    "duration": 201,
    "start_time": "2024-01-22T10:04:56.392Z"
   },
   {
    "duration": 7,
    "start_time": "2024-01-22T10:04:56.595Z"
   },
   {
    "duration": 406,
    "start_time": "2024-01-22T10:04:56.604Z"
   },
   {
    "duration": 9,
    "start_time": "2024-01-22T10:04:57.012Z"
   },
   {
    "duration": 186,
    "start_time": "2024-01-22T10:04:57.022Z"
   },
   {
    "duration": 11,
    "start_time": "2024-01-22T10:04:57.210Z"
   },
   {
    "duration": 299,
    "start_time": "2024-01-22T10:04:57.222Z"
   },
   {
    "duration": 9,
    "start_time": "2024-01-22T10:04:57.522Z"
   },
   {
    "duration": 17,
    "start_time": "2024-01-22T10:04:57.532Z"
   },
   {
    "duration": 19,
    "start_time": "2024-01-22T10:04:57.551Z"
   },
   {
    "duration": 13,
    "start_time": "2024-01-22T10:04:57.571Z"
   },
   {
    "duration": 13,
    "start_time": "2024-01-22T10:04:57.585Z"
   },
   {
    "duration": 29,
    "start_time": "2024-01-22T10:04:57.599Z"
   },
   {
    "duration": 13,
    "start_time": "2024-01-22T10:04:57.629Z"
   },
   {
    "duration": 16,
    "start_time": "2024-01-22T10:04:57.644Z"
   },
   {
    "duration": 8,
    "start_time": "2024-01-22T10:04:57.662Z"
   },
   {
    "duration": 23,
    "start_time": "2024-01-22T10:04:57.672Z"
   },
   {
    "duration": 439,
    "start_time": "2024-01-22T10:04:57.697Z"
   },
   {
    "duration": 21,
    "start_time": "2024-01-22T10:04:58.138Z"
   },
   {
    "duration": 221,
    "start_time": "2024-01-22T10:04:58.160Z"
   },
   {
    "duration": 11,
    "start_time": "2024-01-22T10:04:58.382Z"
   },
   {
    "duration": 403,
    "start_time": "2024-01-22T10:04:58.394Z"
   },
   {
    "duration": 188,
    "start_time": "2024-01-22T10:04:58.798Z"
   },
   {
    "duration": 6,
    "start_time": "2024-01-22T10:04:58.987Z"
   },
   {
    "duration": 15,
    "start_time": "2024-01-22T10:04:58.994Z"
   },
   {
    "duration": 3,
    "start_time": "2024-01-22T10:04:59.011Z"
   },
   {
    "duration": 150,
    "start_time": "2024-01-22T10:04:59.015Z"
   },
   {
    "duration": 4,
    "start_time": "2024-01-22T10:04:59.166Z"
   },
   {
    "duration": 23,
    "start_time": "2024-01-22T10:04:59.172Z"
   },
   {
    "duration": 7,
    "start_time": "2024-01-22T10:04:59.196Z"
   },
   {
    "duration": 10,
    "start_time": "2024-01-22T10:04:59.205Z"
   },
   {
    "duration": 20,
    "start_time": "2024-01-22T10:04:59.217Z"
   },
   {
    "duration": 6,
    "start_time": "2024-01-22T10:04:59.239Z"
   },
   {
    "duration": 781,
    "start_time": "2024-01-22T10:04:59.247Z"
   },
   {
    "duration": 5,
    "start_time": "2024-01-22T10:05:00.029Z"
   },
   {
    "duration": 21,
    "start_time": "2024-01-22T10:05:00.035Z"
   },
   {
    "duration": 72,
    "start_time": "2024-01-22T10:05:00.058Z"
   },
   {
    "duration": 110,
    "start_time": "2024-01-22T10:05:00.131Z"
   },
   {
    "duration": 445,
    "start_time": "2024-01-22T10:05:00.242Z"
   },
   {
    "duration": 164,
    "start_time": "2024-01-22T10:05:00.688Z"
   },
   {
    "duration": 45,
    "start_time": "2024-01-22T10:05:00.853Z"
   },
   {
    "duration": 142,
    "start_time": "2024-01-22T10:05:00.899Z"
   },
   {
    "duration": 57,
    "start_time": "2024-01-22T10:05:01.043Z"
   },
   {
    "duration": 367,
    "start_time": "2024-01-22T10:05:01.101Z"
   },
   {
    "duration": 5,
    "start_time": "2024-01-22T10:05:01.469Z"
   },
   {
    "duration": 151,
    "start_time": "2024-01-22T10:05:01.475Z"
   },
   {
    "duration": 1085,
    "start_time": "2024-01-22T10:12:56.560Z"
   },
   {
    "duration": 67,
    "start_time": "2024-01-22T10:12:57.646Z"
   },
   {
    "duration": 25,
    "start_time": "2024-01-22T10:12:57.715Z"
   },
   {
    "duration": 48,
    "start_time": "2024-01-22T10:12:57.742Z"
   },
   {
    "duration": 21,
    "start_time": "2024-01-22T10:12:57.791Z"
   },
   {
    "duration": 47,
    "start_time": "2024-01-22T10:12:57.813Z"
   },
   {
    "duration": 22,
    "start_time": "2024-01-22T10:12:57.861Z"
   },
   {
    "duration": 33,
    "start_time": "2024-01-22T10:12:57.884Z"
   },
   {
    "duration": 58,
    "start_time": "2024-01-22T10:12:57.918Z"
   },
   {
    "duration": 9,
    "start_time": "2024-01-22T10:12:57.978Z"
   },
   {
    "duration": 12,
    "start_time": "2024-01-22T10:12:57.988Z"
   },
   {
    "duration": 4,
    "start_time": "2024-01-22T10:12:58.001Z"
   },
   {
    "duration": 19,
    "start_time": "2024-01-22T10:12:58.006Z"
   },
   {
    "duration": 44,
    "start_time": "2024-01-22T10:12:58.026Z"
   },
   {
    "duration": 22,
    "start_time": "2024-01-22T10:12:58.071Z"
   },
   {
    "duration": 21,
    "start_time": "2024-01-22T10:12:58.095Z"
   },
   {
    "duration": 13,
    "start_time": "2024-01-22T10:12:58.117Z"
   },
   {
    "duration": 92,
    "start_time": "2024-01-22T10:12:58.131Z"
   },
   {
    "duration": 123,
    "start_time": "2024-01-22T10:12:58.224Z"
   },
   {
    "duration": 192,
    "start_time": "2024-01-22T10:12:58.348Z"
   },
   {
    "duration": 5,
    "start_time": "2024-01-22T10:12:58.541Z"
   },
   {
    "duration": 84,
    "start_time": "2024-01-22T10:12:58.547Z"
   },
   {
    "duration": 14,
    "start_time": "2024-01-22T10:12:58.633Z"
   },
   {
    "duration": 451,
    "start_time": "2024-01-22T10:12:58.649Z"
   },
   {
    "duration": 6,
    "start_time": "2024-01-22T10:12:59.101Z"
   },
   {
    "duration": 46,
    "start_time": "2024-01-22T10:12:59.108Z"
   },
   {
    "duration": 250,
    "start_time": "2024-01-22T10:12:59.155Z"
   },
   {
    "duration": 11,
    "start_time": "2024-01-22T10:12:59.409Z"
   },
   {
    "duration": 258,
    "start_time": "2024-01-22T10:12:59.421Z"
   },
   {
    "duration": 8,
    "start_time": "2024-01-22T10:12:59.680Z"
   },
   {
    "duration": 382,
    "start_time": "2024-01-22T10:12:59.689Z"
   },
   {
    "duration": 9,
    "start_time": "2024-01-22T10:13:00.073Z"
   },
   {
    "duration": 220,
    "start_time": "2024-01-22T10:13:00.083Z"
   },
   {
    "duration": 8,
    "start_time": "2024-01-22T10:13:00.304Z"
   },
   {
    "duration": 320,
    "start_time": "2024-01-22T10:13:00.313Z"
   },
   {
    "duration": 14,
    "start_time": "2024-01-22T10:13:00.634Z"
   },
   {
    "duration": 53,
    "start_time": "2024-01-22T10:13:00.649Z"
   },
   {
    "duration": 74,
    "start_time": "2024-01-22T10:13:00.703Z"
   },
   {
    "duration": 48,
    "start_time": "2024-01-22T10:13:00.778Z"
   },
   {
    "duration": 93,
    "start_time": "2024-01-22T10:13:00.828Z"
   },
   {
    "duration": 48,
    "start_time": "2024-01-22T10:13:00.922Z"
   },
   {
    "duration": 58,
    "start_time": "2024-01-22T10:13:00.971Z"
   },
   {
    "duration": 86,
    "start_time": "2024-01-22T10:13:01.031Z"
   },
   {
    "duration": 50,
    "start_time": "2024-01-22T10:13:01.118Z"
   },
   {
    "duration": 79,
    "start_time": "2024-01-22T10:13:01.169Z"
   },
   {
    "duration": 468,
    "start_time": "2024-01-22T10:13:01.250Z"
   },
   {
    "duration": 17,
    "start_time": "2024-01-22T10:13:01.719Z"
   },
   {
    "duration": 254,
    "start_time": "2024-01-22T10:13:01.744Z"
   },
   {
    "duration": 11,
    "start_time": "2024-01-22T10:13:01.999Z"
   },
   {
    "duration": 445,
    "start_time": "2024-01-22T10:13:02.012Z"
   },
   {
    "duration": 194,
    "start_time": "2024-01-22T10:13:02.458Z"
   },
   {
    "duration": 6,
    "start_time": "2024-01-22T10:13:02.653Z"
   },
   {
    "duration": 195,
    "start_time": "2024-01-22T10:13:02.660Z"
   },
   {
    "duration": 318,
    "start_time": "2024-01-22T10:13:02.857Z"
   },
   {
    "duration": 238,
    "start_time": "2024-01-22T10:13:03.177Z"
   },
   {
    "duration": 4,
    "start_time": "2024-01-22T10:13:03.416Z"
   },
   {
    "duration": 32,
    "start_time": "2024-01-22T10:13:03.421Z"
   },
   {
    "duration": 56,
    "start_time": "2024-01-22T10:13:03.454Z"
   },
   {
    "duration": 35,
    "start_time": "2024-01-22T10:13:03.511Z"
   },
   {
    "duration": 15,
    "start_time": "2024-01-22T10:13:03.547Z"
   },
   {
    "duration": 11,
    "start_time": "2024-01-22T10:13:03.564Z"
   },
   {
    "duration": 769,
    "start_time": "2024-01-22T10:13:03.576Z"
   },
   {
    "duration": 4,
    "start_time": "2024-01-22T10:13:04.346Z"
   },
   {
    "duration": 48,
    "start_time": "2024-01-22T10:13:04.351Z"
   },
   {
    "duration": 34,
    "start_time": "2024-01-22T10:13:04.400Z"
   },
   {
    "duration": 60,
    "start_time": "2024-01-22T10:13:04.435Z"
   },
   {
    "duration": 133,
    "start_time": "2024-01-22T10:13:04.496Z"
   },
   {
    "duration": 132,
    "start_time": "2024-01-22T10:13:04.630Z"
   },
   {
    "duration": 280,
    "start_time": "2024-01-22T10:13:04.763Z"
   },
   {
    "duration": 109,
    "start_time": "2024-01-22T10:13:05.045Z"
   },
   {
    "duration": 34,
    "start_time": "2024-01-22T10:13:05.155Z"
   },
   {
    "duration": 298,
    "start_time": "2024-01-22T10:13:05.190Z"
   },
   {
    "duration": 4,
    "start_time": "2024-01-22T10:13:05.490Z"
   },
   {
    "duration": 318,
    "start_time": "2024-01-22T10:13:05.495Z"
   },
   {
    "duration": 1234,
    "start_time": "2024-01-22T16:07:41.648Z"
   },
   {
    "duration": 66,
    "start_time": "2024-01-22T16:07:42.883Z"
   },
   {
    "duration": 19,
    "start_time": "2024-01-22T16:07:42.950Z"
   },
   {
    "duration": 17,
    "start_time": "2024-01-22T16:07:42.971Z"
   },
   {
    "duration": 21,
    "start_time": "2024-01-22T16:07:42.990Z"
   },
   {
    "duration": 9,
    "start_time": "2024-01-22T16:07:43.012Z"
   },
   {
    "duration": 30,
    "start_time": "2024-01-22T16:07:43.023Z"
   },
   {
    "duration": 6,
    "start_time": "2024-01-22T16:07:43.054Z"
   },
   {
    "duration": 9,
    "start_time": "2024-01-22T16:07:43.061Z"
   },
   {
    "duration": 5,
    "start_time": "2024-01-22T16:07:43.073Z"
   },
   {
    "duration": 15,
    "start_time": "2024-01-22T16:07:43.079Z"
   },
   {
    "duration": 6,
    "start_time": "2024-01-22T16:07:43.095Z"
   },
   {
    "duration": 5,
    "start_time": "2024-01-22T16:07:43.102Z"
   },
   {
    "duration": 5,
    "start_time": "2024-01-22T16:07:43.108Z"
   },
   {
    "duration": 44,
    "start_time": "2024-01-22T16:07:43.114Z"
   },
   {
    "duration": 56,
    "start_time": "2024-01-22T16:07:43.160Z"
   },
   {
    "duration": 19,
    "start_time": "2024-01-22T16:07:43.217Z"
   },
   {
    "duration": 22,
    "start_time": "2024-01-22T16:07:43.237Z"
   },
   {
    "duration": 127,
    "start_time": "2024-01-22T16:07:43.260Z"
   },
   {
    "duration": 196,
    "start_time": "2024-01-22T16:07:43.388Z"
   },
   {
    "duration": 6,
    "start_time": "2024-01-22T16:07:43.586Z"
   },
   {
    "duration": 95,
    "start_time": "2024-01-22T16:07:43.593Z"
   },
   {
    "duration": 7,
    "start_time": "2024-01-22T16:07:43.689Z"
   },
   {
    "duration": 329,
    "start_time": "2024-01-22T16:07:43.698Z"
   },
   {
    "duration": 7,
    "start_time": "2024-01-22T16:07:44.028Z"
   },
   {
    "duration": 38,
    "start_time": "2024-01-22T16:07:44.036Z"
   },
   {
    "duration": 292,
    "start_time": "2024-01-22T16:07:44.076Z"
   },
   {
    "duration": 12,
    "start_time": "2024-01-22T16:07:44.372Z"
   },
   {
    "duration": 219,
    "start_time": "2024-01-22T16:07:44.385Z"
   },
   {
    "duration": 9,
    "start_time": "2024-01-22T16:07:44.606Z"
   },
   {
    "duration": 471,
    "start_time": "2024-01-22T16:07:44.616Z"
   },
   {
    "duration": 17,
    "start_time": "2024-01-22T16:07:45.089Z"
   },
   {
    "duration": 216,
    "start_time": "2024-01-22T16:07:45.109Z"
   },
   {
    "duration": 8,
    "start_time": "2024-01-22T16:07:45.327Z"
   },
   {
    "duration": 311,
    "start_time": "2024-01-22T16:07:45.337Z"
   },
   {
    "duration": 11,
    "start_time": "2024-01-22T16:07:45.651Z"
   },
   {
    "duration": 11,
    "start_time": "2024-01-22T16:07:45.663Z"
   },
   {
    "duration": 23,
    "start_time": "2024-01-22T16:07:45.676Z"
   },
   {
    "duration": 21,
    "start_time": "2024-01-22T16:07:45.700Z"
   },
   {
    "duration": 17,
    "start_time": "2024-01-22T16:07:45.723Z"
   },
   {
    "duration": 30,
    "start_time": "2024-01-22T16:07:45.741Z"
   },
   {
    "duration": 6,
    "start_time": "2024-01-22T16:07:45.772Z"
   },
   {
    "duration": 32,
    "start_time": "2024-01-22T16:07:45.779Z"
   },
   {
    "duration": 13,
    "start_time": "2024-01-22T16:07:45.813Z"
   },
   {
    "duration": 23,
    "start_time": "2024-01-22T16:07:45.827Z"
   },
   {
    "duration": 467,
    "start_time": "2024-01-22T16:07:45.852Z"
   },
   {
    "duration": 20,
    "start_time": "2024-01-22T16:07:46.320Z"
   },
   {
    "duration": 218,
    "start_time": "2024-01-22T16:07:46.353Z"
   },
   {
    "duration": 11,
    "start_time": "2024-01-22T16:07:46.573Z"
   },
   {
    "duration": 455,
    "start_time": "2024-01-22T16:07:46.586Z"
   },
   {
    "duration": 210,
    "start_time": "2024-01-22T16:07:47.042Z"
   },
   {
    "duration": 5,
    "start_time": "2024-01-22T16:07:47.254Z"
   },
   {
    "duration": 35,
    "start_time": "2024-01-22T16:07:47.261Z"
   },
   {
    "duration": 16,
    "start_time": "2024-01-22T16:07:47.299Z"
   },
   {
    "duration": 164,
    "start_time": "2024-01-22T16:07:47.316Z"
   },
   {
    "duration": 5,
    "start_time": "2024-01-22T16:07:47.481Z"
   },
   {
    "duration": 29,
    "start_time": "2024-01-22T16:07:47.488Z"
   },
   {
    "duration": 18,
    "start_time": "2024-01-22T16:07:47.519Z"
   },
   {
    "duration": 7,
    "start_time": "2024-01-22T16:07:47.538Z"
   },
   {
    "duration": 5,
    "start_time": "2024-01-22T16:07:47.546Z"
   },
   {
    "duration": 8,
    "start_time": "2024-01-22T16:07:47.552Z"
   },
   {
    "duration": 835,
    "start_time": "2024-01-22T16:07:47.562Z"
   },
   {
    "duration": 5,
    "start_time": "2024-01-22T16:07:48.398Z"
   },
   {
    "duration": 23,
    "start_time": "2024-01-22T16:07:48.404Z"
   },
   {
    "duration": 5,
    "start_time": "2024-01-22T16:07:48.429Z"
   },
   {
    "duration": 18,
    "start_time": "2024-01-22T16:07:48.436Z"
   },
   {
    "duration": 40,
    "start_time": "2024-01-22T16:07:48.455Z"
   },
   {
    "duration": 35,
    "start_time": "2024-01-22T16:07:48.496Z"
   },
   {
    "duration": 9,
    "start_time": "2024-01-22T16:07:48.532Z"
   },
   {
    "duration": 7,
    "start_time": "2024-01-22T16:07:48.543Z"
   },
   {
    "duration": 16,
    "start_time": "2024-01-22T16:07:48.551Z"
   },
   {
    "duration": 328,
    "start_time": "2024-01-22T16:07:48.568Z"
   },
   {
    "duration": 6,
    "start_time": "2024-01-22T16:07:48.898Z"
   },
   {
    "duration": 31,
    "start_time": "2024-01-22T16:07:48.906Z"
   },
   {
    "duration": 5,
    "start_time": "2024-01-22T16:12:33.435Z"
   },
   {
    "duration": 1267,
    "start_time": "2024-01-22T16:15:35.752Z"
   },
   {
    "duration": 68,
    "start_time": "2024-01-22T16:15:37.021Z"
   },
   {
    "duration": 21,
    "start_time": "2024-01-22T16:15:37.090Z"
   },
   {
    "duration": 17,
    "start_time": "2024-01-22T16:15:37.113Z"
   },
   {
    "duration": 23,
    "start_time": "2024-01-22T16:15:37.131Z"
   },
   {
    "duration": 31,
    "start_time": "2024-01-22T16:15:37.155Z"
   },
   {
    "duration": 5,
    "start_time": "2024-01-22T16:15:37.187Z"
   },
   {
    "duration": 10,
    "start_time": "2024-01-22T16:15:37.193Z"
   },
   {
    "duration": 17,
    "start_time": "2024-01-22T16:15:37.205Z"
   },
   {
    "duration": 14,
    "start_time": "2024-01-22T16:15:37.225Z"
   },
   {
    "duration": 14,
    "start_time": "2024-01-22T16:15:37.240Z"
   },
   {
    "duration": 6,
    "start_time": "2024-01-22T16:15:37.256Z"
   },
   {
    "duration": 25,
    "start_time": "2024-01-22T16:15:37.264Z"
   },
   {
    "duration": 10,
    "start_time": "2024-01-22T16:15:37.291Z"
   },
   {
    "duration": 12,
    "start_time": "2024-01-22T16:15:37.302Z"
   },
   {
    "duration": 14,
    "start_time": "2024-01-22T16:15:37.315Z"
   },
   {
    "duration": 6,
    "start_time": "2024-01-22T16:15:37.331Z"
   },
   {
    "duration": 48,
    "start_time": "2024-01-22T16:15:37.339Z"
   },
   {
    "duration": 160,
    "start_time": "2024-01-22T16:15:37.389Z"
   },
   {
    "duration": 216,
    "start_time": "2024-01-22T16:15:37.551Z"
   },
   {
    "duration": 7,
    "start_time": "2024-01-22T16:15:37.768Z"
   },
   {
    "duration": 95,
    "start_time": "2024-01-22T16:15:37.776Z"
   },
   {
    "duration": 8,
    "start_time": "2024-01-22T16:15:37.873Z"
   },
   {
    "duration": 371,
    "start_time": "2024-01-22T16:15:37.882Z"
   },
   {
    "duration": 7,
    "start_time": "2024-01-22T16:15:38.255Z"
   },
   {
    "duration": 41,
    "start_time": "2024-01-22T16:15:38.264Z"
   },
   {
    "duration": 303,
    "start_time": "2024-01-22T16:15:38.307Z"
   },
   {
    "duration": 13,
    "start_time": "2024-01-22T16:15:38.614Z"
   },
   {
    "duration": 256,
    "start_time": "2024-01-22T16:15:38.629Z"
   },
   {
    "duration": 9,
    "start_time": "2024-01-22T16:15:38.887Z"
   },
   {
    "duration": 455,
    "start_time": "2024-01-22T16:15:38.897Z"
   },
   {
    "duration": 10,
    "start_time": "2024-01-22T16:15:39.354Z"
   },
   {
    "duration": 219,
    "start_time": "2024-01-22T16:15:39.365Z"
   },
   {
    "duration": 9,
    "start_time": "2024-01-22T16:15:39.585Z"
   },
   {
    "duration": 326,
    "start_time": "2024-01-22T16:15:39.595Z"
   },
   {
    "duration": 11,
    "start_time": "2024-01-22T16:15:39.924Z"
   },
   {
    "duration": 29,
    "start_time": "2024-01-22T16:15:39.936Z"
   },
   {
    "duration": 43,
    "start_time": "2024-01-22T16:15:39.966Z"
   },
   {
    "duration": 23,
    "start_time": "2024-01-22T16:15:40.011Z"
   },
   {
    "duration": 29,
    "start_time": "2024-01-22T16:15:40.035Z"
   },
   {
    "duration": 34,
    "start_time": "2024-01-22T16:15:40.065Z"
   },
   {
    "duration": 32,
    "start_time": "2024-01-22T16:15:40.100Z"
   },
   {
    "duration": 25,
    "start_time": "2024-01-22T16:15:40.133Z"
   },
   {
    "duration": 25,
    "start_time": "2024-01-22T16:15:40.160Z"
   },
   {
    "duration": 21,
    "start_time": "2024-01-22T16:15:40.187Z"
   },
   {
    "duration": 493,
    "start_time": "2024-01-22T16:15:40.210Z"
   },
   {
    "duration": 18,
    "start_time": "2024-01-22T16:15:40.704Z"
   },
   {
    "duration": 233,
    "start_time": "2024-01-22T16:15:40.723Z"
   },
   {
    "duration": 11,
    "start_time": "2024-01-22T16:15:40.958Z"
   },
   {
    "duration": 488,
    "start_time": "2024-01-22T16:15:40.970Z"
   },
   {
    "duration": 207,
    "start_time": "2024-01-22T16:15:41.460Z"
   },
   {
    "duration": 7,
    "start_time": "2024-01-22T16:15:41.668Z"
   },
   {
    "duration": 57,
    "start_time": "2024-01-22T16:15:41.676Z"
   },
   {
    "duration": 2,
    "start_time": "2024-01-22T16:15:41.735Z"
   },
   {
    "duration": 140,
    "start_time": "2024-01-22T16:15:41.739Z"
   },
   {
    "duration": 4,
    "start_time": "2024-01-22T16:15:41.880Z"
   },
   {
    "duration": 60,
    "start_time": "2024-01-22T16:15:41.886Z"
   },
   {
    "duration": 10,
    "start_time": "2024-01-22T16:15:41.947Z"
   },
   {
    "duration": 21,
    "start_time": "2024-01-22T16:15:41.958Z"
   },
   {
    "duration": 27,
    "start_time": "2024-01-22T16:15:41.981Z"
   },
   {
    "duration": 19,
    "start_time": "2024-01-22T16:15:42.010Z"
   },
   {
    "duration": 861,
    "start_time": "2024-01-22T16:15:42.030Z"
   },
   {
    "duration": 5,
    "start_time": "2024-01-22T16:15:42.892Z"
   },
   {
    "duration": 29,
    "start_time": "2024-01-22T16:15:42.898Z"
   },
   {
    "duration": 34,
    "start_time": "2024-01-22T16:15:42.929Z"
   },
   {
    "duration": 22,
    "start_time": "2024-01-22T16:15:42.965Z"
   },
   {
    "duration": 16,
    "start_time": "2024-01-22T16:15:42.989Z"
   },
   {
    "duration": 19,
    "start_time": "2024-01-22T16:15:43.006Z"
   },
   {
    "duration": 26,
    "start_time": "2024-01-22T16:15:43.027Z"
   },
   {
    "duration": 20,
    "start_time": "2024-01-22T16:15:43.055Z"
   },
   {
    "duration": 12,
    "start_time": "2024-01-22T16:15:43.076Z"
   },
   {
    "duration": 311,
    "start_time": "2024-01-22T16:15:43.089Z"
   },
   {
    "duration": 5,
    "start_time": "2024-01-22T16:15:43.402Z"
   },
   {
    "duration": 7,
    "start_time": "2024-01-22T16:15:43.409Z"
   },
   {
    "duration": 47,
    "start_time": "2024-01-24T15:53:44.343Z"
   },
   {
    "duration": 1365,
    "start_time": "2024-01-24T16:01:05.487Z"
   },
   {
    "duration": 188,
    "start_time": "2024-01-24T16:01:06.854Z"
   },
   {
    "duration": 21,
    "start_time": "2024-01-24T16:01:07.044Z"
   },
   {
    "duration": 15,
    "start_time": "2024-01-24T16:01:07.067Z"
   },
   {
    "duration": 13,
    "start_time": "2024-01-24T16:01:07.083Z"
   },
   {
    "duration": 11,
    "start_time": "2024-01-24T16:01:07.097Z"
   },
   {
    "duration": 6,
    "start_time": "2024-01-24T16:01:07.109Z"
   },
   {
    "duration": 5,
    "start_time": "2024-01-24T16:01:07.134Z"
   },
   {
    "duration": 7,
    "start_time": "2024-01-24T16:01:07.141Z"
   },
   {
    "duration": 15,
    "start_time": "2024-01-24T16:01:07.150Z"
   },
   {
    "duration": 23,
    "start_time": "2024-01-24T16:01:07.167Z"
   },
   {
    "duration": 25,
    "start_time": "2024-01-24T16:01:07.191Z"
   },
   {
    "duration": 6,
    "start_time": "2024-01-24T16:01:07.217Z"
   },
   {
    "duration": 9,
    "start_time": "2024-01-24T16:01:07.225Z"
   },
   {
    "duration": 9,
    "start_time": "2024-01-24T16:01:07.236Z"
   },
   {
    "duration": 15,
    "start_time": "2024-01-24T16:01:07.247Z"
   },
   {
    "duration": 20,
    "start_time": "2024-01-24T16:01:07.263Z"
   },
   {
    "duration": 23,
    "start_time": "2024-01-24T16:01:07.285Z"
   },
   {
    "duration": 245,
    "start_time": "2024-01-24T16:01:07.310Z"
   },
   {
    "duration": 389,
    "start_time": "2024-01-24T16:01:07.556Z"
   },
   {
    "duration": 6,
    "start_time": "2024-01-24T16:01:07.946Z"
   },
   {
    "duration": 182,
    "start_time": "2024-01-24T16:01:07.954Z"
   },
   {
    "duration": 11,
    "start_time": "2024-01-24T16:01:08.138Z"
   },
   {
    "duration": 669,
    "start_time": "2024-01-24T16:01:08.150Z"
   },
   {
    "duration": 6,
    "start_time": "2024-01-24T16:01:08.821Z"
   },
   {
    "duration": 40,
    "start_time": "2024-01-24T16:01:08.828Z"
   },
   {
    "duration": 539,
    "start_time": "2024-01-24T16:01:08.870Z"
   },
   {
    "duration": 11,
    "start_time": "2024-01-24T16:01:09.413Z"
   },
   {
    "duration": 503,
    "start_time": "2024-01-24T16:01:09.433Z"
   },
   {
    "duration": 8,
    "start_time": "2024-01-24T16:01:09.938Z"
   },
   {
    "duration": 582,
    "start_time": "2024-01-24T16:01:09.947Z"
   },
   {
    "duration": 10,
    "start_time": "2024-01-24T16:01:10.530Z"
   },
   {
    "duration": 387,
    "start_time": "2024-01-24T16:01:10.541Z"
   },
   {
    "duration": 8,
    "start_time": "2024-01-24T16:01:10.933Z"
   },
   {
    "duration": 504,
    "start_time": "2024-01-24T16:01:10.943Z"
   },
   {
    "duration": 8,
    "start_time": "2024-01-24T16:01:11.448Z"
   },
   {
    "duration": 35,
    "start_time": "2024-01-24T16:01:11.458Z"
   },
   {
    "duration": 37,
    "start_time": "2024-01-24T16:01:11.494Z"
   },
   {
    "duration": 64,
    "start_time": "2024-01-24T16:01:11.532Z"
   },
   {
    "duration": 25,
    "start_time": "2024-01-24T16:01:11.598Z"
   },
   {
    "duration": 27,
    "start_time": "2024-01-24T16:01:11.624Z"
   },
   {
    "duration": 11,
    "start_time": "2024-01-24T16:01:11.653Z"
   },
   {
    "duration": 20,
    "start_time": "2024-01-24T16:01:11.665Z"
   },
   {
    "duration": 8,
    "start_time": "2024-01-24T16:01:11.687Z"
   },
   {
    "duration": 45,
    "start_time": "2024-01-24T16:01:11.696Z"
   },
   {
    "duration": 700,
    "start_time": "2024-01-24T16:01:11.743Z"
   },
   {
    "duration": 17,
    "start_time": "2024-01-24T16:01:12.444Z"
   },
   {
    "duration": 392,
    "start_time": "2024-01-24T16:01:12.462Z"
   },
   {
    "duration": 11,
    "start_time": "2024-01-24T16:01:12.855Z"
   },
   {
    "duration": 646,
    "start_time": "2024-01-24T16:01:12.868Z"
   },
   {
    "duration": 416,
    "start_time": "2024-01-24T16:01:13.515Z"
   },
   {
    "duration": 7,
    "start_time": "2024-01-24T16:01:13.932Z"
   },
   {
    "duration": 24,
    "start_time": "2024-01-24T16:01:13.941Z"
   },
   {
    "duration": 4,
    "start_time": "2024-01-24T16:01:13.967Z"
   },
   {
    "duration": 63,
    "start_time": "2024-01-24T16:01:13.972Z"
   },
   {
    "duration": 4,
    "start_time": "2024-01-24T16:01:14.037Z"
   },
   {
    "duration": 21,
    "start_time": "2024-01-24T16:01:14.042Z"
   },
   {
    "duration": 6,
    "start_time": "2024-01-24T16:01:14.065Z"
   },
   {
    "duration": 6,
    "start_time": "2024-01-24T16:01:14.072Z"
   },
   {
    "duration": 5,
    "start_time": "2024-01-24T16:01:14.080Z"
   },
   {
    "duration": 14,
    "start_time": "2024-01-24T16:01:14.087Z"
   },
   {
    "duration": 1084,
    "start_time": "2024-01-24T16:01:14.102Z"
   },
   {
    "duration": 5,
    "start_time": "2024-01-24T16:01:15.187Z"
   },
   {
    "duration": 77,
    "start_time": "2024-01-24T16:01:15.193Z"
   },
   {
    "duration": 29,
    "start_time": "2024-01-24T16:01:15.271Z"
   },
   {
    "duration": 8,
    "start_time": "2024-01-24T16:01:15.301Z"
   },
   {
    "duration": 33,
    "start_time": "2024-01-24T16:01:15.311Z"
   },
   {
    "duration": 45,
    "start_time": "2024-01-24T16:01:15.346Z"
   },
   {
    "duration": 28,
    "start_time": "2024-01-24T16:01:15.392Z"
   },
   {
    "duration": 53,
    "start_time": "2024-01-24T16:01:15.421Z"
   },
   {
    "duration": 9,
    "start_time": "2024-01-24T16:01:15.475Z"
   },
   {
    "duration": 489,
    "start_time": "2024-01-24T16:01:15.485Z"
   },
   {
    "duration": 4,
    "start_time": "2024-01-24T16:01:15.976Z"
   },
   {
    "duration": 7,
    "start_time": "2024-01-24T16:01:15.982Z"
   }
  ],
  "kernelspec": {
   "display_name": "Python 3 (ipykernel)",
   "language": "python",
   "name": "python3"
  },
  "language_info": {
   "codemirror_mode": {
    "name": "ipython",
    "version": 3
   },
   "file_extension": ".py",
   "mimetype": "text/x-python",
   "name": "python",
   "nbconvert_exporter": "python",
   "pygments_lexer": "ipython3",
   "version": "3.11.7"
  },
  "toc": {
   "base_numbering": 1,
   "nav_menu": {
    "height": "381.8px",
    "width": "437.8px"
   },
   "number_sections": true,
   "sideBar": true,
   "skip_h1_title": true,
   "title_cell": "Table of Contents",
   "title_sidebar": "Contents",
   "toc_cell": false,
   "toc_position": {},
   "toc_section_display": true,
   "toc_window_display": false
  }
 },
 "nbformat": 4,
 "nbformat_minor": 5
}
