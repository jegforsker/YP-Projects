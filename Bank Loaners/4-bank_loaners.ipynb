{
 "cells": [
  {
   "cell_type": "markdown",
   "id": "af369402-da50-4b4f-ab8f-d7aef11e914a",
   "metadata": {},
   "source": [
    "# Исследование надёжности заёмщиков"
   ]
  },
  {
   "cell_type": "markdown",
   "id": "86986174-c1d1-4ea1-955c-232db03622fe",
   "metadata": {},
   "source": [
    "Заказчик — кредитный отдел банка. Нужно разобраться, влияет ли семейное положение и количество детей клиента на факт погашения кредита в срок.  \n",
    "Входные данные от банка — статистика о платёжеспособности клиентов.Результаты исследования будут учтены при построении модели кредитного скоринга — специальной системы, которая оценивает способность потенциального заёмщика вернуть кредит банку.  \n",
    "**Цели исследования** - проверка наличия свзей между возвратом кредита в срок и наличием детей, семейным положением, уровнем дохода и целью получения кредита."
   ]
  },
  {
   "cell_type": "markdown",
   "id": "e64ddfb0-c39c-41ed-8385-06b62b32b07e",
   "metadata": {},
   "source": [
    "## Общая информация о данных"
   ]
  },
  {
   "cell_type": "code",
   "execution_count": 1,
   "id": "bc332640-76d2-4cb1-84b8-b6b36a4ad4e6",
   "metadata": {},
   "outputs": [],
   "source": [
    "import pandas as pd\n",
    "\n",
    "try:\n",
    "    data = pd.read_csv('/datasets/data.csv')\n",
    "except:\n",
    "    data = pd.read_csv('https://code.s3.yandex.net/datasets/data.csv')"
   ]
  },
  {
   "cell_type": "code",
   "execution_count": 2,
   "id": "1f6a619d-a7b9-4c0e-87cf-9e911825f743",
   "metadata": {},
   "outputs": [
    {
     "data": {
      "text/html": [
       "<div>\n",
       "<style scoped>\n",
       "    .dataframe tbody tr th:only-of-type {\n",
       "        vertical-align: middle;\n",
       "    }\n",
       "\n",
       "    .dataframe tbody tr th {\n",
       "        vertical-align: top;\n",
       "    }\n",
       "\n",
       "    .dataframe thead th {\n",
       "        text-align: right;\n",
       "    }\n",
       "</style>\n",
       "<table border=\"1\" class=\"dataframe\">\n",
       "  <thead>\n",
       "    <tr style=\"text-align: right;\">\n",
       "      <th></th>\n",
       "      <th>children</th>\n",
       "      <th>days_employed</th>\n",
       "      <th>dob_years</th>\n",
       "      <th>education</th>\n",
       "      <th>education_id</th>\n",
       "      <th>family_status</th>\n",
       "      <th>family_status_id</th>\n",
       "      <th>gender</th>\n",
       "      <th>income_type</th>\n",
       "      <th>debt</th>\n",
       "      <th>total_income</th>\n",
       "      <th>purpose</th>\n",
       "    </tr>\n",
       "  </thead>\n",
       "  <tbody>\n",
       "    <tr>\n",
       "      <th>0</th>\n",
       "      <td>1</td>\n",
       "      <td>-8437.673028</td>\n",
       "      <td>42</td>\n",
       "      <td>высшее</td>\n",
       "      <td>0</td>\n",
       "      <td>женат / замужем</td>\n",
       "      <td>0</td>\n",
       "      <td>F</td>\n",
       "      <td>сотрудник</td>\n",
       "      <td>0</td>\n",
       "      <td>253875.639453</td>\n",
       "      <td>покупка жилья</td>\n",
       "    </tr>\n",
       "    <tr>\n",
       "      <th>1</th>\n",
       "      <td>1</td>\n",
       "      <td>-4024.803754</td>\n",
       "      <td>36</td>\n",
       "      <td>среднее</td>\n",
       "      <td>1</td>\n",
       "      <td>женат / замужем</td>\n",
       "      <td>0</td>\n",
       "      <td>F</td>\n",
       "      <td>сотрудник</td>\n",
       "      <td>0</td>\n",
       "      <td>112080.014102</td>\n",
       "      <td>приобретение автомобиля</td>\n",
       "    </tr>\n",
       "    <tr>\n",
       "      <th>2</th>\n",
       "      <td>0</td>\n",
       "      <td>-5623.422610</td>\n",
       "      <td>33</td>\n",
       "      <td>Среднее</td>\n",
       "      <td>1</td>\n",
       "      <td>женат / замужем</td>\n",
       "      <td>0</td>\n",
       "      <td>M</td>\n",
       "      <td>сотрудник</td>\n",
       "      <td>0</td>\n",
       "      <td>145885.952297</td>\n",
       "      <td>покупка жилья</td>\n",
       "    </tr>\n",
       "    <tr>\n",
       "      <th>3</th>\n",
       "      <td>3</td>\n",
       "      <td>-4124.747207</td>\n",
       "      <td>32</td>\n",
       "      <td>среднее</td>\n",
       "      <td>1</td>\n",
       "      <td>женат / замужем</td>\n",
       "      <td>0</td>\n",
       "      <td>M</td>\n",
       "      <td>сотрудник</td>\n",
       "      <td>0</td>\n",
       "      <td>267628.550329</td>\n",
       "      <td>дополнительное образование</td>\n",
       "    </tr>\n",
       "    <tr>\n",
       "      <th>4</th>\n",
       "      <td>0</td>\n",
       "      <td>340266.072047</td>\n",
       "      <td>53</td>\n",
       "      <td>среднее</td>\n",
       "      <td>1</td>\n",
       "      <td>гражданский брак</td>\n",
       "      <td>1</td>\n",
       "      <td>F</td>\n",
       "      <td>пенсионер</td>\n",
       "      <td>0</td>\n",
       "      <td>158616.077870</td>\n",
       "      <td>сыграть свадьбу</td>\n",
       "    </tr>\n",
       "    <tr>\n",
       "      <th>5</th>\n",
       "      <td>0</td>\n",
       "      <td>-926.185831</td>\n",
       "      <td>27</td>\n",
       "      <td>высшее</td>\n",
       "      <td>0</td>\n",
       "      <td>гражданский брак</td>\n",
       "      <td>1</td>\n",
       "      <td>M</td>\n",
       "      <td>компаньон</td>\n",
       "      <td>0</td>\n",
       "      <td>255763.565419</td>\n",
       "      <td>покупка жилья</td>\n",
       "    </tr>\n",
       "    <tr>\n",
       "      <th>6</th>\n",
       "      <td>0</td>\n",
       "      <td>-2879.202052</td>\n",
       "      <td>43</td>\n",
       "      <td>высшее</td>\n",
       "      <td>0</td>\n",
       "      <td>женат / замужем</td>\n",
       "      <td>0</td>\n",
       "      <td>F</td>\n",
       "      <td>компаньон</td>\n",
       "      <td>0</td>\n",
       "      <td>240525.971920</td>\n",
       "      <td>операции с жильем</td>\n",
       "    </tr>\n",
       "    <tr>\n",
       "      <th>7</th>\n",
       "      <td>0</td>\n",
       "      <td>-152.779569</td>\n",
       "      <td>50</td>\n",
       "      <td>СРЕДНЕЕ</td>\n",
       "      <td>1</td>\n",
       "      <td>женат / замужем</td>\n",
       "      <td>0</td>\n",
       "      <td>M</td>\n",
       "      <td>сотрудник</td>\n",
       "      <td>0</td>\n",
       "      <td>135823.934197</td>\n",
       "      <td>образование</td>\n",
       "    </tr>\n",
       "    <tr>\n",
       "      <th>8</th>\n",
       "      <td>2</td>\n",
       "      <td>-6929.865299</td>\n",
       "      <td>35</td>\n",
       "      <td>ВЫСШЕЕ</td>\n",
       "      <td>0</td>\n",
       "      <td>гражданский брак</td>\n",
       "      <td>1</td>\n",
       "      <td>F</td>\n",
       "      <td>сотрудник</td>\n",
       "      <td>0</td>\n",
       "      <td>95856.832424</td>\n",
       "      <td>на проведение свадьбы</td>\n",
       "    </tr>\n",
       "    <tr>\n",
       "      <th>9</th>\n",
       "      <td>0</td>\n",
       "      <td>-2188.756445</td>\n",
       "      <td>41</td>\n",
       "      <td>среднее</td>\n",
       "      <td>1</td>\n",
       "      <td>женат / замужем</td>\n",
       "      <td>0</td>\n",
       "      <td>M</td>\n",
       "      <td>сотрудник</td>\n",
       "      <td>0</td>\n",
       "      <td>144425.938277</td>\n",
       "      <td>покупка жилья для семьи</td>\n",
       "    </tr>\n",
       "    <tr>\n",
       "      <th>10</th>\n",
       "      <td>2</td>\n",
       "      <td>-4171.483647</td>\n",
       "      <td>36</td>\n",
       "      <td>высшее</td>\n",
       "      <td>0</td>\n",
       "      <td>женат / замужем</td>\n",
       "      <td>0</td>\n",
       "      <td>M</td>\n",
       "      <td>компаньон</td>\n",
       "      <td>0</td>\n",
       "      <td>113943.491460</td>\n",
       "      <td>покупка недвижимости</td>\n",
       "    </tr>\n",
       "    <tr>\n",
       "      <th>11</th>\n",
       "      <td>0</td>\n",
       "      <td>-792.701887</td>\n",
       "      <td>40</td>\n",
       "      <td>среднее</td>\n",
       "      <td>1</td>\n",
       "      <td>женат / замужем</td>\n",
       "      <td>0</td>\n",
       "      <td>F</td>\n",
       "      <td>сотрудник</td>\n",
       "      <td>0</td>\n",
       "      <td>77069.234271</td>\n",
       "      <td>покупка коммерческой недвижимости</td>\n",
       "    </tr>\n",
       "    <tr>\n",
       "      <th>12</th>\n",
       "      <td>0</td>\n",
       "      <td>NaN</td>\n",
       "      <td>65</td>\n",
       "      <td>среднее</td>\n",
       "      <td>1</td>\n",
       "      <td>гражданский брак</td>\n",
       "      <td>1</td>\n",
       "      <td>M</td>\n",
       "      <td>пенсионер</td>\n",
       "      <td>0</td>\n",
       "      <td>NaN</td>\n",
       "      <td>сыграть свадьбу</td>\n",
       "    </tr>\n",
       "    <tr>\n",
       "      <th>13</th>\n",
       "      <td>0</td>\n",
       "      <td>-1846.641941</td>\n",
       "      <td>54</td>\n",
       "      <td>неоконченное высшее</td>\n",
       "      <td>2</td>\n",
       "      <td>женат / замужем</td>\n",
       "      <td>0</td>\n",
       "      <td>F</td>\n",
       "      <td>сотрудник</td>\n",
       "      <td>0</td>\n",
       "      <td>130458.228857</td>\n",
       "      <td>приобретение автомобиля</td>\n",
       "    </tr>\n",
       "    <tr>\n",
       "      <th>14</th>\n",
       "      <td>0</td>\n",
       "      <td>-1844.956182</td>\n",
       "      <td>56</td>\n",
       "      <td>высшее</td>\n",
       "      <td>0</td>\n",
       "      <td>гражданский брак</td>\n",
       "      <td>1</td>\n",
       "      <td>F</td>\n",
       "      <td>компаньон</td>\n",
       "      <td>1</td>\n",
       "      <td>165127.911772</td>\n",
       "      <td>покупка жилой недвижимости</td>\n",
       "    </tr>\n",
       "    <tr>\n",
       "      <th>15</th>\n",
       "      <td>1</td>\n",
       "      <td>-972.364419</td>\n",
       "      <td>26</td>\n",
       "      <td>среднее</td>\n",
       "      <td>1</td>\n",
       "      <td>женат / замужем</td>\n",
       "      <td>0</td>\n",
       "      <td>F</td>\n",
       "      <td>сотрудник</td>\n",
       "      <td>0</td>\n",
       "      <td>116820.904450</td>\n",
       "      <td>строительство собственной недвижимости</td>\n",
       "    </tr>\n",
       "    <tr>\n",
       "      <th>16</th>\n",
       "      <td>0</td>\n",
       "      <td>-1719.934226</td>\n",
       "      <td>35</td>\n",
       "      <td>среднее</td>\n",
       "      <td>1</td>\n",
       "      <td>женат / замужем</td>\n",
       "      <td>0</td>\n",
       "      <td>F</td>\n",
       "      <td>сотрудник</td>\n",
       "      <td>0</td>\n",
       "      <td>289202.704229</td>\n",
       "      <td>недвижимость</td>\n",
       "    </tr>\n",
       "    <tr>\n",
       "      <th>17</th>\n",
       "      <td>0</td>\n",
       "      <td>-2369.999720</td>\n",
       "      <td>33</td>\n",
       "      <td>высшее</td>\n",
       "      <td>0</td>\n",
       "      <td>гражданский брак</td>\n",
       "      <td>1</td>\n",
       "      <td>M</td>\n",
       "      <td>сотрудник</td>\n",
       "      <td>0</td>\n",
       "      <td>90410.586745</td>\n",
       "      <td>строительство недвижимости</td>\n",
       "    </tr>\n",
       "    <tr>\n",
       "      <th>18</th>\n",
       "      <td>0</td>\n",
       "      <td>400281.136913</td>\n",
       "      <td>53</td>\n",
       "      <td>среднее</td>\n",
       "      <td>1</td>\n",
       "      <td>вдовец / вдова</td>\n",
       "      <td>2</td>\n",
       "      <td>F</td>\n",
       "      <td>пенсионер</td>\n",
       "      <td>0</td>\n",
       "      <td>56823.777243</td>\n",
       "      <td>на покупку подержанного автомобиля</td>\n",
       "    </tr>\n",
       "    <tr>\n",
       "      <th>19</th>\n",
       "      <td>0</td>\n",
       "      <td>-10038.818549</td>\n",
       "      <td>48</td>\n",
       "      <td>СРЕДНЕЕ</td>\n",
       "      <td>1</td>\n",
       "      <td>в разводе</td>\n",
       "      <td>3</td>\n",
       "      <td>F</td>\n",
       "      <td>сотрудник</td>\n",
       "      <td>0</td>\n",
       "      <td>242831.107982</td>\n",
       "      <td>на покупку своего автомобиля</td>\n",
       "    </tr>\n",
       "  </tbody>\n",
       "</table>\n",
       "</div>"
      ],
      "text/plain": [
       "    children  days_employed  dob_years            education  education_id  \\\n",
       "0          1   -8437.673028         42               высшее             0   \n",
       "1          1   -4024.803754         36              среднее             1   \n",
       "2          0   -5623.422610         33              Среднее             1   \n",
       "3          3   -4124.747207         32              среднее             1   \n",
       "4          0  340266.072047         53              среднее             1   \n",
       "5          0    -926.185831         27               высшее             0   \n",
       "6          0   -2879.202052         43               высшее             0   \n",
       "7          0    -152.779569         50              СРЕДНЕЕ             1   \n",
       "8          2   -6929.865299         35               ВЫСШЕЕ             0   \n",
       "9          0   -2188.756445         41              среднее             1   \n",
       "10         2   -4171.483647         36               высшее             0   \n",
       "11         0    -792.701887         40              среднее             1   \n",
       "12         0            NaN         65              среднее             1   \n",
       "13         0   -1846.641941         54  неоконченное высшее             2   \n",
       "14         0   -1844.956182         56               высшее             0   \n",
       "15         1    -972.364419         26              среднее             1   \n",
       "16         0   -1719.934226         35              среднее             1   \n",
       "17         0   -2369.999720         33               высшее             0   \n",
       "18         0  400281.136913         53              среднее             1   \n",
       "19         0  -10038.818549         48              СРЕДНЕЕ             1   \n",
       "\n",
       "       family_status  family_status_id gender income_type  debt  \\\n",
       "0    женат / замужем                 0      F   сотрудник     0   \n",
       "1    женат / замужем                 0      F   сотрудник     0   \n",
       "2    женат / замужем                 0      M   сотрудник     0   \n",
       "3    женат / замужем                 0      M   сотрудник     0   \n",
       "4   гражданский брак                 1      F   пенсионер     0   \n",
       "5   гражданский брак                 1      M   компаньон     0   \n",
       "6    женат / замужем                 0      F   компаньон     0   \n",
       "7    женат / замужем                 0      M   сотрудник     0   \n",
       "8   гражданский брак                 1      F   сотрудник     0   \n",
       "9    женат / замужем                 0      M   сотрудник     0   \n",
       "10   женат / замужем                 0      M   компаньон     0   \n",
       "11   женат / замужем                 0      F   сотрудник     0   \n",
       "12  гражданский брак                 1      M   пенсионер     0   \n",
       "13   женат / замужем                 0      F   сотрудник     0   \n",
       "14  гражданский брак                 1      F   компаньон     1   \n",
       "15   женат / замужем                 0      F   сотрудник     0   \n",
       "16   женат / замужем                 0      F   сотрудник     0   \n",
       "17  гражданский брак                 1      M   сотрудник     0   \n",
       "18    вдовец / вдова                 2      F   пенсионер     0   \n",
       "19         в разводе                 3      F   сотрудник     0   \n",
       "\n",
       "     total_income                                 purpose  \n",
       "0   253875.639453                           покупка жилья  \n",
       "1   112080.014102                 приобретение автомобиля  \n",
       "2   145885.952297                           покупка жилья  \n",
       "3   267628.550329              дополнительное образование  \n",
       "4   158616.077870                         сыграть свадьбу  \n",
       "5   255763.565419                           покупка жилья  \n",
       "6   240525.971920                       операции с жильем  \n",
       "7   135823.934197                             образование  \n",
       "8    95856.832424                   на проведение свадьбы  \n",
       "9   144425.938277                 покупка жилья для семьи  \n",
       "10  113943.491460                    покупка недвижимости  \n",
       "11   77069.234271       покупка коммерческой недвижимости  \n",
       "12            NaN                         сыграть свадьбу  \n",
       "13  130458.228857                 приобретение автомобиля  \n",
       "14  165127.911772              покупка жилой недвижимости  \n",
       "15  116820.904450  строительство собственной недвижимости  \n",
       "16  289202.704229                            недвижимость  \n",
       "17   90410.586745              строительство недвижимости  \n",
       "18   56823.777243      на покупку подержанного автомобиля  \n",
       "19  242831.107982            на покупку своего автомобиля  "
      ]
     },
     "execution_count": 2,
     "metadata": {},
     "output_type": "execute_result"
    }
   ],
   "source": [
    "data.head(20)"
   ]
  },
  {
   "cell_type": "code",
   "execution_count": 3,
   "id": "20610917-f863-4c8a-a6ba-70fbfb90ad0d",
   "metadata": {},
   "outputs": [
    {
     "name": "stdout",
     "output_type": "stream",
     "text": [
      "<class 'pandas.core.frame.DataFrame'>\n",
      "RangeIndex: 21525 entries, 0 to 21524\n",
      "Data columns (total 12 columns):\n",
      " #   Column            Non-Null Count  Dtype  \n",
      "---  ------            --------------  -----  \n",
      " 0   children          21525 non-null  int64  \n",
      " 1   days_employed     19351 non-null  float64\n",
      " 2   dob_years         21525 non-null  int64  \n",
      " 3   education         21525 non-null  object \n",
      " 4   education_id      21525 non-null  int64  \n",
      " 5   family_status     21525 non-null  object \n",
      " 6   family_status_id  21525 non-null  int64  \n",
      " 7   gender            21525 non-null  object \n",
      " 8   income_type       21525 non-null  object \n",
      " 9   debt              21525 non-null  int64  \n",
      " 10  total_income      19351 non-null  float64\n",
      " 11  purpose           21525 non-null  object \n",
      "dtypes: float64(2), int64(5), object(5)\n",
      "memory usage: 2.0+ MB\n"
     ]
    }
   ],
   "source": [
    "data.info()"
   ]
  },
  {
   "cell_type": "code",
   "execution_count": 4,
   "id": "9bbbde8a-1cd8-4bd6-8908-198ebefe90ff",
   "metadata": {},
   "outputs": [
    {
     "data": {
      "text/plain": [
       "54"
      ]
     },
     "execution_count": 4,
     "metadata": {},
     "output_type": "execute_result"
    }
   ],
   "source": [
    "data.duplicated().sum()"
   ]
  },
  {
   "cell_type": "markdown",
   "id": "05f1aade-ed75-4069-9734-fa0da581a717",
   "metadata": {},
   "source": [
    "В датасете представлено 12 столбцов: кол-во детей, трудовой стаж, возраст клиентов, образование и id образования, семейное положение и id семейного положения, пол, тип занятости, задолженность, доход, цель кредита.  \n",
    "В данных представлена информация о 21 525 клиентах.  \n",
    "Столбцы представлены следующими типами данных: float, int и object.  \n",
    "Необходимо удалить пропуски, обработать дубликаты и аномалии, заменить тип данных в столбцах (total_income)"
   ]
  },
  {
   "cell_type": "markdown",
   "id": "867e939c-8568-408c-b878-4e66a92348d5",
   "metadata": {},
   "source": [
    "## Предобработка данных"
   ]
  },
  {
   "cell_type": "markdown",
   "id": "ee1a1089-51ee-4be4-91fa-8562e4b7c354",
   "metadata": {},
   "source": [
    "### Удаление пропусков"
   ]
  },
  {
   "cell_type": "code",
   "execution_count": 5,
   "id": "6e2c31b4-085f-4035-8484-b07260c2ae44",
   "metadata": {},
   "outputs": [
    {
     "data": {
      "text/plain": [
       "children               0\n",
       "days_employed       2174\n",
       "dob_years              0\n",
       "education              0\n",
       "education_id           0\n",
       "family_status          0\n",
       "family_status_id       0\n",
       "gender                 0\n",
       "income_type            0\n",
       "debt                   0\n",
       "total_income        2174\n",
       "purpose                0\n",
       "dtype: int64"
      ]
     },
     "execution_count": 5,
     "metadata": {},
     "output_type": "execute_result"
    }
   ],
   "source": [
    "data.isna().sum()"
   ]
  },
  {
   "cell_type": "markdown",
   "id": "da6e707d-1d5d-4d57-85e9-9bd397e51e98",
   "metadata": {},
   "source": [
    "Заменим пропуски в столбце total_income медианноым значением в зависимости от типа занятости"
   ]
  },
  {
   "cell_type": "code",
   "execution_count": 6,
   "id": "4383ba33-d0e3-4cb3-ba8e-bae46ded7d9c",
   "metadata": {},
   "outputs": [],
   "source": [
    "for t in data['income_type'].unique():\n",
    "    data.loc[(data['income_type'] == t) & (data['total_income'].isna()), 'total_income'] = \\\n",
    "    data.loc[(data['income_type'] == t), 'total_income'].median()"
   ]
  },
  {
   "cell_type": "markdown",
   "id": "41936486-e660-4dff-a68d-b29ef0124485",
   "metadata": {},
   "source": [
    "Заполним пропуски в столбце **days_employed** медианным значением по каждому типу занятости"
   ]
  },
  {
   "cell_type": "code",
   "execution_count": 7,
   "id": "bdcda691-fb18-4d43-b1ab-3191a2e4fefa",
   "metadata": {},
   "outputs": [],
   "source": [
    "for t in data['income_type'].unique():\n",
    "    data.loc[(data['income_type'] == t) & (data['days_employed'].isna()), 'days_employed'] = \\\n",
    "    data.loc[(data['income_type'] == t), 'days_employed'].median()"
   ]
  },
  {
   "cell_type": "code",
   "execution_count": 8,
   "id": "2369c793-2269-47b7-8bb2-c978cffd128c",
   "metadata": {},
   "outputs": [
    {
     "data": {
      "text/plain": [
       "children            0\n",
       "days_employed       0\n",
       "dob_years           0\n",
       "education           0\n",
       "education_id        0\n",
       "family_status       0\n",
       "family_status_id    0\n",
       "gender              0\n",
       "income_type         0\n",
       "debt                0\n",
       "total_income        0\n",
       "purpose             0\n",
       "dtype: int64"
      ]
     },
     "execution_count": 8,
     "metadata": {},
     "output_type": "execute_result"
    }
   ],
   "source": [
    "data.isna().sum()"
   ]
  },
  {
   "cell_type": "markdown",
   "id": "3596d0d2-c14a-4cd5-a1cf-fba4718bf4e8",
   "metadata": {},
   "source": [
    "**Пропуски удалены**"
   ]
  },
  {
   "cell_type": "markdown",
   "id": "7d2bb227-595b-4102-a78e-450d644f1fe4",
   "metadata": {},
   "source": [
    "## Аномалии"
   ]
  },
  {
   "cell_type": "markdown",
   "id": "fda25449-4a56-433b-8478-3c9df6a94548",
   "metadata": {},
   "source": [
    "В столбце **days_employed** встречаются отрицательные значения, заменим их на значения по модулю."
   ]
  },
  {
   "cell_type": "code",
   "execution_count": 9,
   "id": "c39a458e-86d2-4721-ac6f-e8a3b9dee4ba",
   "metadata": {},
   "outputs": [],
   "source": [
    "data['days_employed'] = data['days_employed'].abs()"
   ]
  },
  {
   "cell_type": "markdown",
   "id": "fc0c9603-897e-405e-acb2-4384dddc2772",
   "metadata": {},
   "source": [
    "Для каждого типа занятости выведем медианное значение трудового стажа days_employed"
   ]
  },
  {
   "cell_type": "code",
   "execution_count": 10,
   "id": "046b7d3d-11a8-43e5-b34c-27b181dde1d8",
   "metadata": {},
   "outputs": [
    {
     "data": {
      "text/plain": [
       "income_type\n",
       "безработный        366413.652744\n",
       "в декрете            3296.759962\n",
       "госслужащий          2689.368353\n",
       "компаньон            1547.382223\n",
       "пенсионер          365213.306266\n",
       "предприниматель       520.848083\n",
       "сотрудник            1574.202821\n",
       "студент               578.751554\n",
       "Name: days_employed, dtype: float64"
      ]
     },
     "execution_count": 10,
     "metadata": {},
     "output_type": "execute_result"
    }
   ],
   "source": [
    "data.groupby('income_type')['days_employed'].agg('median')"
   ]
  },
  {
   "cell_type": "markdown",
   "id": "933acc25-aa6f-4905-b9b4-f6879eb33c9d",
   "metadata": {},
   "source": [
    "У двух типов (безработные и пенсионеры) получатся аномально большие значения. Исправить такие значения сложно, поэтому оставим их как есть."
   ]
  },
  {
   "cell_type": "markdown",
   "id": "fd7684e4-4306-4b86-adb2-dd183c786267",
   "metadata": {},
   "source": [
    "Посмотрим на аномалии в столбце **children**"
   ]
  },
  {
   "cell_type": "code",
   "execution_count": 11,
   "id": "e440bcc7-ebc0-4ac6-8e75-a9de292ccd92",
   "metadata": {},
   "outputs": [
    {
     "data": {
      "text/plain": [
       "array([ 1,  0,  3,  2, -1,  4, 20,  5], dtype=int64)"
      ]
     },
     "execution_count": 11,
     "metadata": {},
     "output_type": "execute_result"
    }
   ],
   "source": [
    "data.children.unique()"
   ]
  },
  {
   "cell_type": "markdown",
   "id": "417b7dcd-fb7c-4439-8931-9373dbde6187",
   "metadata": {},
   "source": [
    "Удалим строки, где встречаются значения -1 и 20"
   ]
  },
  {
   "cell_type": "code",
   "execution_count": 12,
   "id": "002a76ce-f088-460b-9671-3c8bf65012e5",
   "metadata": {},
   "outputs": [],
   "source": [
    "data = data[(data['children'] != -1) & (data['children'] != 20)]"
   ]
  },
  {
   "cell_type": "code",
   "execution_count": 13,
   "id": "b5316f43-f28f-45db-bf44-4f14d8e9f8a8",
   "metadata": {},
   "outputs": [
    {
     "data": {
      "text/plain": [
       "array([1, 0, 3, 2, 4, 5], dtype=int64)"
      ]
     },
     "execution_count": 13,
     "metadata": {},
     "output_type": "execute_result"
    }
   ],
   "source": [
    "data['children'].unique()"
   ]
  },
  {
   "cell_type": "markdown",
   "id": "4b4a27bc-e9c2-4dcd-9735-2b61f184b883",
   "metadata": {},
   "source": [
    "Посмотрим на распределение по возрасту"
   ]
  },
  {
   "cell_type": "code",
   "execution_count": 14,
   "id": "9af95154-dcee-446c-a326-65ee79cb5853",
   "metadata": {
    "scrolled": true
   },
   "outputs": [
    {
     "data": {
      "text/plain": [
       "array([42, 36, 33, 32, 53, 27, 43, 50, 35, 41, 40, 65, 54, 56, 26, 48, 24,\n",
       "       21, 57, 67, 28, 63, 62, 47, 34, 68, 25, 31, 30, 20, 49, 37, 45, 61,\n",
       "       64, 44, 52, 46, 23, 38, 39, 51,  0, 59, 29, 60, 55, 58, 71, 22, 73,\n",
       "       66, 69, 19, 72, 70, 74, 75], dtype=int64)"
      ]
     },
     "execution_count": 14,
     "metadata": {},
     "output_type": "execute_result"
    }
   ],
   "source": [
    "data.dob_years.unique()"
   ]
  },
  {
   "cell_type": "markdown",
   "id": "c083c754-0c21-4b61-a0c3-f9ca6e3e2a8f",
   "metadata": {},
   "source": [
    "Возраст - категория без сильного разброса, поэтому заменим нулевой возраст на медиану."
   ]
  },
  {
   "cell_type": "code",
   "execution_count": 15,
   "id": "076d2e45-2342-4175-be50-48502eb0d82c",
   "metadata": {},
   "outputs": [],
   "source": [
    "data['dob_years'] = data['dob_years'].replace(0, data['dob_years'].median())"
   ]
  },
  {
   "cell_type": "code",
   "execution_count": 16,
   "id": "4489a61b-e21a-45c4-ab69-21643c9e55f7",
   "metadata": {},
   "outputs": [
    {
     "data": {
      "text/html": [
       "<div>\n",
       "<style scoped>\n",
       "    .dataframe tbody tr th:only-of-type {\n",
       "        vertical-align: middle;\n",
       "    }\n",
       "\n",
       "    .dataframe tbody tr th {\n",
       "        vertical-align: top;\n",
       "    }\n",
       "\n",
       "    .dataframe thead th {\n",
       "        text-align: right;\n",
       "    }\n",
       "</style>\n",
       "<table border=\"1\" class=\"dataframe\">\n",
       "  <thead>\n",
       "    <tr style=\"text-align: right;\">\n",
       "      <th></th>\n",
       "      <th>children</th>\n",
       "      <th>days_employed</th>\n",
       "      <th>dob_years</th>\n",
       "      <th>education</th>\n",
       "      <th>education_id</th>\n",
       "      <th>family_status</th>\n",
       "      <th>family_status_id</th>\n",
       "      <th>gender</th>\n",
       "      <th>income_type</th>\n",
       "      <th>debt</th>\n",
       "      <th>total_income</th>\n",
       "      <th>purpose</th>\n",
       "    </tr>\n",
       "  </thead>\n",
       "  <tbody>\n",
       "  </tbody>\n",
       "</table>\n",
       "</div>"
      ],
      "text/plain": [
       "Empty DataFrame\n",
       "Columns: [children, days_employed, dob_years, education, education_id, family_status, family_status_id, gender, income_type, debt, total_income, purpose]\n",
       "Index: []"
      ]
     },
     "execution_count": 16,
     "metadata": {},
     "output_type": "execute_result"
    }
   ],
   "source": [
    "data[data['dob_years'] == 0]"
   ]
  },
  {
   "cell_type": "markdown",
   "id": "c713b312-b776-4df9-a93b-dd2cbbc631a3",
   "metadata": {},
   "source": [
    "### Изменение типа данных"
   ]
  },
  {
   "cell_type": "markdown",
   "id": "91b5f556-efb0-4fc4-a6e1-3ce4dae89e32",
   "metadata": {},
   "source": [
    "Заменим тип данных в столбце **total_income** и **days_employed** на целочисленный."
   ]
  },
  {
   "cell_type": "code",
   "execution_count": 17,
   "id": "f7fbcbba-2c1d-45b8-a93b-53217dc34b7f",
   "metadata": {},
   "outputs": [],
   "source": [
    "data[['total_income', 'days_employed']] = data[['total_income', 'days_employed']].astype(int)"
   ]
  },
  {
   "cell_type": "markdown",
   "id": "f41150b5-bb03-4679-b1e1-8e37d690d374",
   "metadata": {},
   "source": [
    "### Обработка дубликатов"
   ]
  },
  {
   "cell_type": "code",
   "execution_count": 18,
   "id": "d5bee580-042b-4fa8-8dec-f8567e88d7cc",
   "metadata": {},
   "outputs": [
    {
     "data": {
      "text/plain": [
       "array(['высшее', 'среднее', 'Среднее', 'СРЕДНЕЕ', 'ВЫСШЕЕ',\n",
       "       'неоконченное высшее', 'начальное', 'Высшее',\n",
       "       'НЕОКОНЧЕННОЕ ВЫСШЕЕ', 'Неоконченное высшее', 'НАЧАЛЬНОЕ',\n",
       "       'Начальное', 'Ученая степень', 'УЧЕНАЯ СТЕПЕНЬ', 'ученая степень'],\n",
       "      dtype=object)"
      ]
     },
     "execution_count": 18,
     "metadata": {},
     "output_type": "execute_result"
    }
   ],
   "source": [
    "data.education.unique()"
   ]
  },
  {
   "cell_type": "markdown",
   "id": "9ca88bcd-8840-4926-bf0f-95d6b1424110",
   "metadata": {},
   "source": [
    "Приведём данные в столбце **education** к нижнему регистру."
   ]
  },
  {
   "cell_type": "code",
   "execution_count": 19,
   "id": "c0480042-681f-4bf2-8d49-dd19a7949137",
   "metadata": {},
   "outputs": [],
   "source": [
    "data['education'] = data['education'].str.lower()"
   ]
  },
  {
   "cell_type": "code",
   "execution_count": 20,
   "id": "db6abf04-bb49-4e6c-abfa-aa98f406790b",
   "metadata": {},
   "outputs": [
    {
     "data": {
      "text/plain": [
       "array(['высшее', 'среднее', 'неоконченное высшее', 'начальное',\n",
       "       'ученая степень'], dtype=object)"
      ]
     },
     "execution_count": 20,
     "metadata": {},
     "output_type": "execute_result"
    }
   ],
   "source": [
    "data.education.unique()"
   ]
  },
  {
   "cell_type": "markdown",
   "id": "97ad12a7-a47d-4002-a3ed-6399af308571",
   "metadata": {},
   "source": [
    "Удалим остальные дубликаты"
   ]
  },
  {
   "cell_type": "code",
   "execution_count": 21,
   "id": "c929e169-29c9-496b-8048-91852d0be00a",
   "metadata": {},
   "outputs": [],
   "source": [
    "data.drop_duplicates(inplace=True)"
   ]
  },
  {
   "cell_type": "markdown",
   "id": "65d9a1d8-2780-435f-bee7-c09183fb5557",
   "metadata": {},
   "source": [
    "### Категоризация данных"
   ]
  },
  {
   "cell_type": "markdown",
   "id": "c78b8d55-4a5d-43ab-99d1-9684cef8e116",
   "metadata": {},
   "source": [
    "Создадим столбец **total_income_category** с категориями доходов:  \n",
    "- 0–30000 — `'E'`;\n",
    "- 30001–50000 — `'D'`;\n",
    "- 50001–200000 — `'C'`;\n",
    "- 200001–1000000 — `'B'`;\n",
    "- 1000001 и выше — `'A'`."
   ]
  },
  {
   "cell_type": "code",
   "execution_count": 22,
   "id": "c0d10550-ed1c-4909-8d82-54ab3535010a",
   "metadata": {},
   "outputs": [],
   "source": [
    "def categorize_income(income):\n",
    "    try:\n",
    "        if 0 <= income <= 30000:\n",
    "            return 'E'\n",
    "        elif 30001 <= income <= 50000:\n",
    "            return 'D'\n",
    "        elif 50001 <= income <= 200000:\n",
    "            return 'C'\n",
    "        elif 200001 <= income <= 1000000:\n",
    "            return 'B'\n",
    "        elif income >= 1000001:\n",
    "            return 'A'\n",
    "    except:\n",
    "        pass\n",
    "\n",
    "data['total_income_category'] = data['total_income'].apply(categorize_income)"
   ]
  },
  {
   "cell_type": "markdown",
   "id": "eb205c68-5d3d-4875-afac-d08a30064990",
   "metadata": {},
   "source": [
    "Посмотрим на цели кредита в столбце **purpose**"
   ]
  },
  {
   "cell_type": "code",
   "execution_count": 23,
   "id": "2c776bcb-5e91-4e51-9129-b6f104281bde",
   "metadata": {},
   "outputs": [
    {
     "data": {
      "text/plain": [
       "array(['покупка жилья', 'приобретение автомобиля',\n",
       "       'дополнительное образование', 'сыграть свадьбу',\n",
       "       'операции с жильем', 'образование', 'на проведение свадьбы',\n",
       "       'покупка жилья для семьи', 'покупка недвижимости',\n",
       "       'покупка коммерческой недвижимости', 'покупка жилой недвижимости',\n",
       "       'строительство собственной недвижимости', 'недвижимость',\n",
       "       'строительство недвижимости', 'на покупку подержанного автомобиля',\n",
       "       'на покупку своего автомобиля',\n",
       "       'операции с коммерческой недвижимостью',\n",
       "       'строительство жилой недвижимости', 'жилье',\n",
       "       'операции со своей недвижимостью', 'автомобили',\n",
       "       'заняться образованием', 'сделка с подержанным автомобилем',\n",
       "       'получение образования', 'автомобиль', 'свадьба',\n",
       "       'получение дополнительного образования', 'покупка своего жилья',\n",
       "       'операции с недвижимостью', 'получение высшего образования',\n",
       "       'свой автомобиль', 'сделка с автомобилем',\n",
       "       'профильное образование', 'высшее образование',\n",
       "       'покупка жилья для сдачи', 'на покупку автомобиля', 'ремонт жилью',\n",
       "       'заняться высшим образованием'], dtype=object)"
      ]
     },
     "execution_count": 23,
     "metadata": {},
     "output_type": "execute_result"
    }
   ],
   "source": [
    "data.purpose.unique()"
   ]
  },
  {
   "cell_type": "markdown",
   "id": "bde4d6ad-95ba-4da8-b4d0-ecabef108682",
   "metadata": {},
   "source": [
    "Все цели делятся на 4 основные:\n",
    "- `'операции с автомобилем'`,\n",
    "- `'операции с недвижимостью'`,\n",
    "- `'проведение свадьбы'`,\n",
    "- `'получение образования'`.\n",
    "\n",
    "Создадим категоризацию"
   ]
  },
  {
   "cell_type": "code",
   "execution_count": 24,
   "id": "723b4123-e5b1-4faa-afcf-0e23442b2dd6",
   "metadata": {},
   "outputs": [],
   "source": [
    "def categorize_purpose(row):\n",
    "    try:\n",
    "        if 'автом' in row:\n",
    "            return 'операции с автомобилем'\n",
    "        elif 'жил' in row or 'недвиж' in row:\n",
    "            return 'операции с недвижимостью'\n",
    "        elif 'свад' in row:\n",
    "            return 'проведение свадьбы'\n",
    "        elif 'образов' in row:\n",
    "            return 'получение образования'\n",
    "    except:\n",
    "        return 'нет категории'\n",
    "\n",
    "data['purpose_category'] = data['purpose'].apply(categorize_purpose)"
   ]
  },
  {
   "cell_type": "markdown",
   "id": "03dc77f7-d081-470a-8214-7d31ae352edd",
   "metadata": {},
   "source": [
    "## Исследование"
   ]
  },
  {
   "cell_type": "markdown",
   "id": "e32f2bc4-c22d-44f7-ad73-5cb7893faefb",
   "metadata": {},
   "source": [
    "### Зависимость между кол-вом детей и возвратом кредита в срок"
   ]
  },
  {
   "cell_type": "code",
   "execution_count": 25,
   "id": "c10717c6-f7cd-4c16-9be1-73c6ea673c3b",
   "metadata": {},
   "outputs": [
    {
     "data": {
      "text/html": [
       "<div>\n",
       "<style scoped>\n",
       "    .dataframe tbody tr th:only-of-type {\n",
       "        vertical-align: middle;\n",
       "    }\n",
       "\n",
       "    .dataframe tbody tr th {\n",
       "        vertical-align: top;\n",
       "    }\n",
       "\n",
       "    .dataframe thead th {\n",
       "        text-align: right;\n",
       "    }\n",
       "</style>\n",
       "<table border=\"1\" class=\"dataframe\">\n",
       "  <thead>\n",
       "    <tr style=\"text-align: right;\">\n",
       "      <th></th>\n",
       "      <th>loaners</th>\n",
       "      <th>debtors</th>\n",
       "      <th>debtors_percent</th>\n",
       "    </tr>\n",
       "    <tr>\n",
       "      <th>children</th>\n",
       "      <th></th>\n",
       "      <th></th>\n",
       "      <th></th>\n",
       "    </tr>\n",
       "  </thead>\n",
       "  <tbody>\n",
       "    <tr>\n",
       "      <th>4</th>\n",
       "      <td>41</td>\n",
       "      <td>4</td>\n",
       "      <td>9.76%</td>\n",
       "    </tr>\n",
       "    <tr>\n",
       "      <th>2</th>\n",
       "      <td>2052</td>\n",
       "      <td>194</td>\n",
       "      <td>9.45%</td>\n",
       "    </tr>\n",
       "    <tr>\n",
       "      <th>1</th>\n",
       "      <td>4808</td>\n",
       "      <td>444</td>\n",
       "      <td>9.23%</td>\n",
       "    </tr>\n",
       "    <tr>\n",
       "      <th>3</th>\n",
       "      <td>330</td>\n",
       "      <td>27</td>\n",
       "      <td>8.18%</td>\n",
       "    </tr>\n",
       "    <tr>\n",
       "      <th>0</th>\n",
       "      <td>14090</td>\n",
       "      <td>1063</td>\n",
       "      <td>7.54%</td>\n",
       "    </tr>\n",
       "    <tr>\n",
       "      <th>5</th>\n",
       "      <td>9</td>\n",
       "      <td>0</td>\n",
       "      <td>0.00%</td>\n",
       "    </tr>\n",
       "  </tbody>\n",
       "</table>\n",
       "</div>"
      ],
      "text/plain": [
       "          loaners  debtors debtors_percent\n",
       "children                                  \n",
       "4              41        4           9.76%\n",
       "2            2052      194           9.45%\n",
       "1            4808      444           9.23%\n",
       "3             330       27           8.18%\n",
       "0           14090     1063           7.54%\n",
       "5               9        0           0.00%"
      ]
     },
     "execution_count": 25,
     "metadata": {},
     "output_type": "execute_result"
    }
   ],
   "source": [
    "children_debt_dep = data.groupby('children')['debt'].agg(['count', 'sum']) \n",
    "\n",
    "children_debt_dep = children_debt_dep.rename(columns={'sum':'debtors', 'count':'loaners'}) \n",
    "\n",
    "children_debt_dep['debtors_percent'] = children_debt_dep['debtors']/children_debt_dep['loaners'] \n",
    "children_debt_dep['debtors_percent'] = children_debt_dep['debtors_percent'].map('{:.2%}'.format)\n",
    "\n",
    "\n",
    "children_debt_dep.sort_values(by='debtors_percent', ascending=False) "
   ]
  },
  {
   "cell_type": "markdown",
   "id": "1b5905a1-769a-4c51-ab2d-0c485e06cc35",
   "metadata": {},
   "source": [
    "Такая группировка не даёт чёткой картины, однако можно отметить, что бездетные реже подвергнуты риску стать должниками."
   ]
  },
  {
   "cell_type": "markdown",
   "id": "a2a87fe1-18c3-4318-81e6-06612b3e8b0c",
   "metadata": {},
   "source": [
    "Посмотрим, сколько всего должников"
   ]
  },
  {
   "cell_type": "code",
   "execution_count": 26,
   "id": "b95f392c-a8b4-4087-8cf1-957e1ca2711f",
   "metadata": {},
   "outputs": [
    {
     "data": {
      "text/plain": [
       "debt\n",
       "0    19598\n",
       "1     1732\n",
       "Name: count, dtype: int64"
      ]
     },
     "execution_count": 26,
     "metadata": {},
     "output_type": "execute_result"
    }
   ],
   "source": [
    "data['debt'].value_counts()"
   ]
  },
  {
   "cell_type": "markdown",
   "id": "8d6f7406-098d-4465-8e01-3db7c1339c6d",
   "metadata": {},
   "source": [
    "Посмотрим на укрупнённую группировку по количеству детей: семьи с 1 ребёнком, семь с 2 детьми, многодетные и бездетные"
   ]
  },
  {
   "cell_type": "code",
   "execution_count": 27,
   "id": "6e5894c7-a126-46fb-9536-c926c3c6a8cd",
   "metadata": {},
   "outputs": [
    {
     "data": {
      "text/html": [
       "<div>\n",
       "<style scoped>\n",
       "    .dataframe tbody tr th:only-of-type {\n",
       "        vertical-align: middle;\n",
       "    }\n",
       "\n",
       "    .dataframe tbody tr th {\n",
       "        vertical-align: top;\n",
       "    }\n",
       "\n",
       "    .dataframe thead th {\n",
       "        text-align: right;\n",
       "    }\n",
       "</style>\n",
       "<table border=\"1\" class=\"dataframe\">\n",
       "  <thead>\n",
       "    <tr style=\"text-align: right;\">\n",
       "      <th></th>\n",
       "      <th>debtors</th>\n",
       "      <th>loaners</th>\n",
       "      <th>debtors_percent</th>\n",
       "    </tr>\n",
       "    <tr>\n",
       "      <th>children_categories</th>\n",
       "      <th></th>\n",
       "      <th></th>\n",
       "      <th></th>\n",
       "    </tr>\n",
       "  </thead>\n",
       "  <tbody>\n",
       "    <tr>\n",
       "      <th>семьи с 2 детьми</th>\n",
       "      <td>194</td>\n",
       "      <td>2052</td>\n",
       "      <td>9.45%</td>\n",
       "    </tr>\n",
       "    <tr>\n",
       "      <th>семьи с 1 ребёнком</th>\n",
       "      <td>444</td>\n",
       "      <td>4808</td>\n",
       "      <td>9.23%</td>\n",
       "    </tr>\n",
       "    <tr>\n",
       "      <th>многодетные</th>\n",
       "      <td>31</td>\n",
       "      <td>380</td>\n",
       "      <td>8.16%</td>\n",
       "    </tr>\n",
       "    <tr>\n",
       "      <th>бездетные</th>\n",
       "      <td>1063</td>\n",
       "      <td>14090</td>\n",
       "      <td>7.54%</td>\n",
       "    </tr>\n",
       "  </tbody>\n",
       "</table>\n",
       "</div>"
      ],
      "text/plain": [
       "                     debtors  loaners debtors_percent\n",
       "children_categories                                  \n",
       "семьи с 2 детьми         194     2052           9.45%\n",
       "семьи с 1 ребёнком       444     4808           9.23%\n",
       "многодетные               31      380           8.16%\n",
       "бездетные               1063    14090           7.54%"
      ]
     },
     "execution_count": 27,
     "metadata": {},
     "output_type": "execute_result"
    }
   ],
   "source": [
    "\n",
    "def categorize_children(children):\n",
    "    if children>=3:\n",
    "        return 'многодетные'\n",
    "    elif children == 0:\n",
    "        return 'бездетные'\n",
    "    elif children == 1:\n",
    "        return 'семьи с 1 ребёнком'\n",
    "    else:\n",
    "        return 'семьи с 2 детьми'\n",
    "    \n",
    "data['children_categories'] = data['children'].apply(categorize_children) \n",
    "\n",
    "\n",
    "children_categories_data = data.groupby('children_categories')['debt'].agg(['sum', 'count'])\n",
    "children_categories_data = children_categories_data.rename(columns={'sum':'debtors', 'count':'loaners'}) \n",
    "\n",
    "children_categories_data['debtors_percent'] = children_categories_data['debtors']/children_categories_data['loaners'] \n",
    "children_categories_data['debtors_percent'] = children_categories_data['debtors_percent'].map('{:.2%}'.format)\n",
    "\n",
    "\n",
    "children_categories_data.sort_values(by='debtors_percent', ascending=False)"
   ]
  },
  {
   "cell_type": "markdown",
   "id": "74249612-9fd0-4943-a835-4c19a54d6e2a",
   "metadata": {},
   "source": [
    "**Вывод:**  \n",
    "Наличие детей повышает вероятность задолженности. У семей с 1-2 детьми процент должников выше, чем у многодетных. При этом, очевидно, что у заёмщиков с 2 детьми доля должников выше, чем у заёмщиков с 1 ребёнком.\n",
    "Это может быть связано с:\n",
    "1) большей финансовой стабильностью у людей, планирующих содержать 3 и более детей;\n",
    "2) мерами поддержки многодетных семей;\n",
    "3) недостаточной статистической значимостью выборки."
   ]
  },
  {
   "cell_type": "markdown",
   "id": "f8d204b8-a4db-4cbb-8e28-ab797cedb4b4",
   "metadata": {},
   "source": [
    "### Зависимость между семейным положением и возвратом кредита в срок"
   ]
  },
  {
   "cell_type": "code",
   "execution_count": 28,
   "id": "890642a7-a440-42ff-aa49-84e70bdef345",
   "metadata": {},
   "outputs": [
    {
     "data": {
      "text/html": [
       "<div>\n",
       "<style scoped>\n",
       "    .dataframe tbody tr th:only-of-type {\n",
       "        vertical-align: middle;\n",
       "    }\n",
       "\n",
       "    .dataframe tbody tr th {\n",
       "        vertical-align: top;\n",
       "    }\n",
       "\n",
       "    .dataframe thead th {\n",
       "        text-align: right;\n",
       "    }\n",
       "</style>\n",
       "<table border=\"1\" class=\"dataframe\">\n",
       "  <thead>\n",
       "    <tr style=\"text-align: right;\">\n",
       "      <th></th>\n",
       "      <th>loaners</th>\n",
       "      <th>debtors</th>\n",
       "      <th>debtors_percent</th>\n",
       "    </tr>\n",
       "    <tr>\n",
       "      <th>family_status</th>\n",
       "      <th></th>\n",
       "      <th></th>\n",
       "      <th></th>\n",
       "    </tr>\n",
       "  </thead>\n",
       "  <tbody>\n",
       "    <tr>\n",
       "      <th>Не женат / не замужем</th>\n",
       "      <td>2796</td>\n",
       "      <td>273</td>\n",
       "      <td>9.76%</td>\n",
       "    </tr>\n",
       "    <tr>\n",
       "      <th>гражданский брак</th>\n",
       "      <td>4133</td>\n",
       "      <td>385</td>\n",
       "      <td>9.32%</td>\n",
       "    </tr>\n",
       "    <tr>\n",
       "      <th>женат / замужем</th>\n",
       "      <td>12261</td>\n",
       "      <td>927</td>\n",
       "      <td>7.56%</td>\n",
       "    </tr>\n",
       "    <tr>\n",
       "      <th>в разводе</th>\n",
       "      <td>1189</td>\n",
       "      <td>84</td>\n",
       "      <td>7.06%</td>\n",
       "    </tr>\n",
       "    <tr>\n",
       "      <th>вдовец / вдова</th>\n",
       "      <td>951</td>\n",
       "      <td>63</td>\n",
       "      <td>6.62%</td>\n",
       "    </tr>\n",
       "  </tbody>\n",
       "</table>\n",
       "</div>"
      ],
      "text/plain": [
       "                       loaners  debtors debtors_percent\n",
       "family_status                                          \n",
       "Не женат / не замужем     2796      273           9.76%\n",
       "гражданский брак          4133      385           9.32%\n",
       "женат / замужем          12261      927           7.56%\n",
       "в разводе                 1189       84           7.06%\n",
       "вдовец / вдова             951       63           6.62%"
      ]
     },
     "execution_count": 28,
     "metadata": {},
     "output_type": "execute_result"
    }
   ],
   "source": [
    "famstatus_debt_dep = data.groupby('family_status')['debt'].agg(['count', 'sum'])\n",
    "famstatus_debt_dep = famstatus_debt_dep.rename(columns={'sum':'debtors', 'count':'loaners'})\n",
    "famstatus_debt_dep['debtors_percent'] = famstatus_debt_dep['debtors']/famstatus_debt_dep['loaners']\n",
    "famstatus_debt_dep['debtors_percent'] = famstatus_debt_dep['debtors_percent'].map('{:.2%}'.format)\n",
    "\n",
    "famstatus_debt_dep.sort_values(by='debtors_percent', ascending=False)"
   ]
  },
  {
   "cell_type": "markdown",
   "id": "331c789d-ff78-4653-bae8-1b82e711422b",
   "metadata": {},
   "source": [
    "Создадим таблицу с категориями: в браке, одинокие"
   ]
  },
  {
   "cell_type": "code",
   "execution_count": 29,
   "id": "26e83c9b-0be5-44e3-9065-a0acdf9f4a4d",
   "metadata": {},
   "outputs": [
    {
     "data": {
      "text/html": [
       "<div>\n",
       "<style scoped>\n",
       "    .dataframe tbody tr th:only-of-type {\n",
       "        vertical-align: middle;\n",
       "    }\n",
       "\n",
       "    .dataframe tbody tr th {\n",
       "        vertical-align: top;\n",
       "    }\n",
       "\n",
       "    .dataframe thead th {\n",
       "        text-align: right;\n",
       "    }\n",
       "</style>\n",
       "<table border=\"1\" class=\"dataframe\">\n",
       "  <thead>\n",
       "    <tr style=\"text-align: right;\">\n",
       "      <th></th>\n",
       "      <th>loaners</th>\n",
       "      <th>debtors</th>\n",
       "      <th>debtors_percent</th>\n",
       "    </tr>\n",
       "  </thead>\n",
       "  <tbody>\n",
       "    <tr>\n",
       "      <th>в браке</th>\n",
       "      <td>16395</td>\n",
       "      <td>1312</td>\n",
       "      <td>8.00%</td>\n",
       "    </tr>\n",
       "    <tr>\n",
       "      <th>одиноки</th>\n",
       "      <td>4936</td>\n",
       "      <td>420</td>\n",
       "      <td>8.51%</td>\n",
       "    </tr>\n",
       "  </tbody>\n",
       "</table>\n",
       "</div>"
      ],
      "text/plain": [
       "         loaners  debtors debtors_percent\n",
       "в браке    16395     1312           8.00%\n",
       "одиноки     4936      420           8.51%"
      ]
     },
     "execution_count": 29,
     "metadata": {},
     "output_type": "execute_result"
    }
   ],
   "source": [
    "\n",
    "new_data = [\n",
    "    [16395, 1312], # гражданский брак+женат/замужем\n",
    "    [4936, 420]    # не женат/не замужем+в разводе+вдовец/вдова\n",
    "] \n",
    "\n",
    "famstatus_data = pd.DataFrame(data=new_data, columns=['loaners', 'debtors'], index=['в браке', 'одиноки'])\n",
    "famstatus_data['debtors_percent'] = famstatus_data['debtors']/famstatus_data['loaners']\n",
    "famstatus_data['debtors_percent'] = famstatus_data['debtors_percent'].map('{:.2%}'.format)\n",
    "\n",
    "famstatus_data"
   ]
  },
  {
   "cell_type": "markdown",
   "id": "6ed09115-815a-4d46-ac14-80e54585aea3",
   "metadata": {},
   "source": [
    "**Вывод:**  \n",
    "Категориями с наименьшей долей закредитованности являются вдовцы/вдовы и люди в разводе. Наибольший риск закредитованности выражен у неженатых/незамужних, а также людей в гражданском браке. Возможно здесь присутствует корреляция с возрастом, поскольку неженатые/незамужние и люди в гражданском браке чаще являются молодыми людьми, которые только начинают формировать свой капитал.  \n",
    "Вторая таблица показывает, что холостые чаще имеют задолженность, чем люди в браке."
   ]
  },
  {
   "cell_type": "markdown",
   "id": "194832f3-bb33-4ebb-9c24-5b42af5cbefe",
   "metadata": {},
   "source": [
    "### Зависимость между уровнем дохода и возвратом кредита в срок"
   ]
  },
  {
   "cell_type": "code",
   "execution_count": 30,
   "id": "d4a9beb4-2668-41da-8acb-7dd210828d63",
   "metadata": {},
   "outputs": [
    {
     "data": {
      "text/html": [
       "<div>\n",
       "<style scoped>\n",
       "    .dataframe tbody tr th:only-of-type {\n",
       "        vertical-align: middle;\n",
       "    }\n",
       "\n",
       "    .dataframe tbody tr th {\n",
       "        vertical-align: top;\n",
       "    }\n",
       "\n",
       "    .dataframe thead th {\n",
       "        text-align: right;\n",
       "    }\n",
       "</style>\n",
       "<table border=\"1\" class=\"dataframe\">\n",
       "  <thead>\n",
       "    <tr style=\"text-align: right;\">\n",
       "      <th></th>\n",
       "      <th>loaners</th>\n",
       "      <th>debtors</th>\n",
       "      <th>debtors_percent</th>\n",
       "      <th>category_income</th>\n",
       "    </tr>\n",
       "    <tr>\n",
       "      <th>total_income_category</th>\n",
       "      <th></th>\n",
       "      <th></th>\n",
       "      <th></th>\n",
       "      <th></th>\n",
       "    </tr>\n",
       "  </thead>\n",
       "  <tbody>\n",
       "    <tr>\n",
       "      <th>E</th>\n",
       "      <td>22</td>\n",
       "      <td>2</td>\n",
       "      <td>9.09%</td>\n",
       "      <td>0–30.000</td>\n",
       "    </tr>\n",
       "    <tr>\n",
       "      <th>C</th>\n",
       "      <td>15920</td>\n",
       "      <td>1353</td>\n",
       "      <td>8.50%</td>\n",
       "      <td>50.001–200.000</td>\n",
       "    </tr>\n",
       "    <tr>\n",
       "      <th>A</th>\n",
       "      <td>25</td>\n",
       "      <td>2</td>\n",
       "      <td>8.00%</td>\n",
       "      <td>1.000.001 и выше</td>\n",
       "    </tr>\n",
       "    <tr>\n",
       "      <th>B</th>\n",
       "      <td>5014</td>\n",
       "      <td>354</td>\n",
       "      <td>7.06%</td>\n",
       "      <td>200.001–1.000.000</td>\n",
       "    </tr>\n",
       "    <tr>\n",
       "      <th>D</th>\n",
       "      <td>349</td>\n",
       "      <td>21</td>\n",
       "      <td>6.02%</td>\n",
       "      <td>30.001–50.000</td>\n",
       "    </tr>\n",
       "  </tbody>\n",
       "</table>\n",
       "</div>"
      ],
      "text/plain": [
       "                       loaners  debtors debtors_percent    category_income\n",
       "total_income_category                                                     \n",
       "E                           22        2           9.09%           0–30.000\n",
       "C                        15920     1353           8.50%     50.001–200.000\n",
       "A                           25        2           8.00%   1.000.001 и выше\n",
       "B                         5014      354           7.06%  200.001–1.000.000\n",
       "D                          349       21           6.02%      30.001–50.000"
      ]
     },
     "execution_count": 30,
     "metadata": {},
     "output_type": "execute_result"
    }
   ],
   "source": [
    "income_debt_dep = (\n",
    "                   data\n",
    "                   .pivot_table(index='total_income_category', values='debt', aggfunc={'sum', 'count'})\n",
    "                  )\n",
    "\n",
    "income_debt_dep = income_debt_dep.rename(columns={'sum':'debtors', 'count':'loaners'})\n",
    "income_debt_dep['debtors_percent'] = income_debt_dep['debtors']/income_debt_dep['loaners']\n",
    "income_debt_dep['debtors_percent'] = income_debt_dep['debtors_percent'].map('{:.2%}'.format)\n",
    "\n",
    "income_debt_dep['category_income'] = ['1.000.001 и выше', '200.001–1.000.000', '50.001–200.000', '30.001–50.000', '0–30.000']\n",
    "\n",
    "income_debt_dep.sort_values(by='debtors_percent', ascending = False) "
   ]
  },
  {
   "cell_type": "markdown",
   "id": "670b57ff-5050-4f29-8df9-7fc461dea632",
   "metadata": {},
   "source": [
    "**Вывод:** \n",
    "- Наибольшая доля закредитованности принадлежит группе с категорией дохода E (наименее доходная группа). Это может быть связано с тем, что доходов не хватает даже на покрытие необходимых нужд\n",
    "*Стоит отметить, что количество наблюдений в этой группе крайне мало.\n",
    "- При этом наименее закредитованной является (следующая за группой E) группа с категорией D (от 30 тыс. до 50 тыс. руб.). Это может быть связано с тем, фактом, что дохода хватает исключительно на покрытие необходимых нужд, при том, что на обслуживание кредита не хватит.\n",
    "- У категории с наибольшим диапозоном доходов средний процент задолженности. Здесь, вероятно, стоит говорить о незначимости выборки. Количество наблюдений слишком незначительно.\n",
    "- Исходя из вышесказанного, категория C (условный средний класс) наиболее подвержена возникновению задолженности.\n",
    "- В целом, доля должников снижается с увеличением дохода"
   ]
  },
  {
   "cell_type": "markdown",
   "id": "b15df2a2-3566-4b38-9ee2-4f78f3f93fdc",
   "metadata": {},
   "source": [
    "### Влияние цели кредита на возврат в срок"
   ]
  },
  {
   "cell_type": "code",
   "execution_count": 31,
   "id": "0e575244-30a6-49ec-8daa-b95b1c28d0ea",
   "metadata": {},
   "outputs": [
    {
     "data": {
      "text/html": [
       "<div>\n",
       "<style scoped>\n",
       "    .dataframe tbody tr th:only-of-type {\n",
       "        vertical-align: middle;\n",
       "    }\n",
       "\n",
       "    .dataframe tbody tr th {\n",
       "        vertical-align: top;\n",
       "    }\n",
       "\n",
       "    .dataframe thead th {\n",
       "        text-align: right;\n",
       "    }\n",
       "</style>\n",
       "<table border=\"1\" class=\"dataframe\">\n",
       "  <thead>\n",
       "    <tr style=\"text-align: right;\">\n",
       "      <th></th>\n",
       "      <th>debtors</th>\n",
       "      <th>loaners</th>\n",
       "      <th>debtors_percent</th>\n",
       "    </tr>\n",
       "    <tr>\n",
       "      <th>purpose_category</th>\n",
       "      <th></th>\n",
       "      <th></th>\n",
       "      <th></th>\n",
       "    </tr>\n",
       "  </thead>\n",
       "  <tbody>\n",
       "    <tr>\n",
       "      <th>операции с автомобилем</th>\n",
       "      <td>400</td>\n",
       "      <td>4279</td>\n",
       "      <td>9.35%</td>\n",
       "    </tr>\n",
       "    <tr>\n",
       "      <th>получение образования</th>\n",
       "      <td>369</td>\n",
       "      <td>3988</td>\n",
       "      <td>9.25%</td>\n",
       "    </tr>\n",
       "    <tr>\n",
       "      <th>проведение свадьбы</th>\n",
       "      <td>183</td>\n",
       "      <td>2312</td>\n",
       "      <td>7.92%</td>\n",
       "    </tr>\n",
       "    <tr>\n",
       "      <th>операции с недвижимостью</th>\n",
       "      <td>780</td>\n",
       "      <td>10751</td>\n",
       "      <td>7.26%</td>\n",
       "    </tr>\n",
       "  </tbody>\n",
       "</table>\n",
       "</div>"
      ],
      "text/plain": [
       "                          debtors  loaners debtors_percent\n",
       "purpose_category                                          \n",
       "операции с автомобилем        400     4279           9.35%\n",
       "получение образования         369     3988           9.25%\n",
       "проведение свадьбы            183     2312           7.92%\n",
       "операции с недвижимостью      780    10751           7.26%"
      ]
     },
     "execution_count": 31,
     "metadata": {},
     "output_type": "execute_result"
    }
   ],
   "source": [
    "purpose_debt_dep = data.groupby('purpose_category')['debt'].agg(['sum', 'count'])\n",
    "purpose_debt_dep = purpose_debt_dep.rename(columns={'sum':'debtors', 'count':'loaners'}) # переименуем стобцы для удобства\n",
    "purpose_debt_dep['debtors_percent'] = purpose_debt_dep['debtors']/purpose_debt_dep['loaners'] # найдём долю должников\n",
    "purpose_debt_dep['debtors_percent'] = purpose_debt_dep['debtors_percent'].map('{:.2%}'.format)\n",
    "\n",
    "purpose_debt_dep.sort_values(by='debtors_percent', ascending=False)"
   ]
  },
  {
   "cell_type": "markdown",
   "id": "ec15595d-eb6f-4d56-b8ab-27fb79dae7fa",
   "metadata": {},
   "source": [
    "**Вывод:**\n",
    "- Заёмщики, берущие кредиты для операций с автомобилями и получения образования, больше остальных подвержены риску появления задолженностей.\n",
    "- Наименьшая доля должников наблюдается среди заёмщиков, берущих кредиты на операции с недвижимостью."
   ]
  },
  {
   "cell_type": "markdown",
   "id": "d5a8d019-8f68-418a-b193-b963113c33ed",
   "metadata": {},
   "source": [
    "## Общий вывод"
   ]
  },
  {
   "cell_type": "markdown",
   "id": "4eaf612e-981e-4e2b-bfac-530e4c30e0c7",
   "metadata": {},
   "source": [
    "  - Исходные данные содержали пропуски, поэтому на этапе предобработки в столбцах total_income и days_employed осуществлено заполнение пропущенных значений с помощью медианы по категориям для более достоверного исследования (по типу занятости(сотрудник, пенсионер и т.д.). \n",
    "  - При этом к значениям столбца days_employed предварительно применено модульное значение для избавления от отрицательных значений. Стоит отметить, что в данном столбце присутствуют аномальные значения (у пенсионеров и безработных), которые трудно исправить. Также аномальные значения были убраны из столбца children (-1, 20). \n",
    "  - Для эффективного анализа на этапе предобработки к единому виду были приведены значения из столбца education, а также добавлены столбцы с группировкой заёмщиков по доходам и по цели кредита.\n",
    "    \n",
    "Выводы:\n",
    "1) Наличие детей повышает риск возникновения задолженности.\n",
    "2) Неженатые/незамужние и люди в гражданском браке более подвержены риску стать должниками. Наименьший риск в вдовцов/вдов и людей в разводе.\n",
    "3) Группа C (условный средний класс) наиболее подвержен риску стать должниками.\n",
    "4) Заёмщики, берущие кредиты для операция с автомобилями и получения образования, чаще становятся должниками. Реже всего - те, кто берут кредиты для операций с недвижимостью.\n",
    "5) Пропуски в исходных данных могут появляться из-за человеческого (ошибки при заполнении, сокрытие информации) и технического(повреждение файла, искажение данных программами) факторов.\n",
    "6) Наиболее эффективным инструментом для заполнения пропусков является медиана. Она сохраняет центральное значение и менее подвержена выбросами и аномальным значениям. \n",
    "\n",
    "Таким образом, наиболее подверженными задолженности группами являются заёмщики с 1-2 детьми, холостые и люди в гражданском браке. Так же стоит обратить внимание на повышенный риск задолженности у заёмщиков, берущих кредиты на операции с автомобилями и получение образования.\n",
    "    \n",
    "Для удобства в дальнейших исследованиях стоит внедрить методы для унифицирования заполненных данных. К примеру, вместо свободного заполнения графы education внедрить поле с выбором определённого вида образования в едином стиле."
   ]
  }
 ],
 "metadata": {
  "kernelspec": {
   "display_name": "Python 3 (ipykernel)",
   "language": "python",
   "name": "python3"
  },
  "language_info": {
   "codemirror_mode": {
    "name": "ipython",
    "version": 3
   },
   "file_extension": ".py",
   "mimetype": "text/x-python",
   "name": "python",
   "nbconvert_exporter": "python",
   "pygments_lexer": "ipython3",
   "version": "3.11.7"
  }
 },
 "nbformat": 4,
 "nbformat_minor": 5
}
